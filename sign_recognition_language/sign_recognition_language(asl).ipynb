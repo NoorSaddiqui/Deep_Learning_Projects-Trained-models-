{
 "cells": [
  {
   "cell_type": "markdown",
   "id": "e2d418e0",
   "metadata": {},
   "source": [
    "# spliting datasets"
   ]
  },
  {
   "cell_type": "code",
   "execution_count": 1,
   "id": "e3390bbc",
   "metadata": {},
   "outputs": [],
   "source": [
    "import tensorflow as tf"
   ]
  },
  {
   "cell_type": "code",
   "execution_count": 4,
   "id": "cf190a4f",
   "metadata": {},
   "outputs": [
    {
     "name": "stderr",
     "output_type": "stream",
     "text": [
      "\n",
      "Copying files: 0 files [00:00, ? files/s]\u001b[A\n",
      "Copying files: 1 files [00:00,  6.34 files/s]\u001b[A\n",
      "Copying files: 5 files [00:00, 21.97 files/s]\u001b[A\n",
      "Copying files: 14 files [00:00, 44.01 files/s]\u001b[A\n",
      "Copying files: 23 files [00:00, 58.85 files/s]\u001b[A\n",
      "Copying files: 34 files [00:00, 74.46 files/s]\u001b[A\n",
      "Copying files: 45 files [00:00, 82.39 files/s]\u001b[A\n",
      "Copying files: 54 files [00:00, 68.28 files/s]\u001b[A\n",
      "Copying files: 62 files [00:01, 67.56 files/s]\u001b[A\n",
      "Copying files: 70 files [00:01, 51.98 files/s]\u001b[A\n",
      "Copying files: 76 files [00:01, 49.00 files/s]\u001b[A\n",
      "Copying files: 82 files [00:01, 51.06 files/s]\u001b[A\n",
      "Copying files: 91 files [00:01, 58.14 files/s]\u001b[A\n",
      "Copying files: 99 files [00:01, 63.33 files/s]\u001b[A\n",
      "Copying files: 109 files [00:01, 70.09 files/s]\u001b[A\n",
      "Copying files: 117 files [00:01, 72.27 files/s]\u001b[A\n",
      "Copying files: 125 files [00:02, 74.28 files/s]\u001b[A\n",
      "Copying files: 133 files [00:02, 75.79 files/s]\u001b[A\n",
      "Copying files: 141 files [00:02, 56.69 files/s]\u001b[A\n",
      "Copying files: 148 files [00:02, 58.84 files/s]\u001b[A\n",
      "Copying files: 156 files [00:02, 63.79 files/s]\u001b[A\n",
      "Copying files: 163 files [00:02, 58.28 files/s]\u001b[A\n",
      "Copying files: 173 files [00:02, 68.21 files/s]\u001b[A\n",
      "Copying files: 186 files [00:02, 81.03 files/s]\u001b[A\n",
      "Copying files: 196 files [00:03, 85.59 files/s]\u001b[A\n",
      "Copying files: 206 files [00:03, 89.16 files/s]\u001b[A\n",
      "Copying files: 216 files [00:03, 81.72 files/s]\u001b[A\n",
      "Copying files: 225 files [00:03, 74.24 files/s]\u001b[A\n",
      "Copying files: 233 files [00:03, 58.90 files/s]\u001b[A\n",
      "Copying files: 240 files [00:03, 56.82 files/s]\u001b[A\n",
      "Copying files: 249 files [00:03, 63.50 files/s]\u001b[A\n",
      "Copying files: 256 files [00:03, 63.64 files/s]\u001b[A\n",
      "Copying files: 267 files [00:04, 74.72 files/s]\u001b[A\n",
      "Copying files: 275 files [00:04, 75.18 files/s]\u001b[A\n",
      "Copying files: 283 files [00:04, 69.27 files/s]\u001b[A\n",
      "Copying files: 291 files [00:04, 70.42 files/s]\u001b[A\n",
      "Copying files: 299 files [00:04, 72.34 files/s]\u001b[A\n",
      "Copying files: 309 files [00:04, 79.72 files/s]\u001b[A\n",
      "Copying files: 320 files [00:04, 85.84 files/s]\u001b[A\n",
      "Copying files: 329 files [00:04, 73.85 files/s]\u001b[A\n",
      "Copying files: 337 files [00:05, 63.89 files/s]\u001b[A\n",
      "Copying files: 344 files [00:05, 61.31 files/s]\u001b[A\n",
      "Copying files: 351 files [00:05, 46.78 files/s]\u001b[A\n",
      "Copying files: 357 files [00:05, 37.68 files/s]\u001b[A\n",
      "Copying files: 362 files [00:05, 30.72 files/s]\u001b[A\n",
      "Copying files: 369 files [00:06, 35.60 files/s]\u001b[A\n",
      "Copying files: 374 files [00:06, 22.47 files/s]\u001b[A\n",
      "Copying files: 378 files [00:06, 18.09 files/s]\u001b[A\n",
      "Copying files: 385 files [00:07, 24.10 files/s]\u001b[A\n",
      "Copying files: 396 files [00:07, 36.69 files/s]\u001b[A\n",
      "Copying files: 407 files [00:07, 49.38 files/s]\u001b[A\n",
      "Copying files: 416 files [00:07, 57.18 files/s]\u001b[A\n",
      "Copying files: 424 files [00:07, 53.00 files/s]\u001b[A\n",
      "Copying files: 431 files [00:07, 54.28 files/s]\u001b[A\n",
      "Copying files: 438 files [00:07, 57.59 files/s]\u001b[A\n",
      "Copying files: 447 files [00:07, 63.11 files/s]\u001b[A\n",
      "Copying files: 454 files [00:08, 62.48 files/s]\u001b[A\n",
      "Copying files: 464 files [00:08, 71.86 files/s]\u001b[A\n",
      "Copying files: 474 files [00:08, 77.57 files/s]\u001b[A\n",
      "Copying files: 484 files [00:08, 83.06 files/s]\u001b[A\n",
      "Copying files: 493 files [00:08, 63.10 files/s]\u001b[A\n",
      "Copying files: 501 files [00:08, 64.66 files/s]\u001b[A\n",
      "Copying files: 510 files [00:08, 70.38 files/s]\u001b[A\n",
      "Copying files: 518 files [00:08, 69.89 files/s]\u001b[A\n",
      "Copying files: 527 files [00:09, 74.97 files/s]\u001b[A\n",
      "Copying files: 535 files [00:09, 76.32 files/s]\u001b[A\n",
      "Copying files: 546 files [00:09, 73.29 files/s]\u001b[A\n",
      "Copying files: 555 files [00:09, 76.29 files/s]\u001b[A\n",
      "Copying files: 563 files [00:09, 59.55 files/s]\u001b[A\n",
      "Copying files: 570 files [00:09, 57.45 files/s]\u001b[A\n",
      "Copying files: 581 files [00:09, 68.88 files/s]\u001b[A\n",
      "Copying files: 591 files [00:09, 76.39 files/s]\u001b[A\n",
      "Copying files: 604 files [00:10, 86.95 files/s]\u001b[A\n",
      "Copying files: 614 files [00:10, 79.95 files/s]\u001b[A\n",
      "Copying files: 623 files [00:10, 31.09 files/s]\u001b[A\n",
      "Copying files: 630 files [00:11, 26.69 files/s]\u001b[A\n",
      "Copying files: 637 files [00:11, 31.23 files/s]\u001b[A\n",
      "Copying files: 649 files [00:11, 42.55 files/s]\u001b[A\n",
      "Copying files: 657 files [00:11, 45.37 files/s]\u001b[A\n",
      "Copying files: 664 files [00:12, 30.58 files/s]\u001b[A\n",
      "Copying files: 677 files [00:12, 43.30 files/s]\u001b[A\n",
      "Copying files: 688 files [00:12, 53.04 files/s]\u001b[A\n",
      "Copying files: 696 files [00:12, 55.71 files/s]\u001b[A\n",
      "Copying files: 704 files [00:12, 55.17 files/s]\u001b[A\n",
      "Copying files: 713 files [00:12, 59.32 files/s]\u001b[A\n",
      "Copying files: 720 files [00:12, 59.96 files/s]\u001b[A\n",
      "Copying files: 727 files [00:13, 56.37 files/s]\u001b[A\n",
      "Copying files: 734 files [00:13, 41.82 files/s]\u001b[A\n",
      "Copying files: 740 files [00:13, 45.14 files/s]\u001b[A\n",
      "Copying files: 746 files [00:13, 41.40 files/s]\u001b[A\n",
      "Copying files: 756 files [00:13, 52.71 files/s]\u001b[A\n",
      "Copying files: 767 files [00:13, 64.59 files/s]\u001b[A\n",
      "Copying files: 775 files [00:14, 50.11 files/s]\u001b[A\n",
      "Copying files: 782 files [00:14, 53.74 files/s]\u001b[A\n",
      "Copying files: 789 files [00:14, 51.23 files/s]\u001b[A\n",
      "Copying files: 795 files [00:14, 52.94 files/s]\u001b[A\n",
      "Copying files: 801 files [00:14, 41.65 files/s]\u001b[A\n",
      "Copying files: 808 files [00:14, 46.09 files/s]\u001b[A\n",
      "Copying files: 817 files [00:14, 54.77 files/s]\u001b[A\n",
      "Copying files: 828 files [00:14, 66.98 files/s]\u001b[A\n",
      "Copying files: 839 files [00:15, 72.13 files/s]\u001b[A\n",
      "Copying files: 847 files [00:15, 55.32 files/s]\u001b[A\n",
      "Copying files: 854 files [00:15, 55.96 files/s]\u001b[A\n",
      "Copying files: 862 files [00:15, 61.24 files/s]\u001b[A\n",
      "Copying files: 869 files [00:15, 62.93 files/s]\u001b[A\n",
      "Copying files: 876 files [00:15, 60.04 files/s]\u001b[A\n",
      "Copying files: 887 files [00:15, 72.00 files/s]\u001b[A\n",
      "Copying files: 898 files [00:16, 81.82 files/s]\u001b[A\n",
      "Copying files: 907 files [00:16, 74.74 files/s]\u001b[A\n",
      "Copying files: 915 files [00:16, 64.79 files/s]\u001b[A\n",
      "Copying files: 926 files [00:16, 74.82 files/s]\u001b[A\n",
      "Copying files: 936 files [00:16, 77.88 files/s]\u001b[A\n",
      "Copying files: 945 files [00:16, 72.06 files/s]\u001b[A\n",
      "Copying files: 953 files [00:16, 73.89 files/s]\u001b[A\n",
      "Copying files: 962 files [00:16, 77.76 files/s]\u001b[A\n",
      "Copying files: 971 files [00:16, 79.93 files/s]\u001b[A\n",
      "Copying files: 980 files [00:17, 65.14 files/s]\u001b[A\n",
      "Copying files: 988 files [00:17, 42.89 files/s]\u001b[A\n",
      "Copying files: 994 files [00:17, 45.65 files/s]\u001b[A\n",
      "Copying files: 1001 files [00:17, 49.41 files/s]\u001b[A\n",
      "Copying files: 1011 files [00:17, 56.57 files/s]\u001b[A\n",
      "Copying files: 1020 files [00:17, 63.25 files/s]\u001b[A\n",
      "Copying files: 1031 files [00:18, 73.29 files/s]\u001b[A\n",
      "Copying files: 1040 files [00:18, 68.18 files/s]\u001b[A\n",
      "Copying files: 1048 files [00:18, 69.70 files/s]\u001b[A\n",
      "Copying files: 1056 files [00:18, 56.55 files/s]\u001b[A\n",
      "Copying files: 1064 files [00:18, 61.16 files/s]\u001b[A\n",
      "Copying files: 1072 files [00:18, 65.34 files/s]\u001b[A\n",
      "Copying files: 1080 files [00:18, 64.65 files/s]\u001b[A\n",
      "Copying files: 1091 files [00:19, 75.70 files/s]\u001b[A\n",
      "Copying files: 1100 files [00:19, 65.03 files/s]\u001b[A\n",
      "Copying files: 1108 files [00:19, 65.79 files/s]\u001b[A\n",
      "Copying files: 1115 files [00:19, 64.76 files/s]\u001b[A\n",
      "Copying files: 1122 files [00:19, 53.74 files/s]\u001b[A\n",
      "Copying files: 1131 files [00:19, 58.27 files/s]\u001b[A\n",
      "Copying files: 1139 files [00:19, 61.77 files/s]\u001b[A\n",
      "Copying files: 1146 files [00:19, 62.68 files/s]\u001b[A\n",
      "Copying files: 1153 files [00:20, 53.58 files/s]\u001b[A\n",
      "Copying files: 1162 files [00:20, 61.47 files/s]\u001b[A\n",
      "Copying files: 1172 files [00:20, 70.64 files/s]\u001b[A\n",
      "Copying files: 1180 files [00:20, 72.97 files/s]\u001b[A\n",
      "Copying files: 1188 files [00:20, 69.02 files/s]\u001b[A\n",
      "Copying files: 1196 files [00:20, 54.10 files/s]\u001b[A\n",
      "Copying files: 1206 files [00:20, 63.57 files/s]\u001b[A\n",
      "Copying files: 1216 files [00:21, 71.52 files/s]\u001b[A\n",
      "Copying files: 1225 files [00:21, 75.79 files/s]\u001b[A\n",
      "Copying files: 1234 files [00:21, 63.52 files/s]\u001b[A\n",
      "Copying files: 1243 files [00:21, 66.42 files/s]\u001b[A\n",
      "Copying files: 1251 files [00:21, 53.38 files/s]\u001b[A\n",
      "Copying files: 1258 files [00:21, 56.41 files/s]\u001b[A\n",
      "Copying files: 1265 files [00:21, 45.97 files/s]\u001b[A\n",
      "Copying files: 1274 files [00:22, 53.71 files/s]\u001b[A\n",
      "Copying files: 1286 files [00:22, 64.11 files/s]\u001b[A\n",
      "Copying files: 1295 files [00:22, 68.94 files/s]\u001b[A\n",
      "Copying files: 1306 files [00:22, 74.74 files/s]\u001b[A\n",
      "Copying files: 1315 files [00:22, 78.14 files/s]\u001b[A\n",
      "Copying files: 1324 files [00:23, 32.49 files/s]\u001b[A\n",
      "Copying files: 1331 files [00:23, 30.07 files/s]\u001b[A\n",
      "Copying files: 1337 files [00:23, 29.42 files/s]\u001b[A\n",
      "Copying files: 1346 files [00:23, 37.29 files/s]\u001b[A\n",
      "Copying files: 1352 files [00:24, 34.05 files/s]\u001b[A\n",
      "Copying files: 1357 files [00:24, 34.49 files/s]\u001b[A\n",
      "Copying files: 1364 files [00:24, 40.73 files/s]\u001b[A\n",
      "Copying files: 1372 files [00:24, 48.01 files/s]\u001b[A\n",
      "Copying files: 1381 files [00:24, 56.09 files/s]\u001b[A\n",
      "Copying files: 1388 files [00:24, 58.64 files/s]\u001b[A\n",
      "Copying files: 1398 files [00:24, 68.16 files/s]\u001b[A\n",
      "Copying files: 1406 files [00:24, 53.00 files/s]\u001b[A\n",
      "Copying files: 1415 files [00:25, 58.06 files/s]\u001b[A\n",
      "Copying files: 1424 files [00:25, 64.88 files/s]\u001b[A\n",
      "Copying files: 1432 files [00:25, 40.26 files/s]\u001b[A\n",
      "Copying files: 1441 files [00:25, 48.23 files/s]\u001b[A\n",
      "Copying files: 1449 files [00:25, 51.99 files/s]\u001b[A\n",
      "Copying files: 1458 files [00:25, 59.56 files/s]\u001b[A\n",
      "Copying files: 1467 files [00:26, 66.25 files/s]\u001b[A\n",
      "Copying files: 1475 files [00:26, 46.48 files/s]\u001b[A\n",
      "Copying files: 1483 files [00:26, 52.55 files/s]\u001b[A\n",
      "Copying files: 1493 files [00:26, 61.46 files/s]\u001b[A\n",
      "Copying files: 1501 files [00:26, 64.40 files/s]\u001b[A\n",
      "Copying files: 1509 files [00:26, 61.75 files/s]\u001b[A\n",
      "Copying files: 1516 files [00:26, 59.70 files/s]\u001b[A\n",
      "Copying files: 1527 files [00:27, 71.28 files/s]\u001b[A\n",
      "Copying files: 1535 files [00:27, 68.05 files/s]\u001b[A\n",
      "Copying files: 1543 files [00:27, 53.06 files/s]\u001b[A\n",
      "Copying files: 1550 files [00:27, 53.38 files/s]\u001b[A\n",
      "Copying files: 1559 files [00:27, 61.25 files/s]\u001b[A\n",
      "Copying files: 1568 files [00:27, 67.84 files/s]\u001b[A\n",
      "Copying files: 1578 files [00:27, 74.71 files/s]\u001b[A\n",
      "Copying files: 1588 files [00:27, 81.16 files/s]\u001b[A\n",
      "Copying files: 1600 files [00:28, 90.06 files/s]\u001b[A\n",
      "Copying files: 1610 files [00:28, 47.19 files/s]\u001b[A\n",
      "Copying files: 1618 files [00:28, 37.99 files/s]\u001b[A\n",
      "Copying files: 1629 files [00:28, 48.39 files/s]\u001b[A\n",
      "Copying files: 1643 files [00:29, 62.30 files/s]\u001b[A\n",
      "Copying files: 1653 files [00:29, 68.83 files/s]\u001b[A\n",
      "Copying files: 1665 files [00:29, 78.90 files/s]\u001b[A\n",
      "Copying files: 1675 files [00:29, 71.60 files/s]\u001b[A\n",
      "Copying files: 1684 files [00:29, 57.99 files/s]\u001b[A\n",
      "Copying files: 1692 files [00:29, 59.60 files/s]\u001b[A\n",
      "Copying files: 1699 files [00:29, 57.94 files/s]\u001b[A\n",
      "Copying files: 1710 files [00:30, 68.53 files/s]\u001b[A\n",
      "Copying files: 1720 files [00:30, 75.45 files/s]\u001b[A\n",
      "Copying files: 1732 files [00:30, 85.77 files/s]\u001b[A\n",
      "Copying files: 1744 files [00:30, 92.16 files/s]\u001b[A\n",
      "Copying files: 1754 files [00:30, 86.43 files/s]\u001b[A\n",
      "Copying files: 1764 files [00:30, 76.15 files/s]\u001b[A\n",
      "Copying files: 1773 files [00:30, 78.16 files/s]\u001b[A\n",
      "Copying files: 1784 files [00:30, 85.31 files/s]\u001b[A\n",
      "Copying files: 1796 files [00:30, 92.55 files/s]\u001b[A\n",
      "Copying files: 1808 files [00:31, 99.73 files/s]\u001b[A\n",
      "Copying files: 1820 files [00:31, 104.58 files/s]\u001b[A\n",
      "Copying files: 1831 files [00:31, 85.47 files/s] \u001b[A\n",
      "Copying files: 1841 files [00:31, 87.33 files/s]\u001b[A\n",
      "Copying files: 1851 files [00:31, 82.95 files/s]\u001b[A\n",
      "Copying files: 1862 files [00:31, 88.42 files/s]\u001b[A\n",
      "Copying files: 1872 files [00:31, 83.01 files/s]\u001b[A\n",
      "Copying files: 1884 files [00:31, 90.96 files/s]\u001b[A\n",
      "Copying files: 1894 files [00:32, 62.42 files/s]\u001b[A\n",
      "Copying files: 1904 files [00:32, 61.58 files/s]\u001b[A\n",
      "Copying files: 1912 files [00:32, 65.15 files/s]\u001b[A\n",
      "Copying files: 1924 files [00:32, 76.37 files/s]\u001b[A\n",
      "Copying files: 1933 files [00:32, 68.79 files/s]\u001b[A\n",
      "Copying files: 1942 files [00:32, 69.67 files/s]\u001b[A\n",
      "Copying files: 1950 files [00:33, 55.97 files/s]\u001b[A\n",
      "Copying files: 1961 files [00:33, 63.61 files/s]\u001b[A\n",
      "Copying files: 1969 files [00:33, 65.63 files/s]\u001b[A\n",
      "Copying files: 1977 files [00:33, 62.83 files/s]\u001b[A\n",
      "Copying files: 1986 files [00:33, 69.02 files/s]\u001b[A\n",
      "Copying files: 1994 files [00:33, 70.37 files/s]\u001b[A\n",
      "Copying files: 2003 files [00:33, 74.50 files/s]\u001b[A\n",
      "Copying files: 2013 files [00:33, 80.26 files/s]\u001b[A\n",
      "Copying files: 2022 files [00:34, 82.22 files/s]\u001b[A\n",
      "Copying files: 2031 files [00:34, 72.72 files/s]\u001b[A\n",
      "Copying files: 2039 files [00:34, 66.66 files/s]\u001b[A\n",
      "Copying files: 2048 files [00:34, 70.12 files/s]\u001b[A\n",
      "Copying files: 2057 files [00:34, 72.37 files/s]\u001b[A\n",
      "Copying files: 2069 files [00:34, 83.02 files/s]\u001b[A\n",
      "Copying files: 2078 files [00:34, 83.32 files/s]\u001b[A\n",
      "Copying files: 2087 files [00:35, 47.09 files/s]\u001b[A\n",
      "Copying files: 2096 files [00:35, 51.66 files/s]\u001b[A\n",
      "Copying files: 2103 files [00:35, 50.02 files/s]\u001b[A\n",
      "Copying files: 2114 files [00:35, 57.82 files/s]\u001b[A\n",
      "Copying files: 2122 files [00:35, 61.78 files/s]\u001b[A\n",
      "Copying files: 2133 files [00:35, 69.36 files/s]\u001b[A\n",
      "Copying files: 2145 files [00:35, 79.36 files/s]\u001b[A\n",
      "Copying files: 2158 files [00:36, 85.37 files/s]\u001b[A\n",
      "Copying files: 2167 files [00:36, 78.84 files/s]\u001b[A\n",
      "Copying files: 2176 files [00:36, 75.83 files/s]\u001b[A\n",
      "Copying files: 2184 files [00:36, 68.05 files/s]\u001b[A\n",
      "Copying files: 2192 files [00:36, 69.79 files/s]\u001b[A\n",
      "Copying files: 2200 files [00:36, 69.86 files/s]\u001b[A\n",
      "Copying files: 2208 files [00:36, 67.99 files/s]\u001b[A\n",
      "Copying files: 2215 files [00:36, 60.03 files/s]\u001b[A\n",
      "Copying files: 2222 files [00:37, 52.83 files/s]\u001b[A\n",
      "Copying files: 2232 files [00:37, 61.97 files/s]\u001b[A\n",
      "Copying files: 2239 files [00:37, 60.63 files/s]\u001b[A\n",
      "Copying files: 2249 files [00:37, 64.44 files/s]\u001b[A\n",
      "Copying files: 2256 files [00:37, 55.25 files/s]\u001b[A\n",
      "Copying files: 2266 files [00:37, 64.79 files/s]\u001b[A\n",
      "Copying files: 2279 files [00:37, 72.91 files/s]\u001b[A\n",
      "Copying files: 2287 files [00:38, 69.82 files/s]\u001b[A\n",
      "Copying files: 2295 files [00:38, 72.20 files/s]\u001b[A\n",
      "Copying files: 2303 files [00:38, 68.92 files/s]\u001b[A\n",
      "Copying files: 2311 files [00:38, 70.96 files/s]\u001b[A\n",
      "Copying files: 2320 files [00:38, 75.07 files/s]\u001b[A\n",
      "Copying files: 2333 files [00:38, 86.82 files/s]\u001b[A\n",
      "Copying files: 2344 files [00:38, 92.21 files/s]\u001b[A\n",
      "Copying files: 2355 files [00:38, 95.53 files/s]\u001b[A\n",
      "Copying files: 2365 files [00:39, 40.87 files/s]\u001b[A\n",
      "Copying files: 2373 files [00:42,  8.37 files/s]\u001b[A\n",
      "Copying files: 2379 files [00:43,  9.45 files/s]\u001b[A\n",
      "Copying files: 2384 files [00:43,  9.53 files/s]\u001b[A\n",
      "Copying files: 2390 files [00:43, 12.09 files/s]\u001b[A\n",
      "Copying files: 2396 files [00:43, 15.31 files/s]\u001b[A\n",
      "Copying files: 2407 files [00:43, 23.62 files/s]\u001b[A\n",
      "Copying files: 2414 files [00:43, 27.40 files/s]\u001b[A\n",
      "Copying files: 2422 files [00:44, 33.86 files/s]\u001b[A\n",
      "Copying files: 2434 files [00:44, 46.84 files/s]\u001b[A\n",
      "Copying files: 2442 files [00:44, 37.86 files/s]\u001b[A\n",
      "Copying files: 2449 files [00:44, 37.31 files/s]\u001b[A\n",
      "Copying files: 2460 files [00:44, 48.93 files/s]\u001b[A\n",
      "Copying files: 2467 files [00:44, 51.98 files/s]\u001b[A\n",
      "Copying files: 2476 files [00:45, 56.95 files/s]\u001b[A\n",
      "Copying files: 2485 files [00:45, 63.25 files/s]\u001b[A\n",
      "Copying files: 2493 files [00:45, 65.19 files/s]\u001b[A\n",
      "Copying files: 2515 files [00:45, 55.27 files/s]\u001b[A\n"
     ]
    }
   ],
   "source": [
    "import splitfolders\n",
    "splitfolders.ratio('D:/Desktop Application/asl_dataset', output=\"output\", seed=1337, ratio=(.7, 0.2,0.1)) \n"
   ]
  },
  {
   "cell_type": "code",
   "execution_count": null,
   "id": "e6a17533",
   "metadata": {},
   "outputs": [],
   "source": []
  },
  {
   "cell_type": "code",
   "execution_count": null,
   "id": "806b8b9d",
   "metadata": {},
   "outputs": [],
   "source": []
  },
  {
   "cell_type": "code",
   "execution_count": 13,
   "id": "c1456942",
   "metadata": {},
   "outputs": [],
   "source": [
    "import tensorflow as tf\n",
    "from tensorflow import keras\n",
    "from tensorflow.keras import layers\n",
    "inputs = keras.Input(shape=(180, 180, 3))\n",
    "x = layers.Conv2D(filters=32, kernel_size=3, activation=\"relu\")(inputs)\n",
    "x = layers.MaxPooling2D(pool_size=2)(x)\n",
    "x = layers.Conv2D(filters=64, kernel_size=3, activation=\"relu\")(x)\n",
    "x = layers.MaxPooling2D(pool_size=2)(x)\n",
    "x = layers.Conv2D(filters=128, kernel_size=3, activation=\"relu\")(x)\n",
    "x = layers.MaxPooling2D(pool_size=2)(x)\n",
    "x = layers.Conv2D(filters=256, kernel_size=3, activation=\"relu\")(x)\n",
    "x = layers.Flatten()(x)\n",
    "outputs = layers.Dense(36, activation=\"softmax\")(x)\n",
    "model = keras.Model(inputs=inputs, outputs=outputs)"
   ]
  },
  {
   "cell_type": "code",
   "execution_count": 14,
   "id": "de4a158e",
   "metadata": {},
   "outputs": [
    {
     "name": "stdout",
     "output_type": "stream",
     "text": [
      "Model: \"model_1\"\n",
      "_________________________________________________________________\n",
      " Layer (type)                Output Shape              Param #   \n",
      "=================================================================\n",
      " input_2 (InputLayer)        [(None, 180, 180, 3)]     0         \n",
      "                                                                 \n",
      " conv2d_4 (Conv2D)           (None, 178, 178, 32)      896       \n",
      "                                                                 \n",
      " max_pooling2d_3 (MaxPooling  (None, 89, 89, 32)       0         \n",
      " 2D)                                                             \n",
      "                                                                 \n",
      " conv2d_5 (Conv2D)           (None, 87, 87, 64)        18496     \n",
      "                                                                 \n",
      " max_pooling2d_4 (MaxPooling  (None, 43, 43, 64)       0         \n",
      " 2D)                                                             \n",
      "                                                                 \n",
      " conv2d_6 (Conv2D)           (None, 41, 41, 128)       73856     \n",
      "                                                                 \n",
      " max_pooling2d_5 (MaxPooling  (None, 20, 20, 128)      0         \n",
      " 2D)                                                             \n",
      "                                                                 \n",
      " conv2d_7 (Conv2D)           (None, 18, 18, 256)       295168    \n",
      "                                                                 \n",
      " flatten_1 (Flatten)         (None, 82944)             0         \n",
      "                                                                 \n",
      " dense_1 (Dense)             (None, 36)                2986020   \n",
      "                                                                 \n",
      "=================================================================\n",
      "Total params: 3,374,436\n",
      "Trainable params: 3,374,436\n",
      "Non-trainable params: 0\n",
      "_________________________________________________________________\n"
     ]
    }
   ],
   "source": [
    "model.summary()"
   ]
  },
  {
   "cell_type": "code",
   "execution_count": 15,
   "id": "117d459c",
   "metadata": {},
   "outputs": [
    {
     "name": "stdout",
     "output_type": "stream",
     "text": [
      "('You must install pydot (`pip install pydot`) and install graphviz (see instructions at https://graphviz.gitlab.io/download/) ', 'for plot_model/model_to_dot to work.')\n"
     ]
    }
   ],
   "source": [
    "tf.keras.utils.plot_model(\n",
    "    model,\n",
    "    show_shapes=True,\n",
    "    show_layer_names=True,\n",
    ")\n"
   ]
  },
  {
   "cell_type": "code",
   "execution_count": 16,
   "id": "3765170d",
   "metadata": {},
   "outputs": [],
   "source": [
    "model.compile(optimizer=\"rmsprop\",\n",
    " loss=\"sparse_categorical_crossentropy\",\n",
    " metrics=[\"accuracy\"])"
   ]
  },
  {
   "cell_type": "code",
   "execution_count": 17,
   "id": "db846b1f",
   "metadata": {},
   "outputs": [
    {
     "name": "stdout",
     "output_type": "stream",
     "text": [
      "Found 1760 files belonging to 36 classes.\n"
     ]
    }
   ],
   "source": [
    "from tensorflow.keras.utils import image_dataset_from_directory\n",
    "\n",
    "train_dataset = image_dataset_from_directory(\"output/train\",\n",
    "                                            image_size=(180, 180), batch_size=25)"
   ]
  },
  {
   "cell_type": "code",
   "execution_count": 18,
   "id": "68ac9081",
   "metadata": {},
   "outputs": [
    {
     "name": "stdout",
     "output_type": "stream",
     "text": [
      "Found 503 files belonging to 36 classes.\n"
     ]
    }
   ],
   "source": [
    "validation_dataset = image_dataset_from_directory(\"output/val\",\n",
    "                                             image_size=(180, 180),batch_size=25)"
   ]
  },
  {
   "cell_type": "code",
   "execution_count": 19,
   "id": "08330e82",
   "metadata": {},
   "outputs": [
    {
     "name": "stdout",
     "output_type": "stream",
     "text": [
      "Found 252 files belonging to 36 classes.\n"
     ]
    }
   ],
   "source": [
    "test_dataset = image_dataset_from_directory(\"output/test\",\n",
    "                                             image_size=(180, 180),batch_size=25)"
   ]
  },
  {
   "cell_type": "code",
   "execution_count": 20,
   "id": "59ef9db3",
   "metadata": {},
   "outputs": [],
   "source": [
    "callbacks = [\n",
    " keras.callbacks.ModelCheckpoint(\n",
    " filepath=\"Sign_Recognition_languages.keras\",\n",
    " save_best_only=True,\n",
    " monitor=\"val_loss\")\n",
    "]"
   ]
  },
  {
   "cell_type": "code",
   "execution_count": 21,
   "id": "ddc5220e",
   "metadata": {},
   "outputs": [
    {
     "name": "stdout",
     "output_type": "stream",
     "text": [
      "Epoch 1/15\n",
      "71/71 [==============================] - 184s 3s/step - loss: 10.6693 - accuracy: 0.6960 - val_loss: 0.6641 - val_accuracy: 0.7773\n",
      "Epoch 2/15\n",
      "71/71 [==============================] - 176s 2s/step - loss: 0.7715 - accuracy: 0.8761 - val_loss: 0.3897 - val_accuracy: 0.8867\n",
      "Epoch 3/15\n",
      "71/71 [==============================] - 175s 2s/step - loss: 0.2145 - accuracy: 0.9392 - val_loss: 0.9724 - val_accuracy: 0.8151\n",
      "Epoch 4/15\n",
      "71/71 [==============================] - 175s 2s/step - loss: 0.2059 - accuracy: 0.9636 - val_loss: 0.6608 - val_accuracy: 0.9085\n",
      "Epoch 5/15\n",
      "71/71 [==============================] - 173s 2s/step - loss: 0.2169 - accuracy: 0.9631 - val_loss: 0.5621 - val_accuracy: 0.9344\n",
      "Epoch 6/15\n",
      "71/71 [==============================] - 174s 2s/step - loss: 0.0990 - accuracy: 0.9824 - val_loss: 0.4374 - val_accuracy: 0.9404\n",
      "Epoch 7/15\n",
      "71/71 [==============================] - 180s 3s/step - loss: 0.0430 - accuracy: 0.9903 - val_loss: 0.6330 - val_accuracy: 0.9364\n",
      "Epoch 8/15\n",
      "71/71 [==============================] - 173s 2s/step - loss: 0.0699 - accuracy: 0.9830 - val_loss: 0.6292 - val_accuracy: 0.9463\n",
      "Epoch 9/15\n",
      "71/71 [==============================] - 172s 2s/step - loss: 0.0845 - accuracy: 0.9909 - val_loss: 0.5765 - val_accuracy: 0.9463\n",
      "Epoch 10/15\n",
      "71/71 [==============================] - 169s 2s/step - loss: 0.0468 - accuracy: 0.9920 - val_loss: 0.5969 - val_accuracy: 0.9423\n",
      "Epoch 11/15\n",
      "71/71 [==============================] - 167s 2s/step - loss: 0.0017 - accuracy: 0.9994 - val_loss: 0.5568 - val_accuracy: 0.9563\n",
      "Epoch 12/15\n",
      "71/71 [==============================] - 169s 2s/step - loss: 2.2610e-06 - accuracy: 1.0000 - val_loss: 0.6048 - val_accuracy: 0.9523\n",
      "Epoch 13/15\n",
      "71/71 [==============================] - 170s 2s/step - loss: 0.3079 - accuracy: 0.9886 - val_loss: 1.6230 - val_accuracy: 0.9423\n",
      "Epoch 14/15\n",
      "71/71 [==============================] - 173s 2s/step - loss: 0.0132 - accuracy: 0.9994 - val_loss: 1.2818 - val_accuracy: 0.9523\n",
      "Epoch 15/15\n",
      "71/71 [==============================] - 176s 2s/step - loss: 1.0837e-09 - accuracy: 1.0000 - val_loss: 1.2815 - val_accuracy: 0.9523\n"
     ]
    }
   ],
   "source": [
    "history = model.fit(\n",
    " train_dataset,epochs=15,\n",
    " validation_data=validation_dataset,callbacks=callbacks)"
   ]
  },
  {
   "cell_type": "code",
   "execution_count": 22,
   "id": "43d8b442",
   "metadata": {},
   "outputs": [
    {
     "name": "stdout",
     "output_type": "stream",
     "text": [
      "('You must install pydot (`pip install pydot`) and install graphviz (see instructions at https://graphviz.gitlab.io/download/) ', 'for plot_model/model_to_dot to work.')\n"
     ]
    }
   ],
   "source": [
    "tf.keras.utils.plot_model(\n",
    "    model,\n",
    "    show_shapes=True,\n",
    "    show_layer_names=True )\n"
   ]
  },
  {
   "cell_type": "code",
   "execution_count": 23,
   "id": "66b42056",
   "metadata": {},
   "outputs": [],
   "source": [
    "model.save('Sign_Recognition_model_180.h5')"
   ]
  },
  {
   "cell_type": "code",
   "execution_count": 24,
   "id": "f55d13ef",
   "metadata": {},
   "outputs": [
    {
     "data": {
      "image/png": "[encoded data removed]",
      "text/plain": [
       "<Figure size 432x288 with 1 Axes>"
      ]
     },
     "metadata": {
      "needs_background": "light"
     },
     "output_type": "display_data"
    },
    {
     "data": {
      "image/png": "[encoded data removed]",
      "text/plain": [
       "<Figure size 432x288 with 1 Axes>"
      ]
     },
     "metadata": {
      "needs_background": "light"
     },
     "output_type": "display_data"
    }
   ],
   "source": [
    "import matplotlib.pyplot as plt\n",
    "accuracy = history.history[\"accuracy\"]\n",
    "val_accuracy = history.history[\"val_accuracy\"]\n",
    "loss = history.history[\"loss\"]\n",
    "val_loss = history.history[\"val_loss\"]\n",
    "epochs = range(1, len(accuracy) + 1)\n",
    "plt.plot(epochs, accuracy, \"bo\", label=\"Training accuracy\")\n",
    "plt.plot(epochs, val_accuracy, \"b\", label=\"Validation accuracy\")\n",
    "plt.title(\"Training and validation accuracy\")\n",
    "plt.legend()\n",
    "plt.figure()\n",
    "plt.plot(epochs, loss, \"bo\", label=\"Training loss\")\n",
    "plt.plot(epochs, val_loss, \"b\", label=\"Validation loss\")\n",
    "plt.title(\"Training and validation loss\")\n",
    "plt.legend()\n",
    "plt.show()"
   ]
  },
  {
   "cell_type": "code",
   "execution_count": 26,
   "id": "3627e23e",
   "metadata": {},
   "outputs": [
    {
     "name": "stdout",
     "output_type": "stream",
     "text": [
      "Found 252 files belonging to 36 classes.\n"
     ]
    }
   ],
   "source": [
    "test_dataset = image_dataset_from_directory(\"output/test\",\n",
    "                                             image_size=(180, 180),batch_size=25)"
   ]
  },
  {
   "cell_type": "code",
   "execution_count": 27,
   "id": "dbe2d2d3",
   "metadata": {},
   "outputs": [
    {
     "name": "stdout",
     "output_type": "stream",
     "text": [
      "11/11 [==============================] - 7s 603ms/step - loss: 2.0235 - accuracy: 0.9246\n"
     ]
    },
    {
     "data": {
      "text/plain": [
       "[2.0234899520874023, 0.9246031641960144]"
      ]
     },
     "execution_count": 27,
     "metadata": {},
     "output_type": "execute_result"
    }
   ],
   "source": [
    "model.evaluate(test_dataset)"
   ]
  },
  {
   "cell_type": "code",
   "execution_count": null,
   "id": "2efce673",
   "metadata": {},
   "outputs": [],
   "source": []
  },
  {
   "cell_type": "markdown",
   "id": "c92fff2e",
   "metadata": {},
   "source": [
    "# Load Model"
   ]
  },
  {
   "cell_type": "code",
   "execution_count": 3,
   "id": "a0d5c413",
   "metadata": {},
   "outputs": [],
   "source": [
    "import tensorflow as tf\n",
    "from tensorflow.keras.models import load_model\n",
    "\n",
    "model = load_model('Sign_Recognition_model_180.h5')"
   ]
  },
  {
   "cell_type": "code",
   "execution_count": 6,
   "id": "27e0a3aa",
   "metadata": {},
   "outputs": [
    {
     "name": "stdout",
     "output_type": "stream",
     "text": [
      "9\n"
     ]
    },
    {
     "data": {
      "image/png": "[encoded data removed]",
      "text/plain": [
       "<Figure size 432x288 with 1 Axes>"
      ]
     },
     "metadata": {
      "needs_background": "light"
     },
     "output_type": "display_data"
    }
   ],
   "source": [
    "# for only one prediction\n",
    "import numpy as np\n",
    "import matplotlib.pyplot as plt\n",
    "from keras.preprocessing import image\n",
    "test_image = image.load_img('output/test/9/hand1_9_top_seg_2_cropped.jpeg',\n",
    "                            target_size=(180,180))\n",
    "plt.imshow(test_image)\n",
    "test_image = image.img_to_array(test_image)\n",
    "test_image = np.expand_dims(test_image, axis=0)\n",
    "result = model.predict(test_image)\n",
    "\n",
    "\n",
    "if result[0][0] == 1:\n",
    "    prediction = '0'\n",
    "elif result[0][1] == 1:\n",
    "    prediction = '1'\n",
    "elif result[0][2] == 1:\n",
    "    prediction = '2'\n",
    "elif result[0][3] == 1:\n",
    "    prediction = '3'\n",
    "elif result[0][4] == 1:\n",
    "    prediction = '4'\n",
    "elif result[0][5] == 1:\n",
    "    prediction = '5'\n",
    "elif result[0][6] == 1:\n",
    "    prediction = '6'\n",
    "elif result[0][7] == 1:\n",
    "    prediction = '7'\n",
    "elif result[0][8] == 1:\n",
    "    prediction = '8'\n",
    "elif result[0][9] == 1:\n",
    "    prediction = '9'\n",
    "elif result[0][10] == 1:\n",
    "    prediction = 'A'\n",
    "elif result[0][11] == 1:\n",
    "    prediction = 'B'\n",
    "elif result[0][12] == 1:\n",
    "    prediction = 'C'\n",
    "elif result[0][13] == 1:\n",
    "    prediction = 'D'\n",
    "elif result[0][14] == 1:\n",
    "    prediction = 'E'\n",
    "elif result[0][15] == 1:\n",
    "    prediction = 'F'\n",
    "elif result[0][16] == 1:\n",
    "    prediction = 'G'\n",
    "elif result[0][17] == 1:\n",
    "    prediction = 'H'\n",
    "elif result[0][18] == 1:\n",
    "    prediction = 'I'\n",
    "elif result[0][19] == 1:\n",
    "    prediction = 'J'\n",
    "elif result[0][20] == 1:\n",
    "    prediction = 'K'\n",
    "elif result[0][21] == 1:\n",
    "    prediction = 'L'\n",
    "elif result[0][22] == 1:\n",
    "    prediction = 'M'\n",
    "elif result[0][23] == 1:\n",
    "    prediction = 'N'\n",
    "elif result[0][24] == 1:\n",
    "    prediction = 'O'\n",
    "elif result[0][25] == 1:\n",
    "    prediction = 'P'\n",
    "elif result[0][26] == 1:\n",
    "    prediction = 'Q'\n",
    "elif result[0][27] == 1:\n",
    "    prediction = 'R'\n",
    "elif result[0][28] == 1:\n",
    "    prediction = 'S'\n",
    "elif result[0][29] == 1:\n",
    "    prediction = 'T'\n",
    "elif result[0][30] == 1:\n",
    "    prediction = 'U'\n",
    "elif result[0][31] == 1:\n",
    "    prediction = 'V'\n",
    "elif result[0][32] == 1:\n",
    "    prediction = 'W'\n",
    "elif result[0][33] == 1:\n",
    "    prediction = 'X'\n",
    "elif result[0][34] == 1:\n",
    "    prediction = 'Y'\n",
    "elif result[0][35] == 1:\n",
    "    prediction = 'Z'\n",
    "else:\n",
    "    prediction = ' NONE '\n",
    "    \n",
    "print(prediction)"
   ]
  },
  {
   "cell_type": "code",
   "execution_count": null,
   "id": "91e67674",
   "metadata": {},
   "outputs": [],
   "source": []
  }
 ],
 "metadata": {
  "kernelspec": {
   "display_name": "Python 3 (ipykernel)",
   "language": "python",
   "name": "python3"
  },
  "language_info": {
   "codemirror_mode": {
    "name": "ipython",
    "version": 3
   },
   "file_extension": ".py",
   "mimetype": "text/x-python",
   "name": "python",
   "nbconvert_exporter": "python",
   "pygments_lexer": "ipython3",
   "version": "3.9.7"
  }
 },
 "nbformat": 4,
 "nbformat_minor": 5
}
