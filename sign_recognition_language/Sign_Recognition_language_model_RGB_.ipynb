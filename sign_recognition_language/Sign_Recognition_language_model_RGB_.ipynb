{
  "cells": [
    {
      "cell_type": "code",
      "execution_count": null,
      "metadata": {
        "colab": {
          "base_uri": "https://localhost:8080/"
        },
        "id": "LtW95oRzleSr",
        "outputId": "33b63968-092a-4090-8c08-f0a1178964b8"
      },
      "outputs": [
        {
          "output_type": "stream",
          "name": "stdout",
          "text": [
            "Collecting split-folders\n",
            "  Downloading split_folders-0.5.1-py3-none-any.whl (8.4 kB)\n",
            "Installing collected packages: split-folders\n",
            "Successfully installed split-folders-0.5.1\n"
          ]
        }
      ],
      "source": [
        "!pip install split-folders"
      ]
    },
    {
      "cell_type": "code",
      "execution_count": null,
      "metadata": {
        "id": "wfgtCDvXuvRN"
      },
      "outputs": [],
      "source": [
        "import tensorflow as tf"
      ]
    },
    {
      "cell_type": "code",
      "execution_count": null,
      "metadata": {
        "colab": {
          "base_uri": "https://localhost:8080/"
        },
        "id": "UcjOf9jisja1",
        "outputId": "420b5162-9049-45d6-a897-09290fdab4ad"
      },
      "outputs": [
        {
          "output_type": "stream",
          "name": "stderr",
          "text": [
            "Copying files: 2515 files [12:36,  3.33 files/s]\n"
          ]
        }
      ],
      "source": [
        "import splitfolders\n",
        "splitfolders.ratio('/content/drive/MyDrive/Sign Recognition Project/asl_dataset', output=\"output\", seed=1337, ratio=(.7, 0.2,0.1)) \n"
      ]
    },
    {
      "cell_type": "code",
      "source": [
        ""
      ],
      "metadata": {
        "id": "UFDDY7r72zzj"
      },
      "execution_count": null,
      "outputs": []
    },
    {
      "cell_type": "markdown",
      "source": [
        "### Convert the SavedModel to TFLite\n"
      ],
      "metadata": {
        "id": "ZbwrG_1-21Wf"
      }
    },
    {
      "cell_type": "code",
      "source": [
        ""
      ],
      "metadata": {
        "id": "vyjbLnys20pF"
      },
      "execution_count": null,
      "outputs": []
    },
    {
      "cell_type": "code",
      "execution_count": null,
      "metadata": {
        "id": "NLSVCbwJsjeE"
      },
      "outputs": [],
      "source": [
        ""
      ]
    },
    {
      "cell_type": "code",
      "execution_count": null,
      "metadata": {
        "id": "sbK2NVTlb5sk"
      },
      "outputs": [],
      "source": [
        "import tensorflow as tf\n",
        "from tensorflow import keras\n",
        "from tensorflow.keras import layers\n",
        "inputs = keras.Input(shape=(180, 180, 3))\n",
        "x = layers.Conv2D(filters=32, kernel_size=3, activation=\"relu\")(inputs)\n",
        "x = layers.MaxPooling2D(pool_size=2)(x)\n",
        "x = layers.Conv2D(filters=64, kernel_size=3, activation=\"relu\")(x)\n",
        "x = layers.MaxPooling2D(pool_size=2)(x)\n",
        "x = layers.Conv2D(filters=128, kernel_size=3, activation=\"relu\")(x)\n",
        "x = layers.MaxPooling2D(pool_size=2)(x)\n",
        "x = layers.Conv2D(filters=256, kernel_size=3, activation=\"relu\")(x)\n",
        "x = layers.Flatten()(x)\n",
        "outputs = layers.Dense(36, activation=\"softmax\")(x)\n",
        "model = keras.Model(inputs=inputs, outputs=outputs)"
      ]
    },
    {
      "cell_type": "code",
      "execution_count": null,
      "metadata": {
        "colab": {
          "base_uri": "https://localhost:8080/"
        },
        "id": "JWGPGYzZcLlW",
        "outputId": "bd55800f-49ab-4f92-c622-977da859ccba"
      },
      "outputs": [
        {
          "output_type": "stream",
          "name": "stdout",
          "text": [
            "Model: \"model_1\"\n",
            "_________________________________________________________________\n",
            " Layer (type)                Output Shape              Param #   \n",
            "=================================================================\n",
            " input_2 (InputLayer)        [(None, 180, 180, 3)]     0         \n",
            "                                                                 \n",
            " conv2d_4 (Conv2D)           (None, 178, 178, 32)      896       \n",
            "                                                                 \n",
            " max_pooling2d_3 (MaxPooling  (None, 89, 89, 32)       0         \n",
            " 2D)                                                             \n",
            "                                                                 \n",
            " conv2d_5 (Conv2D)           (None, 87, 87, 64)        18496     \n",
            "                                                                 \n",
            " max_pooling2d_4 (MaxPooling  (None, 43, 43, 64)       0         \n",
            " 2D)                                                             \n",
            "                                                                 \n",
            " conv2d_6 (Conv2D)           (None, 41, 41, 128)       73856     \n",
            "                                                                 \n",
            " max_pooling2d_5 (MaxPooling  (None, 20, 20, 128)      0         \n",
            " 2D)                                                             \n",
            "                                                                 \n",
            " conv2d_7 (Conv2D)           (None, 18, 18, 256)       295168    \n",
            "                                                                 \n",
            " flatten_1 (Flatten)         (None, 82944)             0         \n",
            "                                                                 \n",
            " dense_1 (Dense)             (None, 36)                2986020   \n",
            "                                                                 \n",
            "=================================================================\n",
            "Total params: 3,374,436\n",
            "Trainable params: 3,374,436\n",
            "Non-trainable params: 0\n",
            "_________________________________________________________________\n"
          ]
        }
      ],
      "source": [
        "model.summary()"
      ]
    },
    {
      "cell_type": "code",
      "execution_count": null,
      "metadata": {
        "colab": {
          "base_uri": "https://localhost:8080/",
          "height": 1000
        },
        "id": "yGJiu05XmgZG",
        "outputId": "eb5b0fea-e28e-4bb1-b4e7-f3ee21536bbf"
      },
      "outputs": [
        {
          "output_type": "execute_result",
          "data": {
            "image/png": "[encoded data removed]",
            "text/plain": [
              "<IPython.core.display.Image object>"
            ]
          },
          "metadata": {},
          "execution_count": 11
        }
      ],
      "source": [
        "tf.keras.utils.plot_model(\n",
        "    model,\n",
        "    show_shapes=True,\n",
        "    show_layer_names=True,\n",
        ")\n"
      ]
    },
    {
      "cell_type": "code",
      "execution_count": null,
      "metadata": {
        "id": "Rc-Z4x34ck6_"
      },
      "outputs": [],
      "source": [
        "model.compile(optimizer=\"rmsprop\",\n",
        " loss=\"sparse_categorical_crossentropy\",\n",
        " metrics=[\"accuracy\"])"
      ]
    },
    {
      "cell_type": "code",
      "execution_count": null,
      "metadata": {
        "colab": {
          "base_uri": "https://localhost:8080/"
        },
        "id": "03KOcp7vcwLS",
        "outputId": "a8e736a0-3d5b-477f-a652-aae0a70e3abd"
      },
      "outputs": [
        {
          "output_type": "stream",
          "name": "stdout",
          "text": [
            "Found 1760 files belonging to 36 classes.\n"
          ]
        }
      ],
      "source": [
        "from tensorflow.keras.utils import image_dataset_from_directory\n",
        "\n",
        "train_dataset = image_dataset_from_directory(\"/content/output/train\",\n",
        "                                            image_size=(180, 180), batch_size=25)"
      ]
    },
    {
      "cell_type": "code",
      "execution_count": null,
      "metadata": {
        "colab": {
          "base_uri": "https://localhost:8080/"
        },
        "id": "zjmaKFjagjSg",
        "outputId": "8c9f5767-f329-4b30-9199-f73c3531256c"
      },
      "outputs": [
        {
          "output_type": "stream",
          "name": "stdout",
          "text": [
            "Found 503 files belonging to 36 classes.\n"
          ]
        }
      ],
      "source": [
        "validation_dataset = image_dataset_from_directory(\"/content/output/val\",\n",
        "                                             image_size=(180, 180),batch_size=25)"
      ]
    },
    {
      "cell_type": "code",
      "execution_count": null,
      "metadata": {
        "id": "t9kye42Yc_PD"
      },
      "outputs": [],
      "source": [
        "callbacks = [\n",
        " keras.callbacks.ModelCheckpoint(\n",
        " filepath=\"Sign_Recognition_180.keras\",\n",
        " save_best_only=True,\n",
        " monitor=\"val_loss\")\n",
        "]"
      ]
    },
    {
      "cell_type": "code",
      "execution_count": null,
      "metadata": {
        "colab": {
          "base_uri": "https://localhost:8080/"
        },
        "id": "VEml9nhTdCwB",
        "outputId": "b28e2daa-72e5-4678-e9fc-d6c9aac35144"
      },
      "outputs": [
        {
          "output_type": "stream",
          "name": "stdout",
          "text": [
            "Epoch 1/20\n",
            "71/71 [==============================] - 16s 89ms/step - loss: 14.4514 - accuracy: 0.7170 - val_loss: 0.5051 - val_accuracy: 0.8509\n",
            "Epoch 2/20\n",
            "71/71 [==============================] - 6s 78ms/step - loss: 0.3218 - accuracy: 0.9176 - val_loss: 0.5950 - val_accuracy: 0.8449\n",
            "Epoch 3/20\n",
            "71/71 [==============================] - 6s 80ms/step - loss: 0.3449 - accuracy: 0.9307 - val_loss: 0.3393 - val_accuracy: 0.9423\n",
            "Epoch 4/20\n",
            "71/71 [==============================] - 6s 79ms/step - loss: 0.1236 - accuracy: 0.9699 - val_loss: 0.5210 - val_accuracy: 0.9245\n",
            "Epoch 5/20\n",
            "71/71 [==============================] - 6s 80ms/step - loss: 0.0781 - accuracy: 0.9790 - val_loss: 0.2568 - val_accuracy: 0.9642\n",
            "Epoch 6/20\n",
            "71/71 [==============================] - 6s 78ms/step - loss: 0.2882 - accuracy: 0.9716 - val_loss: 0.7187 - val_accuracy: 0.9344\n",
            "Epoch 7/20\n",
            "71/71 [==============================] - 6s 80ms/step - loss: 0.0698 - accuracy: 0.9881 - val_loss: 0.4710 - val_accuracy: 0.9523\n",
            "Epoch 8/20\n",
            "71/71 [==============================] - 6s 79ms/step - loss: 0.0937 - accuracy: 0.9864 - val_loss: 0.7071 - val_accuracy: 0.9463\n",
            "Epoch 9/20\n",
            "71/71 [==============================] - 6s 79ms/step - loss: 0.0733 - accuracy: 0.9898 - val_loss: 0.7778 - val_accuracy: 0.9483\n",
            "Epoch 10/20\n",
            "71/71 [==============================] - 6s 79ms/step - loss: 0.1050 - accuracy: 0.9926 - val_loss: 2.1361 - val_accuracy: 0.9205\n",
            "Epoch 11/20\n",
            "71/71 [==============================] - 6s 79ms/step - loss: 0.0972 - accuracy: 0.9926 - val_loss: 1.3518 - val_accuracy: 0.9483\n",
            "Epoch 12/20\n",
            "71/71 [==============================] - 6s 80ms/step - loss: 3.0774e-05 - accuracy: 1.0000 - val_loss: 1.3941 - val_accuracy: 0.9463\n",
            "Epoch 13/20\n",
            "71/71 [==============================] - 7s 86ms/step - loss: 0.2295 - accuracy: 0.9864 - val_loss: 1.6384 - val_accuracy: 0.9523\n",
            "Epoch 14/20\n",
            "71/71 [==============================] - 6s 80ms/step - loss: 0.0624 - accuracy: 0.9926 - val_loss: 1.6399 - val_accuracy: 0.9523\n",
            "Epoch 15/20\n",
            "71/71 [==============================] - 6s 79ms/step - loss: 0.0681 - accuracy: 0.9955 - val_loss: 1.5461 - val_accuracy: 0.9702\n",
            "Epoch 16/20\n",
            "71/71 [==============================] - 6s 80ms/step - loss: 0.0000e+00 - accuracy: 1.0000 - val_loss: 1.5452 - val_accuracy: 0.9682\n",
            "Epoch 17/20\n",
            "71/71 [==============================] - 6s 80ms/step - loss: 0.0000e+00 - accuracy: 1.0000 - val_loss: 1.5437 - val_accuracy: 0.9682\n",
            "Epoch 18/20\n",
            "71/71 [==============================] - 6s 80ms/step - loss: 0.0000e+00 - accuracy: 1.0000 - val_loss: 1.5444 - val_accuracy: 0.9682\n",
            "Epoch 19/20\n",
            "71/71 [==============================] - 6s 79ms/step - loss: 0.0000e+00 - accuracy: 1.0000 - val_loss: 1.5597 - val_accuracy: 0.9682\n",
            "Epoch 20/20\n",
            "71/71 [==============================] - 6s 79ms/step - loss: 0.0000e+00 - accuracy: 1.0000 - val_loss: 1.5841 - val_accuracy: 0.9682\n"
          ]
        }
      ],
      "source": [
        "history = model.fit(\n",
        " train_dataset,epochs=20,\n",
        " validation_data=validation_dataset,callbacks=callbacks)"
      ]
    },
    {
      "cell_type": "code",
      "execution_count": null,
      "metadata": {
        "id": "IwZ3aMxdc_R9"
      },
      "outputs": [],
      "source": [
        "model.save('Sign_Recognition_model_180.h5')"
      ]
    },
    {
      "cell_type": "code",
      "execution_count": null,
      "metadata": {
        "colab": {
          "base_uri": "https://localhost:8080/",
          "height": 545
        },
        "id": "BQqwF_e7nxxV",
        "outputId": "c2d87153-7441-45f3-ae0c-947cc60ae06b"
      },
      "outputs": [
        {
          "output_type": "display_data",
          "data": {
            "image/png": "[encoded data removed]",
            "text/plain": [
              "<Figure size 432x288 with 1 Axes>"
            ]
          },
          "metadata": {
            "needs_background": "light"
          }
        },
        {
          "output_type": "display_data",
          "data": {
            "image/png": "[encoded data removed]",
            "text/plain": [
              "<Figure size 432x288 with 1 Axes>"
            ]
          },
          "metadata": {
            "needs_background": "light"
          }
        }
      ],
      "source": [
        "import matplotlib.pyplot as plt\n",
        "accuracy = history.history[\"accuracy\"]\n",
        "val_accuracy = history.history[\"val_accuracy\"]\n",
        "loss = history.history[\"loss\"]\n",
        "val_loss = history.history[\"val_loss\"]\n",
        "epochs = range(1, len(accuracy) + 1)\n",
        "plt.plot(epochs, accuracy, \"bo\", label=\"Training accuracy\")\n",
        "plt.plot(epochs, val_accuracy, \"b\", label=\"Validation accuracy\")\n",
        "plt.title(\"Training and validation accuracy\")\n",
        "plt.legend()\n",
        "plt.figure()\n",
        "plt.plot(epochs, loss, \"bo\", label=\"Training loss\")\n",
        "plt.plot(epochs, val_loss, \"b\", label=\"Validation loss\")\n",
        "plt.title(\"Training and validation loss\")\n",
        "plt.legend()\n",
        "plt.show()"
      ]
    },
    {
      "cell_type": "code",
      "execution_count": null,
      "metadata": {
        "id": "DR2uaIdSn29T"
      },
      "outputs": [],
      "source": [
        ""
      ]
    },
    {
      "cell_type": "code",
      "execution_count": null,
      "metadata": {
        "colab": {
          "base_uri": "https://localhost:8080/"
        },
        "id": "JL1E_q0xXQMv",
        "outputId": "82e18a35-b766-4a61-c494-2a7659aaf1b5"
      },
      "outputs": [
        {
          "output_type": "stream",
          "name": "stdout",
          "text": [
            "Found 252 files belonging to 36 classes.\n"
          ]
        }
      ],
      "source": [
        "test_dataset = image_dataset_from_directory(\"/content/output/test\",\n",
        "                                             image_size=(180, 180),batch_size=25)"
      ]
    },
    {
      "cell_type": "code",
      "execution_count": null,
      "metadata": {
        "colab": {
          "base_uri": "https://localhost:8080/"
        },
        "id": "jNzIFUmqXztk",
        "outputId": "19718e99-d589-41cb-abe2-ce8664957993"
      },
      "outputs": [
        {
          "output_type": "stream",
          "name": "stdout",
          "text": [
            "11/11 [==============================] - 1s 34ms/step - loss: 2.2271 - accuracy: 0.9206\n"
          ]
        },
        {
          "output_type": "execute_result",
          "data": {
            "text/plain": [
              "[2.2270901203155518, 0.920634925365448]"
            ]
          },
          "metadata": {},
          "execution_count": 30
        }
      ],
      "source": [
        "model.evaluate(test_dataset)"
      ]
    },
    {
      "cell_type": "code",
      "source": [
        ""
      ],
      "metadata": {
        "id": "Ghu0J5bM-n_o"
      },
      "execution_count": null,
      "outputs": []
    },
    {
      "cell_type": "markdown",
      "source": [
        "# convert keras to .tflight model"
      ],
      "metadata": {
        "id": "8sRUt2dtE4RE"
      }
    },
    {
      "cell_type": "code",
      "source": [
        "import tensorflow as tf\n",
        "import os "
      ],
      "metadata": {
        "id": "gZwCE91v-oBd"
      },
      "execution_count": null,
      "outputs": []
    },
    {
      "cell_type": "code",
      "source": [
        "# convert keras model to tflite \n",
        "def get_file_size(file_path):\n",
        "    size = os.path.getsize(file_path)\n",
        "    return size\n",
        "\n",
        "def convert_bytes(size, unit=None):\n",
        "    if unit == \"KB\":\n",
        "        return print('File size: ' + str(round(size / 1024, 3)) + ' Kilobytes')\n",
        "    elif unit == \"MB\":\n",
        "        return print('File size: ' + str(round(size / (1024 * 1024), 3)) + ' Megabytes')\n",
        "    else:\n",
        "        return print('File size: ' + str(size) + ' bytes')"
      ],
      "metadata": {
        "id": "45RnzDjh-oFD"
      },
      "execution_count": null,
      "outputs": []
    },
    {
      "cell_type": "code",
      "source": [
        "from keras.models import load_model\n",
        "model = load_model(\"/content/Sign_Recognition_model_180.h5\")\n",
        "\n",
        "TF_LITE_MODEL_FILE_NAME = \"tflite_model.tflite\"\n",
        "tf_lite_converter = tf.lite.TFLiteConverter.from_keras_model(model)\n",
        "tflite_model = tf_lite_converter.convert()\n",
        "tflite_model_name = TF_LITE_MODEL_FILE_NAME\n",
        "open(tflite_model_name, \"wb\").write(tflite_model)\n",
        "convert_bytes(get_file_size(TF_LITE_MODEL_FILE_NAME), \"KB\")\n",
        "\n",
        "# Convert the model.\n",
        "converter = tf.lite.TFLiteConverter.from_keras_model(model)\n",
        "tflite_model = converter.convert()\n",
        "# or using another method\n",
        "\n",
        "# Save the model.\n",
        "with open('tflite_model_another.tflite', 'wb') as f:\n",
        "  f.write(tflite_model)"
      ],
      "metadata": {
        "colab": {
          "base_uri": "https://localhost:8080/"
        },
        "id": "FS29n2aJ8mTU",
        "outputId": "93f0d08a-cd74-4fc7-a7b0-b1e05780b4f5"
      },
      "execution_count": null,
      "outputs": [
        {
          "output_type": "stream",
          "name": "stdout",
          "text": [
            "INFO:tensorflow:Assets written to: /tmp/tmpjur8en9x/assets\n"
          ]
        },
        {
          "output_type": "stream",
          "name": "stderr",
          "text": [
            "INFO:tensorflow:Assets written to: /tmp/tmpjur8en9x/assets\n",
            "WARNING:absl:Buffer deduplication procedure will be skipped when flatbuffer library is not properly loaded\n"
          ]
        },
        {
          "output_type": "stream",
          "name": "stdout",
          "text": [
            "File size: 13184.887 Kilobytes\n",
            "INFO:tensorflow:Assets written to: /tmp/tmp5hol4pws/assets\n"
          ]
        },
        {
          "output_type": "stream",
          "name": "stderr",
          "text": [
            "INFO:tensorflow:Assets written to: /tmp/tmp5hol4pws/assets\n",
            "WARNING:absl:Buffer deduplication procedure will be skipped when flatbuffer library is not properly loaded\n"
          ]
        }
      ]
    },
    {
      "cell_type": "code",
      "source": [
        "interpreter = tf.lite.Interpreter(model_path = TF_LITE_MODEL_FILE_NAME)\n",
        "input_details = interpreter.get_input_details()\n",
        "output_details = interpreter.get_output_details()\n",
        "print(\"Input Shape:\", input_details[0]['shape'])\n",
        "print(\"Input Type:\", input_details[0]['dtype'])\n",
        "print(\"Output Shape:\", output_details[0]['shape'])\n",
        "print(\"Output Type:\", output_details[0]['dtype'])\n"
      ],
      "metadata": {
        "colab": {
          "base_uri": "https://localhost:8080/"
        },
        "id": "pOdK20eI9yB3",
        "outputId": "644cae2a-06b8-4e4f-b22d-7df036210feb"
      },
      "execution_count": null,
      "outputs": [
        {
          "output_type": "stream",
          "name": "stdout",
          "text": [
            "Input Shape: [  1 180 180   3]\n",
            "Input Type: <class 'numpy.float32'>\n",
            "Output Shape: [ 1 36]\n",
            "Output Type: <class 'numpy.float32'>\n"
          ]
        }
      ]
    },
    {
      "cell_type": "code",
      "source": [
        ""
      ],
      "metadata": {
        "id": "_gYurPgdMGHH"
      },
      "execution_count": null,
      "outputs": []
    },
    {
      "cell_type": "code",
      "source": [
        "!pip install git+https://github.com/tensorflow/docs"
      ],
      "metadata": {
        "colab": {
          "base_uri": "https://localhost:8080/"
        },
        "id": "aEI1b-U6MGKN",
        "outputId": "d008255b-3589-4803-ef2b-16afab5628e6"
      },
      "execution_count": null,
      "outputs": [
        {
          "output_type": "stream",
          "name": "stdout",
          "text": [
            "Collecting git+https://github.com/tensorflow/docs\n",
            "  Cloning https://github.com/tensorflow/docs to /tmp/pip-req-build-qf4kfut6\n",
            "  Running command git clone -q https://github.com/tensorflow/docs /tmp/pip-req-build-qf4kfut6\n",
            "Requirement already satisfied: astor in /usr/local/lib/python3.7/dist-packages (from tensorflow-docs==0.0.0.dev0) (0.8.1)\n",
            "Requirement already satisfied: absl-py in /usr/local/lib/python3.7/dist-packages (from tensorflow-docs==0.0.0.dev0) (1.0.0)\n",
            "Requirement already satisfied: jinja2 in /usr/local/lib/python3.7/dist-packages (from tensorflow-docs==0.0.0.dev0) (2.11.3)\n",
            "Requirement already satisfied: protobuf>=3.14 in /usr/local/lib/python3.7/dist-packages (from tensorflow-docs==0.0.0.dev0) (3.17.3)\n",
            "Requirement already satisfied: pyyaml in /usr/local/lib/python3.7/dist-packages (from tensorflow-docs==0.0.0.dev0) (3.13)\n",
            "Requirement already satisfied: six>=1.9 in /usr/local/lib/python3.7/dist-packages (from protobuf>=3.14->tensorflow-docs==0.0.0.dev0) (1.15.0)\n",
            "Requirement already satisfied: MarkupSafe>=0.23 in /usr/local/lib/python3.7/dist-packages (from jinja2->tensorflow-docs==0.0.0.dev0) (2.0.1)\n",
            "Building wheels for collected packages: tensorflow-docs\n",
            "  Building wheel for tensorflow-docs (setup.py) ... \u001b[?25l\u001b[?25hdone\n",
            "  Created wheel for tensorflow-docs: filename=tensorflow_docs-0.0.0.dev0-py3-none-any.whl size=173744 sha256=e9f3ff0c6357f9a4780a22797f2dfeef1b436b148e2bffbf0ca0221f1512ff20\n",
            "  Stored in directory: /tmp/pip-ephem-wheel-cache-kxohptv9/wheels/cc/c4/d8/5341e93b6376c5c929c49469fce21155eb69cef1a4da4ce32c\n",
            "Successfully built tensorflow-docs\n",
            "Installing collected packages: tensorflow-docs\n",
            "Successfully installed tensorflow-docs-0.0.0.dev0\n"
          ]
        }
      ]
    },
    {
      "cell_type": "code",
      "source": [
        "!pip install tensorflow==1.15"
      ],
      "metadata": {
        "colab": {
          "base_uri": "https://localhost:8080/"
        },
        "id": "wxPVrUH6M3M1",
        "outputId": "74b85292-ef32-4489-81a1-b8df91b604f7"
      },
      "execution_count": null,
      "outputs": [
        {
          "output_type": "stream",
          "name": "stdout",
          "text": [
            "Requirement already satisfied: tensorflow==1.15 in /usr/local/lib/python3.7/dist-packages (1.15.0)\n",
            "Requirement already satisfied: tensorboard<1.16.0,>=1.15.0 in /usr/local/lib/python3.7/dist-packages (from tensorflow==1.15) (1.15.0)\n",
            "Requirement already satisfied: opt-einsum>=2.3.2 in /usr/local/lib/python3.7/dist-packages (from tensorflow==1.15) (3.3.0)\n",
            "Requirement already satisfied: astor>=0.6.0 in /usr/local/lib/python3.7/dist-packages (from tensorflow==1.15) (0.8.1)\n",
            "Requirement already satisfied: absl-py>=0.7.0 in /usr/local/lib/python3.7/dist-packages (from tensorflow==1.15) (1.0.0)\n",
            "Requirement already satisfied: grpcio>=1.8.6 in /usr/local/lib/python3.7/dist-packages (from tensorflow==1.15) (1.43.0)\n",
            "Requirement already satisfied: gast==0.2.2 in /usr/local/lib/python3.7/dist-packages (from tensorflow==1.15) (0.2.2)\n",
            "Requirement already satisfied: keras-preprocessing>=1.0.5 in /usr/local/lib/python3.7/dist-packages (from tensorflow==1.15) (1.1.2)\n",
            "Requirement already satisfied: six>=1.10.0 in /usr/local/lib/python3.7/dist-packages (from tensorflow==1.15) (1.15.0)\n",
            "Requirement already satisfied: termcolor>=1.1.0 in /usr/local/lib/python3.7/dist-packages (from tensorflow==1.15) (1.1.0)\n",
            "Requirement already satisfied: wheel>=0.26 in /usr/local/lib/python3.7/dist-packages (from tensorflow==1.15) (0.37.1)\n",
            "Requirement already satisfied: wrapt>=1.11.1 in /usr/local/lib/python3.7/dist-packages (from tensorflow==1.15) (1.13.3)\n",
            "Requirement already satisfied: protobuf>=3.6.1 in /usr/local/lib/python3.7/dist-packages (from tensorflow==1.15) (3.17.3)\n",
            "Requirement already satisfied: numpy<2.0,>=1.16.0 in /usr/local/lib/python3.7/dist-packages (from tensorflow==1.15) (1.19.5)\n",
            "Requirement already satisfied: google-pasta>=0.1.6 in /usr/local/lib/python3.7/dist-packages (from tensorflow==1.15) (0.2.0)\n",
            "Requirement already satisfied: keras-applications>=1.0.8 in /usr/local/lib/python3.7/dist-packages (from tensorflow==1.15) (1.0.8)\n",
            "Requirement already satisfied: tensorflow-estimator==1.15.1 in /usr/local/lib/python3.7/dist-packages (from tensorflow==1.15) (1.15.1)\n",
            "Requirement already satisfied: h5py in /usr/local/lib/python3.7/dist-packages (from keras-applications>=1.0.8->tensorflow==1.15) (3.1.0)\n",
            "Requirement already satisfied: werkzeug>=0.11.15 in /usr/local/lib/python3.7/dist-packages (from tensorboard<1.16.0,>=1.15.0->tensorflow==1.15) (1.0.1)\n",
            "Requirement already satisfied: setuptools>=41.0.0 in /usr/local/lib/python3.7/dist-packages (from tensorboard<1.16.0,>=1.15.0->tensorflow==1.15) (57.4.0)\n",
            "Requirement already satisfied: markdown>=2.6.8 in /usr/local/lib/python3.7/dist-packages (from tensorboard<1.16.0,>=1.15.0->tensorflow==1.15) (3.3.6)\n",
            "Requirement already satisfied: importlib-metadata>=4.4 in /usr/local/lib/python3.7/dist-packages (from markdown>=2.6.8->tensorboard<1.16.0,>=1.15.0->tensorflow==1.15) (4.10.1)\n",
            "Requirement already satisfied: typing-extensions>=3.6.4 in /usr/local/lib/python3.7/dist-packages (from importlib-metadata>=4.4->markdown>=2.6.8->tensorboard<1.16.0,>=1.15.0->tensorflow==1.15) (3.10.0.2)\n",
            "Requirement already satisfied: zipp>=0.5 in /usr/local/lib/python3.7/dist-packages (from importlib-metadata>=4.4->markdown>=2.6.8->tensorboard<1.16.0,>=1.15.0->tensorflow==1.15) (3.7.0)\n",
            "Requirement already satisfied: cached-property in /usr/local/lib/python3.7/dist-packages (from h5py->keras-applications>=1.0.8->tensorflow==1.15) (1.5.2)\n"
          ]
        }
      ]
    },
    {
      "cell_type": "code",
      "source": [
        ""
      ],
      "metadata": {
        "id": "Swf1ekLrOPPq"
      },
      "execution_count": null,
      "outputs": []
    },
    {
      "cell_type": "code",
      "source": [
        ""
      ],
      "metadata": {
        "id": "BEiokQ8zM034"
      },
      "execution_count": null,
      "outputs": []
    },
    {
      "cell_type": "code",
      "source": [
        ""
      ],
      "metadata": {
        "id": "oPK6lXqiM1D8"
      },
      "execution_count": null,
      "outputs": []
    },
    {
      "cell_type": "code",
      "source": [
        ""
      ],
      "metadata": {
        "id": "LWDpfg719yHZ"
      },
      "execution_count": null,
      "outputs": []
    },
    {
      "cell_type": "markdown",
      "metadata": {
        "id": "0GIcVzQQdIBn"
      },
      "source": [
        "# Using pre-trained model"
      ]
    },
    {
      "cell_type": "markdown",
      "metadata": {
        "id": "Hjne9uX5dRXU"
      },
      "source": [
        "#Feature extraction with a pretrained model"
      ]
    },
    {
      "cell_type": "code",
      "execution_count": null,
      "metadata": {
        "id": "xlTd9EMrdzF1"
      },
      "outputs": [],
      "source": [
        "conv_base = keras.applications.vgg16.VGG16(\n",
        " weights=\"imagenet\",\n",
        " include_top=False,\n",
        " input_shape=(180, 180, 3))"
      ]
    },
    {
      "cell_type": "code",
      "execution_count": null,
      "metadata": {
        "id": "KubHZNmeddKz"
      },
      "outputs": [],
      "source": [
        "import numpy as np\n",
        "def get_features_and_labels(dataset):\n",
        " all_features = []\n",
        " all_labels = []\n",
        " for images, labels in dataset:\n",
        "    preprocessed_images = keras.applications.vgg16.preprocess_input(images)\n",
        "    features = conv_base.predict(preprocessed_images)\n",
        "    all_features.append(features)\n",
        "    all_labels.append(labels)\n",
        " return np.concatenate(all_features), np.concatenate(all_labels)\n"
      ]
    },
    {
      "cell_type": "code",
      "execution_count": null,
      "metadata": {
        "id": "B1OjqWdediqR"
      },
      "outputs": [],
      "source": [
        "train_features, train_labels = get_features_and_labels(train_dataset)\n",
        "val_features, val_labels = get_features_and_labels(validation_dataset)\n",
        "test_features, test_labels = get_features_and_labels(test_dataset)"
      ]
    },
    {
      "cell_type": "code",
      "execution_count": null,
      "metadata": {
        "colab": {
          "base_uri": "https://localhost:8080/"
        },
        "id": "zq3CxKXpdnhZ",
        "outputId": "2f6c19d5-9d3e-44a2-de7f-5ee00e0eea16"
      },
      "outputs": [
        {
          "data": {
            "text/plain": [
              "(1760, 5, 5, 512)"
            ]
          },
          "execution_count": 119,
          "metadata": {},
          "output_type": "execute_result"
        }
      ],
      "source": [
        "train_features.shape"
      ]
    },
    {
      "cell_type": "code",
      "execution_count": null,
      "metadata": {
        "id": "GGOfqu6yd8v_"
      },
      "outputs": [],
      "source": [
        ""
      ]
    },
    {
      "cell_type": "markdown",
      "metadata": {
        "id": "SyMoWnRfd-ml"
      },
      "source": [
        "#Defining and training the densely connected classifier"
      ]
    },
    {
      "cell_type": "code",
      "execution_count": null,
      "metadata": {
        "id": "ifb1Rvced_36"
      },
      "outputs": [],
      "source": [
        "inputs = keras.Input(shape=(5,5, 512))\n",
        "x = layers.Flatten()(inputs)\n",
        "x = layers.Dense(256)(x)\n",
        "x = layers.Dropout(0.5)(x)\n",
        "outputs = layers.Dense(36, activation=\"softmax\")(x)\n",
        "model = keras.Model(inputs, outputs)"
      ]
    },
    {
      "cell_type": "code",
      "execution_count": null,
      "metadata": {
        "id": "oH1LaJrzeIb0"
      },
      "outputs": [],
      "source": [
        "model.compile(optimizer=\"rmsprop\",\n",
        " loss=\"sparse_categorical_crossentropy\",\n",
        " metrics=[\"accuracy\"])"
      ]
    },
    {
      "cell_type": "code",
      "execution_count": null,
      "metadata": {
        "id": "7j4JqdgWeXjO"
      },
      "outputs": [],
      "source": [
        "callbacks = [\n",
        " keras.callbacks.ModelCheckpoint(\n",
        " filepath=\"feature_extraction.keras\",\n",
        " save_best_only=True,\n",
        " monitor=\"val_loss\") ]"
      ]
    },
    {
      "cell_type": "code",
      "execution_count": null,
      "metadata": {
        "colab": {
          "base_uri": "https://localhost:8080/"
        },
        "id": "uIshssareekk",
        "outputId": "c2d0bbe8-03f5-4bdc-b72d-2f5bf83d45b2"
      },
      "outputs": [
        {
          "name": "stdout",
          "output_type": "stream",
          "text": [
            "Epoch 1/50\n",
            "55/55 [==============================] - 1s 12ms/step - loss: 19.1676 - accuracy: 0.6705 - val_loss: 11.1704 - val_accuracy: 0.8489\n",
            "Epoch 2/50\n",
            "55/55 [==============================] - 1s 11ms/step - loss: 6.1643 - accuracy: 0.8795 - val_loss: 6.5336 - val_accuracy: 0.9026\n",
            "Epoch 3/50\n",
            "55/55 [==============================] - 1s 10ms/step - loss: 4.3074 - accuracy: 0.9131 - val_loss: 1.1619 - val_accuracy: 0.9722\n",
            "Epoch 4/50\n",
            "55/55 [==============================] - 0s 8ms/step - loss: 2.5067 - accuracy: 0.9398 - val_loss: 1.5263 - val_accuracy: 0.9543\n",
            "Epoch 5/50\n",
            "55/55 [==============================] - 0s 9ms/step - loss: 3.2204 - accuracy: 0.9455 - val_loss: 1.6428 - val_accuracy: 0.9523\n",
            "Epoch 6/50\n",
            "55/55 [==============================] - 1s 9ms/step - loss: 1.8472 - accuracy: 0.9591 - val_loss: 0.8371 - val_accuracy: 0.9702\n",
            "Epoch 7/50\n",
            "55/55 [==============================] - 0s 8ms/step - loss: 1.7892 - accuracy: 0.9642 - val_loss: 8.4783 - val_accuracy: 0.9165\n",
            "Epoch 8/50\n",
            "55/55 [==============================] - 0s 8ms/step - loss: 2.0370 - accuracy: 0.9676 - val_loss: 1.3250 - val_accuracy: 0.9742\n",
            "Epoch 9/50\n",
            "55/55 [==============================] - 0s 8ms/step - loss: 0.9320 - accuracy: 0.9733 - val_loss: 1.9979 - val_accuracy: 0.9642\n",
            "Epoch 10/50\n",
            "55/55 [==============================] - 0s 8ms/step - loss: 0.8990 - accuracy: 0.9756 - val_loss: 2.1355 - val_accuracy: 0.9702\n",
            "Epoch 11/50\n",
            "55/55 [==============================] - 0s 8ms/step - loss: 1.2082 - accuracy: 0.9739 - val_loss: 2.6016 - val_accuracy: 0.9602\n",
            "Epoch 12/50\n",
            "55/55 [==============================] - 0s 8ms/step - loss: 1.0420 - accuracy: 0.9756 - val_loss: 1.4636 - val_accuracy: 0.9682\n",
            "Epoch 13/50\n",
            "55/55 [==============================] - 0s 8ms/step - loss: 0.8546 - accuracy: 0.9790 - val_loss: 1.7063 - val_accuracy: 0.9742\n",
            "Epoch 14/50\n",
            "55/55 [==============================] - 0s 8ms/step - loss: 1.1760 - accuracy: 0.9778 - val_loss: 1.5329 - val_accuracy: 0.9742\n",
            "Epoch 15/50\n",
            "55/55 [==============================] - 1s 10ms/step - loss: 0.9502 - accuracy: 0.9812 - val_loss: 0.7992 - val_accuracy: 0.9801\n",
            "Epoch 16/50\n",
            "55/55 [==============================] - 0s 8ms/step - loss: 1.0307 - accuracy: 0.9830 - val_loss: 2.4486 - val_accuracy: 0.9662\n",
            "Epoch 17/50\n",
            "55/55 [==============================] - 0s 8ms/step - loss: 0.6220 - accuracy: 0.9881 - val_loss: 1.8216 - val_accuracy: 0.9722\n",
            "Epoch 18/50\n",
            "55/55 [==============================] - 0s 8ms/step - loss: 0.4732 - accuracy: 0.9864 - val_loss: 1.2541 - val_accuracy: 0.9781\n",
            "Epoch 19/50\n",
            "55/55 [==============================] - 1s 9ms/step - loss: 0.8549 - accuracy: 0.9835 - val_loss: 0.6137 - val_accuracy: 0.9801\n",
            "Epoch 20/50\n",
            "55/55 [==============================] - 0s 8ms/step - loss: 0.5636 - accuracy: 0.9892 - val_loss: 0.9505 - val_accuracy: 0.9881\n",
            "Epoch 21/50\n",
            "55/55 [==============================] - 0s 8ms/step - loss: 0.6355 - accuracy: 0.9881 - val_loss: 0.8952 - val_accuracy: 0.9801\n",
            "Epoch 22/50\n",
            "55/55 [==============================] - 0s 9ms/step - loss: 0.8386 - accuracy: 0.9824 - val_loss: 1.0314 - val_accuracy: 0.9761\n",
            "Epoch 23/50\n",
            "55/55 [==============================] - 0s 8ms/step - loss: 0.4015 - accuracy: 0.9909 - val_loss: 0.7547 - val_accuracy: 0.9841\n",
            "Epoch 24/50\n",
            "55/55 [==============================] - 0s 8ms/step - loss: 0.3856 - accuracy: 0.9920 - val_loss: 0.9812 - val_accuracy: 0.9742\n",
            "Epoch 25/50\n",
            "55/55 [==============================] - 0s 8ms/step - loss: 0.5966 - accuracy: 0.9892 - val_loss: 0.8680 - val_accuracy: 0.9781\n",
            "Epoch 26/50\n",
            "55/55 [==============================] - 0s 8ms/step - loss: 0.5157 - accuracy: 0.9881 - val_loss: 1.1039 - val_accuracy: 0.9861\n",
            "Epoch 27/50\n",
            "55/55 [==============================] - 0s 8ms/step - loss: 0.6676 - accuracy: 0.9858 - val_loss: 1.4376 - val_accuracy: 0.9821\n",
            "Epoch 28/50\n",
            "55/55 [==============================] - 0s 8ms/step - loss: 0.4542 - accuracy: 0.9864 - val_loss: 1.1311 - val_accuracy: 0.9881\n",
            "Epoch 29/50\n",
            "55/55 [==============================] - 1s 9ms/step - loss: 0.3977 - accuracy: 0.9926 - val_loss: 0.4393 - val_accuracy: 0.9901\n",
            "Epoch 30/50\n",
            "55/55 [==============================] - 0s 8ms/step - loss: 0.3112 - accuracy: 0.9960 - val_loss: 0.9604 - val_accuracy: 0.9841\n",
            "Epoch 31/50\n",
            "55/55 [==============================] - 0s 8ms/step - loss: 0.5708 - accuracy: 0.9903 - val_loss: 2.3691 - val_accuracy: 0.9742\n",
            "Epoch 32/50\n",
            "55/55 [==============================] - 0s 8ms/step - loss: 0.5994 - accuracy: 0.9881 - val_loss: 0.8868 - val_accuracy: 0.9841\n",
            "Epoch 33/50\n",
            "55/55 [==============================] - 0s 8ms/step - loss: 0.2354 - accuracy: 0.9926 - val_loss: 1.3148 - val_accuracy: 0.9861\n",
            "Epoch 34/50\n",
            "55/55 [==============================] - 0s 8ms/step - loss: 0.1522 - accuracy: 0.9943 - val_loss: 1.5292 - val_accuracy: 0.9841\n",
            "Epoch 35/50\n",
            "55/55 [==============================] - 0s 8ms/step - loss: 0.3521 - accuracy: 0.9909 - val_loss: 0.6362 - val_accuracy: 0.9920\n",
            "Epoch 36/50\n",
            "55/55 [==============================] - 0s 8ms/step - loss: 0.2550 - accuracy: 0.9932 - val_loss: 0.9020 - val_accuracy: 0.9881\n",
            "Epoch 37/50\n",
            "55/55 [==============================] - 0s 8ms/step - loss: 0.5806 - accuracy: 0.9932 - val_loss: 1.1149 - val_accuracy: 0.9901\n",
            "Epoch 38/50\n",
            "55/55 [==============================] - 0s 8ms/step - loss: 0.2342 - accuracy: 0.9949 - val_loss: 0.9148 - val_accuracy: 0.9801\n",
            "Epoch 39/50\n",
            "55/55 [==============================] - 0s 8ms/step - loss: 0.5371 - accuracy: 0.9932 - val_loss: 0.4642 - val_accuracy: 0.9881\n",
            "Epoch 40/50\n",
            "55/55 [==============================] - 0s 8ms/step - loss: 0.2522 - accuracy: 0.9932 - val_loss: 1.1817 - val_accuracy: 0.9881\n",
            "Epoch 41/50\n",
            "55/55 [==============================] - 0s 8ms/step - loss: 0.2105 - accuracy: 0.9960 - val_loss: 0.7736 - val_accuracy: 0.9901\n",
            "Epoch 42/50\n",
            "55/55 [==============================] - 0s 8ms/step - loss: 0.4584 - accuracy: 0.9920 - val_loss: 1.3152 - val_accuracy: 0.9821\n",
            "Epoch 43/50\n",
            "55/55 [==============================] - 0s 8ms/step - loss: 0.3291 - accuracy: 0.9920 - val_loss: 1.2445 - val_accuracy: 0.9841\n",
            "Epoch 44/50\n",
            "55/55 [==============================] - 0s 8ms/step - loss: 0.4620 - accuracy: 0.9937 - val_loss: 1.6382 - val_accuracy: 0.9821\n",
            "Epoch 45/50\n",
            "55/55 [==============================] - 0s 9ms/step - loss: 0.2894 - accuracy: 0.9966 - val_loss: 0.9156 - val_accuracy: 0.9861\n",
            "Epoch 46/50\n",
            "55/55 [==============================] - 0s 8ms/step - loss: 0.2767 - accuracy: 0.9937 - val_loss: 0.8277 - val_accuracy: 0.9861\n",
            "Epoch 47/50\n",
            "55/55 [==============================] - 0s 8ms/step - loss: 0.2686 - accuracy: 0.9943 - val_loss: 1.2908 - val_accuracy: 0.9841\n",
            "Epoch 48/50\n",
            "55/55 [==============================] - 0s 8ms/step - loss: 0.2102 - accuracy: 0.9926 - val_loss: 2.0960 - val_accuracy: 0.9801\n",
            "Epoch 49/50\n",
            "55/55 [==============================] - 0s 8ms/step - loss: 0.2401 - accuracy: 0.9949 - val_loss: 1.0951 - val_accuracy: 0.9881\n",
            "Epoch 50/50\n",
            "55/55 [==============================] - 0s 9ms/step - loss: 0.1067 - accuracy: 0.9983 - val_loss: 0.9548 - val_accuracy: 0.9841\n"
          ]
        }
      ],
      "source": [
        "history = model.fit(\n",
        " train_features, train_labels,\n",
        " epochs=50,\n",
        " validation_data=(val_features, val_labels),\n",
        " callbacks=callbacks)"
      ]
    },
    {
      "cell_type": "code",
      "execution_count": null,
      "metadata": {
        "colab": {
          "base_uri": "https://localhost:8080/",
          "height": 545
        },
        "id": "BSMZwRKqeh7k",
        "outputId": "625e323a-8ef3-490e-c0ef-d8229a351263"
      },
      "outputs": [
        {
          "data": {
            "image/png": "[encoded data removed]",
            "text/plain": [
              "<Figure size 432x288 with 1 Axes>"
            ]
          },
          "metadata": {},
          "output_type": "display_data"
        },
        {
          "data": {
            "image/png": "[encoded data removed]",
            "text/plain": [
              "<Figure size 432x288 with 1 Axes>"
            ]
          },
          "metadata": {},
          "output_type": "display_data"
        }
      ],
      "source": [
        "import matplotlib.pyplot as plt\n",
        "accuracy = history.history[\"accuracy\"]\n",
        "val_accuracy = history.history[\"val_accuracy\"]\n",
        "loss = history.history[\"loss\"]\n",
        "val_loss = history.history[\"val_loss\"]\n",
        "epochs = range(1, len(accuracy) + 1)\n",
        "plt.plot(epochs, accuracy, \"bo\", label=\"Training accuracy\")\n",
        "plt.plot(epochs, val_accuracy, \"b\", label=\"Validation accuracy\")\n",
        "plt.title(\"Training and validation accuracy\")\n",
        "plt.legend()\n",
        "plt.figure()\n",
        "plt.plot(epochs, loss, \"bo\", label=\"Training loss\")\n",
        "plt.plot(epochs, val_loss, \"b\", label=\"Validation loss\")\n",
        "plt.title(\"Training and validation loss\")\n",
        "plt.legend()\n",
        "plt.show()"
      ]
    },
    {
      "cell_type": "code",
      "execution_count": null,
      "metadata": {
        "id": "YAUuQOErfQQf"
      },
      "outputs": [],
      "source": [
        "model.save('sign_recognition_language_asl.h5')"
      ]
    },
    {
      "cell_type": "code",
      "execution_count": null,
      "metadata": {
        "id": "yytJoSySfdce"
      },
      "outputs": [],
      "source": [
        ""
      ]
    },
    {
      "cell_type": "markdown",
      "metadata": {
        "id": "EDtot7DaiAll"
      },
      "source": [
        "#Downloas Split DataSet Folders"
      ]
    },
    {
      "cell_type": "code",
      "execution_count": null,
      "metadata": {
        "id": "zfhEFaGmhj8F"
      },
      "outputs": [],
      "source": [
        "from google.colab import files\n"
      ]
    },
    {
      "cell_type": "code",
      "execution_count": null,
      "metadata": {
        "colab": {
          "base_uri": "https://localhost:8080/",
          "height": 34
        },
        "id": "SliDOJOBhj96",
        "outputId": "ed6cd1a4-9522-4783-d7d7-6874d7b5d49e"
      },
      "outputs": [
        {
          "data": {
            "application/javascript": [
              "\n",
              "    async function download(id, filename, size) {\n",
              "      if (!google.colab.kernel.accessAllowed) {\n",
              "        return;\n",
              "      }\n",
              "      const div = document.createElement('div');\n",
              "      const label = document.createElement('label');\n",
              "      label.textContent = `Downloading \"${filename}\": `;\n",
              "      div.appendChild(label);\n",
              "      const progress = document.createElement('progress');\n",
              "      progress.max = size;\n",
              "      div.appendChild(progress);\n",
              "      document.body.appendChild(div);\n",
              "\n",
              "      const buffers = [];\n",
              "      let downloaded = 0;\n",
              "\n",
              "      const channel = await google.colab.kernel.comms.open(id);\n",
              "      // Send a message to notify the kernel that we're ready.\n",
              "      channel.send({})\n",
              "\n",
              "      for await (const message of channel.messages) {\n",
              "        // Send a message to notify the kernel that we're ready.\n",
              "        channel.send({})\n",
              "        if (message.buffers) {\n",
              "          for (const buffer of message.buffers) {\n",
              "            buffers.push(buffer);\n",
              "            downloaded += buffer.byteLength;\n",
              "            progress.value = downloaded;\n",
              "          }\n",
              "        }\n",
              "      }\n",
              "      const blob = new Blob(buffers, {type: 'application/binary'});\n",
              "      const a = document.createElement('a');\n",
              "      a.href = window.URL.createObjectURL(blob);\n",
              "      a.download = filename;\n",
              "      div.appendChild(a);\n",
              "      a.click();\n",
              "      div.remove();\n",
              "    }\n",
              "  "
            ],
            "text/plain": [
              "<IPython.core.display.Javascript object>"
            ]
          },
          "metadata": {},
          "output_type": "display_data"
        },
        {
          "data": {
            "application/javascript": [
              "download(\"download_aa85a537-27a7-4eb2-8f9f-fb7610418ea0\", \"test\", 4096)"
            ],
            "text/plain": [
              "<IPython.core.display.Javascript object>"
            ]
          },
          "metadata": {},
          "output_type": "display_data"
        }
      ],
      "source": [
        "files.download('/content/Sign_Classification/test')"
      ]
    },
    {
      "cell_type": "code",
      "execution_count": null,
      "metadata": {
        "id": "JfackOGWhkCW"
      },
      "outputs": [],
      "source": [
        ""
      ]
    }
  ],
  "metadata": {
    "accelerator": "GPU",
    "colab": {
      "collapsed_sections": [],
      "name": "Sign Recognition_language_model_RGB .ipynb",
      "provenance": []
    },
    "kernelspec": {
      "display_name": "Python 3",
      "name": "python3"
    },
    "language_info": {
      "name": "python"
    }
  },
  "nbformat": 4,
  "nbformat_minor": 0
}