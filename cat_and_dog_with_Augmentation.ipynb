{
  "nbformat": 4,
  "nbformat_minor": 0,
  "metadata": {
    "colab": {
      "name": "cat and dog with Augmentation.ipynb",
      "provenance": []
    },
    "kernelspec": {
      "name": "python3",
      "display_name": "Python 3"
    },
    "language_info": {
      "name": "python"
    },
    "accelerator": "GPU"
  },
  "cells": [
    {
      "cell_type": "code",
      "metadata": {
        "id": "oOjgAqs1rEtj"
      },
      "source": [
        "import tensorflow"
      ],
      "execution_count": null,
      "outputs": []
    },
    {
      "cell_type": "code",
      "metadata": {
        "id": "4LI5uz2CrSs8"
      },
      "source": [
        "from tensorflow.keras import layers\n",
        "from tensorflow.keras import models\n",
        "model = models.Sequential()\n",
        "model.add(layers.Conv2D(32, (3, 3), activation='relu',\n",
        "input_shape=(150, 150, 3)))\n",
        "model.add(layers.MaxPooling2D((2, 2)))\n",
        "model.add(layers.Conv2D(64, (3, 3), activation='relu'))\n",
        "model.add(layers.MaxPooling2D((2, 2)))\n",
        "model.add(layers.Conv2D(128, (3, 3), activation='relu'))\n",
        "model.add(layers.MaxPooling2D((2, 2)))\n",
        "model.add(layers.Conv2D(128, (3, 3), activation='relu'))\n",
        "model.add(layers.MaxPooling2D((2, 2)))\n",
        "model.add(layers.Flatten())\n",
        "model.add(layers.Dense(512, activation='relu'))\n",
        "model.add(layers.Dense(128, activation='relu'))\n",
        "\n",
        "model.add(layers.Dense(1, activation='sigmoid'))"
      ],
      "execution_count": null,
      "outputs": []
    },
    {
      "cell_type": "code",
      "metadata": {
        "id": "xI5i6COMrZvq"
      },
      "source": [
        "from tensorflow.keras import optimizers\n",
        "model.compile(loss='binary_crossentropy',\n",
        "optimizer=optimizers.RMSprop(learning_rate=1e-4),\n",
        "metrics=['acc'])"
      ],
      "execution_count": null,
      "outputs": []
    },
    {
      "cell_type": "code",
      "metadata": {
        "id": "Ia9W2ZT5rm0C"
      },
      "source": [
        "from tensorflow.keras.preprocessing.image import ImageDataGenerator\n",
        "train_datagen = ImageDataGenerator(rescale=1./255)\n",
        "validation_datagen = ImageDataGenerator(rescale=1./255)\n"
      ],
      "execution_count": null,
      "outputs": []
    },
    {
      "cell_type": "code",
      "metadata": {
        "colab": {
          "base_uri": "https://localhost:8080/"
        },
        "id": "xmiiXdrzrpiS",
        "outputId": "da9e7ba3-103f-47ca-81f7-ebdc99fd7f65"
      },
      "source": [
        "train_generator = train_datagen.flow_from_directory(\n",
        "\"/content/drive/MyDrive/cat and dog/train\",\n",
        "target_size=(150, 150),batch_size=60,class_mode='binary')"
      ],
      "execution_count": null,
      "outputs": [
        {
          "output_type": "stream",
          "text": [
            "Found 2000 images belonging to 2 classes.\n"
          ],
          "name": "stdout"
        }
      ]
    },
    {
      "cell_type": "code",
      "metadata": {
        "colab": {
          "base_uri": "https://localhost:8080/"
        },
        "id": "ni3LZAGxr0vW",
        "outputId": "c958a4a7-b692-4a86-c3af-bfe6e2e2b160"
      },
      "source": [
        "validation_generator = validation_datagen.flow_from_directory(\n",
        "    '/content/drive/MyDrive/cat and dog/validation',\n",
        "      target_size=(150,150),batch_size=60,class_mode=\"binary\")"
      ],
      "execution_count": null,
      "outputs": [
        {
          "output_type": "stream",
          "text": [
            "Found 1000 images belonging to 2 classes.\n"
          ],
          "name": "stdout"
        }
      ]
    },
    {
      "cell_type": "code",
      "metadata": {
        "colab": {
          "base_uri": "https://localhost:8080/"
        },
        "id": "aCLI-b5Yr94O",
        "outputId": "318e7fa3-e2ef-4706-8273-c3baf96422b9"
      },
      "source": [
        "test_generator = validation_datagen.flow_from_directory(\n",
        "    '/content/drive/MyDrive/cat and dog/test',\n",
        "      target_size=(150,150),batch_size=60,class_mode=\"binary\")"
      ],
      "execution_count": null,
      "outputs": [
        {
          "output_type": "stream",
          "text": [
            "Found 1000 images belonging to 2 classes.\n"
          ],
          "name": "stdout"
        }
      ]
    },
    {
      "cell_type": "code",
      "metadata": {
        "colab": {
          "base_uri": "https://localhost:8080/"
        },
        "id": "U2e0-vZ8sF3v",
        "outputId": "90e4a40f-5568-4354-bd58-bd549023b5be"
      },
      "source": [
        "history = model.fit_generator(\n",
        "train_generator,\n",
        "epochs=30,\n",
        "validation_data=validation_generator,\n",
        "validation_steps=17)"
      ],
      "execution_count": null,
      "outputs": [
        {
          "output_type": "stream",
          "text": [
            "/usr/local/lib/python3.7/dist-packages/keras/engine/training.py:1972: UserWarning: `Model.fit_generator` is deprecated and will be removed in a future version. Please use `Model.fit`, which supports generators.\n",
            "  warnings.warn('`Model.fit_generator` is deprecated and '\n"
          ],
          "name": "stderr"
        },
        {
          "output_type": "stream",
          "text": [
            "Epoch 1/30\n",
            "34/34 [==============================] - 1700s 50s/step - loss: 0.6881 - acc: 0.5390 - val_loss: 0.6960 - val_acc: 0.5180\n",
            "Epoch 2/30\n",
            "34/34 [==============================] - 13s 390ms/step - loss: 0.6695 - acc: 0.5875 - val_loss: 0.6646 - val_acc: 0.5990\n",
            "Epoch 3/30\n",
            "34/34 [==============================] - 13s 394ms/step - loss: 0.6451 - acc: 0.6260 - val_loss: 0.6530 - val_acc: 0.6190\n",
            "Epoch 4/30\n",
            "34/34 [==============================] - 13s 389ms/step - loss: 0.6360 - acc: 0.6355 - val_loss: 0.6694 - val_acc: 0.5890\n",
            "Epoch 5/30\n",
            "34/34 [==============================] - 13s 393ms/step - loss: 0.6205 - acc: 0.6410 - val_loss: 0.6354 - val_acc: 0.6260\n",
            "Epoch 6/30\n",
            "34/34 [==============================] - 13s 394ms/step - loss: 0.6065 - acc: 0.6625 - val_loss: 0.6205 - val_acc: 0.6430\n",
            "Epoch 7/30\n",
            "34/34 [==============================] - 13s 395ms/step - loss: 0.5868 - acc: 0.6910 - val_loss: 0.6101 - val_acc: 0.6600\n",
            "Epoch 8/30\n",
            "34/34 [==============================] - 13s 389ms/step - loss: 0.5611 - acc: 0.7110 - val_loss: 0.5978 - val_acc: 0.6680\n",
            "Epoch 9/30\n",
            "34/34 [==============================] - 13s 396ms/step - loss: 0.5420 - acc: 0.7300 - val_loss: 0.6066 - val_acc: 0.6710\n",
            "Epoch 10/30\n",
            "34/34 [==============================] - 13s 393ms/step - loss: 0.5326 - acc: 0.7330 - val_loss: 0.5978 - val_acc: 0.6840\n",
            "Epoch 11/30\n",
            "34/34 [==============================] - 13s 392ms/step - loss: 0.5175 - acc: 0.7450 - val_loss: 0.5800 - val_acc: 0.6870\n",
            "Epoch 12/30\n",
            "34/34 [==============================] - 13s 383ms/step - loss: 0.4951 - acc: 0.7700 - val_loss: 0.5938 - val_acc: 0.6790\n",
            "Epoch 13/30\n",
            "34/34 [==============================] - 13s 389ms/step - loss: 0.4719 - acc: 0.7790 - val_loss: 0.5780 - val_acc: 0.6970\n",
            "Epoch 14/30\n",
            "34/34 [==============================] - 13s 392ms/step - loss: 0.4659 - acc: 0.7825 - val_loss: 0.6032 - val_acc: 0.6750\n",
            "Epoch 15/30\n",
            "34/34 [==============================] - 14s 401ms/step - loss: 0.4468 - acc: 0.7950 - val_loss: 0.5674 - val_acc: 0.6990\n",
            "Epoch 16/30\n",
            "34/34 [==============================] - 13s 398ms/step - loss: 0.4092 - acc: 0.8225 - val_loss: 0.5798 - val_acc: 0.7070\n",
            "Epoch 17/30\n",
            "34/34 [==============================] - 14s 400ms/step - loss: 0.4137 - acc: 0.8110 - val_loss: 0.5760 - val_acc: 0.7110\n",
            "Epoch 18/30\n",
            "34/34 [==============================] - 14s 401ms/step - loss: 0.3829 - acc: 0.8365 - val_loss: 0.5974 - val_acc: 0.6990\n",
            "Epoch 19/30\n",
            "34/34 [==============================] - 13s 395ms/step - loss: 0.3746 - acc: 0.8435 - val_loss: 0.5846 - val_acc: 0.7110\n",
            "Epoch 20/30\n",
            "34/34 [==============================] - 13s 391ms/step - loss: 0.3478 - acc: 0.8445 - val_loss: 0.6427 - val_acc: 0.6940\n",
            "Epoch 21/30\n",
            "34/34 [==============================] - 14s 402ms/step - loss: 0.3290 - acc: 0.8640 - val_loss: 0.5997 - val_acc: 0.6990\n",
            "Epoch 22/30\n",
            "34/34 [==============================] - 13s 396ms/step - loss: 0.3179 - acc: 0.8685 - val_loss: 0.5946 - val_acc: 0.7120\n",
            "Epoch 23/30\n",
            "34/34 [==============================] - 13s 395ms/step - loss: 0.3036 - acc: 0.8815 - val_loss: 0.6480 - val_acc: 0.7030\n",
            "Epoch 24/30\n",
            "34/34 [==============================] - 13s 400ms/step - loss: 0.2883 - acc: 0.8815 - val_loss: 0.6207 - val_acc: 0.7100\n",
            "Epoch 25/30\n",
            "34/34 [==============================] - 13s 389ms/step - loss: 0.2610 - acc: 0.8945 - val_loss: 0.7529 - val_acc: 0.6930\n",
            "Epoch 26/30\n",
            "34/34 [==============================] - 13s 387ms/step - loss: 0.2575 - acc: 0.9040 - val_loss: 0.6382 - val_acc: 0.7160\n",
            "Epoch 27/30\n",
            "34/34 [==============================] - 13s 391ms/step - loss: 0.2194 - acc: 0.9230 - val_loss: 0.6788 - val_acc: 0.7020\n",
            "Epoch 28/30\n",
            "34/34 [==============================] - 13s 398ms/step - loss: 0.2205 - acc: 0.9135 - val_loss: 0.7478 - val_acc: 0.6730\n",
            "Epoch 29/30\n",
            "34/34 [==============================] - 13s 394ms/step - loss: 0.1940 - acc: 0.9305 - val_loss: 0.9236 - val_acc: 0.6670\n",
            "Epoch 30/30\n",
            "34/34 [==============================] - 13s 392ms/step - loss: 0.1917 - acc: 0.9240 - val_loss: 0.6552 - val_acc: 0.7270\n"
          ],
          "name": "stdout"
        }
      ]
    },
    {
      "cell_type": "code",
      "metadata": {
        "colab": {
          "base_uri": "https://localhost:8080/"
        },
        "id": "WPztCzFNsRIK",
        "outputId": "87046810-7676-45c2-c82f-3f821b2c44cf"
      },
      "source": [
        "model.evaluate(test_generator)"
      ],
      "execution_count": null,
      "outputs": [
        {
          "output_type": "stream",
          "text": [
            "17/17 [==============================] - 563s 35s/step - loss: 0.5716 - acc: 0.7480\n"
          ],
          "name": "stdout"
        },
        {
          "output_type": "execute_result",
          "data": {
            "text/plain": [
              "[0.5715675950050354, 0.7480000257492065]"
            ]
          },
          "metadata": {},
          "execution_count": 15
        }
      ]
    },
    {
      "cell_type": "code",
      "metadata": {
        "colab": {
          "base_uri": "https://localhost:8080/",
          "height": 545
        },
        "id": "OpxY9O-dsZyH",
        "outputId": "f9d47bfb-7465-43b6-eadc-3b87ab2c2b6c"
      },
      "source": [
        "import matplotlib.pyplot as plt\n",
        "acc = history.history['acc']\n",
        "val_acc = history.history['val_acc']\n",
        "loss = history.history['loss']\n",
        "val_loss = history.history['val_loss']\n",
        "epochs = range(1, len(acc) + 1)\n",
        "plt.plot(epochs, acc, 'bo', label='Training acc')\n",
        "plt.plot(epochs, val_acc, 'b', label='Validation acc')\n",
        "plt.title('Training and validation accuracy')\n",
        "plt.legend()\n",
        "plt.figure()\n",
        "plt.plot(epochs, loss, 'bo', label='Training loss')\n",
        "plt.plot(epochs, val_loss, 'b', label='Validation loss')\n",
        "plt.title('Training and validation loss')\n",
        "plt.legend()\n",
        "plt.show()"
      ],
      "execution_count": null,
      "outputs": [
        {
          "output_type": "display_data",
          "data": {
            "image/png": "[encoded data removed]",
            "text/plain": [
              "<Figure size 432x288 with 1 Axes>"
            ]
          },
          "metadata": {
            "needs_background": "light"
          }
        },
        {
          "output_type": "display_data",
          "data": {
            "image/png": "[encoded data removed]",
            "text/plain": [
              "<Figure size 432x288 with 1 Axes>"
            ]
          },
          "metadata": {
            "needs_background": "light"
          }
        }
      ]
    },
    {
      "cell_type": "code",
      "metadata": {
        "id": "lz0C-03i3dV-"
      },
      "source": [
        ""
      ],
      "execution_count": null,
      "outputs": []
    },
    {
      "cell_type": "code",
      "metadata": {
        "colab": {
          "base_uri": "https://localhost:8080/"
        },
        "id": "YpvCku6_38BQ",
        "outputId": "fe5f15c9-75dd-49af-a6f9-c514af7bc3a7"
      },
      "source": [
        "1000/32"
      ],
      "execution_count": null,
      "outputs": [
        {
          "output_type": "execute_result",
          "data": {
            "text/plain": [
              "31.25"
            ]
          },
          "metadata": {},
          "execution_count": 36
        }
      ]
    },
    {
      "cell_type": "markdown",
      "metadata": {
        "id": "UlV58Fx7YJT4"
      },
      "source": [
        "# Cat vs Dog Classification using Augmentation\n"
      ]
    },
    {
      "cell_type": "code",
      "metadata": {
        "id": "0PTgT7fj38SC"
      },
      "source": [
        ""
      ],
      "execution_count": null,
      "outputs": []
    },
    {
      "cell_type": "code",
      "metadata": {
        "id": "WgdX4ml638aL"
      },
      "source": [
        ""
      ],
      "execution_count": null,
      "outputs": []
    },
    {
      "cell_type": "code",
      "metadata": {
        "id": "SlCTSYX038dR"
      },
      "source": [
        "from tensorflow.keras import layers\n",
        "from tensorflow.keras import models\n",
        "model = models.Sequential()\n",
        "model.add(layers.Conv2D(32, (3, 3), activation='relu',\n",
        "input_shape=(150, 150, 3)))\n",
        "model.add(layers.MaxPooling2D((2, 2)))\n",
        "model.add(layers.Conv2D(64, (3, 3), activation='relu'))\n",
        "model.add(layers.MaxPooling2D((2, 2)))\n",
        "model.add(layers.Conv2D(128, (3, 3), activation='relu'))\n",
        "model.add(layers.MaxPooling2D((2, 2)))\n",
        "model.add(layers.Conv2D(128, (3, 3), activation='relu'))\n",
        "model.add(layers.MaxPooling2D((2, 2)))\n",
        "model.add(layers.Flatten())\n",
        "model.add(layers.Dropout(0.5))\n",
        "model.add(layers.Dense(512, activation='relu'))\n",
        "#model.add(layers.Dense(128, activation='relu'))\n",
        "\n",
        "model.add(layers.Dense(1, activation='sigmoid'))"
      ],
      "execution_count": null,
      "outputs": []
    },
    {
      "cell_type": "code",
      "metadata": {
        "colab": {
          "base_uri": "https://localhost:8080/"
        },
        "id": "rpMP6p6C4Z6K",
        "outputId": "70eb7987-709b-4955-b078-6863a814013c"
      },
      "source": [
        "model.compile(loss='binary_crossentropy',\n",
        "optimizer=optimizers.RMSprop(lr=1e-4),\n",
        "metrics=['acc'])"
      ],
      "execution_count": null,
      "outputs": [
        {
          "output_type": "stream",
          "text": [
            "/usr/local/lib/python3.7/dist-packages/keras/optimizer_v2/optimizer_v2.py:356: UserWarning: The `lr` argument is deprecated, use `learning_rate` instead.\n",
            "  \"The `lr` argument is deprecated, use `learning_rate` instead.\")\n"
          ],
          "name": "stderr"
        }
      ]
    },
    {
      "cell_type": "code",
      "metadata": {
        "id": "z3R11nKO4m_y"
      },
      "source": [
        "from tensorflow.keras.preprocessing.image import ImageDataGenerator\n",
        "#train_datagen = ImageDataGenerator(rescale=1./255)\n",
        "train_datagen = ImageDataGenerator(\n",
        "                                rescale=1./255,\n",
        "                                rotation_range=40,\n",
        "                                width_shift_range=0.2,\n",
        "                                height_shift_range=0.2,\n",
        "                                shear_range=0.2,\n",
        "                                zoom_range=0.2, \n",
        "                                horizontal_flip=True,)\n",
        "\n",
        "validation_datagen = ImageDataGenerator(rescale=1./255)\n",
        "\n",
        "test_datagen = ImageDataGenerator(rescale=1./255)\n",
        "\n"
      ],
      "execution_count": null,
      "outputs": []
    },
    {
      "cell_type": "code",
      "metadata": {
        "colab": {
          "base_uri": "https://localhost:8080/"
        },
        "id": "38jXC_Ia5SKV",
        "outputId": "4234e910-e3cd-40f3-bdd5-860816bf1a80"
      },
      "source": [
        "train_generator = train_datagen.flow_from_directory(\n",
        "\"/content/drive/MyDrive/cat and dog/train\",\n",
        "target_size=(150, 150),batch_size=32,class_mode='binary')"
      ],
      "execution_count": null,
      "outputs": [
        {
          "output_type": "stream",
          "text": [
            "Found 2000 images belonging to 2 classes.\n"
          ],
          "name": "stdout"
        }
      ]
    },
    {
      "cell_type": "code",
      "metadata": {
        "colab": {
          "base_uri": "https://localhost:8080/"
        },
        "id": "WMLcZB9O6IMb",
        "outputId": "183ad271-eacc-4461-86bf-e2cb3a4635d8"
      },
      "source": [
        "validation_generator = validation_datagen.flow_from_directory(\n",
        "    '/content/drive/MyDrive/cat and dog/validation',\n",
        "      target_size=(150,150),batch_size=32,class_mode=\"binary\")"
      ],
      "execution_count": null,
      "outputs": [
        {
          "output_type": "stream",
          "text": [
            "Found 1000 images belonging to 2 classes.\n"
          ],
          "name": "stdout"
        }
      ]
    },
    {
      "cell_type": "code",
      "metadata": {
        "colab": {
          "base_uri": "https://localhost:8080/"
        },
        "id": "xvKJgjtv6Rx6",
        "outputId": "1af5be14-7f44-4f40-fd25-ec3431b4622f"
      },
      "source": [
        "history = model.fit_generator(\n",
        "train_generator,\n",
        "epochs=100,\n",
        "validation_data=validation_generator,\n",
        "validation_steps=32)"
      ],
      "execution_count": null,
      "outputs": [
        {
          "output_type": "stream",
          "text": [
            "/usr/local/lib/python3.7/dist-packages/keras/engine/training.py:1972: UserWarning: `Model.fit_generator` is deprecated and will be removed in a future version. Please use `Model.fit`, which supports generators.\n",
            "  warnings.warn('`Model.fit_generator` is deprecated and '\n"
          ],
          "name": "stderr"
        },
        {
          "output_type": "stream",
          "text": [
            "Epoch 1/100\n",
            "63/63 [==============================] - 26s 388ms/step - loss: 0.6943 - acc: 0.4930 - val_loss: 0.6874 - val_acc: 0.5700\n",
            "Epoch 2/100\n",
            "63/63 [==============================] - 24s 377ms/step - loss: 0.6870 - acc: 0.5370 - val_loss: 0.6760 - val_acc: 0.5730\n",
            "Epoch 3/100\n",
            "63/63 [==============================] - 24s 384ms/step - loss: 0.6791 - acc: 0.5755 - val_loss: 0.6753 - val_acc: 0.5600\n",
            "Epoch 4/100\n",
            "63/63 [==============================] - 24s 384ms/step - loss: 0.6645 - acc: 0.5900 - val_loss: 0.6561 - val_acc: 0.6140\n",
            "Epoch 5/100\n",
            "63/63 [==============================] - 24s 384ms/step - loss: 0.6452 - acc: 0.6360 - val_loss: 0.6560 - val_acc: 0.6160\n",
            "Epoch 6/100\n",
            "63/63 [==============================] - 24s 383ms/step - loss: 0.6500 - acc: 0.6280 - val_loss: 0.6425 - val_acc: 0.6360\n",
            "Epoch 7/100\n",
            "63/63 [==============================] - 24s 383ms/step - loss: 0.6368 - acc: 0.6290 - val_loss: 0.6377 - val_acc: 0.6310\n",
            "Epoch 8/100\n",
            "63/63 [==============================] - 24s 383ms/step - loss: 0.6241 - acc: 0.6480 - val_loss: 0.6772 - val_acc: 0.6040\n",
            "Epoch 9/100\n",
            "63/63 [==============================] - 24s 382ms/step - loss: 0.6201 - acc: 0.6495 - val_loss: 0.6134 - val_acc: 0.6610\n",
            "Epoch 10/100\n",
            "63/63 [==============================] - 24s 383ms/step - loss: 0.6182 - acc: 0.6455 - val_loss: 0.6012 - val_acc: 0.6780\n",
            "Epoch 11/100\n",
            "63/63 [==============================] - 24s 386ms/step - loss: 0.6098 - acc: 0.6565 - val_loss: 0.6172 - val_acc: 0.6890\n",
            "Epoch 12/100\n",
            "63/63 [==============================] - 24s 384ms/step - loss: 0.6035 - acc: 0.6585 - val_loss: 0.6595 - val_acc: 0.6350\n",
            "Epoch 13/100\n",
            "63/63 [==============================] - 24s 386ms/step - loss: 0.6032 - acc: 0.6785 - val_loss: 0.6253 - val_acc: 0.6670\n",
            "Epoch 14/100\n",
            "63/63 [==============================] - 24s 384ms/step - loss: 0.5855 - acc: 0.6850 - val_loss: 0.5909 - val_acc: 0.6950\n",
            "Epoch 15/100\n",
            "63/63 [==============================] - 24s 384ms/step - loss: 0.5938 - acc: 0.6815 - val_loss: 0.5933 - val_acc: 0.6920\n",
            "Epoch 16/100\n",
            "63/63 [==============================] - 24s 386ms/step - loss: 0.5821 - acc: 0.6855 - val_loss: 0.6030 - val_acc: 0.6940\n",
            "Epoch 17/100\n",
            "63/63 [==============================] - 24s 387ms/step - loss: 0.5808 - acc: 0.6910 - val_loss: 0.5713 - val_acc: 0.7100\n",
            "Epoch 18/100\n",
            "63/63 [==============================] - 24s 384ms/step - loss: 0.5868 - acc: 0.6800 - val_loss: 0.5817 - val_acc: 0.7030\n",
            "Epoch 19/100\n",
            "63/63 [==============================] - 24s 385ms/step - loss: 0.5788 - acc: 0.7005 - val_loss: 0.5666 - val_acc: 0.7170\n",
            "Epoch 20/100\n",
            "63/63 [==============================] - 24s 383ms/step - loss: 0.5695 - acc: 0.7035 - val_loss: 0.6855 - val_acc: 0.6240\n",
            "Epoch 21/100\n",
            "63/63 [==============================] - 24s 385ms/step - loss: 0.5702 - acc: 0.7010 - val_loss: 0.5608 - val_acc: 0.7170\n",
            "Epoch 22/100\n",
            "63/63 [==============================] - 24s 385ms/step - loss: 0.5663 - acc: 0.6960 - val_loss: 0.5922 - val_acc: 0.6700\n",
            "Epoch 23/100\n",
            "63/63 [==============================] - 24s 382ms/step - loss: 0.5583 - acc: 0.7040 - val_loss: 0.6064 - val_acc: 0.6680\n",
            "Epoch 24/100\n",
            "63/63 [==============================] - 24s 384ms/step - loss: 0.5613 - acc: 0.7075 - val_loss: 0.5814 - val_acc: 0.6940\n",
            "Epoch 25/100\n",
            "63/63 [==============================] - 24s 384ms/step - loss: 0.5600 - acc: 0.7140 - val_loss: 0.5573 - val_acc: 0.7240\n",
            "Epoch 26/100\n",
            "63/63 [==============================] - 24s 381ms/step - loss: 0.5639 - acc: 0.7085 - val_loss: 0.5447 - val_acc: 0.7250\n",
            "Epoch 27/100\n",
            "63/63 [==============================] - 24s 383ms/step - loss: 0.5615 - acc: 0.7160 - val_loss: 0.5321 - val_acc: 0.7400\n",
            "Epoch 28/100\n",
            "63/63 [==============================] - 24s 380ms/step - loss: 0.5438 - acc: 0.7140 - val_loss: 0.5623 - val_acc: 0.7220\n",
            "Epoch 29/100\n",
            "63/63 [==============================] - 24s 383ms/step - loss: 0.5443 - acc: 0.7255 - val_loss: 0.5711 - val_acc: 0.6930\n",
            "Epoch 30/100\n",
            "63/63 [==============================] - 24s 382ms/step - loss: 0.5459 - acc: 0.7100 - val_loss: 0.5721 - val_acc: 0.6990\n",
            "Epoch 31/100\n",
            "63/63 [==============================] - 24s 381ms/step - loss: 0.5459 - acc: 0.7215 - val_loss: 0.5355 - val_acc: 0.7250\n",
            "Epoch 32/100\n",
            "63/63 [==============================] - 24s 381ms/step - loss: 0.5389 - acc: 0.7245 - val_loss: 0.5354 - val_acc: 0.7330\n",
            "Epoch 33/100\n",
            "63/63 [==============================] - 24s 382ms/step - loss: 0.5271 - acc: 0.7340 - val_loss: 0.5412 - val_acc: 0.7270\n",
            "Epoch 34/100\n",
            "63/63 [==============================] - 24s 380ms/step - loss: 0.5369 - acc: 0.7300 - val_loss: 0.5373 - val_acc: 0.7450\n",
            "Epoch 35/100\n",
            "63/63 [==============================] - 24s 381ms/step - loss: 0.5344 - acc: 0.7260 - val_loss: 0.5310 - val_acc: 0.7290\n",
            "Epoch 36/100\n",
            "63/63 [==============================] - 24s 379ms/step - loss: 0.5243 - acc: 0.7375 - val_loss: 0.5368 - val_acc: 0.7430\n",
            "Epoch 37/100\n",
            "63/63 [==============================] - 24s 383ms/step - loss: 0.5213 - acc: 0.7415 - val_loss: 0.5383 - val_acc: 0.7190\n",
            "Epoch 38/100\n",
            "63/63 [==============================] - 24s 387ms/step - loss: 0.5262 - acc: 0.7370 - val_loss: 0.5258 - val_acc: 0.7350\n",
            "Epoch 39/100\n",
            "63/63 [==============================] - 24s 383ms/step - loss: 0.5282 - acc: 0.7385 - val_loss: 0.5300 - val_acc: 0.7300\n",
            "Epoch 40/100\n",
            "63/63 [==============================] - 24s 382ms/step - loss: 0.5247 - acc: 0.7270 - val_loss: 0.5161 - val_acc: 0.7610\n",
            "Epoch 41/100\n",
            "63/63 [==============================] - 24s 381ms/step - loss: 0.5253 - acc: 0.7290 - val_loss: 0.5905 - val_acc: 0.6900\n",
            "Epoch 42/100\n",
            "63/63 [==============================] - 24s 383ms/step - loss: 0.5101 - acc: 0.7390 - val_loss: 0.5051 - val_acc: 0.7510\n",
            "Epoch 43/100\n",
            "63/63 [==============================] - 24s 380ms/step - loss: 0.5156 - acc: 0.7390 - val_loss: 0.5064 - val_acc: 0.7510\n",
            "Epoch 44/100\n",
            "63/63 [==============================] - 24s 382ms/step - loss: 0.5198 - acc: 0.7305 - val_loss: 0.5341 - val_acc: 0.7370\n",
            "Epoch 45/100\n",
            "63/63 [==============================] - 25s 399ms/step - loss: 0.5060 - acc: 0.7505 - val_loss: 0.4956 - val_acc: 0.7590\n",
            "Epoch 46/100\n",
            "63/63 [==============================] - 24s 381ms/step - loss: 0.5167 - acc: 0.7430 - val_loss: 0.5384 - val_acc: 0.7260\n",
            "Epoch 47/100\n",
            "63/63 [==============================] - 24s 381ms/step - loss: 0.5117 - acc: 0.7400 - val_loss: 0.5418 - val_acc: 0.7300\n",
            "Epoch 48/100\n",
            "63/63 [==============================] - 24s 381ms/step - loss: 0.5020 - acc: 0.7595 - val_loss: 0.5409 - val_acc: 0.7310\n",
            "Epoch 49/100\n",
            "63/63 [==============================] - 24s 382ms/step - loss: 0.4959 - acc: 0.7655 - val_loss: 0.4970 - val_acc: 0.7710\n",
            "Epoch 50/100\n",
            "63/63 [==============================] - 24s 383ms/step - loss: 0.4937 - acc: 0.7495 - val_loss: 0.5454 - val_acc: 0.7190\n",
            "Epoch 51/100\n",
            "63/63 [==============================] - 24s 384ms/step - loss: 0.5089 - acc: 0.7410 - val_loss: 0.4928 - val_acc: 0.7620\n",
            "Epoch 52/100\n",
            "63/63 [==============================] - 24s 382ms/step - loss: 0.5080 - acc: 0.7570 - val_loss: 0.5163 - val_acc: 0.7510\n",
            "Epoch 53/100\n",
            "63/63 [==============================] - 24s 381ms/step - loss: 0.4921 - acc: 0.7500 - val_loss: 0.5064 - val_acc: 0.7560\n",
            "Epoch 54/100\n",
            "63/63 [==============================] - 24s 382ms/step - loss: 0.4811 - acc: 0.7710 - val_loss: 0.4913 - val_acc: 0.7640\n",
            "Epoch 55/100\n",
            "63/63 [==============================] - 24s 384ms/step - loss: 0.4896 - acc: 0.7575 - val_loss: 0.5763 - val_acc: 0.7150\n",
            "Epoch 56/100\n",
            "63/63 [==============================] - 24s 381ms/step - loss: 0.4899 - acc: 0.7580 - val_loss: 0.5200 - val_acc: 0.7350\n",
            "Epoch 57/100\n",
            "63/63 [==============================] - 24s 383ms/step - loss: 0.4987 - acc: 0.7470 - val_loss: 0.5990 - val_acc: 0.7200\n",
            "Epoch 58/100\n",
            "63/63 [==============================] - 24s 383ms/step - loss: 0.4790 - acc: 0.7715 - val_loss: 0.5353 - val_acc: 0.7410\n",
            "Epoch 59/100\n",
            "63/63 [==============================] - 24s 384ms/step - loss: 0.4960 - acc: 0.7570 - val_loss: 0.5131 - val_acc: 0.7520\n",
            "Epoch 60/100\n",
            "63/63 [==============================] - 24s 382ms/step - loss: 0.4888 - acc: 0.7535 - val_loss: 0.4923 - val_acc: 0.7580\n",
            "Epoch 61/100\n",
            "63/63 [==============================] - 24s 382ms/step - loss: 0.4744 - acc: 0.7770 - val_loss: 0.4862 - val_acc: 0.7620\n",
            "Epoch 62/100\n",
            "63/63 [==============================] - 24s 385ms/step - loss: 0.4732 - acc: 0.7650 - val_loss: 0.5203 - val_acc: 0.7470\n",
            "Epoch 63/100\n",
            "63/63 [==============================] - 24s 388ms/step - loss: 0.4782 - acc: 0.7610 - val_loss: 0.4965 - val_acc: 0.7670\n",
            "Epoch 64/100\n",
            "63/63 [==============================] - 24s 384ms/step - loss: 0.4825 - acc: 0.7660 - val_loss: 0.4986 - val_acc: 0.7600\n",
            "Epoch 65/100\n",
            "63/63 [==============================] - 24s 385ms/step - loss: 0.4782 - acc: 0.7710 - val_loss: 0.5990 - val_acc: 0.7280\n",
            "Epoch 66/100\n",
            "63/63 [==============================] - 24s 387ms/step - loss: 0.4739 - acc: 0.7705 - val_loss: 0.5777 - val_acc: 0.7140\n",
            "Epoch 67/100\n",
            "63/63 [==============================] - 25s 392ms/step - loss: 0.4845 - acc: 0.7685 - val_loss: 0.4889 - val_acc: 0.7600\n",
            "Epoch 68/100\n",
            "63/63 [==============================] - 24s 388ms/step - loss: 0.4792 - acc: 0.7770 - val_loss: 0.4699 - val_acc: 0.7650\n",
            "Epoch 69/100\n",
            "63/63 [==============================] - 24s 389ms/step - loss: 0.4599 - acc: 0.7745 - val_loss: 0.5843 - val_acc: 0.7300\n",
            "Epoch 70/100\n",
            "63/63 [==============================] - 24s 384ms/step - loss: 0.4645 - acc: 0.7755 - val_loss: 0.4934 - val_acc: 0.7580\n",
            "Epoch 71/100\n",
            "63/63 [==============================] - 24s 387ms/step - loss: 0.4653 - acc: 0.7675 - val_loss: 0.5913 - val_acc: 0.7140\n",
            "Epoch 72/100\n",
            "63/63 [==============================] - 24s 386ms/step - loss: 0.4641 - acc: 0.7705 - val_loss: 0.5122 - val_acc: 0.7600\n",
            "Epoch 73/100\n",
            "63/63 [==============================] - 24s 384ms/step - loss: 0.4509 - acc: 0.7950 - val_loss: 0.5256 - val_acc: 0.7490\n",
            "Epoch 74/100\n",
            "63/63 [==============================] - 24s 385ms/step - loss: 0.4686 - acc: 0.7735 - val_loss: 0.4931 - val_acc: 0.7630\n",
            "Epoch 75/100\n",
            "63/63 [==============================] - 24s 389ms/step - loss: 0.4635 - acc: 0.7730 - val_loss: 0.4737 - val_acc: 0.7820\n",
            "Epoch 76/100\n",
            "63/63 [==============================] - 24s 389ms/step - loss: 0.4590 - acc: 0.7815 - val_loss: 0.4756 - val_acc: 0.7680\n",
            "Epoch 77/100\n",
            "63/63 [==============================] - 24s 387ms/step - loss: 0.4657 - acc: 0.7740 - val_loss: 0.5223 - val_acc: 0.7630\n",
            "Epoch 78/100\n",
            "63/63 [==============================] - 24s 387ms/step - loss: 0.4434 - acc: 0.7845 - val_loss: 0.4688 - val_acc: 0.7700\n",
            "Epoch 79/100\n",
            "63/63 [==============================] - 24s 389ms/step - loss: 0.4422 - acc: 0.7910 - val_loss: 0.4932 - val_acc: 0.7650\n",
            "Epoch 80/100\n",
            "63/63 [==============================] - 24s 386ms/step - loss: 0.4508 - acc: 0.7800 - val_loss: 0.5839 - val_acc: 0.7400\n",
            "Epoch 81/100\n",
            "63/63 [==============================] - 25s 390ms/step - loss: 0.4424 - acc: 0.7975 - val_loss: 0.4789 - val_acc: 0.7630\n",
            "Epoch 82/100\n",
            "63/63 [==============================] - 24s 387ms/step - loss: 0.4380 - acc: 0.7970 - val_loss: 0.4695 - val_acc: 0.7760\n",
            "Epoch 83/100\n",
            "63/63 [==============================] - 24s 387ms/step - loss: 0.4433 - acc: 0.7790 - val_loss: 0.4906 - val_acc: 0.7570\n",
            "Epoch 84/100\n",
            "63/63 [==============================] - 24s 387ms/step - loss: 0.4465 - acc: 0.7895 - val_loss: 0.4892 - val_acc: 0.7670\n",
            "Epoch 85/100\n",
            "63/63 [==============================] - 24s 389ms/step - loss: 0.4292 - acc: 0.8040 - val_loss: 0.4761 - val_acc: 0.7720\n",
            "Epoch 86/100\n",
            "63/63 [==============================] - 24s 388ms/step - loss: 0.4481 - acc: 0.7880 - val_loss: 0.4915 - val_acc: 0.7640\n",
            "Epoch 87/100\n",
            "63/63 [==============================] - 24s 389ms/step - loss: 0.4512 - acc: 0.7810 - val_loss: 0.4542 - val_acc: 0.7800\n",
            "Epoch 88/100\n",
            "63/63 [==============================] - 25s 389ms/step - loss: 0.4394 - acc: 0.7920 - val_loss: 0.4866 - val_acc: 0.7750\n",
            "Epoch 89/100\n",
            "63/63 [==============================] - 24s 386ms/step - loss: 0.4253 - acc: 0.8045 - val_loss: 0.4836 - val_acc: 0.7680\n",
            "Epoch 90/100\n",
            "63/63 [==============================] - 24s 384ms/step - loss: 0.4456 - acc: 0.7840 - val_loss: 0.4574 - val_acc: 0.7890\n",
            "Epoch 91/100\n",
            "63/63 [==============================] - 24s 386ms/step - loss: 0.4325 - acc: 0.7985 - val_loss: 0.5041 - val_acc: 0.7690\n",
            "Epoch 92/100\n",
            "63/63 [==============================] - 24s 383ms/step - loss: 0.4394 - acc: 0.7915 - val_loss: 0.5237 - val_acc: 0.7550\n",
            "Epoch 93/100\n",
            "63/63 [==============================] - 24s 388ms/step - loss: 0.4342 - acc: 0.7930 - val_loss: 0.4489 - val_acc: 0.7880\n",
            "Epoch 94/100\n",
            "63/63 [==============================] - 24s 386ms/step - loss: 0.4205 - acc: 0.8035 - val_loss: 0.4910 - val_acc: 0.7720\n",
            "Epoch 95/100\n",
            "63/63 [==============================] - 25s 390ms/step - loss: 0.4135 - acc: 0.8090 - val_loss: 0.4830 - val_acc: 0.7730\n",
            "Epoch 96/100\n",
            "63/63 [==============================] - 24s 386ms/step - loss: 0.4422 - acc: 0.7910 - val_loss: 0.5569 - val_acc: 0.7510\n",
            "Epoch 97/100\n",
            "63/63 [==============================] - 24s 385ms/step - loss: 0.4256 - acc: 0.8060 - val_loss: 0.4947 - val_acc: 0.7620\n",
            "Epoch 98/100\n",
            "63/63 [==============================] - 24s 385ms/step - loss: 0.4217 - acc: 0.7975 - val_loss: 0.4936 - val_acc: 0.7660\n",
            "Epoch 99/100\n",
            "63/63 [==============================] - 24s 384ms/step - loss: 0.4338 - acc: 0.8040 - val_loss: 0.4527 - val_acc: 0.7870\n",
            "Epoch 100/100\n",
            "63/63 [==============================] - 24s 388ms/step - loss: 0.4078 - acc: 0.8075 - val_loss: 0.5311 - val_acc: 0.7570\n"
          ],
          "name": "stdout"
        }
      ]
    },
    {
      "cell_type": "code",
      "metadata": {
        "colab": {
          "base_uri": "https://localhost:8080/",
          "height": 545
        },
        "id": "R2-QghqI6g6z",
        "outputId": "3ba15f5f-7267-43c0-f86a-c3fae57f5cd1"
      },
      "source": [
        "import matplotlib.pyplot as plt\n",
        "acc = history.history['acc']\n",
        "val_acc = history.history['val_acc']\n",
        "loss = history.history['loss']\n",
        "val_loss = history.history['val_loss']\n",
        "epochs = range(1, len(acc) + 1)\n",
        "plt.plot(epochs, acc, 'bo', label='Training acc')\n",
        "plt.plot(epochs, val_acc, 'b', label='Validation acc')\n",
        "plt.title('Training and validation accuracy')\n",
        "plt.legend()\n",
        "plt.figure()\n",
        "plt.plot(epochs, loss, 'bo', label='Training loss')\n",
        "plt.plot(epochs, val_loss, 'b', label='Validation loss')\n",
        "plt.title('Training and validation loss')\n",
        "plt.legend()\n",
        "plt.show()"
      ],
      "execution_count": null,
      "outputs": [
        {
          "output_type": "display_data",
          "data": {
            "image/png": "[encoded data removed]",
            "text/plain": [
              "<Figure size 432x288 with 1 Axes>"
            ]
          },
          "metadata": {
            "needs_background": "light"
          }
        },
        {
          "output_type": "display_data",
          "data": {
            "image/png": "[encoded data removed]",
            "text/plain": [
              "<Figure size 432x288 with 1 Axes>"
            ]
          },
          "metadata": {
            "needs_background": "light"
          }
        }
      ]
    },
    {
      "cell_type": "code",
      "metadata": {
        "id": "gje5kgRl9VST"
      },
      "source": [
        ""
      ],
      "execution_count": null,
      "outputs": []
    }
  ]
}