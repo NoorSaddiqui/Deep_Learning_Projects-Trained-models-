{
 "cells": [
  {
   "cell_type": "code",
   "execution_count": 1,
   "id": "39501e37",
   "metadata": {},
   "outputs": [],
   "source": [
    "import tensorflow as tf\n",
    "import pandas as pd\n",
    "import numpy as np\n",
    "import matplotlib.pyplot as plt\n",
    "import keras\n",
    "from keras.models import Sequential\n",
    "from keras.layers import Dense\n",
    "from sklearn.metrics import confusion_matrix\n"
   ]
  },
  {
   "cell_type": "code",
   "execution_count": 2,
   "id": "ab5f2adc",
   "metadata": {},
   "outputs": [],
   "source": [
    "import pandas as pd\n",
    "data = pd.read_excel(\"TOTAL DATA.xlsx\")"
   ]
  },
  {
   "cell_type": "code",
   "execution_count": 3,
   "id": "82bbe033",
   "metadata": {},
   "outputs": [
    {
     "data": {
      "text/html": [
       "<div>\n",
       "<style scoped>\n",
       "    .dataframe tbody tr th:only-of-type {\n",
       "        vertical-align: middle;\n",
       "    }\n",
       "\n",
       "    .dataframe tbody tr th {\n",
       "        vertical-align: top;\n",
       "    }\n",
       "\n",
       "    .dataframe thead th {\n",
       "        text-align: right;\n",
       "    }\n",
       "</style>\n",
       "<table border=\"1\" class=\"dataframe\">\n",
       "  <thead>\n",
       "    <tr style=\"text-align: right;\">\n",
       "      <th></th>\n",
       "      <th>open</th>\n",
       "      <th>high</th>\n",
       "      <th>low</th>\n",
       "      <th>close</th>\n",
       "      <th>EMA 20</th>\n",
       "      <th>EMA 50</th>\n",
       "      <th>EMA 100</th>\n",
       "      <th>EMA200</th>\n",
       "      <th>Output</th>\n",
       "    </tr>\n",
       "  </thead>\n",
       "  <tbody>\n",
       "    <tr>\n",
       "      <th>0</th>\n",
       "      <td>1.12</td>\n",
       "      <td>1.299</td>\n",
       "      <td>1.192</td>\n",
       "      <td>1.22</td>\n",
       "      <td>1.0</td>\n",
       "      <td>1</td>\n",
       "      <td>1</td>\n",
       "      <td>1</td>\n",
       "      <td>1</td>\n",
       "    </tr>\n",
       "    <tr>\n",
       "      <th>1</th>\n",
       "      <td>1.24</td>\n",
       "      <td>1.320</td>\n",
       "      <td>1.177</td>\n",
       "      <td>1.22</td>\n",
       "      <td>1.0</td>\n",
       "      <td>1</td>\n",
       "      <td>1</td>\n",
       "      <td>1</td>\n",
       "      <td>2</td>\n",
       "    </tr>\n",
       "    <tr>\n",
       "      <th>2</th>\n",
       "      <td>1.22</td>\n",
       "      <td>1.230</td>\n",
       "      <td>1.087</td>\n",
       "      <td>1.10</td>\n",
       "      <td>1.0</td>\n",
       "      <td>1</td>\n",
       "      <td>1</td>\n",
       "      <td>1</td>\n",
       "      <td>0</td>\n",
       "    </tr>\n",
       "    <tr>\n",
       "      <th>3</th>\n",
       "      <td>1.08</td>\n",
       "      <td>1.153</td>\n",
       "      <td>1.047</td>\n",
       "      <td>1.12</td>\n",
       "      <td>1.0</td>\n",
       "      <td>1</td>\n",
       "      <td>1</td>\n",
       "      <td>1</td>\n",
       "      <td>0</td>\n",
       "    </tr>\n",
       "    <tr>\n",
       "      <th>4</th>\n",
       "      <td>1.12</td>\n",
       "      <td>1.167</td>\n",
       "      <td>1.063</td>\n",
       "      <td>1.08</td>\n",
       "      <td>1.0</td>\n",
       "      <td>1</td>\n",
       "      <td>1</td>\n",
       "      <td>1</td>\n",
       "      <td>1</td>\n",
       "    </tr>\n",
       "    <tr>\n",
       "      <th>...</th>\n",
       "      <td>...</td>\n",
       "      <td>...</td>\n",
       "      <td>...</td>\n",
       "      <td>...</td>\n",
       "      <td>...</td>\n",
       "      <td>...</td>\n",
       "      <td>...</td>\n",
       "      <td>...</td>\n",
       "      <td>...</td>\n",
       "    </tr>\n",
       "    <tr>\n",
       "      <th>1307</th>\n",
       "      <td>3.18</td>\n",
       "      <td>3.380</td>\n",
       "      <td>3.170</td>\n",
       "      <td>3.37</td>\n",
       "      <td>1.0</td>\n",
       "      <td>1</td>\n",
       "      <td>1</td>\n",
       "      <td>1</td>\n",
       "      <td>2</td>\n",
       "    </tr>\n",
       "    <tr>\n",
       "      <th>1308</th>\n",
       "      <td>3.37</td>\n",
       "      <td>3.400</td>\n",
       "      <td>3.200</td>\n",
       "      <td>3.26</td>\n",
       "      <td>1.0</td>\n",
       "      <td>1</td>\n",
       "      <td>1</td>\n",
       "      <td>1</td>\n",
       "      <td>1</td>\n",
       "    </tr>\n",
       "    <tr>\n",
       "      <th>1309</th>\n",
       "      <td>3.26</td>\n",
       "      <td>3.720</td>\n",
       "      <td>3.260</td>\n",
       "      <td>3.54</td>\n",
       "      <td>1.0</td>\n",
       "      <td>1</td>\n",
       "      <td>1</td>\n",
       "      <td>1</td>\n",
       "      <td>2</td>\n",
       "    </tr>\n",
       "    <tr>\n",
       "      <th>1310</th>\n",
       "      <td>3.54</td>\n",
       "      <td>3.940</td>\n",
       "      <td>3.530</td>\n",
       "      <td>3.80</td>\n",
       "      <td>1.0</td>\n",
       "      <td>1</td>\n",
       "      <td>1</td>\n",
       "      <td>1</td>\n",
       "      <td>2</td>\n",
       "    </tr>\n",
       "    <tr>\n",
       "      <th>1311</th>\n",
       "      <td>3.80</td>\n",
       "      <td>3.900</td>\n",
       "      <td>3.660</td>\n",
       "      <td>3.79</td>\n",
       "      <td>1.0</td>\n",
       "      <td>1</td>\n",
       "      <td>1</td>\n",
       "      <td>1</td>\n",
       "      <td>0</td>\n",
       "    </tr>\n",
       "  </tbody>\n",
       "</table>\n",
       "<p>1312 rows × 9 columns</p>\n",
       "</div>"
      ],
      "text/plain": [
       "      open   high    low  close  EMA 20  EMA 50  EMA 100  EMA200  Output\n",
       "0     1.12  1.299  1.192   1.22     1.0       1        1       1       1\n",
       "1     1.24  1.320  1.177   1.22     1.0       1        1       1       2\n",
       "2     1.22  1.230  1.087   1.10     1.0       1        1       1       0\n",
       "3     1.08  1.153  1.047   1.12     1.0       1        1       1       0\n",
       "4     1.12  1.167  1.063   1.08     1.0       1        1       1       1\n",
       "...    ...    ...    ...    ...     ...     ...      ...     ...     ...\n",
       "1307  3.18  3.380  3.170   3.37     1.0       1        1       1       2\n",
       "1308  3.37  3.400  3.200   3.26     1.0       1        1       1       1\n",
       "1309  3.26  3.720  3.260   3.54     1.0       1        1       1       2\n",
       "1310  3.54  3.940  3.530   3.80     1.0       1        1       1       2\n",
       "1311  3.80  3.900  3.660   3.79     1.0       1        1       1       0\n",
       "\n",
       "[1312 rows x 9 columns]"
      ]
     },
     "execution_count": 3,
     "metadata": {},
     "output_type": "execute_result"
    }
   ],
   "source": [
    "data"
   ]
  },
  {
   "cell_type": "code",
   "execution_count": 4,
   "id": "e7241085",
   "metadata": {},
   "outputs": [
    {
     "name": "stdout",
     "output_type": "stream",
     "text": [
      "<class 'pandas.core.frame.DataFrame'>\n",
      "RangeIndex: 1312 entries, 0 to 1311\n",
      "Data columns (total 9 columns):\n",
      " #   Column   Non-Null Count  Dtype  \n",
      "---  ------   --------------  -----  \n",
      " 0   open     1312 non-null   float64\n",
      " 1   high     1312 non-null   float64\n",
      " 2   low      1312 non-null   float64\n",
      " 3   close    1312 non-null   float64\n",
      " 4   EMA 20   1312 non-null   float64\n",
      " 5   EMA 50   1312 non-null   int64  \n",
      " 6   EMA 100  1312 non-null   int64  \n",
      " 7   EMA200   1312 non-null   int64  \n",
      " 8   Output   1312 non-null   int64  \n",
      "dtypes: float64(5), int64(4)\n",
      "memory usage: 92.4 KB\n"
     ]
    }
   ],
   "source": [
    "data.info()"
   ]
  },
  {
   "cell_type": "code",
   "execution_count": 5,
   "id": "0143f3ee",
   "metadata": {},
   "outputs": [
    {
     "data": {
      "text/html": [
       "<div>\n",
       "<style scoped>\n",
       "    .dataframe tbody tr th:only-of-type {\n",
       "        vertical-align: middle;\n",
       "    }\n",
       "\n",
       "    .dataframe tbody tr th {\n",
       "        vertical-align: top;\n",
       "    }\n",
       "\n",
       "    .dataframe thead th {\n",
       "        text-align: right;\n",
       "    }\n",
       "</style>\n",
       "<table border=\"1\" class=\"dataframe\">\n",
       "  <thead>\n",
       "    <tr style=\"text-align: right;\">\n",
       "      <th></th>\n",
       "      <th>open</th>\n",
       "      <th>high</th>\n",
       "      <th>low</th>\n",
       "      <th>close</th>\n",
       "      <th>EMA 20</th>\n",
       "      <th>EMA 50</th>\n",
       "      <th>EMA 100</th>\n",
       "      <th>EMA200</th>\n",
       "      <th>Output</th>\n",
       "    </tr>\n",
       "  </thead>\n",
       "  <tbody>\n",
       "    <tr>\n",
       "      <th>count</th>\n",
       "      <td>1312.000000</td>\n",
       "      <td>1312.000000</td>\n",
       "      <td>1312.000000</td>\n",
       "      <td>1312.000000</td>\n",
       "      <td>1312.000000</td>\n",
       "      <td>1312.000000</td>\n",
       "      <td>1312.000000</td>\n",
       "      <td>1312.000000</td>\n",
       "      <td>1312.000000</td>\n",
       "    </tr>\n",
       "    <tr>\n",
       "      <th>mean</th>\n",
       "      <td>1.074419</td>\n",
       "      <td>1.126722</td>\n",
       "      <td>1.029415</td>\n",
       "      <td>1.079681</td>\n",
       "      <td>0.625093</td>\n",
       "      <td>0.669207</td>\n",
       "      <td>0.708079</td>\n",
       "      <td>0.757622</td>\n",
       "      <td>1.009909</td>\n",
       "    </tr>\n",
       "    <tr>\n",
       "      <th>std</th>\n",
       "      <td>0.854588</td>\n",
       "      <td>0.891333</td>\n",
       "      <td>0.824130</td>\n",
       "      <td>0.858665</td>\n",
       "      <td>0.484199</td>\n",
       "      <td>0.470678</td>\n",
       "      <td>0.454819</td>\n",
       "      <td>0.428685</td>\n",
       "      <td>0.791291</td>\n",
       "    </tr>\n",
       "    <tr>\n",
       "      <th>min</th>\n",
       "      <td>0.050000</td>\n",
       "      <td>0.053333</td>\n",
       "      <td>0.050000</td>\n",
       "      <td>0.050000</td>\n",
       "      <td>0.000000</td>\n",
       "      <td>0.000000</td>\n",
       "      <td>0.000000</td>\n",
       "      <td>0.000000</td>\n",
       "      <td>0.000000</td>\n",
       "    </tr>\n",
       "    <tr>\n",
       "      <th>25%</th>\n",
       "      <td>0.385000</td>\n",
       "      <td>0.410000</td>\n",
       "      <td>0.366250</td>\n",
       "      <td>0.385000</td>\n",
       "      <td>0.000000</td>\n",
       "      <td>0.000000</td>\n",
       "      <td>0.000000</td>\n",
       "      <td>1.000000</td>\n",
       "      <td>0.000000</td>\n",
       "    </tr>\n",
       "    <tr>\n",
       "      <th>50%</th>\n",
       "      <td>0.870000</td>\n",
       "      <td>0.920000</td>\n",
       "      <td>0.825000</td>\n",
       "      <td>0.875000</td>\n",
       "      <td>1.000000</td>\n",
       "      <td>1.000000</td>\n",
       "      <td>1.000000</td>\n",
       "      <td>1.000000</td>\n",
       "      <td>1.000000</td>\n",
       "    </tr>\n",
       "    <tr>\n",
       "      <th>75%</th>\n",
       "      <td>1.582500</td>\n",
       "      <td>1.661250</td>\n",
       "      <td>1.525416</td>\n",
       "      <td>1.600000</td>\n",
       "      <td>1.000000</td>\n",
       "      <td>1.000000</td>\n",
       "      <td>1.000000</td>\n",
       "      <td>1.000000</td>\n",
       "      <td>2.000000</td>\n",
       "    </tr>\n",
       "    <tr>\n",
       "      <th>max</th>\n",
       "      <td>3.800000</td>\n",
       "      <td>3.966663</td>\n",
       "      <td>3.660000</td>\n",
       "      <td>3.800000</td>\n",
       "      <td>1.000000</td>\n",
       "      <td>1.000000</td>\n",
       "      <td>1.000000</td>\n",
       "      <td>1.000000</td>\n",
       "      <td>2.000000</td>\n",
       "    </tr>\n",
       "  </tbody>\n",
       "</table>\n",
       "</div>"
      ],
      "text/plain": [
       "              open         high          low        close       EMA 20  \\\n",
       "count  1312.000000  1312.000000  1312.000000  1312.000000  1312.000000   \n",
       "mean      1.074419     1.126722     1.029415     1.079681     0.625093   \n",
       "std       0.854588     0.891333     0.824130     0.858665     0.484199   \n",
       "min       0.050000     0.053333     0.050000     0.050000     0.000000   \n",
       "25%       0.385000     0.410000     0.366250     0.385000     0.000000   \n",
       "50%       0.870000     0.920000     0.825000     0.875000     1.000000   \n",
       "75%       1.582500     1.661250     1.525416     1.600000     1.000000   \n",
       "max       3.800000     3.966663     3.660000     3.800000     1.000000   \n",
       "\n",
       "            EMA 50      EMA 100       EMA200       Output  \n",
       "count  1312.000000  1312.000000  1312.000000  1312.000000  \n",
       "mean      0.669207     0.708079     0.757622     1.009909  \n",
       "std       0.470678     0.454819     0.428685     0.791291  \n",
       "min       0.000000     0.000000     0.000000     0.000000  \n",
       "25%       0.000000     0.000000     1.000000     0.000000  \n",
       "50%       1.000000     1.000000     1.000000     1.000000  \n",
       "75%       1.000000     1.000000     1.000000     2.000000  \n",
       "max       1.000000     1.000000     1.000000     2.000000  "
      ]
     },
     "execution_count": 5,
     "metadata": {},
     "output_type": "execute_result"
    }
   ],
   "source": [
    "data.describe()"
   ]
  },
  {
   "cell_type": "code",
   "execution_count": 6,
   "id": "05c37f6e",
   "metadata": {},
   "outputs": [
    {
     "data": {
      "text/plain": [
       "open       False\n",
       "high       False\n",
       "low        False\n",
       "close      False\n",
       "EMA 20     False\n",
       "EMA 50     False\n",
       "EMA 100    False\n",
       "EMA200     False\n",
       "Output     False\n",
       "dtype: bool"
      ]
     },
     "execution_count": 6,
     "metadata": {},
     "output_type": "execute_result"
    }
   ],
   "source": [
    "data.isnull().any()"
   ]
  },
  {
   "cell_type": "code",
   "execution_count": 7,
   "id": "b3c5cced",
   "metadata": {},
   "outputs": [
    {
     "data": {
      "text/plain": [
       "Index(['open', 'high', 'low', 'close', 'EMA 20', 'EMA 50', 'EMA 100', 'EMA200',\n",
       "       'Output'],\n",
       "      dtype='object')"
      ]
     },
     "execution_count": 7,
     "metadata": {},
     "output_type": "execute_result"
    }
   ],
   "source": [
    "data.columns"
   ]
  },
  {
   "cell_type": "code",
   "execution_count": 18,
   "id": "31fc49e4",
   "metadata": {},
   "outputs": [
    {
     "name": "stdout",
     "output_type": "stream",
     "text": [
      "2\n",
      "2\n",
      "2\n"
     ]
    },
    {
     "data": {
      "text/plain": [
       "3"
      ]
     },
     "execution_count": 18,
     "metadata": {},
     "output_type": "execute_result"
    }
   ],
   "source": [
    "print(data['EMA 50'].nunique())\n",
    "print(data['EMA 100'].nunique())\n",
    "print(data['EMA200'].nunique())\n",
    "\n",
    "#print(data['low'].nunique())\n",
    "\n",
    "data['EMA 20'].nunique()"
   ]
  },
  {
   "cell_type": "code",
   "execution_count": 21,
   "id": "028777e0",
   "metadata": {},
   "outputs": [
    {
     "data": {
      "text/html": [
       "<div>\n",
       "<style scoped>\n",
       "    .dataframe tbody tr th:only-of-type {\n",
       "        vertical-align: middle;\n",
       "    }\n",
       "\n",
       "    .dataframe tbody tr th {\n",
       "        vertical-align: top;\n",
       "    }\n",
       "\n",
       "    .dataframe thead th {\n",
       "        text-align: right;\n",
       "    }\n",
       "</style>\n",
       "<table border=\"1\" class=\"dataframe\">\n",
       "  <thead>\n",
       "    <tr style=\"text-align: right;\">\n",
       "      <th></th>\n",
       "      <th>open</th>\n",
       "      <th>high</th>\n",
       "      <th>low</th>\n",
       "      <th>close</th>\n",
       "      <th>Output</th>\n",
       "    </tr>\n",
       "  </thead>\n",
       "  <tbody>\n",
       "    <tr>\n",
       "      <th>0</th>\n",
       "      <td>1.12</td>\n",
       "      <td>1.299</td>\n",
       "      <td>1.192</td>\n",
       "      <td>1.22</td>\n",
       "      <td>1</td>\n",
       "    </tr>\n",
       "    <tr>\n",
       "      <th>1</th>\n",
       "      <td>1.24</td>\n",
       "      <td>1.320</td>\n",
       "      <td>1.177</td>\n",
       "      <td>1.22</td>\n",
       "      <td>2</td>\n",
       "    </tr>\n",
       "    <tr>\n",
       "      <th>2</th>\n",
       "      <td>1.22</td>\n",
       "      <td>1.230</td>\n",
       "      <td>1.087</td>\n",
       "      <td>1.10</td>\n",
       "      <td>0</td>\n",
       "    </tr>\n",
       "    <tr>\n",
       "      <th>3</th>\n",
       "      <td>1.08</td>\n",
       "      <td>1.153</td>\n",
       "      <td>1.047</td>\n",
       "      <td>1.12</td>\n",
       "      <td>0</td>\n",
       "    </tr>\n",
       "    <tr>\n",
       "      <th>4</th>\n",
       "      <td>1.12</td>\n",
       "      <td>1.167</td>\n",
       "      <td>1.063</td>\n",
       "      <td>1.08</td>\n",
       "      <td>1</td>\n",
       "    </tr>\n",
       "  </tbody>\n",
       "</table>\n",
       "</div>"
      ],
      "text/plain": [
       "   open   high    low  close  Output\n",
       "0  1.12  1.299  1.192   1.22       1\n",
       "1  1.24  1.320  1.177   1.22       2\n",
       "2  1.22  1.230  1.087   1.10       0\n",
       "3  1.08  1.153  1.047   1.12       0\n",
       "4  1.12  1.167  1.063   1.08       1"
      ]
     },
     "execution_count": 21,
     "metadata": {},
     "output_type": "execute_result"
    }
   ],
   "source": [
    "da=data.drop(columns=['EMA 20','EMA 50','EMA 100','EMA200'])\n",
    "da.head()"
   ]
  },
  {
   "cell_type": "code",
   "execution_count": 22,
   "id": "81e0532a",
   "metadata": {},
   "outputs": [
    {
     "name": "stdout",
     "output_type": "stream",
     "text": [
      "<class 'pandas.core.frame.DataFrame'>\n",
      "RangeIndex: 1312 entries, 0 to 1311\n",
      "Data columns (total 5 columns):\n",
      " #   Column  Non-Null Count  Dtype  \n",
      "---  ------  --------------  -----  \n",
      " 0   open    1312 non-null   float64\n",
      " 1   high    1312 non-null   float64\n",
      " 2   low     1312 non-null   float64\n",
      " 3   close   1312 non-null   float64\n",
      " 4   Output  1312 non-null   int64  \n",
      "dtypes: float64(4), int64(1)\n",
      "memory usage: 51.4 KB\n"
     ]
    }
   ],
   "source": [
    "da.info()"
   ]
  },
  {
   "cell_type": "code",
   "execution_count": 24,
   "id": "44988578",
   "metadata": {},
   "outputs": [
    {
     "data": {
      "text/html": [
       "<div>\n",
       "<style scoped>\n",
       "    .dataframe tbody tr th:only-of-type {\n",
       "        vertical-align: middle;\n",
       "    }\n",
       "\n",
       "    .dataframe tbody tr th {\n",
       "        vertical-align: top;\n",
       "    }\n",
       "\n",
       "    .dataframe thead th {\n",
       "        text-align: right;\n",
       "    }\n",
       "</style>\n",
       "<table border=\"1\" class=\"dataframe\">\n",
       "  <thead>\n",
       "    <tr style=\"text-align: right;\">\n",
       "      <th></th>\n",
       "      <th>open</th>\n",
       "      <th>high</th>\n",
       "      <th>low</th>\n",
       "      <th>close</th>\n",
       "      <th>Output</th>\n",
       "    </tr>\n",
       "  </thead>\n",
       "  <tbody>\n",
       "    <tr>\n",
       "      <th>count</th>\n",
       "      <td>1312.000000</td>\n",
       "      <td>1312.000000</td>\n",
       "      <td>1312.000000</td>\n",
       "      <td>1312.000000</td>\n",
       "      <td>1312.000000</td>\n",
       "    </tr>\n",
       "    <tr>\n",
       "      <th>mean</th>\n",
       "      <td>1.074419</td>\n",
       "      <td>1.126722</td>\n",
       "      <td>1.029415</td>\n",
       "      <td>1.079681</td>\n",
       "      <td>1.009909</td>\n",
       "    </tr>\n",
       "    <tr>\n",
       "      <th>std</th>\n",
       "      <td>0.854588</td>\n",
       "      <td>0.891333</td>\n",
       "      <td>0.824130</td>\n",
       "      <td>0.858665</td>\n",
       "      <td>0.791291</td>\n",
       "    </tr>\n",
       "    <tr>\n",
       "      <th>min</th>\n",
       "      <td>0.050000</td>\n",
       "      <td>0.053333</td>\n",
       "      <td>0.050000</td>\n",
       "      <td>0.050000</td>\n",
       "      <td>0.000000</td>\n",
       "    </tr>\n",
       "    <tr>\n",
       "      <th>25%</th>\n",
       "      <td>0.385000</td>\n",
       "      <td>0.410000</td>\n",
       "      <td>0.366250</td>\n",
       "      <td>0.385000</td>\n",
       "      <td>0.000000</td>\n",
       "    </tr>\n",
       "    <tr>\n",
       "      <th>50%</th>\n",
       "      <td>0.870000</td>\n",
       "      <td>0.920000</td>\n",
       "      <td>0.825000</td>\n",
       "      <td>0.875000</td>\n",
       "      <td>1.000000</td>\n",
       "    </tr>\n",
       "    <tr>\n",
       "      <th>75%</th>\n",
       "      <td>1.582500</td>\n",
       "      <td>1.661250</td>\n",
       "      <td>1.525416</td>\n",
       "      <td>1.600000</td>\n",
       "      <td>2.000000</td>\n",
       "    </tr>\n",
       "    <tr>\n",
       "      <th>max</th>\n",
       "      <td>3.800000</td>\n",
       "      <td>3.966663</td>\n",
       "      <td>3.660000</td>\n",
       "      <td>3.800000</td>\n",
       "      <td>2.000000</td>\n",
       "    </tr>\n",
       "  </tbody>\n",
       "</table>\n",
       "</div>"
      ],
      "text/plain": [
       "              open         high          low        close       Output\n",
       "count  1312.000000  1312.000000  1312.000000  1312.000000  1312.000000\n",
       "mean      1.074419     1.126722     1.029415     1.079681     1.009909\n",
       "std       0.854588     0.891333     0.824130     0.858665     0.791291\n",
       "min       0.050000     0.053333     0.050000     0.050000     0.000000\n",
       "25%       0.385000     0.410000     0.366250     0.385000     0.000000\n",
       "50%       0.870000     0.920000     0.825000     0.875000     1.000000\n",
       "75%       1.582500     1.661250     1.525416     1.600000     2.000000\n",
       "max       3.800000     3.966663     3.660000     3.800000     2.000000"
      ]
     },
     "execution_count": 24,
     "metadata": {},
     "output_type": "execute_result"
    }
   ],
   "source": [
    "da.describe()"
   ]
  },
  {
   "cell_type": "code",
   "execution_count": null,
   "id": "c5612813",
   "metadata": {},
   "outputs": [],
   "source": []
  },
  {
   "cell_type": "code",
   "execution_count": 25,
   "id": "40533f0a",
   "metadata": {},
   "outputs": [
    {
     "name": "stdout",
     "output_type": "stream",
     "text": [
      "(1312, 4)\n",
      "(1312,)\n"
     ]
    }
   ],
   "source": [
    "x = data.iloc[:,:4].values\n",
    "y = data[\"Output\"].values\n",
    "\n",
    "print(x.shape)\n",
    "print(y.shape)\n"
   ]
  },
  {
   "cell_type": "code",
   "execution_count": null,
   "id": "1def9498",
   "metadata": {},
   "outputs": [],
   "source": []
  },
  {
   "cell_type": "code",
   "execution_count": 26,
   "id": "e10ada87",
   "metadata": {},
   "outputs": [],
   "source": [
    "from sklearn.model_selection import train_test_split\n",
    "x_train,x_test,y_train, y_test = train_test_split(x,y,test_size = 0.3 , random_state = 0 )\n"
   ]
  },
  {
   "cell_type": "code",
   "execution_count": 27,
   "id": "8186d50c",
   "metadata": {},
   "outputs": [],
   "source": [
    "from sklearn.preprocessing import StandardScaler\n",
    "sc = StandardScaler()\n",
    "X_train = sc.fit_transform(x_train)\n",
    "X_test = sc.transform(x_test)\n"
   ]
  },
  {
   "cell_type": "code",
   "execution_count": 28,
   "id": "e4c6912c",
   "metadata": {},
   "outputs": [],
   "source": [
    "from sklearn.linear_model import LinearRegression\n",
    "model = LinearRegression()"
   ]
  },
  {
   "cell_type": "code",
   "execution_count": 29,
   "id": "afa151c9",
   "metadata": {},
   "outputs": [
    {
     "data": {
      "text/plain": [
       "LinearRegression()"
      ]
     },
     "execution_count": 29,
     "metadata": {},
     "output_type": "execute_result"
    }
   ],
   "source": [
    "model.fit(x_train,y_train)"
   ]
  },
  {
   "cell_type": "code",
   "execution_count": 30,
   "id": "b6703731",
   "metadata": {},
   "outputs": [],
   "source": [
    "predict = model.predict(x_test)"
   ]
  },
  {
   "cell_type": "code",
   "execution_count": 31,
   "id": "9cb65310",
   "metadata": {},
   "outputs": [
    {
     "data": {
      "text/plain": [
       "array([1.04462023, 1.04328466, 1.04131533, 1.03643391])"
      ]
     },
     "execution_count": 31,
     "metadata": {},
     "output_type": "execute_result"
    }
   ],
   "source": [
    "predict[:4]"
   ]
  },
  {
   "cell_type": "code",
   "execution_count": 39,
   "id": "f876e346",
   "metadata": {},
   "outputs": [
    {
     "data": {
      "text/plain": [
       "1.0455290444190204"
      ]
     },
     "execution_count": 39,
     "metadata": {},
     "output_type": "execute_result"
    }
   ],
   "source": [
    "# View the intercept\n",
    "model.intercept_"
   ]
  },
  {
   "cell_type": "code",
   "execution_count": 40,
   "id": "c67ae666",
   "metadata": {},
   "outputs": [
    {
     "data": {
      "text/plain": [
       "array([-0.64679815, -1.36052033,  1.3869133 ,  0.71983514])"
      ]
     },
     "execution_count": 40,
     "metadata": {},
     "output_type": "execute_result"
    }
   ],
   "source": [
    "# View the feature coefficients\n",
    "model.coef_\n"
   ]
  },
  {
   "cell_type": "code",
   "execution_count": 58,
   "id": "11b33844",
   "metadata": {},
   "outputs": [
    {
     "data": {
      "text/plain": [
       "1.0851987404459242"
      ]
     },
     "execution_count": 58,
     "metadata": {},
     "output_type": "execute_result"
    }
   ],
   "source": [
    "# First value in the target vector multiplied by 1000\n",
    "\n",
    "model.predict(x)[0]"
   ]
  },
  {
   "cell_type": "code",
   "execution_count": null,
   "id": "67e6a21d",
   "metadata": {},
   "outputs": [],
   "source": []
  },
  {
   "cell_type": "code",
   "execution_count": 32,
   "id": "fed33e39",
   "metadata": {},
   "outputs": [
    {
     "name": "stdout",
     "output_type": "stream",
     "text": [
      "Accuracy of training dataset: 0.016363467112157304\n",
      "Accuracy of test dataset: 0.013092648327324152\n"
     ]
    }
   ],
   "source": [
    "print(\"Accuracy of training dataset:\", model.score(x_train,y_train))\n",
    "print(\"Accuracy of test dataset:\", model.score(x_test,y_test))"
   ]
  },
  {
   "cell_type": "code",
   "execution_count": 33,
   "id": "18d4f7e7",
   "metadata": {},
   "outputs": [],
   "source": [
    "y_pred_test = model.predict(x_test)\n",
    "y_pred_train = model.predict(x_train)"
   ]
  },
  {
   "cell_type": "code",
   "execution_count": 34,
   "id": "736b1e36",
   "metadata": {},
   "outputs": [],
   "source": [
    "test = pd.DataFrame({\n",
    "    'Y test':y_test,\n",
    "    'Y test predicted':y_pred_test\n",
    "})\n",
    "\n",
    "train = pd.DataFrame({\n",
    "    'Y train':y_train,\n",
    "    'Y train predicted':y_pred_train\n",
    "})"
   ]
  },
  {
   "cell_type": "code",
   "execution_count": 72,
   "id": "a0c542ae",
   "metadata": {},
   "outputs": [
    {
     "data": {
      "text/html": [
       "<div>\n",
       "<style scoped>\n",
       "    .dataframe tbody tr th:only-of-type {\n",
       "        vertical-align: middle;\n",
       "    }\n",
       "\n",
       "    .dataframe tbody tr th {\n",
       "        vertical-align: top;\n",
       "    }\n",
       "\n",
       "    .dataframe thead th {\n",
       "        text-align: right;\n",
       "    }\n",
       "</style>\n",
       "<table border=\"1\" class=\"dataframe\">\n",
       "  <thead>\n",
       "    <tr style=\"text-align: right;\">\n",
       "      <th></th>\n",
       "      <th>Y test</th>\n",
       "      <th>Y test predicted</th>\n",
       "    </tr>\n",
       "  </thead>\n",
       "  <tbody>\n",
       "    <tr>\n",
       "      <th>291</th>\n",
       "      <td>1</td>\n",
       "      <td>1.067904</td>\n",
       "    </tr>\n",
       "    <tr>\n",
       "      <th>48</th>\n",
       "      <td>1</td>\n",
       "      <td>1.056777</td>\n",
       "    </tr>\n",
       "    <tr>\n",
       "      <th>3</th>\n",
       "      <td>0</td>\n",
       "      <td>1.036434</td>\n",
       "    </tr>\n",
       "    <tr>\n",
       "      <th>263</th>\n",
       "      <td>1</td>\n",
       "      <td>1.034552</td>\n",
       "    </tr>\n",
       "    <tr>\n",
       "      <th>20</th>\n",
       "      <td>0</td>\n",
       "      <td>0.991073</td>\n",
       "    </tr>\n",
       "    <tr>\n",
       "      <th>390</th>\n",
       "      <td>1</td>\n",
       "      <td>1.004768</td>\n",
       "    </tr>\n",
       "    <tr>\n",
       "      <th>45</th>\n",
       "      <td>0</td>\n",
       "      <td>0.983256</td>\n",
       "    </tr>\n",
       "    <tr>\n",
       "      <th>83</th>\n",
       "      <td>2</td>\n",
       "      <td>0.927732</td>\n",
       "    </tr>\n",
       "    <tr>\n",
       "      <th>244</th>\n",
       "      <td>2</td>\n",
       "      <td>1.061644</td>\n",
       "    </tr>\n",
       "    <tr>\n",
       "      <th>367</th>\n",
       "      <td>1</td>\n",
       "      <td>0.870948</td>\n",
       "    </tr>\n",
       "  </tbody>\n",
       "</table>\n",
       "</div>"
      ],
      "text/plain": [
       "     Y test  Y test predicted\n",
       "291       1          1.067904\n",
       "48        1          1.056777\n",
       "3         0          1.036434\n",
       "263       1          1.034552\n",
       "20        0          0.991073\n",
       "390       1          1.004768\n",
       "45        0          0.983256\n",
       "83        2          0.927732\n",
       "244       2          1.061644\n",
       "367       1          0.870948"
      ]
     },
     "execution_count": 72,
     "metadata": {},
     "output_type": "execute_result"
    }
   ],
   "source": [
    "test.sample(10)"
   ]
  },
  {
   "cell_type": "code",
   "execution_count": null,
   "id": "329b105d",
   "metadata": {},
   "outputs": [],
   "source": []
  },
  {
   "cell_type": "code",
   "execution_count": 68,
   "id": "2dcdef83",
   "metadata": {},
   "outputs": [],
   "source": [
    "from keras import models\n",
    "from keras import layers\n",
    "\n",
    "network = models.Sequential()\n",
    "network.add(layers.Flatten())\n",
    "network.add(layers.Dense(16, activation='relu', input_shape=(16,)))\n",
    "network.add(layers.Dense(8, activation='relu'))\n",
    "network.add(layers.Dense(1, activation='sigmoid'))"
   ]
  },
  {
   "cell_type": "code",
   "execution_count": 69,
   "id": "3cb080fa",
   "metadata": {},
   "outputs": [],
   "source": [
    "network.compile(optimizer = 'adam' , loss = 'binary_crossentropy',metrics = ['accuracy'] )"
   ]
  },
  {
   "cell_type": "code",
   "execution_count": 70,
   "id": "4560d99b",
   "metadata": {},
   "outputs": [
    {
     "name": "stdout",
     "output_type": "stream",
     "text": [
      "Epoch 1/10\n",
      "115/115 [==============================] - 1s 2ms/step - loss: 0.7070 - accuracy: 0.3584\n",
      "Epoch 2/10\n",
      "115/115 [==============================] - 0s 2ms/step - loss: 0.1522 - accuracy: 0.3834\n",
      "Epoch 3/10\n",
      "115/115 [==============================] - 0s 2ms/step - loss: 0.0506 - accuracy: 0.3834\n",
      "Epoch 4/10\n",
      "115/115 [==============================] - 0s 2ms/step - loss: -0.0013 - accuracy: 0.3834\n",
      "Epoch 5/10\n",
      "115/115 [==============================] - 0s 2ms/step - loss: -0.0262 - accuracy: 0.3834\n",
      "Epoch 6/10\n",
      "115/115 [==============================] - 0s 2ms/step - loss: -0.0525 - accuracy: 0.3834\n",
      "Epoch 7/10\n",
      "115/115 [==============================] - 0s 2ms/step - loss: -0.0762 - accuracy: 0.3834\n",
      "Epoch 8/10\n",
      "115/115 [==============================] - 0s 2ms/step - loss: -0.0894 - accuracy: 0.3834\n",
      "Epoch 9/10\n",
      "115/115 [==============================] - 0s 2ms/step - loss: -0.1100 - accuracy: 0.3834\n",
      "Epoch 10/10\n",
      "115/115 [==============================] - 0s 2ms/step - loss: -0.1220 - accuracy: 0.3834\n"
     ]
    },
    {
     "data": {
      "text/plain": [
       "<keras.callbacks.History at 0x237a9091820>"
      ]
     },
     "execution_count": 70,
     "metadata": {},
     "output_type": "execute_result"
    }
   ],
   "source": [
    "network.fit(x_train , y_train , batch_size = 8 ,epochs = 10 )\n"
   ]
  },
  {
   "cell_type": "markdown",
   "id": "5946bd4a",
   "metadata": {},
   "source": [
    "# or other techniques"
   ]
  },
  {
   "cell_type": "code",
   "execution_count": 118,
   "id": "17eaefa7",
   "metadata": {},
   "outputs": [],
   "source": [
    "import tensorflow as tf\n",
    "import pandas as pd\n",
    "import numpy as np\n",
    "import matplotlib.pyplot as plt\n",
    "import keras\n",
    "from keras.models import Sequential\n",
    "from keras.layers import Dense\n",
    "from sklearn.metrics import confusion_matrix\n"
   ]
  },
  {
   "cell_type": "code",
   "execution_count": 120,
   "id": "7d4f46ce",
   "metadata": {},
   "outputs": [],
   "source": [
    "import pandas as pd\n",
    "data = pd.read_excel(\"TOTAL DATA.xlsx\")"
   ]
  },
  {
   "cell_type": "code",
   "execution_count": 121,
   "id": "36b0daa9",
   "metadata": {},
   "outputs": [],
   "source": [
    "dataset = data.values"
   ]
  },
  {
   "cell_type": "code",
   "execution_count": 122,
   "id": "2550bb6b",
   "metadata": {},
   "outputs": [
    {
     "data": {
      "text/plain": [
       "array([[1.12 , 1.299, 1.192, ..., 1.   , 1.   , 1.   ],\n",
       "       [1.24 , 1.32 , 1.177, ..., 1.   , 1.   , 2.   ],\n",
       "       [1.22 , 1.23 , 1.087, ..., 1.   , 1.   , 0.   ],\n",
       "       ...,\n",
       "       [3.26 , 3.72 , 3.26 , ..., 1.   , 1.   , 2.   ],\n",
       "       [3.54 , 3.94 , 3.53 , ..., 1.   , 1.   , 2.   ],\n",
       "       [3.8  , 3.9  , 3.66 , ..., 1.   , 1.   , 0.   ]])"
      ]
     },
     "execution_count": 122,
     "metadata": {},
     "output_type": "execute_result"
    }
   ],
   "source": [
    "dataset"
   ]
  },
  {
   "cell_type": "code",
   "execution_count": 125,
   "id": "45ec45e2",
   "metadata": {},
   "outputs": [],
   "source": [
    "X = dataset[:,0:8]\n",
    "\n",
    "Y = dataset[:,8]"
   ]
  },
  {
   "cell_type": "code",
   "execution_count": 126,
   "id": "812f15f5",
   "metadata": {},
   "outputs": [
    {
     "data": {
      "text/plain": [
       "(1312, 4)"
      ]
     },
     "execution_count": 126,
     "metadata": {},
     "output_type": "execute_result"
    }
   ],
   "source": [
    "x.shape"
   ]
  },
  {
   "cell_type": "code",
   "execution_count": 127,
   "id": "6016397f",
   "metadata": {},
   "outputs": [
    {
     "data": {
      "text/plain": [
       "(1312,)"
      ]
     },
     "execution_count": 127,
     "metadata": {},
     "output_type": "execute_result"
    }
   ],
   "source": [
    "y.shape"
   ]
  },
  {
   "cell_type": "code",
   "execution_count": 128,
   "id": "a49a2a20",
   "metadata": {},
   "outputs": [],
   "source": [
    "from sklearn import preprocessing\n",
    "\n",
    "min_max_scaler = preprocessing.MinMaxScaler()\n",
    "X_scale = min_max_scaler.fit_transform(X)"
   ]
  },
  {
   "cell_type": "code",
   "execution_count": 129,
   "id": "1aa97485",
   "metadata": {},
   "outputs": [
    {
     "data": {
      "text/plain": [
       "array([[0.28533333, 0.31831381, 0.31634349, ..., 1.        , 1.        ,\n",
       "        1.        ],\n",
       "       [0.31733333, 0.32368009, 0.31218837, ..., 1.        , 1.        ,\n",
       "        1.        ],\n",
       "       [0.312     , 0.30068177, 0.28725762, ..., 1.        , 1.        ,\n",
       "        1.        ],\n",
       "       ...,\n",
       "       [0.856     , 0.93696852, 0.88919668, ..., 1.        , 1.        ,\n",
       "        1.        ],\n",
       "       [0.93066667, 0.99318662, 0.96398892, ..., 1.        , 1.        ,\n",
       "        1.        ],\n",
       "       [1.        , 0.98296515, 1.        , ..., 1.        , 1.        ,\n",
       "        1.        ]])"
      ]
     },
     "execution_count": 129,
     "metadata": {},
     "output_type": "execute_result"
    }
   ],
   "source": [
    "X_scale\n"
   ]
  },
  {
   "cell_type": "code",
   "execution_count": 130,
   "id": "a6576129",
   "metadata": {},
   "outputs": [],
   "source": [
    "from sklearn.model_selection import train_test_split\n",
    "X_train, X_val_and_test, Y_train, Y_val_and_test = train_test_split(X_scale, Y, test_size=0.3)\n"
   ]
  },
  {
   "cell_type": "code",
   "execution_count": 131,
   "id": "e293f595",
   "metadata": {},
   "outputs": [],
   "source": [
    "X_val, X_test, Y_val, Y_test = train_test_split(X_val_and_test, Y_val_and_test, test_size=0.5)\n"
   ]
  },
  {
   "cell_type": "code",
   "execution_count": 132,
   "id": "7d18b3ce",
   "metadata": {},
   "outputs": [
    {
     "name": "stdout",
     "output_type": "stream",
     "text": [
      "(918, 8) (197, 8) (197, 8) (918,) (197,) (197,)\n"
     ]
    }
   ],
   "source": [
    "print(X_train.shape, X_val.shape, X_test.shape, Y_train.shape, Y_val.shape, Y_test.shape)\n"
   ]
  },
  {
   "cell_type": "code",
   "execution_count": 136,
   "id": "199fd8ee",
   "metadata": {},
   "outputs": [],
   "source": [
    "from keras.models import Sequential\n",
    "from keras.layers import Dense\n",
    "model = Sequential([\n",
    "    Dense(32, activation='relu', input_shape=(8,)),\n",
    "    Dense(32, activation='relu'),\n",
    "    Dense(1, activation='sigmoid'),\n",
    "])"
   ]
  },
  {
   "cell_type": "code",
   "execution_count": 137,
   "id": "4d53da5c",
   "metadata": {},
   "outputs": [],
   "source": [
    "model.compile(optimizer='sgd',\n",
    "              loss='binary_crossentropy',\n",
    "              metrics=['accuracy'])"
   ]
  },
  {
   "cell_type": "code",
   "execution_count": 138,
   "id": "3a36ede1",
   "metadata": {},
   "outputs": [
    {
     "name": "stdout",
     "output_type": "stream",
     "text": [
      "Epoch 1/100\n",
      "29/29 [==============================] - 1s 17ms/step - loss: 0.6299 - accuracy: 0.3442 - val_loss: 0.5067 - val_accuracy: 0.3807\n",
      "Epoch 2/100\n",
      "29/29 [==============================] - 0s 3ms/step - loss: 0.4149 - accuracy: 0.3747 - val_loss: 0.3198 - val_accuracy: 0.3807\n",
      "Epoch 3/100\n",
      "29/29 [==============================] - 0s 4ms/step - loss: 0.2481 - accuracy: 0.3747 - val_loss: 0.1792 - val_accuracy: 0.3807\n",
      "Epoch 4/100\n",
      "29/29 [==============================] - 0s 4ms/step - loss: 0.1188 - accuracy: 0.3747 - val_loss: 0.0685 - val_accuracy: 0.3807\n",
      "Epoch 5/100\n",
      "29/29 [==============================] - 0s 3ms/step - loss: 0.0164 - accuracy: 0.3747 - val_loss: -0.0171 - val_accuracy: 0.3807\n",
      "Epoch 6/100\n",
      "29/29 [==============================] - 0s 5ms/step - loss: -0.0667 - accuracy: 0.3747 - val_loss: -0.0846 - val_accuracy: 0.3807\n",
      "Epoch 7/100\n",
      "29/29 [==============================] - 0s 3ms/step - loss: -0.1381 - accuracy: 0.3747 - val_loss: -0.1436 - val_accuracy: 0.3807\n",
      "Epoch 8/100\n",
      "29/29 [==============================] - 0s 4ms/step - loss: -0.2045 - accuracy: 0.3747 - val_loss: -0.2016 - val_accuracy: 0.3807\n",
      "Epoch 9/100\n",
      "29/29 [==============================] - 0s 3ms/step - loss: -0.2744 - accuracy: 0.3747 - val_loss: -0.2638 - val_accuracy: 0.3807\n",
      "Epoch 10/100\n",
      "29/29 [==============================] - 0s 3ms/step - loss: -0.3540 - accuracy: 0.3747 - val_loss: -0.3369 - val_accuracy: 0.3807\n",
      "Epoch 11/100\n",
      "29/29 [==============================] - 0s 3ms/step - loss: -0.4464 - accuracy: 0.3747 - val_loss: -0.4263 - val_accuracy: 0.3807\n",
      "Epoch 12/100\n",
      "29/29 [==============================] - 0s 3ms/step - loss: -0.5658 - accuracy: 0.3747 - val_loss: -0.5388 - val_accuracy: 0.3807\n",
      "Epoch 13/100\n",
      "29/29 [==============================] - 0s 3ms/step - loss: -0.7151 - accuracy: 0.3747 - val_loss: -0.6767 - val_accuracy: 0.3807\n",
      "Epoch 14/100\n",
      "29/29 [==============================] - 0s 4ms/step - loss: -0.9035 - accuracy: 0.3747 - val_loss: -0.8579 - val_accuracy: 0.3807\n",
      "Epoch 15/100\n",
      "29/29 [==============================] - 0s 3ms/step - loss: -1.1603 - accuracy: 0.3747 - val_loss: -1.1175 - val_accuracy: 0.3807\n",
      "Epoch 16/100\n",
      "29/29 [==============================] - 0s 4ms/step - loss: -1.5206 - accuracy: 0.3747 - val_loss: -1.4707 - val_accuracy: 0.3807\n",
      "Epoch 17/100\n",
      "29/29 [==============================] - 0s 3ms/step - loss: -2.0104 - accuracy: 0.3747 - val_loss: -1.9783 - val_accuracy: 0.3807\n",
      "Epoch 18/100\n",
      "29/29 [==============================] - 0s 3ms/step - loss: -2.7685 - accuracy: 0.3747 - val_loss: -2.7290 - val_accuracy: 0.3807\n",
      "Epoch 19/100\n",
      "29/29 [==============================] - 0s 4ms/step - loss: -3.9154 - accuracy: 0.3747 - val_loss: -4.0201 - val_accuracy: 0.3807\n",
      "Epoch 20/100\n",
      "29/29 [==============================] - 0s 4ms/step - loss: -5.8811 - accuracy: 0.3747 - val_loss: -6.2203 - val_accuracy: 0.3807\n",
      "Epoch 21/100\n",
      "29/29 [==============================] - 0s 4ms/step - loss: -9.3664 - accuracy: 0.3747 - val_loss: -10.4057 - val_accuracy: 0.3807\n",
      "Epoch 22/100\n",
      "29/29 [==============================] - 0s 4ms/step - loss: -16.3955 - accuracy: 0.3747 - val_loss: -19.0942 - val_accuracy: 0.3807\n",
      "Epoch 23/100\n",
      "29/29 [==============================] - 0s 4ms/step - loss: -32.8624 - accuracy: 0.3747 - val_loss: -41.0334 - val_accuracy: 0.3807\n",
      "Epoch 24/100\n",
      "29/29 [==============================] - 0s 4ms/step - loss: -79.2021 - accuracy: 0.3747 - val_loss: -113.8984 - val_accuracy: 0.3807\n",
      "Epoch 25/100\n",
      "29/29 [==============================] - 0s 4ms/step - loss: -269.0127 - accuracy: 0.3747 - val_loss: -498.9335 - val_accuracy: 0.3807\n",
      "Epoch 26/100\n",
      "29/29 [==============================] - 0s 5ms/step - loss: -1722.2133 - accuracy: 0.3747 - val_loss: -6161.3223 - val_accuracy: 0.3807\n",
      "Epoch 27/100\n",
      "29/29 [==============================] - 0s 5ms/step - loss: 637010.3125 - accuracy: 0.3725 - val_loss: 0.5219 - val_accuracy: 0.3807\n",
      "Epoch 28/100\n",
      "29/29 [==============================] - 0s 5ms/step - loss: 0.3567 - accuracy: 0.3747 - val_loss: 0.2213 - val_accuracy: 0.3807\n",
      "Epoch 29/100\n",
      "29/29 [==============================] - 0s 5ms/step - loss: 0.1862 - accuracy: 0.3747 - val_loss: 0.1165 - val_accuracy: 0.3807\n",
      "Epoch 30/100\n",
      "29/29 [==============================] - 0s 4ms/step - loss: 0.1111 - accuracy: 0.3747 - val_loss: 0.0563 - val_accuracy: 0.3807\n",
      "Epoch 31/100\n",
      "29/29 [==============================] - 0s 4ms/step - loss: 0.0648 - accuracy: 0.3747 - val_loss: 0.0155 - val_accuracy: 0.3807\n",
      "Epoch 32/100\n",
      "29/29 [==============================] - 0s 4ms/step - loss: 0.0331 - accuracy: 0.3747 - val_loss: -0.0142 - val_accuracy: 0.3807\n",
      "Epoch 33/100\n",
      "29/29 [==============================] - 0s 4ms/step - loss: 0.0088 - accuracy: 0.3747 - val_loss: -0.0366 - val_accuracy: 0.3807\n",
      "Epoch 34/100\n",
      "29/29 [==============================] - 0s 4ms/step - loss: -0.0118 - accuracy: 0.3747 - val_loss: -0.0572 - val_accuracy: 0.3807\n",
      "Epoch 35/100\n",
      "29/29 [==============================] - 0s 3ms/step - loss: -0.0294 - accuracy: 0.3747 - val_loss: -0.0742 - val_accuracy: 0.3807\n",
      "Epoch 36/100\n",
      "29/29 [==============================] - 0s 3ms/step - loss: -0.0467 - accuracy: 0.3747 - val_loss: -0.0917 - val_accuracy: 0.3807\n",
      "Epoch 37/100\n",
      "29/29 [==============================] - 0s 3ms/step - loss: -0.0609 - accuracy: 0.3747 - val_loss: -0.1060 - val_accuracy: 0.3807\n",
      "Epoch 38/100\n",
      "29/29 [==============================] - 0s 3ms/step - loss: -0.0783 - accuracy: 0.3747 - val_loss: -0.1253 - val_accuracy: 0.3807\n",
      "Epoch 39/100\n",
      "29/29 [==============================] - 0s 3ms/step - loss: -0.0974 - accuracy: 0.3747 - val_loss: -0.1438 - val_accuracy: 0.3807\n",
      "Epoch 40/100\n",
      "29/29 [==============================] - 0s 3ms/step - loss: -0.1172 - accuracy: 0.3747 - val_loss: -0.1634 - val_accuracy: 0.3807\n",
      "Epoch 41/100\n",
      "29/29 [==============================] - 0s 3ms/step - loss: -0.1378 - accuracy: 0.3747 - val_loss: -0.1859 - val_accuracy: 0.3807\n",
      "Epoch 42/100\n",
      "29/29 [==============================] - 0s 3ms/step - loss: -0.1618 - accuracy: 0.3747 - val_loss: -0.2084 - val_accuracy: 0.3807\n",
      "Epoch 43/100\n",
      "29/29 [==============================] - 0s 3ms/step - loss: -0.1908 - accuracy: 0.3747 - val_loss: -0.2368 - val_accuracy: 0.3807\n",
      "Epoch 44/100\n",
      "29/29 [==============================] - 0s 3ms/step - loss: -0.2228 - accuracy: 0.3747 - val_loss: -0.2711 - val_accuracy: 0.3807\n",
      "Epoch 45/100\n",
      "29/29 [==============================] - 0s 4ms/step - loss: -0.2595 - accuracy: 0.3747 - val_loss: -0.3117 - val_accuracy: 0.3807\n",
      "Epoch 46/100\n",
      "29/29 [==============================] - 0s 3ms/step - loss: -0.3093 - accuracy: 0.3747 - val_loss: -0.3583 - val_accuracy: 0.3807\n",
      "Epoch 47/100\n",
      "29/29 [==============================] - 0s 3ms/step - loss: -0.3625 - accuracy: 0.3747 - val_loss: -0.4099 - val_accuracy: 0.3807\n",
      "Epoch 48/100\n",
      "29/29 [==============================] - 0s 3ms/step - loss: -0.4304 - accuracy: 0.3747 - val_loss: -0.4793 - val_accuracy: 0.3807\n",
      "Epoch 49/100\n",
      "29/29 [==============================] - 0s 3ms/step - loss: -0.5118 - accuracy: 0.3747 - val_loss: -0.5682 - val_accuracy: 0.3807\n",
      "Epoch 50/100\n",
      "29/29 [==============================] - 0s 3ms/step - loss: -0.6187 - accuracy: 0.3747 - val_loss: -0.6760 - val_accuracy: 0.3807\n",
      "Epoch 51/100\n",
      "29/29 [==============================] - 0s 3ms/step - loss: -0.7575 - accuracy: 0.3747 - val_loss: -0.8211 - val_accuracy: 0.3807\n",
      "Epoch 52/100\n",
      "29/29 [==============================] - 0s 3ms/step - loss: -0.9410 - accuracy: 0.3747 - val_loss: -1.0168 - val_accuracy: 0.3807\n",
      "Epoch 53/100\n",
      "29/29 [==============================] - 0s 3ms/step - loss: -1.1954 - accuracy: 0.3747 - val_loss: -1.2777 - val_accuracy: 0.3807\n",
      "Epoch 54/100\n",
      "29/29 [==============================] - 0s 4ms/step - loss: -1.5285 - accuracy: 0.3747 - val_loss: -1.6313 - val_accuracy: 0.3807\n",
      "Epoch 55/100\n",
      "29/29 [==============================] - 0s 4ms/step - loss: -1.9971 - accuracy: 0.3747 - val_loss: -2.1577 - val_accuracy: 0.3807\n",
      "Epoch 56/100\n",
      "29/29 [==============================] - 0s 3ms/step - loss: -2.7329 - accuracy: 0.3747 - val_loss: -2.9427 - val_accuracy: 0.3807\n",
      "Epoch 57/100\n",
      "29/29 [==============================] - 0s 3ms/step - loss: -3.8753 - accuracy: 0.3747 - val_loss: -4.2186 - val_accuracy: 0.3807\n"
     ]
    },
    {
     "name": "stdout",
     "output_type": "stream",
     "text": [
      "Epoch 58/100\n",
      "29/29 [==============================] - 0s 3ms/step - loss: -5.6469 - accuracy: 0.3747 - val_loss: -6.3017 - val_accuracy: 0.3807\n",
      "Epoch 59/100\n",
      "29/29 [==============================] - 0s 3ms/step - loss: -8.8386 - accuracy: 0.3747 - val_loss: -10.3603 - val_accuracy: 0.3807\n",
      "Epoch 60/100\n",
      "29/29 [==============================] - 0s 3ms/step - loss: -15.3362 - accuracy: 0.3747 - val_loss: -17.9008 - val_accuracy: 0.3807\n",
      "Epoch 61/100\n",
      "29/29 [==============================] - 0s 3ms/step - loss: -28.3183 - accuracy: 0.3747 - val_loss: -34.6581 - val_accuracy: 0.3807\n",
      "Epoch 62/100\n",
      "29/29 [==============================] - 0s 3ms/step - loss: -61.3329 - accuracy: 0.3747 - val_loss: -83.8098 - val_accuracy: 0.3807\n",
      "Epoch 63/100\n",
      "29/29 [==============================] - 0s 3ms/step - loss: -166.5267 - accuracy: 0.3747 - val_loss: -292.0442 - val_accuracy: 0.3807\n",
      "Epoch 64/100\n",
      "29/29 [==============================] - 0s 3ms/step - loss: -851.4716 - accuracy: 0.3747 - val_loss: -2122.1560 - val_accuracy: 0.3807\n",
      "Epoch 65/100\n",
      "29/29 [==============================] - 0s 3ms/step - loss: -27292.0312 - accuracy: 0.3791 - val_loss: -401419.6562 - val_accuracy: 0.3807\n",
      "Epoch 66/100\n",
      "29/29 [==============================] - 0s 3ms/step - loss: nan - accuracy: 0.3562 - val_loss: 0.2848 - val_accuracy: 0.3807\n",
      "Epoch 67/100\n",
      "29/29 [==============================] - 0s 3ms/step - loss: 0.2855 - accuracy: 0.3747 - val_loss: 0.2603 - val_accuracy: 0.3807\n",
      "Epoch 68/100\n",
      "29/29 [==============================] - 0s 3ms/step - loss: 0.2633 - accuracy: 0.3747 - val_loss: 0.2386 - val_accuracy: 0.3807\n",
      "Epoch 69/100\n",
      "29/29 [==============================] - 0s 3ms/step - loss: 0.2438 - accuracy: 0.3747 - val_loss: 0.2191 - val_accuracy: 0.3807\n",
      "Epoch 70/100\n",
      "29/29 [==============================] - 0s 3ms/step - loss: 0.2260 - accuracy: 0.3747 - val_loss: 0.2013 - val_accuracy: 0.3807\n",
      "Epoch 71/100\n",
      "29/29 [==============================] - 0s 3ms/step - loss: 0.2099 - accuracy: 0.3747 - val_loss: 0.1855 - val_accuracy: 0.3807\n",
      "Epoch 72/100\n",
      "29/29 [==============================] - 0s 3ms/step - loss: 0.1956 - accuracy: 0.3747 - val_loss: 0.1711 - val_accuracy: 0.3807\n",
      "Epoch 73/100\n",
      "29/29 [==============================] - 0s 3ms/step - loss: 0.1826 - accuracy: 0.3747 - val_loss: 0.1578 - val_accuracy: 0.3807\n",
      "Epoch 74/100\n",
      "29/29 [==============================] - 0s 4ms/step - loss: 0.1706 - accuracy: 0.3747 - val_loss: 0.1457 - val_accuracy: 0.3807\n",
      "Epoch 75/100\n",
      "29/29 [==============================] - 0s 4ms/step - loss: 0.1597 - accuracy: 0.3747 - val_loss: 0.1345 - val_accuracy: 0.3807\n",
      "Epoch 76/100\n",
      "29/29 [==============================] - 0s 4ms/step - loss: 0.1496 - accuracy: 0.3747 - val_loss: 0.1243 - val_accuracy: 0.3807\n",
      "Epoch 77/100\n",
      "29/29 [==============================] - 0s 4ms/step - loss: 0.1403 - accuracy: 0.3747 - val_loss: 0.1146 - val_accuracy: 0.3807\n",
      "Epoch 78/100\n",
      "29/29 [==============================] - 0s 4ms/step - loss: 0.1319 - accuracy: 0.3747 - val_loss: 0.1056 - val_accuracy: 0.3807\n",
      "Epoch 79/100\n",
      "29/29 [==============================] - 0s 4ms/step - loss: 0.1237 - accuracy: 0.3747 - val_loss: 0.0971 - val_accuracy: 0.3807\n",
      "Epoch 80/100\n",
      "29/29 [==============================] - 0s 4ms/step - loss: 0.1161 - accuracy: 0.3747 - val_loss: 0.0893 - val_accuracy: 0.3807\n",
      "Epoch 81/100\n",
      "29/29 [==============================] - 0s 4ms/step - loss: 0.1091 - accuracy: 0.3747 - val_loss: 0.0819 - val_accuracy: 0.3807\n",
      "Epoch 82/100\n",
      "29/29 [==============================] - 0s 4ms/step - loss: 0.1026 - accuracy: 0.3747 - val_loss: 0.0749 - val_accuracy: 0.3807\n",
      "Epoch 83/100\n",
      "29/29 [==============================] - 0s 4ms/step - loss: 0.0963 - accuracy: 0.3747 - val_loss: 0.0684 - val_accuracy: 0.3807\n",
      "Epoch 84/100\n",
      "29/29 [==============================] - 0s 4ms/step - loss: 0.0906 - accuracy: 0.3747 - val_loss: 0.0623 - val_accuracy: 0.3807\n",
      "Epoch 85/100\n",
      "29/29 [==============================] - 0s 4ms/step - loss: 0.0852 - accuracy: 0.3747 - val_loss: 0.0566 - val_accuracy: 0.3807\n",
      "Epoch 86/100\n",
      "29/29 [==============================] - 0s 4ms/step - loss: 0.0803 - accuracy: 0.3747 - val_loss: 0.0511 - val_accuracy: 0.3807\n",
      "Epoch 87/100\n",
      "29/29 [==============================] - 0s 4ms/step - loss: 0.0755 - accuracy: 0.3747 - val_loss: 0.0459 - val_accuracy: 0.3807\n",
      "Epoch 88/100\n",
      "29/29 [==============================] - 0s 4ms/step - loss: 0.0709 - accuracy: 0.3747 - val_loss: 0.0409 - val_accuracy: 0.3807\n",
      "Epoch 89/100\n",
      "29/29 [==============================] - 0s 4ms/step - loss: 0.0665 - accuracy: 0.3747 - val_loss: 0.0362 - val_accuracy: 0.3807\n",
      "Epoch 90/100\n",
      "29/29 [==============================] - 0s 4ms/step - loss: 0.0625 - accuracy: 0.3747 - val_loss: 0.0319 - val_accuracy: 0.3807\n",
      "Epoch 91/100\n",
      "29/29 [==============================] - 0s 4ms/step - loss: 0.0587 - accuracy: 0.3747 - val_loss: 0.0277 - val_accuracy: 0.3807\n",
      "Epoch 92/100\n",
      "29/29 [==============================] - 0s 3ms/step - loss: 0.0552 - accuracy: 0.3747 - val_loss: 0.0236 - val_accuracy: 0.3807\n",
      "Epoch 93/100\n",
      "29/29 [==============================] - 0s 3ms/step - loss: 0.0517 - accuracy: 0.3747 - val_loss: 0.0197 - val_accuracy: 0.3807\n",
      "Epoch 94/100\n",
      "29/29 [==============================] - 0s 3ms/step - loss: 0.0484 - accuracy: 0.3747 - val_loss: 0.0159 - val_accuracy: 0.3807\n",
      "Epoch 95/100\n",
      "29/29 [==============================] - 0s 3ms/step - loss: 0.0451 - accuracy: 0.3747 - val_loss: 0.0122 - val_accuracy: 0.3807\n",
      "Epoch 96/100\n",
      "29/29 [==============================] - 0s 3ms/step - loss: 0.0420 - accuracy: 0.3747 - val_loss: 0.0088 - val_accuracy: 0.3807\n",
      "Epoch 97/100\n",
      "29/29 [==============================] - 0s 4ms/step - loss: 0.0392 - accuracy: 0.3747 - val_loss: 0.0057 - val_accuracy: 0.3807\n",
      "Epoch 98/100\n",
      "29/29 [==============================] - 0s 4ms/step - loss: 0.0366 - accuracy: 0.3747 - val_loss: 0.0027 - val_accuracy: 0.3807\n",
      "Epoch 99/100\n",
      "29/29 [==============================] - 0s 3ms/step - loss: 0.0340 - accuracy: 0.3747 - val_loss: -3.3388e-04 - val_accuracy: 0.3807\n",
      "Epoch 100/100\n",
      "29/29 [==============================] - 0s 3ms/step - loss: 0.0316 - accuracy: 0.3747 - val_loss: -0.0033 - val_accuracy: 0.3807\n"
     ]
    }
   ],
   "source": [
    "hist = model.fit(X_train, Y_train,\n",
    "          batch_size=32, epochs=100,\n",
    "          validation_data=(X_val, Y_val))"
   ]
  },
  {
   "cell_type": "code",
   "execution_count": 139,
   "id": "820b8c75",
   "metadata": {},
   "outputs": [
    {
     "name": "stdout",
     "output_type": "stream",
     "text": [
      "7/7 [==============================] - 0s 2ms/step - loss: 0.0404 - accuracy: 0.3655\n"
     ]
    },
    {
     "data": {
      "text/plain": [
       "0.36548224091529846"
      ]
     },
     "execution_count": 139,
     "metadata": {},
     "output_type": "execute_result"
    }
   ],
   "source": [
    "model.evaluate(X_test, Y_test)[1]"
   ]
  },
  {
   "cell_type": "code",
   "execution_count": null,
   "id": "7a77fcc4",
   "metadata": {},
   "outputs": [],
   "source": []
  },
  {
   "cell_type": "code",
   "execution_count": 140,
   "id": "aecbd675",
   "metadata": {},
   "outputs": [],
   "source": [
    "import matplotlib.pyplot as plt"
   ]
  },
  {
   "cell_type": "code",
   "execution_count": 141,
   "id": "3cddd2aa",
   "metadata": {},
   "outputs": [
    {
     "data": {
      "image/png": "[encoded data removed]",
      "text/plain": [
       "<Figure size 432x288 with 1 Axes>"
      ]
     },
     "metadata": {
      "needs_background": "light"
     },
     "output_type": "display_data"
    }
   ],
   "source": [
    "plt.plot(hist.history['loss'])\n",
    "plt.plot(hist.history['val_loss'])\n",
    "plt.title('Model loss')\n",
    "plt.ylabel('Loss')\n",
    "plt.xlabel('Epoch')\n",
    "plt.legend(['Train', 'Val'], loc='upper right')\n",
    "plt.show()"
   ]
  },
  {
   "cell_type": "markdown",
   "id": "30b35d1f",
   "metadata": {},
   "source": [
    "# Adding Regularization to our Neural Network"
   ]
  },
  {
   "cell_type": "code",
   "execution_count": null,
   "id": "053f0eec",
   "metadata": {},
   "outputs": [],
   "source": []
  },
  {
   "cell_type": "code",
   "execution_count": 142,
   "id": "b677986e",
   "metadata": {},
   "outputs": [
    {
     "name": "stdout",
     "output_type": "stream",
     "text": [
      "Epoch 1/100\n",
      "29/29 [==============================] - 2s 53ms/step - loss: -9.3436 - accuracy: 0.3736 - val_loss: -47.5147 - val_accuracy: 0.3807\n",
      "Epoch 2/100\n",
      "29/29 [==============================] - 1s 49ms/step - loss: -584.6826 - accuracy: 0.3747 - val_loss: -2099.9316 - val_accuracy: 0.3807\n",
      "Epoch 3/100\n",
      "29/29 [==============================] - 2s 56ms/step - loss: -11588.0693 - accuracy: 0.3725 - val_loss: -26331.7969 - val_accuracy: 0.3807\n",
      "Epoch 4/100\n",
      "29/29 [==============================] - 2s 57ms/step - loss: -78966.2578 - accuracy: 0.3747 - val_loss: -146833.5781 - val_accuracy: 0.3807\n",
      "Epoch 5/100\n",
      "29/29 [==============================] - 2s 52ms/step - loss: -399340.7500 - accuracy: 0.3736 - val_loss: -548123.4375 - val_accuracy: 0.3807\n",
      "Epoch 6/100\n",
      "29/29 [==============================] - 2s 55ms/step - loss: -1427603.1250 - accuracy: 0.3747 - val_loss: -2166916.0000 - val_accuracy: 0.3807\n",
      "Epoch 7/100\n",
      "29/29 [==============================] - 1s 49ms/step - loss: -4633920.0000 - accuracy: 0.3791 - val_loss: -5619211.0000 - val_accuracy: 0.3807\n",
      "Epoch 8/100\n",
      "29/29 [==============================] - 1s 48ms/step - loss: -10736753.0000 - accuracy: 0.3747 - val_loss: -14998431.0000 - val_accuracy: 0.3807\n",
      "Epoch 9/100\n",
      "29/29 [==============================] - 1s 49ms/step - loss: -25376412.0000 - accuracy: 0.3791 - val_loss: -30230934.0000 - val_accuracy: 0.3756\n",
      "Epoch 10/100\n",
      "29/29 [==============================] - 1s 48ms/step - loss: -56013808.0000 - accuracy: 0.3813 - val_loss: -63153568.0000 - val_accuracy: 0.3807\n",
      "Epoch 11/100\n",
      "29/29 [==============================] - 2s 57ms/step - loss: -107532520.0000 - accuracy: 0.3736 - val_loss: -119754416.0000 - val_accuracy: 0.3807\n",
      "Epoch 12/100\n",
      "29/29 [==============================] - 1s 49ms/step - loss: -192566624.0000 - accuracy: 0.3715 - val_loss: -182937072.0000 - val_accuracy: 0.3807\n",
      "Epoch 13/100\n",
      "29/29 [==============================] - 2s 55ms/step - loss: -292578784.0000 - accuracy: 0.3747 - val_loss: -299088000.0000 - val_accuracy: 0.3807\n",
      "Epoch 14/100\n",
      "29/29 [==============================] - 2s 67ms/step - loss: -456900640.0000 - accuracy: 0.3736 - val_loss: -437688736.0000 - val_accuracy: 0.3756\n",
      "Epoch 15/100\n",
      "29/29 [==============================] - 2s 58ms/step - loss: -664760512.0000 - accuracy: 0.3813 - val_loss: -649958208.0000 - val_accuracy: 0.3807\n",
      "Epoch 16/100\n",
      "29/29 [==============================] - 1s 50ms/step - loss: -977267136.0000 - accuracy: 0.3791 - val_loss: -920217664.0000 - val_accuracy: 0.3807\n",
      "Epoch 17/100\n",
      "29/29 [==============================] - 1s 49ms/step - loss: -1352342784.0000 - accuracy: 0.3747 - val_loss: -1350915712.0000 - val_accuracy: 0.3807\n",
      "Epoch 18/100\n",
      "29/29 [==============================] - 1s 48ms/step - loss: -1882132096.0000 - accuracy: 0.3747 - val_loss: -1825111680.0000 - val_accuracy: 0.3807\n",
      "Epoch 19/100\n",
      "29/29 [==============================] - 1s 49ms/step - loss: -2536290048.0000 - accuracy: 0.3715 - val_loss: -2364954880.0000 - val_accuracy: 0.3807\n",
      "Epoch 20/100\n",
      "29/29 [==============================] - 1s 49ms/step - loss: -3301309440.0000 - accuracy: 0.3715 - val_loss: -3101330176.0000 - val_accuracy: 0.3858\n",
      "Epoch 21/100\n",
      "29/29 [==============================] - 1s 50ms/step - loss: -4290894336.0000 - accuracy: 0.3802 - val_loss: -3951682816.0000 - val_accuracy: 0.3807\n",
      "Epoch 22/100\n",
      "29/29 [==============================] - 1s 50ms/step - loss: -5470071808.0000 - accuracy: 0.3747 - val_loss: -4942391296.0000 - val_accuracy: 0.3807\n",
      "Epoch 23/100\n",
      "29/29 [==============================] - 2s 52ms/step - loss: -6890219520.0000 - accuracy: 0.3900 - val_loss: -6269723136.0000 - val_accuracy: 0.3807\n",
      "Epoch 24/100\n",
      "29/29 [==============================] - 2s 53ms/step - loss: -8599244800.0000 - accuracy: 0.3736 - val_loss: -7761698816.0000 - val_accuracy: 0.3858\n",
      "Epoch 25/100\n",
      "29/29 [==============================] - 2s 53ms/step - loss: -10652154880.0000 - accuracy: 0.3780 - val_loss: -9682360320.0000 - val_accuracy: 0.3756\n",
      "Epoch 26/100\n",
      "29/29 [==============================] - 2s 54ms/step - loss: -13259958272.0000 - accuracy: 0.3856 - val_loss: -11821035520.0000 - val_accuracy: 0.3807\n",
      "Epoch 27/100\n",
      "29/29 [==============================] - 1s 51ms/step - loss: -16267051008.0000 - accuracy: 0.3791 - val_loss: -14335767552.0000 - val_accuracy: 0.3706\n",
      "Epoch 28/100\n",
      "29/29 [==============================] - 1s 48ms/step - loss: -19401213952.0000 - accuracy: 0.3758 - val_loss: -17570244608.0000 - val_accuracy: 0.3858\n",
      "Epoch 29/100\n",
      "29/29 [==============================] - 1s 49ms/step - loss: -23752783872.0000 - accuracy: 0.3736 - val_loss: -20657989632.0000 - val_accuracy: 0.3807\n",
      "Epoch 30/100\n",
      "29/29 [==============================] - 2s 53ms/step - loss: -28160698368.0000 - accuracy: 0.3747 - val_loss: -24624115712.0000 - val_accuracy: 0.3807\n",
      "Epoch 31/100\n",
      "29/29 [==============================] - 2s 53ms/step - loss: -33199773696.0000 - accuracy: 0.3780 - val_loss: -29663397888.0000 - val_accuracy: 0.3756\n",
      "Epoch 32/100\n",
      "29/29 [==============================] - 2s 52ms/step - loss: -39409479680.0000 - accuracy: 0.3715 - val_loss: -34853576704.0000 - val_accuracy: 0.3807\n",
      "Epoch 33/100\n",
      "29/29 [==============================] - 1s 48ms/step - loss: -46423080960.0000 - accuracy: 0.3813 - val_loss: -39651221504.0000 - val_accuracy: 0.3807\n",
      "Epoch 34/100\n",
      "29/29 [==============================] - 2s 52ms/step - loss: -53258072064.0000 - accuracy: 0.3725 - val_loss: -46589083648.0000 - val_accuracy: 0.3858\n",
      "Epoch 35/100\n",
      "29/29 [==============================] - 2s 53ms/step - loss: -61464944640.0000 - accuracy: 0.3693 - val_loss: -51847761920.0000 - val_accuracy: 0.3807\n",
      "Epoch 36/100\n",
      "29/29 [==============================] - 2s 53ms/step - loss: -69523652608.0000 - accuracy: 0.3813 - val_loss: -59480510464.0000 - val_accuracy: 0.3655\n",
      "Epoch 37/100\n",
      "29/29 [==============================] - 2s 53ms/step - loss: -79053578240.0000 - accuracy: 0.3758 - val_loss: -67622600704.0000 - val_accuracy: 0.3807\n",
      "Epoch 38/100\n",
      "29/29 [==============================] - 1s 48ms/step - loss: -89632120832.0000 - accuracy: 0.3802 - val_loss: -76912164864.0000 - val_accuracy: 0.3807\n",
      "Epoch 39/100\n",
      "29/29 [==============================] - 1s 48ms/step - loss: -101727035392.0000 - accuracy: 0.3824 - val_loss: -85397618688.0000 - val_accuracy: 0.3756\n",
      "Epoch 40/100\n",
      "29/29 [==============================] - 1s 48ms/step - loss: -114568609792.0000 - accuracy: 0.3791 - val_loss: -95710740480.0000 - val_accuracy: 0.3858\n",
      "Epoch 41/100\n",
      "29/29 [==============================] - 1s 48ms/step - loss: -126459609088.0000 - accuracy: 0.3715 - val_loss: -110632632320.0000 - val_accuracy: 0.3756\n",
      "Epoch 42/100\n",
      "29/29 [==============================] - 1s 49ms/step - loss: -144584212480.0000 - accuracy: 0.3802 - val_loss: -121098928128.0000 - val_accuracy: 0.3706\n",
      "Epoch 43/100\n",
      "29/29 [==============================] - 1s 47ms/step - loss: -159848693760.0000 - accuracy: 0.3813 - val_loss: -135539400704.0000 - val_accuracy: 0.3858\n",
      "Epoch 44/100\n",
      "29/29 [==============================] - 1s 48ms/step - loss: -177140088832.0000 - accuracy: 0.3736 - val_loss: -150545874944.0000 - val_accuracy: 0.3706\n",
      "Epoch 45/100\n",
      "29/29 [==============================] - 2s 52ms/step - loss: -195967287296.0000 - accuracy: 0.3715 - val_loss: -163771187200.0000 - val_accuracy: 0.3706\n",
      "Epoch 46/100\n",
      "29/29 [==============================] - 2s 54ms/step - loss: -214444523520.0000 - accuracy: 0.3758 - val_loss: -181767471104.0000 - val_accuracy: 0.3807\n",
      "Epoch 47/100\n",
      "29/29 [==============================] - 2s 52ms/step - loss: -236286607360.0000 - accuracy: 0.3769 - val_loss: -197667831808.0000 - val_accuracy: 0.3706\n",
      "Epoch 48/100\n",
      "29/29 [==============================] - 2s 51ms/step - loss: -259334144000.0000 - accuracy: 0.3758 - val_loss: -215471570944.0000 - val_accuracy: 0.3858\n",
      "Epoch 49/100\n",
      "29/29 [==============================] - 1s 48ms/step - loss: -282326630400.0000 - accuracy: 0.3791 - val_loss: -238355447808.0000 - val_accuracy: 0.3807\n",
      "Epoch 50/100\n",
      "29/29 [==============================] - 1s 49ms/step - loss: -309021736960.0000 - accuracy: 0.3747 - val_loss: -256504938496.0000 - val_accuracy: 0.3807\n",
      "Epoch 51/100\n"
     ]
    },
    {
     "name": "stdout",
     "output_type": "stream",
     "text": [
      "29/29 [==============================] - 1s 47ms/step - loss: -335575384064.0000 - accuracy: 0.3725 - val_loss: -281100353536.0000 - val_accuracy: 0.3807\n",
      "Epoch 52/100\n",
      "29/29 [==============================] - 1s 47ms/step - loss: -362431873024.0000 - accuracy: 0.3747 - val_loss: -308222722048.0000 - val_accuracy: 0.3807\n",
      "Epoch 53/100\n",
      "29/29 [==============================] - 1s 49ms/step - loss: -399963062272.0000 - accuracy: 0.3780 - val_loss: -331723636736.0000 - val_accuracy: 0.3756\n",
      "Epoch 54/100\n",
      "29/29 [==============================] - 1s 50ms/step - loss: -432220241920.0000 - accuracy: 0.3834 - val_loss: -362168778752.0000 - val_accuracy: 0.3807\n",
      "Epoch 55/100\n",
      "29/29 [==============================] - 1s 49ms/step - loss: -470621290496.0000 - accuracy: 0.3813 - val_loss: -390468927488.0000 - val_accuracy: 0.3858\n",
      "Epoch 56/100\n",
      "29/29 [==============================] - 2s 51ms/step - loss: -508549103616.0000 - accuracy: 0.3725 - val_loss: -422317948928.0000 - val_accuracy: 0.3858\n",
      "Epoch 57/100\n",
      "29/29 [==============================] - 1s 51ms/step - loss: -543770968064.0000 - accuracy: 0.3780 - val_loss: -461962051584.0000 - val_accuracy: 0.3756\n",
      "Epoch 58/100\n",
      "29/29 [==============================] - 1s 50ms/step - loss: -595536838656.0000 - accuracy: 0.3747 - val_loss: -493718896640.0000 - val_accuracy: 0.3706\n",
      "Epoch 59/100\n",
      "29/29 [==============================] - 1s 51ms/step - loss: -639567265792.0000 - accuracy: 0.3747 - val_loss: -530409455616.0000 - val_accuracy: 0.3807\n",
      "Epoch 60/100\n",
      "29/29 [==============================] - 1s 46ms/step - loss: -685865435136.0000 - accuracy: 0.3791 - val_loss: -574934089728.0000 - val_accuracy: 0.3807\n",
      "Epoch 61/100\n",
      "29/29 [==============================] - 1s 46ms/step - loss: -741070274560.0000 - accuracy: 0.3813 - val_loss: -613119557632.0000 - val_accuracy: 0.3858\n",
      "Epoch 62/100\n",
      "29/29 [==============================] - 1s 47ms/step - loss: -796044165120.0000 - accuracy: 0.3747 - val_loss: -654780661760.0000 - val_accuracy: 0.3807\n",
      "Epoch 63/100\n",
      "29/29 [==============================] - 1s 47ms/step - loss: -853371322368.0000 - accuracy: 0.3791 - val_loss: -709361795072.0000 - val_accuracy: 0.3756\n",
      "Epoch 64/100\n",
      "29/29 [==============================] - 1s 46ms/step - loss: -916405878784.0000 - accuracy: 0.3813 - val_loss: -762348503040.0000 - val_accuracy: 0.3858\n",
      "Epoch 65/100\n",
      "29/29 [==============================] - 1s 48ms/step - loss: -987103100928.0000 - accuracy: 0.3780 - val_loss: -817329274880.0000 - val_accuracy: 0.3756\n",
      "Epoch 66/100\n",
      "29/29 [==============================] - 1s 47ms/step - loss: -1058297348096.0000 - accuracy: 0.3856 - val_loss: -880238198784.0000 - val_accuracy: 0.3807\n",
      "Epoch 67/100\n",
      "29/29 [==============================] - 1s 50ms/step - loss: -1134394736640.0000 - accuracy: 0.3769 - val_loss: -947188334592.0000 - val_accuracy: 0.3756\n",
      "Epoch 68/100\n",
      "29/29 [==============================] - 1s 51ms/step - loss: -1219437527040.0000 - accuracy: 0.3802 - val_loss: -1001402400768.0000 - val_accuracy: 0.3807\n",
      "Epoch 69/100\n",
      "29/29 [==============================] - 2s 52ms/step - loss: -1295258353664.0000 - accuracy: 0.3780 - val_loss: -1089999798272.0000 - val_accuracy: 0.3807\n",
      "Epoch 70/100\n",
      "29/29 [==============================] - 1s 50ms/step - loss: -1396841119744.0000 - accuracy: 0.3769 - val_loss: -1163321409536.0000 - val_accuracy: 0.3807\n",
      "Epoch 71/100\n",
      "29/29 [==============================] - 1s 48ms/step - loss: -1491663323136.0000 - accuracy: 0.3780 - val_loss: -1233076092928.0000 - val_accuracy: 0.3858\n",
      "Epoch 72/100\n",
      "29/29 [==============================] - 1s 48ms/step - loss: -1584103948288.0000 - accuracy: 0.3824 - val_loss: -1314414526464.0000 - val_accuracy: 0.3807\n",
      "Epoch 73/100\n",
      "29/29 [==============================] - 1s 46ms/step - loss: -1683654967296.0000 - accuracy: 0.3758 - val_loss: -1400386355200.0000 - val_accuracy: 0.3756\n",
      "Epoch 74/100\n",
      "29/29 [==============================] - 1s 47ms/step - loss: -1799723941888.0000 - accuracy: 0.3802 - val_loss: -1481123430400.0000 - val_accuracy: 0.3807\n",
      "Epoch 75/100\n",
      "29/29 [==============================] - 1s 46ms/step - loss: -1913318014976.0000 - accuracy: 0.3769 - val_loss: -1572494508032.0000 - val_accuracy: 0.3807\n",
      "Epoch 76/100\n",
      "29/29 [==============================] - 1s 47ms/step - loss: -2030901657600.0000 - accuracy: 0.3747 - val_loss: -1677953597440.0000 - val_accuracy: 0.3807\n",
      "Epoch 77/100\n",
      "29/29 [==============================] - 1s 47ms/step - loss: -2152036564992.0000 - accuracy: 0.3769 - val_loss: -1753501794304.0000 - val_accuracy: 0.3807\n",
      "Epoch 78/100\n",
      "29/29 [==============================] - 1s 51ms/step - loss: -2282971201536.0000 - accuracy: 0.3758 - val_loss: -1882580713472.0000 - val_accuracy: 0.3807\n",
      "Epoch 79/100\n",
      "29/29 [==============================] - 2s 55ms/step - loss: -2426326220800.0000 - accuracy: 0.3791 - val_loss: -1999684370432.0000 - val_accuracy: 0.3807\n",
      "Epoch 80/100\n",
      "29/29 [==============================] - 1s 51ms/step - loss: -2569979297792.0000 - accuracy: 0.3736 - val_loss: -2112106659840.0000 - val_accuracy: 0.3807\n",
      "Epoch 81/100\n",
      "29/29 [==============================] - 2s 55ms/step - loss: -2707948044288.0000 - accuracy: 0.3758 - val_loss: -2247391444992.0000 - val_accuracy: 0.3756\n",
      "Epoch 82/100\n",
      "29/29 [==============================] - 1s 49ms/step - loss: -2877694935040.0000 - accuracy: 0.3769 - val_loss: -2367595216896.0000 - val_accuracy: 0.3807\n",
      "Epoch 83/100\n",
      "29/29 [==============================] - 1s 48ms/step - loss: -3039891554304.0000 - accuracy: 0.3769 - val_loss: -2495689785344.0000 - val_accuracy: 0.3706\n",
      "Epoch 84/100\n",
      "29/29 [==============================] - 1s 49ms/step - loss: -3204008640512.0000 - accuracy: 0.3725 - val_loss: -2633686843392.0000 - val_accuracy: 0.3807\n",
      "Epoch 85/100\n",
      "29/29 [==============================] - 1s 47ms/step - loss: -3380888469504.0000 - accuracy: 0.3780 - val_loss: -2775163076608.0000 - val_accuracy: 0.3807\n",
      "Epoch 86/100\n",
      "29/29 [==============================] - 1s 49ms/step - loss: -3560648474624.0000 - accuracy: 0.3736 - val_loss: -2919405191168.0000 - val_accuracy: 0.3807\n",
      "Epoch 87/100\n",
      "29/29 [==============================] - 1s 49ms/step - loss: -3751560347648.0000 - accuracy: 0.3802 - val_loss: -3068634857472.0000 - val_accuracy: 0.3858\n",
      "Epoch 88/100\n",
      "29/29 [==============================] - 1s 47ms/step - loss: -3932001402880.0000 - accuracy: 0.3780 - val_loss: -3248357900288.0000 - val_accuracy: 0.3807\n",
      "Epoch 89/100\n",
      "29/29 [==============================] - 1s 50ms/step - loss: -4154267009024.0000 - accuracy: 0.3791 - val_loss: -3394875686912.0000 - val_accuracy: 0.3807\n",
      "Epoch 90/100\n",
      "29/29 [==============================] - 1s 51ms/step - loss: -4351030198272.0000 - accuracy: 0.3736 - val_loss: -3557842223104.0000 - val_accuracy: 0.3706\n",
      "Epoch 91/100\n",
      "29/29 [==============================] - 2s 52ms/step - loss: -4564879147008.0000 - accuracy: 0.3715 - val_loss: -3723019157504.0000 - val_accuracy: 0.3858\n",
      "Epoch 92/100\n",
      "29/29 [==============================] - 2s 52ms/step - loss: -4789216739328.0000 - accuracy: 0.3736 - val_loss: -3896045993984.0000 - val_accuracy: 0.3807\n",
      "Epoch 93/100\n",
      "29/29 [==============================] - 1s 50ms/step - loss: -5011301466112.0000 - accuracy: 0.3780 - val_loss: -4119475257344.0000 - val_accuracy: 0.3807\n",
      "Epoch 94/100\n",
      "29/29 [==============================] - 1s 48ms/step - loss: -5265007050752.0000 - accuracy: 0.3802 - val_loss: -4324785389568.0000 - val_accuracy: 0.3756\n",
      "Epoch 95/100\n",
      "29/29 [==============================] - 1s 48ms/step - loss: -5518084538368.0000 - accuracy: 0.3747 - val_loss: -4526278967296.0000 - val_accuracy: 0.3807\n",
      "Epoch 96/100\n",
      "29/29 [==============================] - 1s 50ms/step - loss: -5784166989824.0000 - accuracy: 0.3834 - val_loss: -4719382626304.0000 - val_accuracy: 0.3858\n",
      "Epoch 97/100\n",
      "29/29 [==============================] - 1s 48ms/step - loss: -6045178003456.0000 - accuracy: 0.3758 - val_loss: -4938951819264.0000 - val_accuracy: 0.3706\n",
      "Epoch 98/100\n",
      "29/29 [==============================] - 1s 48ms/step - loss: -6333434167296.0000 - accuracy: 0.3769 - val_loss: -5169504845824.0000 - val_accuracy: 0.3807\n",
      "Epoch 99/100\n",
      "29/29 [==============================] - 1s 49ms/step - loss: -6607662481408.0000 - accuracy: 0.3791 - val_loss: -5410068103168.0000 - val_accuracy: 0.3706\n"
     ]
    },
    {
     "name": "stdout",
     "output_type": "stream",
     "text": [
      "Epoch 100/100\n",
      "29/29 [==============================] - 1s 48ms/step - loss: -6903428546560.0000 - accuracy: 0.3802 - val_loss: -5626231521280.0000 - val_accuracy: 0.3807\n"
     ]
    }
   ],
   "source": [
    "model_2 = Sequential([\n",
    "    Dense(1000, activation='relu', input_shape=(8,)),\n",
    "    Dense(1000, activation='relu'),\n",
    "    Dense(1000, activation='relu'),\n",
    "    Dense(1000, activation='relu'),\n",
    "    Dense(1, activation='sigmoid'),\n",
    "])\n",
    "\n",
    "model_2.compile(optimizer='adam',\n",
    "              loss='binary_crossentropy',\n",
    "              metrics=['accuracy'])\n",
    "              \n",
    "hist_2 = model_2.fit(X_train, Y_train,\n",
    "          batch_size=32, epochs=100,\n",
    "          validation_data=(X_val, Y_val))"
   ]
  },
  {
   "cell_type": "code",
   "execution_count": null,
   "id": "fe8fc708",
   "metadata": {},
   "outputs": [],
   "source": []
  },
  {
   "cell_type": "code",
   "execution_count": 143,
   "id": "b8b293f0",
   "metadata": {},
   "outputs": [],
   "source": [
    "from keras.layers import Dropout\n",
    "from keras import regularizers"
   ]
  },
  {
   "cell_type": "code",
   "execution_count": 144,
   "id": "27c0272b",
   "metadata": {},
   "outputs": [],
   "source": [
    "model_3 = Sequential([\n",
    "    Dense(1000, activation='relu', kernel_regularizer=regularizers.l2(0.01), input_shape=(8,)),\n",
    "    Dropout(0.3),\n",
    "    Dense(1000, activation='relu', kernel_regularizer=regularizers.l2(0.01)),\n",
    "    Dropout(0.3),\n",
    "    Dense(1000, activation='relu', kernel_regularizer=regularizers.l2(0.01)),\n",
    "    Dropout(0.3),\n",
    "    Dense(1000, activation='relu', kernel_regularizer=regularizers.l2(0.01)),\n",
    "    Dropout(0.3),\n",
    "    Dense(1, activation='sigmoid', kernel_regularizer=regularizers.l2(0.01)),\n",
    "])"
   ]
  },
  {
   "cell_type": "code",
   "execution_count": 145,
   "id": "da0e884f",
   "metadata": {},
   "outputs": [
    {
     "name": "stdout",
     "output_type": "stream",
     "text": [
      "Epoch 1/100\n",
      "29/29 [==============================] - 4s 71ms/step - loss: 7.6739 - accuracy: 0.3693 - val_loss: -38.0148 - val_accuracy: 0.3807\n",
      "Epoch 2/100\n",
      "29/29 [==============================] - 2s 64ms/step - loss: -492.7910 - accuracy: 0.3747 - val_loss: -1830.6261 - val_accuracy: 0.3807\n",
      "Epoch 3/100\n",
      "29/29 [==============================] - 2s 63ms/step - loss: -9014.8936 - accuracy: 0.3747 - val_loss: -22016.8203 - val_accuracy: 0.3807\n",
      "Epoch 4/100\n",
      "29/29 [==============================] - 2s 63ms/step - loss: -77307.1484 - accuracy: 0.3747 - val_loss: -137190.1875 - val_accuracy: 0.3807\n",
      "Epoch 5/100\n",
      "29/29 [==============================] - 2s 67ms/step - loss: -448738.0938 - accuracy: 0.3747 - val_loss: -779045.0625 - val_accuracy: 0.3807\n",
      "Epoch 6/100\n",
      "29/29 [==============================] - 2s 66ms/step - loss: -1695659.2500 - accuracy: 0.3769 - val_loss: -2480332.2500 - val_accuracy: 0.3807\n",
      "Epoch 7/100\n",
      "29/29 [==============================] - 2s 67ms/step - loss: -5223056.5000 - accuracy: 0.3747 - val_loss: -7571957.0000 - val_accuracy: 0.3807\n",
      "Epoch 8/100\n",
      "29/29 [==============================] - 2s 69ms/step - loss: -13504835.0000 - accuracy: 0.3802 - val_loss: -16087018.0000 - val_accuracy: 0.3807\n",
      "Epoch 9/100\n",
      "29/29 [==============================] - 2s 67ms/step - loss: -29960544.0000 - accuracy: 0.3725 - val_loss: -35226852.0000 - val_accuracy: 0.3807\n",
      "Epoch 10/100\n",
      "29/29 [==============================] - 2s 70ms/step - loss: -59274292.0000 - accuracy: 0.3747 - val_loss: -70930112.0000 - val_accuracy: 0.3807\n",
      "Epoch 11/100\n",
      "29/29 [==============================] - 2s 72ms/step - loss: -109481576.0000 - accuracy: 0.3791 - val_loss: -117277368.0000 - val_accuracy: 0.3807\n",
      "Epoch 12/100\n",
      "29/29 [==============================] - 2s 76ms/step - loss: -184826416.0000 - accuracy: 0.3747 - val_loss: -188301056.0000 - val_accuracy: 0.3807\n",
      "Epoch 13/100\n",
      "29/29 [==============================] - 2s 77ms/step - loss: -284440992.0000 - accuracy: 0.3736 - val_loss: -311462976.0000 - val_accuracy: 0.3807\n",
      "Epoch 14/100\n",
      "29/29 [==============================] - 2s 82ms/step - loss: -445708160.0000 - accuracy: 0.3704 - val_loss: -441318912.0000 - val_accuracy: 0.3807\n",
      "Epoch 15/100\n",
      "29/29 [==============================] - 3s 92ms/step - loss: -644069120.0000 - accuracy: 0.3747 - val_loss: -665129152.0000 - val_accuracy: 0.3807\n",
      "Epoch 16/100\n",
      "29/29 [==============================] - 2s 82ms/step - loss: -965525056.0000 - accuracy: 0.3704 - val_loss: -913535168.0000 - val_accuracy: 0.3807\n",
      "Epoch 17/100\n",
      "29/29 [==============================] - 3s 95ms/step - loss: -1390072064.0000 - accuracy: 0.3769 - val_loss: -1345973376.0000 - val_accuracy: 0.3807\n",
      "Epoch 18/100\n",
      "29/29 [==============================] - 2s 77ms/step - loss: -1982947456.0000 - accuracy: 0.3791 - val_loss: -1798366080.0000 - val_accuracy: 0.3807\n",
      "Epoch 19/100\n",
      "29/29 [==============================] - 2s 72ms/step - loss: -2602739712.0000 - accuracy: 0.3747 - val_loss: -2473509888.0000 - val_accuracy: 0.3807\n",
      "Epoch 20/100\n",
      "29/29 [==============================] - 2s 68ms/step - loss: -3463013376.0000 - accuracy: 0.3747 - val_loss: -3430028800.0000 - val_accuracy: 0.3807\n",
      "Epoch 21/100\n",
      "29/29 [==============================] - 2s 61ms/step - loss: -4852822528.0000 - accuracy: 0.3780 - val_loss: -4467547136.0000 - val_accuracy: 0.3807\n",
      "Epoch 22/100\n",
      "29/29 [==============================] - 2s 64ms/step - loss: -6169134080.0000 - accuracy: 0.3747 - val_loss: -5533381632.0000 - val_accuracy: 0.3756\n",
      "Epoch 23/100\n",
      "29/29 [==============================] - 2s 69ms/step - loss: -7686796288.0000 - accuracy: 0.3856 - val_loss: -7141051392.0000 - val_accuracy: 0.3756\n",
      "Epoch 24/100\n",
      "29/29 [==============================] - 2s 68ms/step - loss: -9619627008.0000 - accuracy: 0.3736 - val_loss: -8698295296.0000 - val_accuracy: 0.3706\n",
      "Epoch 25/100\n",
      "29/29 [==============================] - 2s 62ms/step - loss: -12094081024.0000 - accuracy: 0.3747 - val_loss: -11008409600.0000 - val_accuracy: 0.3807\n",
      "Epoch 26/100\n",
      "29/29 [==============================] - 2s 73ms/step - loss: -15378958336.0000 - accuracy: 0.3758 - val_loss: -13876375552.0000 - val_accuracy: 0.3807\n",
      "Epoch 27/100\n",
      "29/29 [==============================] - 2s 77ms/step - loss: -18650085376.0000 - accuracy: 0.3725 - val_loss: -16770805760.0000 - val_accuracy: 0.3756\n",
      "Epoch 28/100\n",
      "29/29 [==============================] - 2s 85ms/step - loss: -22202572800.0000 - accuracy: 0.3769 - val_loss: -20122562560.0000 - val_accuracy: 0.3807\n",
      "Epoch 29/100\n",
      "29/29 [==============================] - 2s 67ms/step - loss: -27910164480.0000 - accuracy: 0.3660 - val_loss: -23813685248.0000 - val_accuracy: 0.3807\n",
      "Epoch 30/100\n",
      "29/29 [==============================] - 2s 65ms/step - loss: -32496285696.0000 - accuracy: 0.3671 - val_loss: -28117377024.0000 - val_accuracy: 0.3807\n",
      "Epoch 31/100\n",
      "29/29 [==============================] - 2s 72ms/step - loss: -38336126976.0000 - accuracy: 0.3736 - val_loss: -33871214592.0000 - val_accuracy: 0.3807\n",
      "Epoch 32/100\n",
      "29/29 [==============================] - 2s 67ms/step - loss: -46162464768.0000 - accuracy: 0.3813 - val_loss: -39647891456.0000 - val_accuracy: 0.3807\n",
      "Epoch 33/100\n",
      "29/29 [==============================] - 2s 68ms/step - loss: -54199984128.0000 - accuracy: 0.3780 - val_loss: -46138478592.0000 - val_accuracy: 0.3807\n",
      "Epoch 34/100\n",
      "29/29 [==============================] - 2s 59ms/step - loss: -63421202432.0000 - accuracy: 0.3725 - val_loss: -53835497472.0000 - val_accuracy: 0.3807\n",
      "Epoch 35/100\n",
      "29/29 [==============================] - 2s 63ms/step - loss: -71998709760.0000 - accuracy: 0.3725 - val_loss: -63454081024.0000 - val_accuracy: 0.3807\n",
      "Epoch 36/100\n",
      "29/29 [==============================] - 2s 74ms/step - loss: -81567399936.0000 - accuracy: 0.3747 - val_loss: -71567024128.0000 - val_accuracy: 0.3756\n",
      "Epoch 37/100\n",
      "29/29 [==============================] - 2s 64ms/step - loss: -94626529280.0000 - accuracy: 0.3769 - val_loss: -83595739136.0000 - val_accuracy: 0.3807\n",
      "Epoch 38/100\n",
      "29/29 [==============================] - 2s 66ms/step - loss: -111377948672.0000 - accuracy: 0.3704 - val_loss: -93323296768.0000 - val_accuracy: 0.3807\n",
      "Epoch 39/100\n",
      "29/29 [==============================] - 2s 71ms/step - loss: -128913842176.0000 - accuracy: 0.3725 - val_loss: -107696537600.0000 - val_accuracy: 0.3807\n",
      "Epoch 40/100\n",
      "29/29 [==============================] - 2s 72ms/step - loss: -144775954432.0000 - accuracy: 0.3758 - val_loss: -122190217216.0000 - val_accuracy: 0.3807\n",
      "Epoch 41/100\n",
      "29/29 [==============================] - 2s 67ms/step - loss: -158519164928.0000 - accuracy: 0.3725 - val_loss: -135614791680.0000 - val_accuracy: 0.3807\n",
      "Epoch 42/100\n",
      "29/29 [==============================] - 2s 67ms/step - loss: -175213330432.0000 - accuracy: 0.3758 - val_loss: -153841713152.0000 - val_accuracy: 0.3807\n",
      "Epoch 43/100\n",
      "29/29 [==============================] - 2s 68ms/step - loss: -203777392640.0000 - accuracy: 0.3747 - val_loss: -170773626880.0000 - val_accuracy: 0.3706\n",
      "Epoch 44/100\n",
      "29/29 [==============================] - 2s 80ms/step - loss: -224226574336.0000 - accuracy: 0.3736 - val_loss: -191927730176.0000 - val_accuracy: 0.3807\n",
      "Epoch 45/100\n",
      "29/29 [==============================] - 2s 73ms/step - loss: -256225132544.0000 - accuracy: 0.3769 - val_loss: -210816466944.0000 - val_accuracy: 0.3807\n",
      "Epoch 46/100\n",
      "29/29 [==============================] - 2s 79ms/step - loss: -280857509888.0000 - accuracy: 0.3725 - val_loss: -234998104064.0000 - val_accuracy: 0.3807\n",
      "Epoch 47/100\n",
      "29/29 [==============================] - 2s 74ms/step - loss: -303617474560.0000 - accuracy: 0.3813 - val_loss: -263671857152.0000 - val_accuracy: 0.3807\n",
      "Epoch 48/100\n",
      "29/29 [==============================] - 2s 63ms/step - loss: -340188266496.0000 - accuracy: 0.3736 - val_loss: -288183943168.0000 - val_accuracy: 0.3807\n",
      "Epoch 49/100\n",
      "29/29 [==============================] - 2s 59ms/step - loss: -385693712384.0000 - accuracy: 0.3758 - val_loss: -319582404608.0000 - val_accuracy: 0.3807\n",
      "Epoch 50/100\n",
      "29/29 [==============================] - 2s 59ms/step - loss: -406235152384.0000 - accuracy: 0.3736 - val_loss: -346206863360.0000 - val_accuracy: 0.3807\n",
      "Epoch 51/100\n"
     ]
    },
    {
     "name": "stdout",
     "output_type": "stream",
     "text": [
      "29/29 [==============================] - 2s 58ms/step - loss: -450342289408.0000 - accuracy: 0.3758 - val_loss: -383785631744.0000 - val_accuracy: 0.3807\n",
      "Epoch 52/100\n",
      "29/29 [==============================] - 2s 58ms/step - loss: -496933109760.0000 - accuracy: 0.3747 - val_loss: -423114735616.0000 - val_accuracy: 0.3807\n",
      "Epoch 53/100\n",
      "29/29 [==============================] - 2s 66ms/step - loss: -552739799040.0000 - accuracy: 0.3769 - val_loss: -460485853184.0000 - val_accuracy: 0.3807\n",
      "Epoch 54/100\n",
      "29/29 [==============================] - 2s 69ms/step - loss: -605808885760.0000 - accuracy: 0.3758 - val_loss: -502142500864.0000 - val_accuracy: 0.3807\n",
      "Epoch 55/100\n",
      "29/29 [==============================] - 2s 78ms/step - loss: -660382416896.0000 - accuracy: 0.3813 - val_loss: -551056113664.0000 - val_accuracy: 0.3807\n",
      "Epoch 56/100\n",
      "29/29 [==============================] - 2s 64ms/step - loss: -716902957056.0000 - accuracy: 0.3758 - val_loss: -605750493184.0000 - val_accuracy: 0.3807\n",
      "Epoch 57/100\n",
      "29/29 [==============================] - 2s 63ms/step - loss: -792649138176.0000 - accuracy: 0.3791 - val_loss: -656210132992.0000 - val_accuracy: 0.3807\n",
      "Epoch 58/100\n",
      "29/29 [==============================] - 2s 60ms/step - loss: -849424220160.0000 - accuracy: 0.3736 - val_loss: -704396197888.0000 - val_accuracy: 0.3807\n",
      "Epoch 59/100\n",
      "29/29 [==============================] - 2s 59ms/step - loss: -924972810240.0000 - accuracy: 0.3704 - val_loss: -758252765184.0000 - val_accuracy: 0.3807\n",
      "Epoch 60/100\n",
      "29/29 [==============================] - 2s 60ms/step - loss: -994205958144.0000 - accuracy: 0.3747 - val_loss: -817399595008.0000 - val_accuracy: 0.3807\n",
      "Epoch 61/100\n",
      "29/29 [==============================] - 2s 80ms/step - loss: -1077799944192.0000 - accuracy: 0.3736 - val_loss: -891682684928.0000 - val_accuracy: 0.3807\n",
      "Epoch 62/100\n",
      "29/29 [==============================] - 2s 69ms/step - loss: -1174416916480.0000 - accuracy: 0.3747 - val_loss: -952403689472.0000 - val_accuracy: 0.3807\n",
      "Epoch 63/100\n",
      "29/29 [==============================] - 2s 68ms/step - loss: -1221019172864.0000 - accuracy: 0.3747 - val_loss: -1017389973504.0000 - val_accuracy: 0.3807\n",
      "Epoch 64/100\n",
      "29/29 [==============================] - 2s 72ms/step - loss: -1337112002560.0000 - accuracy: 0.3747 - val_loss: -1107984252928.0000 - val_accuracy: 0.3807\n",
      "Epoch 65/100\n",
      "29/29 [==============================] - 2s 70ms/step - loss: -1445543673856.0000 - accuracy: 0.3747 - val_loss: -1187671834624.0000 - val_accuracy: 0.3807\n",
      "Epoch 66/100\n",
      "29/29 [==============================] - 2s 66ms/step - loss: -1528537153536.0000 - accuracy: 0.3747 - val_loss: -1263232221184.0000 - val_accuracy: 0.3807\n",
      "Epoch 67/100\n",
      "29/29 [==============================] - 2s 60ms/step - loss: -1645187432448.0000 - accuracy: 0.3747 - val_loss: -1355812438016.0000 - val_accuracy: 0.3706\n",
      "Epoch 68/100\n",
      "29/29 [==============================] - 2s 65ms/step - loss: -1719389782016.0000 - accuracy: 0.3813 - val_loss: -1451541528576.0000 - val_accuracy: 0.3807\n",
      "Epoch 69/100\n",
      "29/29 [==============================] - 2s 61ms/step - loss: -1885496934400.0000 - accuracy: 0.3758 - val_loss: -1522432999424.0000 - val_accuracy: 0.3807\n",
      "Epoch 70/100\n",
      "29/29 [==============================] - 2s 64ms/step - loss: -1979045380096.0000 - accuracy: 0.3747 - val_loss: -1636715724800.0000 - val_accuracy: 0.3807\n",
      "Epoch 71/100\n",
      "29/29 [==============================] - 2s 69ms/step - loss: -2170413645824.0000 - accuracy: 0.3747 - val_loss: -1732426203136.0000 - val_accuracy: 0.3807\n",
      "Epoch 72/100\n",
      "29/29 [==============================] - 2s 65ms/step - loss: -2285405208576.0000 - accuracy: 0.3747 - val_loss: -1839162982400.0000 - val_accuracy: 0.3807\n",
      "Epoch 73/100\n",
      "29/29 [==============================] - 2s 68ms/step - loss: -2398125555712.0000 - accuracy: 0.3704 - val_loss: -1964767313920.0000 - val_accuracy: 0.3807\n",
      "Epoch 74/100\n",
      "29/29 [==============================] - 2s 64ms/step - loss: -2504043790336.0000 - accuracy: 0.3758 - val_loss: -2084670930944.0000 - val_accuracy: 0.3807\n",
      "Epoch 75/100\n",
      "29/29 [==============================] - 2s 61ms/step - loss: -2607303360512.0000 - accuracy: 0.3747 - val_loss: -2211843407872.0000 - val_accuracy: 0.3807\n",
      "Epoch 76/100\n",
      "29/29 [==============================] - 2s 62ms/step - loss: -2862595702784.0000 - accuracy: 0.3747 - val_loss: -2327049666560.0000 - val_accuracy: 0.3807\n",
      "Epoch 77/100\n",
      "29/29 [==============================] - 2s 62ms/step - loss: -2993915953152.0000 - accuracy: 0.3736 - val_loss: -2458833911808.0000 - val_accuracy: 0.3807\n",
      "Epoch 78/100\n",
      "29/29 [==============================] - 2s 64ms/step - loss: -3242720755712.0000 - accuracy: 0.3747 - val_loss: -2621511565312.0000 - val_accuracy: 0.3807\n",
      "Epoch 79/100\n",
      "29/29 [==============================] - 2s 67ms/step - loss: -3389991944192.0000 - accuracy: 0.3747 - val_loss: -2770629296128.0000 - val_accuracy: 0.3807\n",
      "Epoch 80/100\n",
      "29/29 [==============================] - 2s 69ms/step - loss: -3557147803648.0000 - accuracy: 0.3758 - val_loss: -2932339638272.0000 - val_accuracy: 0.3807\n",
      "Epoch 81/100\n",
      "29/29 [==============================] - 2s 71ms/step - loss: -3840000393216.0000 - accuracy: 0.3747 - val_loss: -3065146507264.0000 - val_accuracy: 0.3807\n",
      "Epoch 82/100\n",
      "29/29 [==============================] - 2s 75ms/step - loss: -3986429050880.0000 - accuracy: 0.3747 - val_loss: -3232939900928.0000 - val_accuracy: 0.3807\n",
      "Epoch 83/100\n",
      "29/29 [==============================] - 2s 69ms/step - loss: -4160340361216.0000 - accuracy: 0.3747 - val_loss: -3422749982720.0000 - val_accuracy: 0.3807\n",
      "Epoch 84/100\n",
      "29/29 [==============================] - 2s 67ms/step - loss: -4447250939904.0000 - accuracy: 0.3747 - val_loss: -3581308043264.0000 - val_accuracy: 0.3807\n",
      "Epoch 85/100\n",
      "29/29 [==============================] - 2s 68ms/step - loss: -4499874250752.0000 - accuracy: 0.3747 - val_loss: -3790211121152.0000 - val_accuracy: 0.3807\n",
      "Epoch 86/100\n",
      "29/29 [==============================] - 2s 68ms/step - loss: -4772344627200.0000 - accuracy: 0.3747 - val_loss: -3969830354944.0000 - val_accuracy: 0.3807\n",
      "Epoch 87/100\n",
      "29/29 [==============================] - 2s 73ms/step - loss: -4975959212032.0000 - accuracy: 0.3736 - val_loss: -4168689123328.0000 - val_accuracy: 0.3807\n",
      "Epoch 88/100\n",
      "29/29 [==============================] - 2s 69ms/step - loss: -5464277385216.0000 - accuracy: 0.3747 - val_loss: -4354755264512.0000 - val_accuracy: 0.3807\n",
      "Epoch 89/100\n",
      "29/29 [==============================] - 2s 72ms/step - loss: -5580205326336.0000 - accuracy: 0.3736 - val_loss: -4558156201984.0000 - val_accuracy: 0.3807\n",
      "Epoch 90/100\n",
      "29/29 [==============================] - 2s 68ms/step - loss: -5969611325440.0000 - accuracy: 0.3747 - val_loss: -4792711118848.0000 - val_accuracy: 0.3807\n",
      "Epoch 91/100\n",
      "29/29 [==============================] - 2s 62ms/step - loss: -6174111956992.0000 - accuracy: 0.3747 - val_loss: -5017311379456.0000 - val_accuracy: 0.3807\n",
      "Epoch 92/100\n",
      "29/29 [==============================] - 2s 64ms/step - loss: -6469714968576.0000 - accuracy: 0.3769 - val_loss: -5240622940160.0000 - val_accuracy: 0.3807\n",
      "Epoch 93/100\n",
      "29/29 [==============================] - 2s 63ms/step - loss: -6751487262720.0000 - accuracy: 0.3758 - val_loss: -5482789994496.0000 - val_accuracy: 0.3807\n",
      "Epoch 94/100\n",
      "29/29 [==============================] - 2s 63ms/step - loss: -7067553234944.0000 - accuracy: 0.3747 - val_loss: -5697951498240.0000 - val_accuracy: 0.3807\n",
      "Epoch 95/100\n",
      "29/29 [==============================] - 2s 61ms/step - loss: -7232045973504.0000 - accuracy: 0.3758 - val_loss: -5945537593344.0000 - val_accuracy: 0.3807\n",
      "Epoch 96/100\n",
      "29/29 [==============================] - 2s 64ms/step - loss: -7745592360960.0000 - accuracy: 0.3769 - val_loss: -6208754810880.0000 - val_accuracy: 0.3807\n",
      "Epoch 97/100\n",
      "29/29 [==============================] - 2s 70ms/step - loss: -8090278690816.0000 - accuracy: 0.3736 - val_loss: -6508233883648.0000 - val_accuracy: 0.3807\n",
      "Epoch 98/100\n",
      "29/29 [==============================] - 2s 68ms/step - loss: -8169959456768.0000 - accuracy: 0.3747 - val_loss: -6778502250496.0000 - val_accuracy: 0.3807\n",
      "Epoch 99/100\n",
      "29/29 [==============================] - 2s 61ms/step - loss: -8720069689344.0000 - accuracy: 0.3747 - val_loss: -7078624100352.0000 - val_accuracy: 0.3807\n"
     ]
    },
    {
     "name": "stdout",
     "output_type": "stream",
     "text": [
      "Epoch 100/100\n",
      "29/29 [==============================] - 2s 60ms/step - loss: -9459453657088.0000 - accuracy: 0.3747 - val_loss: -7371929681920.0000 - val_accuracy: 0.3807\n"
     ]
    }
   ],
   "source": [
    "model_3.compile(optimizer='adam',\n",
    "              loss='binary_crossentropy',\n",
    "              metrics=['accuracy'])\n",
    "              \n",
    "hist_3 = model_3.fit(X_train, Y_train,\n",
    "          batch_size=32, epochs=100,\n",
    "          validation_data=(X_val, Y_val))"
   ]
  },
  {
   "cell_type": "code",
   "execution_count": null,
   "id": "1966db38",
   "metadata": {},
   "outputs": [],
   "source": []
  }
 ],
 "metadata": {
  "kernelspec": {
   "display_name": "Python 3 (ipykernel)",
   "language": "python",
   "name": "python3"
  },
  "language_info": {
   "codemirror_mode": {
    "name": "ipython",
    "version": 3
   },
   "file_extension": ".py",
   "mimetype": "text/x-python",
   "name": "python",
   "nbconvert_exporter": "python",
   "pygments_lexer": "ipython3",
   "version": "3.9.7"
  }
 },
 "nbformat": 4,
 "nbformat_minor": 5
}
