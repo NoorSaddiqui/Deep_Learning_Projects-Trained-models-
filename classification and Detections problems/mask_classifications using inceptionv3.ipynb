{
  "nbformat": 4,
  "nbformat_minor": 0,
  "metadata": {
    "colab": {
      "name": "mask_classifications.ipynb",
      "provenance": []
    },
    "kernelspec": {
      "name": "python3",
      "display_name": "Python 3"
    },
    "language_info": {
      "name": "python"
    },
    "accelerator": "GPU"
  },
  "cells": [
    {
      "cell_type": "code",
      "source": [
        "import numpy as np\n",
        "import tensorflow as tf\n",
        "import keras\n",
        "import matplotlib.pyplot as plt\n",
        "from keras.layers import *\n",
        "from keras import models\n",
        "model = models.Sequential()\n",
        "from keras.preprocessing import image"
      ],
      "metadata": {
        "id": "NES2Gp88ik55"
      },
      "execution_count": 40,
      "outputs": []
    },
    {
      "cell_type": "code",
      "source": [
        "from tensorflow.keras.applications import InceptionV3\n",
        "conv_base = InceptionV3(weights='imagenet',\n",
        "                              include_top=False,\n",
        "                              input_shape=(224, 224, 3))"
      ],
      "metadata": {
        "id": "EX-W9Jayik-m"
      },
      "execution_count": 41,
      "outputs": []
    },
    {
      "cell_type": "code",
      "source": [
        "from keras import models\n",
        "from keras import layers\n",
        "model = models.Sequential()\n",
        "model.add(conv_base)\n",
        "model.add(Dropout(0.25))\n",
        "\n",
        "\n",
        "model.add(layers.Flatten())\n",
        "model.add(layers.Dense(256, activation='relu'))\n",
        "model.add(layers.Dense(128, activation='relu'))\n",
        "model.add(Dropout(0.25))\n",
        "model.add(layers.Dense(1, activation='sigmoid'))"
      ],
      "metadata": {
        "id": "Nd411M9MilCK"
      },
      "execution_count": 42,
      "outputs": []
    },
    {
      "cell_type": "code",
      "source": [
        "model.summary()"
      ],
      "metadata": {
        "colab": {
          "base_uri": "https://localhost:8080/"
        },
        "id": "J0ZWHf4p1Kx7",
        "outputId": "d37a0446-02eb-4437-ca43-fd98c0238042"
      },
      "execution_count": 43,
      "outputs": [
        {
          "output_type": "stream",
          "name": "stdout",
          "text": [
            "Model: \"sequential_10\"\n",
            "_________________________________________________________________\n",
            " Layer (type)                Output Shape              Param #   \n",
            "=================================================================\n",
            " inception_v3 (Functional)   (None, 5, 5, 2048)        21802784  \n",
            "                                                                 \n",
            " dropout_8 (Dropout)         (None, 5, 5, 2048)        0         \n",
            "                                                                 \n",
            " flatten_4 (Flatten)         (None, 51200)             0         \n",
            "                                                                 \n",
            " dense_12 (Dense)            (None, 256)               13107456  \n",
            "                                                                 \n",
            " dense_13 (Dense)            (None, 128)               32896     \n",
            "                                                                 \n",
            " dropout_9 (Dropout)         (None, 128)               0         \n",
            "                                                                 \n",
            " dense_14 (Dense)            (None, 1)                 129       \n",
            "                                                                 \n",
            "=================================================================\n",
            "Total params: 34,943,265\n",
            "Trainable params: 34,908,833\n",
            "Non-trainable params: 34,432\n",
            "_________________________________________________________________\n"
          ]
        }
      ]
    },
    {
      "cell_type": "code",
      "source": [
        ""
      ],
      "metadata": {
        "id": "kkq8vfaSjDM9"
      },
      "execution_count": 43,
      "outputs": []
    },
    {
      "cell_type": "code",
      "source": [
        "\"\"\"model.compile(optimizer=\"rmsprop\",\n",
        " loss=\"binary_crossentropy\",\n",
        " metrics=[\"accuracy\"])\"\"\""
      ],
      "metadata": {
        "colab": {
          "base_uri": "https://localhost:8080/",
          "height": 35
        },
        "id": "QUlNfB6EjDJO",
        "outputId": "3c264aea-06fa-4ba9-a3c0-5b3882665bf1"
      },
      "execution_count": 44,
      "outputs": [
        {
          "output_type": "execute_result",
          "data": {
            "text/plain": [
              "'model.compile(optimizer=\"rmsprop\",\\n loss=\"binary_crossentropy\",\\n metrics=[\"accuracy\"])'"
            ],
            "application/vnd.google.colaboratory.intrinsic+json": {
              "type": "string"
            }
          },
          "metadata": {},
          "execution_count": 44
        }
      ]
    },
    {
      "cell_type": "code",
      "source": [
        "model.compile(optimizer=\"rmsprop\",\n",
        " loss=\"binary_crossentropy\",\n",
        " metrics=[\"accuracy\"])"
      ],
      "metadata": {
        "id": "S_1x9U-P1OVv"
      },
      "execution_count": 47,
      "outputs": []
    },
    {
      "cell_type": "code",
      "source": [
        "from tensorflow.keras.utils import image_dataset_from_directory\n",
        "\n",
        "train_dataset = image_dataset_from_directory(\"/content/drive/MyDrive/computer_vision/preprocess_data/train\",\n",
        "                                            image_size=(224,224), batch_size=32)"
      ],
      "metadata": {
        "colab": {
          "base_uri": "https://localhost:8080/"
        },
        "id": "OMZdBaEv13iq",
        "outputId": "471dff9b-84f9-48cd-905c-495c24f92de5"
      },
      "execution_count": 48,
      "outputs": [
        {
          "output_type": "stream",
          "name": "stdout",
          "text": [
            "Found 4190 files belonging to 2 classes.\n"
          ]
        }
      ]
    },
    {
      "cell_type": "code",
      "source": [
        "val_dataset = image_dataset_from_directory(\"/content/drive/MyDrive/computer_vision/preprocess_data/val\",\n",
        "                                             image_size=(224, 224),batch_size=32)"
      ],
      "metadata": {
        "colab": {
          "base_uri": "https://localhost:8080/"
        },
        "id": "zIF4HMk32ArP",
        "outputId": "7b50f51b-1c29-410d-f858-585ef5fcfcf0"
      },
      "execution_count": 49,
      "outputs": [
        {
          "output_type": "stream",
          "name": "stdout",
          "text": [
            "Found 1196 files belonging to 2 classes.\n"
          ]
        }
      ]
    },
    {
      "cell_type": "code",
      "source": [
        "\n",
        "history = model.fit(\n",
        "train_dataset,validation_data = val_dataset, epochs=10)"
      ],
      "metadata": {
        "colab": {
          "base_uri": "https://localhost:8080/"
        },
        "id": "Xrn4RZ2x2PAO",
        "outputId": "b0090708-ae11-46dc-8551-2c04e1b5fc52"
      },
      "execution_count": 50,
      "outputs": [
        {
          "output_type": "stream",
          "name": "stdout",
          "text": [
            "Epoch 1/10\n",
            "131/131 [==============================] - 53s 305ms/step - loss: 0.9406 - accuracy: 0.8033 - val_loss: 7.1627 - val_accuracy: 0.7742\n",
            "Epoch 2/10\n",
            "131/131 [==============================] - 39s 290ms/step - loss: 0.1620 - accuracy: 0.9685 - val_loss: 783.1476 - val_accuracy: 0.8938\n",
            "Epoch 3/10\n",
            "131/131 [==============================] - 39s 291ms/step - loss: 0.1207 - accuracy: 0.9764 - val_loss: 8136.1104 - val_accuracy: 0.5485\n",
            "Epoch 4/10\n",
            "131/131 [==============================] - 38s 289ms/step - loss: 0.2514 - accuracy: 0.9699 - val_loss: 0.3746 - val_accuracy: 0.9691\n",
            "Epoch 5/10\n",
            "131/131 [==============================] - 38s 289ms/step - loss: 0.1174 - accuracy: 0.9785 - val_loss: 17.2603 - val_accuracy: 0.8219\n",
            "Epoch 6/10\n",
            "131/131 [==============================] - 38s 290ms/step - loss: 0.0996 - accuracy: 0.9823 - val_loss: 0.1722 - val_accuracy: 0.9791\n",
            "Epoch 7/10\n",
            "131/131 [==============================] - 42s 313ms/step - loss: 0.0806 - accuracy: 0.9842 - val_loss: 1.0643 - val_accuracy: 0.9816\n",
            "Epoch 8/10\n",
            "131/131 [==============================] - 39s 291ms/step - loss: 0.0731 - accuracy: 0.9862 - val_loss: 0.1332 - val_accuracy: 0.9540\n",
            "Epoch 9/10\n",
            "131/131 [==============================] - 39s 295ms/step - loss: 0.1015 - accuracy: 0.9854 - val_loss: 0.0914 - val_accuracy: 0.9799\n",
            "Epoch 10/10\n",
            "131/131 [==============================] - 38s 288ms/step - loss: 0.0667 - accuracy: 0.9881 - val_loss: 0.0634 - val_accuracy: 0.9816\n"
          ]
        }
      ]
    },
    {
      "cell_type": "code",
      "source": [
        "import matplotlib.pyplot as plt\n",
        "accuracy = history.history[\"accuracy\"]\n",
        "val_accuracy = history.history[\"val_accuracy\"]\n",
        "loss = history.history[\"loss\"]\n",
        "val_loss = history.history[\"val_loss\"]\n",
        "epochs = range(1, len(accuracy) + 1)\n",
        "plt.plot(epochs, accuracy, \"bo\", label=\"Training accuracy\")\n",
        "plt.plot(epochs, val_accuracy, \"b\", label=\"Validation accuracy\")\n",
        "plt.title(\"Training and validation accuracy\")\n",
        "plt.legend()\n",
        "plt.figure()\n",
        "plt.plot(epochs, loss, \"bo\", label=\"Training loss\")\n",
        "plt.plot(epochs, val_loss, \"b\", label=\"Validation loss\")\n",
        "plt.title(\"Training and validation loss\")\n",
        "plt.legend()\n",
        "plt.show()"
      ],
      "metadata": {
        "colab": {
          "base_uri": "https://localhost:8080/",
          "height": 545
        },
        "id": "MSA4t-Cg1O0I",
        "outputId": "e1a731a8-7478-4e4b-dde9-5cd61786ce69"
      },
      "execution_count": 53,
      "outputs": [
        {
          "output_type": "display_data",
          "data": {
            "text/plain": [
              "<Figure size 432x288 with 1 Axes>"
            ],
            "image/png": "[encoded data removed]"
          },
          "metadata": {
            "needs_background": "light"
          }
        },
        {
          "output_type": "display_data",
          "data": {
            "text/plain": [
              "<Figure size 432x288 with 1 Axes>"
            ],
            "image/png": "[encoded data removed]"
          },
          "metadata": {
            "needs_background": "light"
          }
        }
      ]
    },
    {
      "cell_type": "code",
      "source": [
        "print(history.history.keys())\n",
        "\n",
        "import matplotlib.pylab as plt\n",
        "from matplotlib.pyplot import figure\n",
        "figure(figsize=(8, 6))\n",
        "plt.plot(history.history['loss'])\n",
        "plt.plot(history.history['val_loss'])\n",
        "plt.title('model loss')\n",
        "plt.ylabel('loss')\n",
        "plt.xlabel('epoch')\n",
        "plt.legend(['train', 'test'], loc='upper left')\n",
        "plt.show()"
      ],
      "metadata": {
        "colab": {
          "base_uri": "https://localhost:8080/",
          "height": 421
        },
        "id": "g2Y5cMFn16tn",
        "outputId": "80248299-22f9-4c77-9e46-96c20250a59f"
      },
      "execution_count": 55,
      "outputs": [
        {
          "output_type": "stream",
          "name": "stdout",
          "text": [
            "dict_keys(['loss', 'accuracy', 'val_loss', 'val_accuracy'])\n"
          ]
        },
        {
          "output_type": "display_data",
          "data": {
            "text/plain": [
              "<Figure size 576x432 with 1 Axes>"
            ],
            "image/png": "[encoded data removed]"
          },
          "metadata": {
            "needs_background": "light"
          }
        }
      ]
    },
    {
      "cell_type": "code",
      "source": [
        "import matplotlib.pyplot as plt\n",
        "import seaborn as sns\n",
        "import pandas as pd\n",
        "\n",
        "\n",
        "# Create pandas DataFrame\n",
        "df_history = pd.DataFrame(history.history)\n",
        "print(df_history)\n",
        " \n",
        "# Plot using Seaborn\n",
        "my_plot = sns.lineplot(data=df_history[[\"loss\",\"val_loss\"]])\n",
        "my_plot.set_xlabel('Epochs')\n",
        "my_plot.set_ylabel('Loss')\n",
        "plt.legend(labels=[\"Training\", \"Validation\"])\n",
        "plt.title('Training and Validation Loss')\n",
        "plt.show()"
      ],
      "metadata": {
        "colab": {
          "base_uri": "https://localhost:8080/",
          "height": 486
        },
        "id": "MTcApA_Jz_Es",
        "outputId": "ac4befc7-b7a1-4567-816d-2c5e02c9bfba"
      },
      "execution_count": 51,
      "outputs": [
        {
          "output_type": "stream",
          "name": "stdout",
          "text": [
            "       loss  accuracy     val_loss  val_accuracy\n",
            "0  0.940606  0.803341     7.162652      0.774247\n",
            "1  0.162030  0.968496   783.147583      0.893813\n",
            "2  0.120710  0.976372  8136.110352      0.548495\n",
            "3  0.251380  0.969928     0.374619      0.969064\n",
            "4  0.117354  0.978520    17.260260      0.821906\n",
            "5  0.099607  0.982339     0.172236      0.979097\n",
            "6  0.080616  0.984248     1.064344      0.981605\n",
            "7  0.073135  0.986158     0.133243      0.954013\n",
            "8  0.101533  0.985442     0.091439      0.979933\n",
            "9  0.066653  0.988067     0.063354      0.981605\n"
          ]
        },
        {
          "output_type": "display_data",
          "data": {
            "text/plain": [
              "<Figure size 432x288 with 1 Axes>"
            ],
            "image/png": "[encoded data removed]"
          },
          "metadata": {
            "needs_background": "light"
          }
        }
      ]
    },
    {
      "cell_type": "code",
      "source": [
        ""
      ],
      "metadata": {
        "id": "alUX77oMz_Hk"
      },
      "execution_count": null,
      "outputs": []
    },
    {
      "cell_type": "code",
      "source": [
        "model.save('mask_classification.h5')"
      ],
      "metadata": {
        "id": "z6KSt0ga2VPy"
      },
      "execution_count": 56,
      "outputs": []
    },
    {
      "cell_type": "code",
      "source": [
        "test_dataset = image_dataset_from_directory(\"/content/drive/MyDrive/computer_vision/preprocess_data/test\",\n",
        "                                             image_size=(224, 224),batch_size=32)"
      ],
      "metadata": {
        "colab": {
          "base_uri": "https://localhost:8080/"
        },
        "id": "tVL0vtXPtaNf",
        "outputId": "e60f0da9-2c20-4165-b817-937cbfeca215"
      },
      "execution_count": 57,
      "outputs": [
        {
          "output_type": "stream",
          "name": "stdout",
          "text": [
            "Found 602 files belonging to 2 classes.\n"
          ]
        }
      ]
    },
    {
      "cell_type": "code",
      "source": [
        "model.evaluate(test_dataset)"
      ],
      "metadata": {
        "colab": {
          "base_uri": "https://localhost:8080/"
        },
        "id": "tmMLn28T3y9d",
        "outputId": "aef1cf60-4726-4ca7-fbd7-630903c4f2b0"
      },
      "execution_count": 58,
      "outputs": [
        {
          "output_type": "stream",
          "name": "stdout",
          "text": [
            "19/19 [==============================] - 2s 89ms/step - loss: 0.0199 - accuracy: 0.9917\n"
          ]
        },
        {
          "output_type": "execute_result",
          "data": {
            "text/plain": [
              "[0.019853319972753525, 0.9916943311691284]"
            ]
          },
          "metadata": {},
          "execution_count": 58
        }
      ]
    },
    {
      "cell_type": "code",
      "source": [
        ""
      ],
      "metadata": {
        "id": "D_ZH3CNe5Sz8"
      },
      "execution_count": null,
      "outputs": []
    }
  ]
}