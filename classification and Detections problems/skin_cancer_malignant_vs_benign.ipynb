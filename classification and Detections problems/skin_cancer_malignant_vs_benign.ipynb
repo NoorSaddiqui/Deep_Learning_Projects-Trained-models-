{
  "nbformat": 4,
  "nbformat_minor": 0,
  "metadata": {
    "colab": {
      "name": "skin-cancer-malignant-vs-benign.ipynb",
      "provenance": [],
      "collapsed_sections": []
    },
    "kernelspec": {
      "name": "python3",
      "display_name": "Python 3"
    },
    "language_info": {
      "name": "python"
    },
    "accelerator": "GPU"
  },
  "cells": [
    {
      "cell_type": "code",
      "metadata": {
        "id": "XAdLCXNaWDyW"
      },
      "source": [
        "import tensorflow as tf"
      ],
      "execution_count": 13,
      "outputs": []
    },
    {
      "cell_type": "code",
      "metadata": {
        "id": "WGs1oh45WHu-"
      },
      "source": [
        "from tensorflow.keras import layers\n",
        "from tensorflow.keras import models\n",
        "model = models.Sequential()\n",
        "model.add(layers.Conv2D(32, (3, 3), activation='relu',\n",
        "                        input_shape=(150, 150, 3)))\n",
        "model.add(layers.MaxPooling2D((2, 2)))\n",
        "model.add(layers.Conv2D(64, (3, 3), activation='relu'))\n",
        "model.add(layers.MaxPooling2D((2, 2)))\n",
        "model.add(layers.Conv2D(128, (3, 3), activation='relu'))\n",
        "model.add(layers.MaxPooling2D((2, 2)))\n",
        "model.add(layers.Conv2D(128, (3, 3), activation='relu'))\n",
        "model.add(layers.MaxPooling2D((2, 2)))\n",
        "model.add(layers.Flatten())\n",
        "model.add(layers.Dense(512, activation='relu'))\n",
        "model.add(layers.Dense(128, activation='relu'))\n",
        "\n",
        "model.add(layers.Dense(1, activation='sigmoid'))"
      ],
      "execution_count": 14,
      "outputs": []
    },
    {
      "cell_type": "code",
      "metadata": {
        "id": "CpSTRfr7Wmyw"
      },
      "source": [
        "from tensorflow.keras import optimizers\n",
        "model.compile(loss='binary_crossentropy',\n",
        "              optimizer=optimizers.RMSprop(learning_rate=1e-4),\n",
        "               metrics=['acc'])"
      ],
      "execution_count": 15,
      "outputs": []
    },
    {
      "cell_type": "code",
      "metadata": {
        "id": "wR5oTrotXDTq"
      },
      "source": [
        "from tensorflow.keras.preprocessing.image import ImageDataGenerator\n",
        "train_datagen = ImageDataGenerator(rescale=1./255 )\n",
        "\n",
        "validation_datagen = ImageDataGenerator(rescale=1./255)\n",
        "test_datagen = ImageDataGenerator(rescale=1./255)\n"
      ],
      "execution_count": 16,
      "outputs": []
    },
    {
      "cell_type": "code",
      "metadata": {
        "colab": {
          "base_uri": "https://localhost:8080/"
        },
        "id": "xOxMLt-iXF5_",
        "outputId": "dde813d6-82c1-4c42-c462-6a838356a96a"
      },
      "source": [
        "train_generator = train_datagen.flow_from_directory(\n",
        "'/content/drive/MyDrive/computer_vision/skin-cancer-malignant-vs-benign/data/train',\n",
        "                                                      target_size=(150, 150),\n",
        "                                                      batch_size=32,\n",
        "                                                      class_mode='binary')\n",
        "2355/32"
      ],
      "execution_count": 17,
      "outputs": [
        {
          "output_type": "stream",
          "name": "stdout",
          "text": [
            "Found 2355 images belonging to 2 classes.\n"
          ]
        },
        {
          "output_type": "execute_result",
          "data": {
            "text/plain": [
              "73.59375"
            ]
          },
          "metadata": {},
          "execution_count": 17
        }
      ]
    },
    {
      "cell_type": "code",
      "metadata": {
        "colab": {
          "base_uri": "https://localhost:8080/"
        },
        "id": "_wPDAk-fXORu",
        "outputId": "df5798c1-f43c-4b9a-d9fe-4f6671b874a6"
      },
      "source": [
        "validation_generator = validation_datagen.flow_from_directory(\n",
        "    '/content/drive/MyDrive/computer_vision/skin-cancer-malignant-vs-benign/data/test',\n",
        "                                               target_size=(150,150),\n",
        "                                               batch_size=32,\n",
        "                                               class_mode=\"binary\")\n",
        "660/32"
      ],
      "execution_count": 18,
      "outputs": [
        {
          "output_type": "stream",
          "name": "stdout",
          "text": [
            "Found 660 images belonging to 2 classes.\n"
          ]
        },
        {
          "output_type": "execute_result",
          "data": {
            "text/plain": [
              "20.625"
            ]
          },
          "metadata": {},
          "execution_count": 18
        }
      ]
    },
    {
      "cell_type": "code",
      "metadata": {
        "colab": {
          "base_uri": "https://localhost:8080/"
        },
        "id": "IoMEZ7L7Zwil",
        "outputId": "8b4874ba-aef2-4e4c-a613-f66331a1ded7"
      },
      "source": [
        "history = model.fit_generator(\n",
        "                              train_generator,\n",
        "                              epochs=25,\n",
        "                              validation_data=validation_generator,\n",
        "                              validation_steps=21)"
      ],
      "execution_count": 19,
      "outputs": [
        {
          "output_type": "stream",
          "name": "stderr",
          "text": [
            "/usr/local/lib/python3.7/dist-packages/keras/engine/training.py:1972: UserWarning: `Model.fit_generator` is deprecated and will be removed in a future version. Please use `Model.fit`, which supports generators.\n",
            "  warnings.warn('`Model.fit_generator` is deprecated and '\n"
          ]
        },
        {
          "output_type": "stream",
          "name": "stdout",
          "text": [
            "Epoch 1/25\n",
            "74/74 [==============================] - 120s 2s/step - loss: 0.5681 - acc: 0.6841 - val_loss: 0.4803 - val_acc: 0.7864\n",
            "Epoch 2/25\n",
            "74/74 [==============================] - 119s 2s/step - loss: 0.4807 - acc: 0.7516 - val_loss: 0.4424 - val_acc: 0.7652\n",
            "Epoch 3/25\n",
            "74/74 [==============================] - 117s 2s/step - loss: 0.4517 - acc: 0.7741 - val_loss: 0.4139 - val_acc: 0.7848\n",
            "Epoch 4/25\n",
            "74/74 [==============================] - 113s 2s/step - loss: 0.4322 - acc: 0.7851 - val_loss: 0.7407 - val_acc: 0.6803\n",
            "Epoch 5/25\n",
            "74/74 [==============================] - 112s 2s/step - loss: 0.4139 - acc: 0.7958 - val_loss: 0.4486 - val_acc: 0.7348\n",
            "Epoch 6/25\n",
            "74/74 [==============================] - 112s 2s/step - loss: 0.3957 - acc: 0.8051 - val_loss: 0.3742 - val_acc: 0.8288\n",
            "Epoch 7/25\n",
            "74/74 [==============================] - 112s 2s/step - loss: 0.3894 - acc: 0.8051 - val_loss: 0.4084 - val_acc: 0.8030\n",
            "Epoch 8/25\n",
            "74/74 [==============================] - 112s 2s/step - loss: 0.3772 - acc: 0.8127 - val_loss: 0.4936 - val_acc: 0.7621\n",
            "Epoch 9/25\n",
            "74/74 [==============================] - 112s 2s/step - loss: 0.3720 - acc: 0.8115 - val_loss: 0.3666 - val_acc: 0.8273\n",
            "Epoch 10/25\n",
            "74/74 [==============================] - 112s 2s/step - loss: 0.3508 - acc: 0.8259 - val_loss: 0.6620 - val_acc: 0.6364\n",
            "Epoch 11/25\n",
            "74/74 [==============================] - 112s 2s/step - loss: 0.3541 - acc: 0.8306 - val_loss: 0.3609 - val_acc: 0.8242\n",
            "Epoch 12/25\n",
            "74/74 [==============================] - 112s 2s/step - loss: 0.3330 - acc: 0.8408 - val_loss: 0.3537 - val_acc: 0.8197\n",
            "Epoch 13/25\n",
            "74/74 [==============================] - 114s 2s/step - loss: 0.3258 - acc: 0.8412 - val_loss: 0.5025 - val_acc: 0.7288\n",
            "Epoch 14/25\n",
            "74/74 [==============================] - 114s 2s/step - loss: 0.3253 - acc: 0.8450 - val_loss: 0.3537 - val_acc: 0.8424\n",
            "Epoch 15/25\n",
            "74/74 [==============================] - 113s 2s/step - loss: 0.3144 - acc: 0.8476 - val_loss: 0.3862 - val_acc: 0.8167\n",
            "Epoch 16/25\n",
            "74/74 [==============================] - 112s 2s/step - loss: 0.3008 - acc: 0.8616 - val_loss: 0.4154 - val_acc: 0.7970\n",
            "Epoch 17/25\n",
            "74/74 [==============================] - 114s 2s/step - loss: 0.2917 - acc: 0.8730 - val_loss: 0.4572 - val_acc: 0.7970\n",
            "Epoch 18/25\n",
            "74/74 [==============================] - 113s 2s/step - loss: 0.2875 - acc: 0.8654 - val_loss: 0.3824 - val_acc: 0.8348\n",
            "Epoch 19/25\n",
            "74/74 [==============================] - 113s 2s/step - loss: 0.2721 - acc: 0.8811 - val_loss: 0.3629 - val_acc: 0.8348\n",
            "Epoch 20/25\n",
            "74/74 [==============================] - 114s 2s/step - loss: 0.2629 - acc: 0.8798 - val_loss: 0.4733 - val_acc: 0.8030\n",
            "Epoch 21/25\n",
            "74/74 [==============================] - 113s 2s/step - loss: 0.2622 - acc: 0.8807 - val_loss: 0.4446 - val_acc: 0.8061\n",
            "Epoch 22/25\n",
            "74/74 [==============================] - 114s 2s/step - loss: 0.2505 - acc: 0.8870 - val_loss: 0.3861 - val_acc: 0.8152\n",
            "Epoch 23/25\n",
            "74/74 [==============================] - 119s 2s/step - loss: 0.2451 - acc: 0.8930 - val_loss: 0.4055 - val_acc: 0.8121\n",
            "Epoch 24/25\n",
            "74/74 [==============================] - 116s 2s/step - loss: 0.2352 - acc: 0.8981 - val_loss: 0.3876 - val_acc: 0.8303\n",
            "Epoch 25/25\n",
            "74/74 [==============================] - 117s 2s/step - loss: 0.2272 - acc: 0.8998 - val_loss: 0.4608 - val_acc: 0.7985\n"
          ]
        }
      ]
    },
    {
      "cell_type": "code",
      "metadata": {
        "colab": {
          "base_uri": "https://localhost:8080/",
          "height": 545
        },
        "id": "vn9BIGHpafcw",
        "outputId": "547059b2-5d37-4ec2-9f4e-79f798c44fac"
      },
      "source": [
        "import matplotlib.pyplot as plt\n",
        "acc = history.history['acc']\n",
        "val_acc = history.history['val_acc']\n",
        "loss = history.history['loss']\n",
        "val_loss = history.history['val_loss']\n",
        "epochs = range(1, len(acc) + 1)\n",
        "plt.plot(epochs, acc, 'bo', label='Training acc')\n",
        "plt.plot(epochs, val_acc, 'b', label='Validation acc')\n",
        "plt.title('Training and validation accuracy')\n",
        "plt.legend()\n",
        "plt.figure()\n",
        "plt.plot(epochs, loss, 'bo', label='Training loss')\n",
        "plt.plot(epochs, val_loss, 'b', label='Validation loss')\n",
        "plt.title('Training and validation loss')\n",
        "plt.legend()\n",
        "plt.show()"
      ],
      "execution_count": 20,
      "outputs": [
        {
          "output_type": "display_data",
          "data": {
            "image/png": "[encoded data removed]",
            "text/plain": [
              "<Figure size 432x288 with 1 Axes>"
            ]
          },
          "metadata": {
            "needs_background": "light"
          }
        },
        {
          "output_type": "display_data",
          "data": {
            "image/png": "[encoded data removed]",
            "text/plain": [
              "<Figure size 432x288 with 1 Axes>"
            ]
          },
          "metadata": {
            "needs_background": "light"
          }
        }
      ]
    },
    {
      "cell_type": "code",
      "metadata": {
        "id": "7xisQl_YmhOe"
      },
      "source": [
        ""
      ],
      "execution_count": 20,
      "outputs": []
    },
    {
      "cell_type": "code",
      "metadata": {
        "id": "JyPZe90CayLf"
      },
      "source": [
        "model.save('skin-cancer-malignant-vs-benign.h5')"
      ],
      "execution_count": null,
      "outputs": []
    },
    {
      "cell_type": "code",
      "metadata": {
        "id": "Fjt5pHF4mjiU"
      },
      "source": [
        ""
      ],
      "execution_count": null,
      "outputs": []
    },
    {
      "cell_type": "code",
      "metadata": {
        "id": "vhiThIy2mjmg"
      },
      "source": [
        ""
      ],
      "execution_count": null,
      "outputs": []
    },
    {
      "cell_type": "markdown",
      "metadata": {
        "id": "N8Q93z-vmj8M"
      },
      "source": [
        "#Instantiating the VGG16 convolutional base"
      ]
    },
    {
      "cell_type": "code",
      "metadata": {
        "colab": {
          "base_uri": "https://localhost:8080/"
        },
        "id": "Wg-hoCYjmm6x",
        "outputId": "7aa7178a-cbe0-4795-d7ab-73f0e29508e5"
      },
      "source": [
        "from tensorflow.keras.applications import VGG16\n",
        "conv_base = VGG16(weights='imagenet',\n",
        "                                   include_top=False,\n",
        "                                   input_shape=(150, 150, 3))"
      ],
      "execution_count": 22,
      "outputs": [
        {
          "output_type": "stream",
          "name": "stdout",
          "text": [
            "Downloading data from https://storage.googleapis.com/tensorflow/keras-applications/vgg16/vgg16_weights_tf_dim_ordering_tf_kernels_notop.h5\n",
            "58892288/58889256 [==============================] - 0s 0us/step\n",
            "58900480/58889256 [==============================] - 0s 0us/step\n"
          ]
        }
      ]
    },
    {
      "cell_type": "code",
      "metadata": {
        "colab": {
          "base_uri": "https://localhost:8080/"
        },
        "id": "23t4ixoRmy7q",
        "outputId": "ffcfac83-e5a6-42c3-e971-71dbb21d7c24"
      },
      "source": [
        "conv_base.summary()"
      ],
      "execution_count": 25,
      "outputs": [
        {
          "output_type": "stream",
          "name": "stdout",
          "text": [
            "Model: \"vgg16\"\n",
            "_________________________________________________________________\n",
            "Layer (type)                 Output Shape              Param #   \n",
            "=================================================================\n",
            "input_1 (InputLayer)         [(None, 150, 150, 3)]     0         \n",
            "_________________________________________________________________\n",
            "block1_conv1 (Conv2D)        (None, 150, 150, 64)      1792      \n",
            "_________________________________________________________________\n",
            "block1_conv2 (Conv2D)        (None, 150, 150, 64)      36928     \n",
            "_________________________________________________________________\n",
            "block1_pool (MaxPooling2D)   (None, 75, 75, 64)        0         \n",
            "_________________________________________________________________\n",
            "block2_conv1 (Conv2D)        (None, 75, 75, 128)       73856     \n",
            "_________________________________________________________________\n",
            "block2_conv2 (Conv2D)        (None, 75, 75, 128)       147584    \n",
            "_________________________________________________________________\n",
            "block2_pool (MaxPooling2D)   (None, 37, 37, 128)       0         \n",
            "_________________________________________________________________\n",
            "block3_conv1 (Conv2D)        (None, 37, 37, 256)       295168    \n",
            "_________________________________________________________________\n",
            "block3_conv2 (Conv2D)        (None, 37, 37, 256)       590080    \n",
            "_________________________________________________________________\n",
            "block3_conv3 (Conv2D)        (None, 37, 37, 256)       590080    \n",
            "_________________________________________________________________\n",
            "block3_pool (MaxPooling2D)   (None, 18, 18, 256)       0         \n",
            "_________________________________________________________________\n",
            "block4_conv1 (Conv2D)        (None, 18, 18, 512)       1180160   \n",
            "_________________________________________________________________\n",
            "block4_conv2 (Conv2D)        (None, 18, 18, 512)       2359808   \n",
            "_________________________________________________________________\n",
            "block4_conv3 (Conv2D)        (None, 18, 18, 512)       2359808   \n",
            "_________________________________________________________________\n",
            "block4_pool (MaxPooling2D)   (None, 9, 9, 512)         0         \n",
            "_________________________________________________________________\n",
            "block5_conv1 (Conv2D)        (None, 9, 9, 512)         2359808   \n",
            "_________________________________________________________________\n",
            "block5_conv2 (Conv2D)        (None, 9, 9, 512)         2359808   \n",
            "_________________________________________________________________\n",
            "block5_conv3 (Conv2D)        (None, 9, 9, 512)         2359808   \n",
            "_________________________________________________________________\n",
            "block5_pool (MaxPooling2D)   (None, 4, 4, 512)         0         \n",
            "=================================================================\n",
            "Total params: 14,714,688\n",
            "Trainable params: 14,714,688\n",
            "Non-trainable params: 0\n",
            "_________________________________________________________________\n"
          ]
        }
      ]
    },
    {
      "cell_type": "code",
      "metadata": {
        "id": "J1-JbYss7ASn"
      },
      "source": [
        "import os\n",
        "import numpy as np\n",
        "from tensorflow.keras.preprocessing.image import ImageDataGenerator"
      ],
      "execution_count": 26,
      "outputs": []
    },
    {
      "cell_type": "code",
      "metadata": {
        "id": "YlzHrR_C6Xf0"
      },
      "source": [
        "import os\n",
        "import numpy as np\n",
        "from tensorflow.keras.preprocessing.image import ImageDataGenerator\n",
        "base_dir       = \"/content/drive/MyDrive/computer_vision/skin-cancer-malignant-vs-benign/data\"\n",
        "train_dir      = \"/content/drive/MyDrive/computer_vision/skin-cancer-malignant-vs-benign/data/train\"\n",
        "validation_dir = \"/content/drive/MyDrive/computer_vision/skin-cancer-malignant-vs-benign/data/test\"\n",
        "#test_dir       = \"/content/drive/MyDrive/cat and dog/test\"\n",
        "\n",
        "datagen = ImageDataGenerator(rescale=1./255)\n",
        "batch_size = 30\n",
        "\n",
        "def extract_features(directory, sample_count):   \n",
        "    features = np.zeros(shape=(sample_count, 4, 4, 512))\n",
        "    labels = np.zeros(shape=(sample_count))\n",
        "    \n",
        "    generator = datagen.flow_from_directory(\n",
        "                                       directory,\n",
        "                                       target_size=(150, 150),\n",
        "                                       batch_size=batch_size,\n",
        "                                       class_mode='binary')\n",
        "\n",
        "    i=0\n",
        "    for inputs_batch, labels_batch in generator:\n",
        "        features_batch = conv_base.predict(inputs_batch)\n",
        "        features[i * batch_size : (i + 1) * batch_size] = features_batch\n",
        "        labels[i * batch_size : (i + 1) * batch_size] = labels_batch\n",
        "        i += 1\n",
        "        if i * batch_size >= sample_count:\n",
        "        \n",
        "            break\n",
        "    return features, labels"
      ],
      "execution_count": 27,
      "outputs": []
    },
    {
      "cell_type": "code",
      "metadata": {
        "colab": {
          "base_uri": "https://localhost:8080/"
        },
        "id": "z3-AInjyoV9G",
        "outputId": "828f16ff-5897-4dbe-f765-e205df3909d8"
      },
      "source": [
        "train_features, train_labels = extract_features(train_dir, 2355)\n",
        "validation_features, validation_labels = extract_features(validation_dir, 660)"
      ],
      "execution_count": 28,
      "outputs": [
        {
          "output_type": "stream",
          "name": "stdout",
          "text": [
            "Found 2355 images belonging to 2 classes.\n",
            "Found 660 images belonging to 2 classes.\n"
          ]
        }
      ]
    },
    {
      "cell_type": "code",
      "metadata": {
        "id": "d3Kpr7Bmq6Zn"
      },
      "source": [
        "train_features = np.reshape(train_features, (2355, 4*4* 512))\n",
        "validation_features = np.reshape(validation_features, (660, 4*4* 512))"
      ],
      "execution_count": 30,
      "outputs": []
    },
    {
      "cell_type": "code",
      "metadata": {
        "id": "zmZdcLL2q-2W"
      },
      "source": [
        "from tensorflow.keras import models\n",
        "from tensorflow.keras import layers\n",
        "from tensorflow.keras import optimizers\n",
        "model = models.Sequential()\n",
        "model.add(layers.Dense(256, activation='relu', input_dim=4 * 4 * 512))\n",
        "model.add(layers.Dropout(0.5))\n",
        "model.add(layers.Dense(1, activation='sigmoid'))"
      ],
      "execution_count": 33,
      "outputs": []
    },
    {
      "cell_type": "code",
      "metadata": {
        "id": "HQt6bqSe-Fd4"
      },
      "source": [
        ""
      ],
      "execution_count": 33,
      "outputs": []
    },
    {
      "cell_type": "code",
      "metadata": {
        "colab": {
          "base_uri": "https://localhost:8080/"
        },
        "id": "DTWerJQRrEQc",
        "outputId": "f4537dd9-e242-453e-b7f6-485a07fa5d1b"
      },
      "source": [
        "model.compile(optimizer=optimizers.RMSprop(lr=2e-5),\n",
        "                                            loss='binary_crossentropy',\n",
        "                                             metrics=['acc'])"
      ],
      "execution_count": 34,
      "outputs": [
        {
          "output_type": "stream",
          "name": "stderr",
          "text": [
            "/usr/local/lib/python3.7/dist-packages/keras/optimizer_v2/optimizer_v2.py:356: UserWarning: The `lr` argument is deprecated, use `learning_rate` instead.\n",
            "  \"The `lr` argument is deprecated, use `learning_rate` instead.\")\n"
          ]
        }
      ]
    },
    {
      "cell_type": "code",
      "metadata": {
        "colab": {
          "base_uri": "https://localhost:8080/"
        },
        "id": "qemXgGVGrLyk",
        "outputId": "c3ebc610-3ea7-4a01-ccc1-23ec78910a0d"
      },
      "source": [
        "history = model.fit(train_features, train_labels,\n",
        "                        epochs=30,batch_size=30,\n",
        "                    validation_data=(validation_features, validation_labels))\n"
      ],
      "execution_count": 35,
      "outputs": [
        {
          "output_type": "stream",
          "name": "stdout",
          "text": [
            "Epoch 1/30\n",
            "79/79 [==============================] - 2s 26ms/step - loss: 0.6533 - acc: 0.6293 - val_loss: 0.5463 - val_acc: 0.7091\n",
            "Epoch 2/30\n",
            "79/79 [==============================] - 2s 24ms/step - loss: 0.5231 - acc: 0.7397 - val_loss: 0.4742 - val_acc: 0.7773\n",
            "Epoch 3/30\n",
            "79/79 [==============================] - 2s 24ms/step - loss: 0.4556 - acc: 0.7932 - val_loss: 0.4428 - val_acc: 0.7803\n",
            "Epoch 4/30\n",
            "79/79 [==============================] - 2s 24ms/step - loss: 0.4155 - acc: 0.8055 - val_loss: 0.4411 - val_acc: 0.7818\n",
            "Epoch 5/30\n",
            "79/79 [==============================] - 2s 24ms/step - loss: 0.3947 - acc: 0.8238 - val_loss: 0.4246 - val_acc: 0.7848\n",
            "Epoch 6/30\n",
            "79/79 [==============================] - 2s 23ms/step - loss: 0.3796 - acc: 0.8285 - val_loss: 0.4315 - val_acc: 0.7909\n",
            "Epoch 7/30\n",
            "79/79 [==============================] - 2s 23ms/step - loss: 0.3706 - acc: 0.8301 - val_loss: 0.4028 - val_acc: 0.8045\n",
            "Epoch 8/30\n",
            "79/79 [==============================] - 2s 24ms/step - loss: 0.3639 - acc: 0.8395 - val_loss: 0.4193 - val_acc: 0.7924\n",
            "Epoch 9/30\n",
            "79/79 [==============================] - 2s 24ms/step - loss: 0.3541 - acc: 0.8331 - val_loss: 0.3910 - val_acc: 0.8273\n",
            "Epoch 10/30\n",
            "79/79 [==============================] - 2s 24ms/step - loss: 0.3470 - acc: 0.8463 - val_loss: 0.3874 - val_acc: 0.8197\n",
            "Epoch 11/30\n",
            "79/79 [==============================] - 2s 24ms/step - loss: 0.3398 - acc: 0.8488 - val_loss: 0.3882 - val_acc: 0.8106\n",
            "Epoch 12/30\n",
            "79/79 [==============================] - 2s 23ms/step - loss: 0.3313 - acc: 0.8505 - val_loss: 0.3835 - val_acc: 0.8197\n",
            "Epoch 13/30\n",
            "79/79 [==============================] - 2s 23ms/step - loss: 0.3255 - acc: 0.8594 - val_loss: 0.3794 - val_acc: 0.8212\n",
            "Epoch 14/30\n",
            "79/79 [==============================] - 2s 23ms/step - loss: 0.3204 - acc: 0.8603 - val_loss: 0.3890 - val_acc: 0.8121\n",
            "Epoch 15/30\n",
            "79/79 [==============================] - 2s 24ms/step - loss: 0.3108 - acc: 0.8611 - val_loss: 0.3806 - val_acc: 0.8212\n",
            "Epoch 16/30\n",
            "79/79 [==============================] - 2s 23ms/step - loss: 0.3177 - acc: 0.8654 - val_loss: 0.3726 - val_acc: 0.8258\n",
            "Epoch 17/30\n",
            "79/79 [==============================] - 2s 24ms/step - loss: 0.3086 - acc: 0.8641 - val_loss: 0.3923 - val_acc: 0.8167\n",
            "Epoch 18/30\n",
            "79/79 [==============================] - 2s 23ms/step - loss: 0.2986 - acc: 0.8722 - val_loss: 0.3798 - val_acc: 0.8242\n",
            "Epoch 19/30\n",
            "79/79 [==============================] - 2s 24ms/step - loss: 0.3009 - acc: 0.8662 - val_loss: 0.3748 - val_acc: 0.8273\n",
            "Epoch 20/30\n",
            "79/79 [==============================] - 2s 23ms/step - loss: 0.2966 - acc: 0.8764 - val_loss: 0.3725 - val_acc: 0.8242\n",
            "Epoch 21/30\n",
            "79/79 [==============================] - 2s 24ms/step - loss: 0.2873 - acc: 0.8815 - val_loss: 0.3755 - val_acc: 0.8258\n",
            "Epoch 22/30\n",
            "79/79 [==============================] - 2s 24ms/step - loss: 0.2905 - acc: 0.8730 - val_loss: 0.3652 - val_acc: 0.8288\n",
            "Epoch 23/30\n",
            "79/79 [==============================] - 2s 24ms/step - loss: 0.2865 - acc: 0.8743 - val_loss: 0.3821 - val_acc: 0.8242\n",
            "Epoch 24/30\n",
            "79/79 [==============================] - 2s 24ms/step - loss: 0.2826 - acc: 0.8764 - val_loss: 0.3762 - val_acc: 0.8197\n",
            "Epoch 25/30\n",
            "79/79 [==============================] - 2s 23ms/step - loss: 0.2801 - acc: 0.8705 - val_loss: 0.3870 - val_acc: 0.8212\n",
            "Epoch 26/30\n",
            "79/79 [==============================] - 2s 24ms/step - loss: 0.2789 - acc: 0.8815 - val_loss: 0.3662 - val_acc: 0.8318\n",
            "Epoch 27/30\n",
            "79/79 [==============================] - 2s 23ms/step - loss: 0.2721 - acc: 0.8824 - val_loss: 0.3689 - val_acc: 0.8303\n",
            "Epoch 28/30\n",
            "79/79 [==============================] - 2s 24ms/step - loss: 0.2737 - acc: 0.8807 - val_loss: 0.3725 - val_acc: 0.8242\n",
            "Epoch 29/30\n",
            "79/79 [==============================] - 2s 24ms/step - loss: 0.2657 - acc: 0.8917 - val_loss: 0.3703 - val_acc: 0.8273\n",
            "Epoch 30/30\n",
            "79/79 [==============================] - 2s 23ms/step - loss: 0.2629 - acc: 0.8913 - val_loss: 0.3916 - val_acc: 0.8182\n"
          ]
        }
      ]
    },
    {
      "cell_type": "code",
      "metadata": {
        "colab": {
          "base_uri": "https://localhost:8080/",
          "height": 545
        },
        "id": "l5lQ1GIH8LX_",
        "outputId": "fab10993-c4b0-47f5-aba0-bc15404379fd"
      },
      "source": [
        "import matplotlib.pyplot as plt\n",
        "acc = history.history['acc']\n",
        "val_acc = history.history['val_acc']\n",
        "loss = history.history['loss']\n",
        "val_loss = history.history['val_loss']\n",
        "epochs = range(1, len(acc) + 1)\n",
        "plt.plot(epochs, acc, 'bo', label='Training acc')\n",
        "plt.plot(epochs, val_acc, 'b', label='Validation acc')\n",
        "plt.title('Training and validation accuracy')\n",
        "plt.legend()\n",
        "plt.figure()\n",
        "plt.plot(epochs, loss, 'bo', label='Training loss')\n",
        "plt.plot(epochs, val_loss, 'b', label='Validation loss')\n",
        "plt.title('Training and validation loss')\n",
        "plt.legend()\n",
        "plt.show()"
      ],
      "execution_count": 36,
      "outputs": [
        {
          "output_type": "display_data",
          "data": {
            "image/png": "[encoded data removed]",
            "text/plain": [
              "<Figure size 432x288 with 1 Axes>"
            ]
          },
          "metadata": {
            "needs_background": "light"
          }
        },
        {
          "output_type": "display_data",
          "data": {
            "image/png": "[encoded data removed]",
            "text/plain": [
              "<Figure size 432x288 with 1 Axes>"
            ]
          },
          "metadata": {
            "needs_background": "light"
          }
        }
      ]
    },
    {
      "cell_type": "code",
      "metadata": {
        "id": "W8lMbzXr94lM"
      },
      "source": [
        ""
      ],
      "execution_count": null,
      "outputs": []
    },
    {
      "cell_type": "code",
      "metadata": {
        "id": "6yPL5JRQ-pjG"
      },
      "source": [
        ""
      ],
      "execution_count": null,
      "outputs": []
    },
    {
      "cell_type": "markdown",
      "metadata": {
        "id": "m3R1OgV9-zOS"
      },
      "source": [
        "# FEATURE EXTRACTION WITH DATA AUGMENTATION"
      ]
    },
    {
      "cell_type": "code",
      "metadata": {
        "colab": {
          "base_uri": "https://localhost:8080/"
        },
        "id": "Wpar9BRngVt1",
        "outputId": "be5c60bb-a028-47a8-cc42-639ead9928d5"
      },
      "source": [
        "from tensorflow.keras.applications import VGG16\n",
        "conv_base = VGG16(weights='imagenet',\n",
        "                                   include_top=False,\n",
        "                                   input_shape=(150, 150, 3))"
      ],
      "execution_count": 3,
      "outputs": [
        {
          "output_type": "stream",
          "name": "stdout",
          "text": [
            "Downloading data from https://storage.googleapis.com/tensorflow/keras-applications/vgg16/vgg16_weights_tf_dim_ordering_tf_kernels_notop.h5\n",
            "58892288/58889256 [==============================] - 1s 0us/step\n",
            "58900480/58889256 [==============================] - 1s 0us/step\n"
          ]
        }
      ]
    },
    {
      "cell_type": "code",
      "metadata": {
        "id": "TsG0yubs-pmL"
      },
      "source": [
        "from keras import models\n",
        "from keras import layers\n",
        "model = models.Sequential()\n",
        "model.add(conv_base)\n",
        "model.add(layers.Flatten())\n",
        "model.add(layers.Dense(256, activation='relu'))\n",
        "model.add(layers.Dense(1, activation='sigmoid'))\n"
      ],
      "execution_count": 4,
      "outputs": []
    },
    {
      "cell_type": "code",
      "metadata": {
        "colab": {
          "base_uri": "https://localhost:8080/"
        },
        "id": "VsSvQ4Dd-3fR",
        "outputId": "c9370567-f696-4839-db9b-ac79020b0a71"
      },
      "source": [
        "from keras.preprocessing.image import ImageDataGenerator\n",
        "from keras import optimizers\n",
        "\n",
        "#base_dir       = \"/content/drive/MyDrive/cat and dog\"\n",
        "train_dir      = \"/content/drive/MyDrive/computer_vision/skin-cancer-malignant-vs-benign/data/train\"\n",
        "validation_dir = \"/content/drive/MyDrive/computer_vision/skin-cancer-malignant-vs-benign/data/test\"\n",
        "#test_dir       = \"/content/drive/MyDrive/cat and dog/test\"\n",
        "\n",
        "train_datagen = ImageDataGenerator(\n",
        "                                  rescale=1./255,\n",
        "                                  rotation_range=40,\n",
        "                                  width_shift_range=0.2,\n",
        "                                  height_shift_range=0.2,\n",
        "                                  shear_range=0.2,\n",
        "                                  zoom_range=0.2,\n",
        "                                  horizontal_flip=True,\n",
        "                                  fill_mode='nearest')\n",
        "\n",
        "validation_datagen = ImageDataGenerator(rescale=1./255)\n",
        " \n",
        "train_generator = train_datagen.flow_from_directory(\n",
        "                                          train_dir,\n",
        "                                          target_size=(150, 150),\n",
        "                                          batch_size=40,\n",
        "                                          class_mode='binary')\n",
        "\n",
        "validation_generator = validation_datagen.flow_from_directory(\n",
        "                                          validation_dir,\n",
        "                                          target_size=(150, 150),\n",
        "                                          batch_size=40,\n",
        "                                          class_mode='binary')\n"
      ],
      "execution_count": 7,
      "outputs": [
        {
          "output_type": "stream",
          "name": "stdout",
          "text": [
            "Found 2355 images belonging to 2 classes.\n",
            "Found 660 images belonging to 2 classes.\n"
          ]
        }
      ]
    },
    {
      "cell_type": "code",
      "metadata": {
        "colab": {
          "base_uri": "https://localhost:8080/"
        },
        "id": "AK_hAelfAd5N",
        "outputId": "f60580bb-1d0f-4bcd-cf99-401704ede907"
      },
      "source": [
        "#2355/40\n",
        "660/40"
      ],
      "execution_count": 13,
      "outputs": [
        {
          "output_type": "execute_result",
          "data": {
            "text/plain": [
              "16.5"
            ]
          },
          "metadata": {},
          "execution_count": 13
        }
      ]
    },
    {
      "cell_type": "code",
      "metadata": {
        "colab": {
          "base_uri": "https://localhost:8080/"
        },
        "id": "YPn-d1hl__4H",
        "outputId": "19e9422f-2d3b-4053-99aa-14a2624988bb"
      },
      "source": [
        "from tensorflow.keras import optimizers\n",
        "model.compile(loss='binary_crossentropy',optimizer=optimizers.RMSprop(lr=2e-5),\n",
        "                                                 metrics=['acc'])\n"
      ],
      "execution_count": 14,
      "outputs": [
        {
          "output_type": "stream",
          "name": "stderr",
          "text": [
            "/usr/local/lib/python3.7/dist-packages/keras/optimizer_v2/optimizer_v2.py:356: UserWarning: The `lr` argument is deprecated, use `learning_rate` instead.\n",
            "  \"The `lr` argument is deprecated, use `learning_rate` instead.\")\n"
          ]
        }
      ]
    },
    {
      "cell_type": "code",
      "metadata": {
        "colab": {
          "base_uri": "https://localhost:8080/"
        },
        "id": "wb3qjJFnAFv0",
        "outputId": "d69d9e40-903b-45e2-86dc-71d186148708"
      },
      "source": [
        "history = model.fit_generator(\n",
        "                           train_generator,steps_per_epoch=59,\n",
        "                            epochs=20,\n",
        "                            validation_data=validation_generator,\n",
        "                            validation_steps=17)"
      ],
      "execution_count": 15,
      "outputs": [
        {
          "output_type": "stream",
          "name": "stderr",
          "text": [
            "/usr/local/lib/python3.7/dist-packages/keras/engine/training.py:1972: UserWarning: `Model.fit_generator` is deprecated and will be removed in a future version. Please use `Model.fit`, which supports generators.\n",
            "  warnings.warn('`Model.fit_generator` is deprecated and '\n"
          ]
        },
        {
          "output_type": "stream",
          "name": "stdout",
          "text": [
            "Epoch 1/20\n",
            "59/59 [==============================] - 1407s 23s/step - loss: 0.4704 - acc: 0.7703 - val_loss: 0.4132 - val_acc: 0.8197\n",
            "Epoch 2/20\n",
            "59/59 [==============================] - 36s 600ms/step - loss: 0.3840 - acc: 0.8204 - val_loss: 0.3523 - val_acc: 0.8485\n",
            "Epoch 3/20\n",
            "59/59 [==============================] - 36s 605ms/step - loss: 0.3401 - acc: 0.8433 - val_loss: 0.3110 - val_acc: 0.8500\n",
            "Epoch 4/20\n",
            "59/59 [==============================] - 36s 608ms/step - loss: 0.3194 - acc: 0.8561 - val_loss: 0.3883 - val_acc: 0.8258\n",
            "Epoch 5/20\n",
            "59/59 [==============================] - 36s 609ms/step - loss: 0.2951 - acc: 0.8650 - val_loss: 0.3030 - val_acc: 0.8576\n",
            "Epoch 6/20\n",
            "59/59 [==============================] - 36s 607ms/step - loss: 0.2911 - acc: 0.8675 - val_loss: 0.2889 - val_acc: 0.8742\n",
            "Epoch 7/20\n",
            "59/59 [==============================] - 36s 607ms/step - loss: 0.2720 - acc: 0.8692 - val_loss: 0.3194 - val_acc: 0.8485\n",
            "Epoch 8/20\n",
            "59/59 [==============================] - 36s 608ms/step - loss: 0.2657 - acc: 0.8794 - val_loss: 0.3162 - val_acc: 0.8500\n",
            "Epoch 9/20\n",
            "59/59 [==============================] - 36s 609ms/step - loss: 0.2487 - acc: 0.8913 - val_loss: 0.3661 - val_acc: 0.8485\n",
            "Epoch 10/20\n",
            "59/59 [==============================] - 36s 607ms/step - loss: 0.2399 - acc: 0.8904 - val_loss: 0.2865 - val_acc: 0.8924\n",
            "Epoch 11/20\n",
            "59/59 [==============================] - 36s 609ms/step - loss: 0.2308 - acc: 0.8947 - val_loss: 0.2887 - val_acc: 0.8667\n",
            "Epoch 12/20\n",
            "59/59 [==============================] - 36s 608ms/step - loss: 0.2189 - acc: 0.9036 - val_loss: 0.3317 - val_acc: 0.8561\n",
            "Epoch 13/20\n",
            "59/59 [==============================] - 36s 609ms/step - loss: 0.2113 - acc: 0.9049 - val_loss: 0.2931 - val_acc: 0.8848\n",
            "Epoch 14/20\n",
            "59/59 [==============================] - 36s 608ms/step - loss: 0.1990 - acc: 0.9163 - val_loss: 0.2889 - val_acc: 0.8788\n",
            "Epoch 15/20\n",
            "59/59 [==============================] - 36s 607ms/step - loss: 0.1973 - acc: 0.9168 - val_loss: 0.3050 - val_acc: 0.8864\n",
            "Epoch 16/20\n",
            "59/59 [==============================] - 36s 605ms/step - loss: 0.1786 - acc: 0.9193 - val_loss: 0.3065 - val_acc: 0.8803\n",
            "Epoch 17/20\n",
            "59/59 [==============================] - 36s 604ms/step - loss: 0.1727 - acc: 0.9206 - val_loss: 0.3288 - val_acc: 0.8712\n",
            "Epoch 18/20\n",
            "59/59 [==============================] - 36s 604ms/step - loss: 0.1848 - acc: 0.9197 - val_loss: 0.2944 - val_acc: 0.8818\n",
            "Epoch 19/20\n",
            "59/59 [==============================] - 36s 605ms/step - loss: 0.1622 - acc: 0.9325 - val_loss: 0.3898 - val_acc: 0.8712\n",
            "Epoch 20/20\n",
            "59/59 [==============================] - 36s 604ms/step - loss: 0.1691 - acc: 0.9240 - val_loss: 0.3233 - val_acc: 0.8712\n"
          ]
        }
      ]
    },
    {
      "cell_type": "code",
      "metadata": {
        "colab": {
          "base_uri": "https://localhost:8080/",
          "height": 545
        },
        "id": "xxHvVb_xAy8E",
        "outputId": "5013dd86-6f96-4a78-cbee-2bad56e2a624"
      },
      "source": [
        "import matplotlib.pyplot as plt\n",
        "acc = history.history['acc']\n",
        "val_acc = history.history['val_acc']\n",
        "loss = history.history['loss']\n",
        "val_loss = history.history['val_loss']\n",
        "epochs = range(1, len(acc) + 1)\n",
        "plt.plot(epochs, acc, 'bo', label='Training acc')\n",
        "plt.plot(epochs, val_acc, 'b', label='Validation acc')\n",
        "plt.title('Training and validation accuracy')\n",
        "plt.legend()\n",
        "plt.figure()\n",
        "plt.plot(epochs, loss, 'bo', label='Training loss')\n",
        "plt.plot(epochs, val_loss, 'b', label='Validation loss')\n",
        "plt.title('Training and validation loss')\n",
        "plt.legend()\n",
        "plt.show()"
      ],
      "execution_count": 16,
      "outputs": [
        {
          "output_type": "display_data",
          "data": {
            "image/png": "[encoded data removed]",
            "text/plain": [
              "<Figure size 432x288 with 1 Axes>"
            ]
          },
          "metadata": {
            "needs_background": "light"
          }
        },
        {
          "output_type": "display_data",
          "data": {
            "image/png": "[encoded data removed]",
            "text/plain": [
              "<Figure size 432x288 with 1 Axes>"
            ]
          },
          "metadata": {
            "needs_background": "light"
          }
        }
      ]
    },
    {
      "cell_type": "code",
      "metadata": {
        "id": "YdkA8K7xA0OL"
      },
      "source": [
        "model.save('skin-cancer-malignant-vs-benign.h5')   "
      ],
      "execution_count": 17,
      "outputs": []
    },
    {
      "cell_type": "code",
      "metadata": {
        "id": "71ffEwRtA0c2"
      },
      "source": [
        ""
      ],
      "execution_count": null,
      "outputs": []
    },
    {
      "cell_type": "code",
      "metadata": {
        "id": "cHqNR09xshsa"
      },
      "source": [
        ""
      ],
      "execution_count": null,
      "outputs": []
    },
    {
      "cell_type": "markdown",
      "metadata": {
        "id": "tq0PyqkhtAyA"
      },
      "source": [
        "#Fine-tuning"
      ]
    },
    {
      "cell_type": "code",
      "metadata": {
        "colab": {
          "base_uri": "https://localhost:8080/"
        },
        "id": "6fiiv3fishvW",
        "outputId": "448cbacd-2679-404d-fb64-efc86a4745d6"
      },
      "source": [
        "conv_base.summary()\n"
      ],
      "execution_count": 30,
      "outputs": [
        {
          "output_type": "stream",
          "name": "stdout",
          "text": [
            "Model: \"vgg16\"\n",
            "_________________________________________________________________\n",
            "Layer (type)                 Output Shape              Param #   \n",
            "=================================================================\n",
            "input_1 (InputLayer)         [(None, 150, 150, 3)]     0         \n",
            "_________________________________________________________________\n",
            "block1_conv1 (Conv2D)        (None, 150, 150, 64)      1792      \n",
            "_________________________________________________________________\n",
            "block1_conv2 (Conv2D)        (None, 150, 150, 64)      36928     \n",
            "_________________________________________________________________\n",
            "block1_pool (MaxPooling2D)   (None, 75, 75, 64)        0         \n",
            "_________________________________________________________________\n",
            "block2_conv1 (Conv2D)        (None, 75, 75, 128)       73856     \n",
            "_________________________________________________________________\n",
            "block2_conv2 (Conv2D)        (None, 75, 75, 128)       147584    \n",
            "_________________________________________________________________\n",
            "block2_pool (MaxPooling2D)   (None, 37, 37, 128)       0         \n",
            "_________________________________________________________________\n",
            "block3_conv1 (Conv2D)        (None, 37, 37, 256)       295168    \n",
            "_________________________________________________________________\n",
            "block3_conv2 (Conv2D)        (None, 37, 37, 256)       590080    \n",
            "_________________________________________________________________\n",
            "block3_conv3 (Conv2D)        (None, 37, 37, 256)       590080    \n",
            "_________________________________________________________________\n",
            "block3_pool (MaxPooling2D)   (None, 18, 18, 256)       0         \n",
            "_________________________________________________________________\n",
            "block4_conv1 (Conv2D)        (None, 18, 18, 512)       1180160   \n",
            "_________________________________________________________________\n",
            "block4_conv2 (Conv2D)        (None, 18, 18, 512)       2359808   \n",
            "_________________________________________________________________\n",
            "block4_conv3 (Conv2D)        (None, 18, 18, 512)       2359808   \n",
            "_________________________________________________________________\n",
            "block4_pool (MaxPooling2D)   (None, 9, 9, 512)         0         \n",
            "_________________________________________________________________\n",
            "block5_conv1 (Conv2D)        (None, 9, 9, 512)         2359808   \n",
            "_________________________________________________________________\n",
            "block5_conv2 (Conv2D)        (None, 9, 9, 512)         2359808   \n",
            "_________________________________________________________________\n",
            "block5_conv3 (Conv2D)        (None, 9, 9, 512)         2359808   \n",
            "_________________________________________________________________\n",
            "block5_pool (MaxPooling2D)   (None, 4, 4, 512)         0         \n",
            "=================================================================\n",
            "Total params: 14,714,688\n",
            "Trainable params: 14,714,688\n",
            "Non-trainable params: 0\n",
            "_________________________________________________________________\n"
          ]
        }
      ]
    },
    {
      "cell_type": "code",
      "metadata": {
        "id": "_T_pR80jtH4Z"
      },
      "source": [
        "conv_base.trainable = True\n",
        "set_trainable = False\n",
        "for layer in conv_base.layers:\n",
        "    if layer.name == 'block5_conv1':\n",
        "\n",
        "      set_trainable = True\n",
        "      if set_trainable:\n",
        "        layer.trainable = True\n",
        "      else:\n",
        "        layer.trainable = False"
      ],
      "execution_count": 31,
      "outputs": []
    },
    {
      "cell_type": "code",
      "metadata": {
        "id": "yoL5qJSst2yo"
      },
      "source": [
        "from tensorflow.keras import models\n",
        "from tensorflow.keras import layers\n",
        "model = models.Sequential()\n",
        "model.add(conv_base)\n",
        "model.add(layers.Flatten())\n",
        "model.add(layers.Dense(256, activation='relu'))\n",
        "model.add(layers.Dense(1, activation='sigmoid'))\n"
      ],
      "execution_count": 32,
      "outputs": []
    },
    {
      "cell_type": "code",
      "metadata": {
        "colab": {
          "base_uri": "https://localhost:8080/"
        },
        "id": "RARhBXTguOrH",
        "outputId": "f23e5674-f77f-4ee6-cd2d-9ca420e6df41"
      },
      "source": [
        "from keras.preprocessing.image import ImageDataGenerator\n",
        "from keras import optimizers\n",
        "\n",
        "#base_dir       = \"/content/drive/MyDrive/cat and dog\"\n",
        "train_dir      = \"/content/drive/MyDrive/computer_vision/skin-cancer-malignant-vs-benign/data/train\"\n",
        "validation_dir = \"/content/drive/MyDrive/computer_vision/skin-cancer-malignant-vs-benign/data/test\"\n",
        "#test_dir       = \"/content/drive/MyDrive/cat and dog/test\"\n",
        "\n",
        "train_datagen = ImageDataGenerator(\n",
        "                                  rescale=1./255,\n",
        "                                  rotation_range=40,\n",
        "                                  width_shift_range=0.2,\n",
        "                                  height_shift_range=0.2,\n",
        "                                  shear_range=0.2,\n",
        "                                  zoom_range=0.2,\n",
        "                                  horizontal_flip=True,\n",
        "                                  fill_mode='nearest')\n",
        "\n",
        "validation_datagen = ImageDataGenerator(rescale=1./255)\n",
        " \n",
        "train_generator = train_datagen.flow_from_directory(\n",
        "                                          train_dir,\n",
        "                                          target_size=(150, 150),\n",
        "                                          batch_size=40,\n",
        "                                          class_mode='binary')\n",
        "\n",
        "validation_generator = validation_datagen.flow_from_directory(\n",
        "                                          validation_dir,\n",
        "                                          target_size=(150, 150),\n",
        "                                          batch_size=40,\n",
        "                                          class_mode='binary')\n"
      ],
      "execution_count": 33,
      "outputs": [
        {
          "output_type": "stream",
          "name": "stdout",
          "text": [
            "Found 2355 images belonging to 2 classes.\n",
            "Found 660 images belonging to 2 classes.\n"
          ]
        }
      ]
    },
    {
      "cell_type": "code",
      "metadata": {
        "colab": {
          "base_uri": "https://localhost:8080/"
        },
        "id": "J6n9tytFtVjt",
        "outputId": "7325e009-0d51-43fd-e1b7-afdfc5f6824d"
      },
      "source": [
        "from tensorflow.keras import optimizers\n",
        "\n",
        "model.compile(loss='binary_crossentropy',\n",
        "optimizer=optimizers.RMSprop(lr=1e-5),metrics=['acc'])"
      ],
      "execution_count": 35,
      "outputs": [
        {
          "output_type": "stream",
          "name": "stderr",
          "text": [
            "/usr/local/lib/python3.7/dist-packages/keras/optimizer_v2/optimizer_v2.py:356: UserWarning: The `lr` argument is deprecated, use `learning_rate` instead.\n",
            "  \"The `lr` argument is deprecated, use `learning_rate` instead.\")\n"
          ]
        }
      ]
    },
    {
      "cell_type": "code",
      "metadata": {
        "colab": {
          "base_uri": "https://localhost:8080/"
        },
        "id": "x3uHitFftcEm",
        "outputId": "55077c36-2826-434b-8aa4-027a2ddb73ac"
      },
      "source": [
        "history = model.fit_generator(\n",
        "train_generator,\n",
        "steps_per_epoch=59,\n",
        "epochs=30,\n",
        "validation_data=validation_generator,\n",
        "validation_steps=17)"
      ],
      "execution_count": 36,
      "outputs": [
        {
          "output_type": "stream",
          "name": "stderr",
          "text": [
            "/usr/local/lib/python3.7/dist-packages/keras/engine/training.py:1972: UserWarning: `Model.fit_generator` is deprecated and will be removed in a future version. Please use `Model.fit`, which supports generators.\n",
            "  warnings.warn('`Model.fit_generator` is deprecated and '\n"
          ]
        },
        {
          "output_type": "stream",
          "name": "stdout",
          "text": [
            "Epoch 1/30\n",
            "59/59 [==============================] - 38s 604ms/step - loss: 0.2459 - acc: 0.8794 - val_loss: 0.2802 - val_acc: 0.8818\n",
            "Epoch 2/30\n",
            "59/59 [==============================] - 36s 602ms/step - loss: 0.1567 - acc: 0.9342 - val_loss: 0.3046 - val_acc: 0.8879\n",
            "Epoch 3/30\n",
            "59/59 [==============================] - 36s 604ms/step - loss: 0.1493 - acc: 0.9401 - val_loss: 0.3260 - val_acc: 0.8697\n",
            "Epoch 4/30\n",
            "59/59 [==============================] - 36s 604ms/step - loss: 0.1320 - acc: 0.9452 - val_loss: 0.4962 - val_acc: 0.8742\n",
            "Epoch 5/30\n",
            "59/59 [==============================] - 36s 604ms/step - loss: 0.1271 - acc: 0.9456 - val_loss: 0.4113 - val_acc: 0.8712\n",
            "Epoch 6/30\n",
            "59/59 [==============================] - 36s 605ms/step - loss: 0.1139 - acc: 0.9537 - val_loss: 0.3604 - val_acc: 0.8955\n",
            "Epoch 7/30\n",
            "59/59 [==============================] - 36s 605ms/step - loss: 0.1159 - acc: 0.9567 - val_loss: 0.3942 - val_acc: 0.8909\n",
            "Epoch 8/30\n",
            "59/59 [==============================] - 36s 605ms/step - loss: 0.1171 - acc: 0.9461 - val_loss: 0.3833 - val_acc: 0.8970\n",
            "Epoch 9/30\n",
            "59/59 [==============================] - 36s 605ms/step - loss: 0.1045 - acc: 0.9592 - val_loss: 0.5037 - val_acc: 0.8879\n",
            "Epoch 10/30\n",
            "59/59 [==============================] - 36s 605ms/step - loss: 0.0998 - acc: 0.9614 - val_loss: 0.3950 - val_acc: 0.8879\n",
            "Epoch 11/30\n",
            "59/59 [==============================] - 36s 604ms/step - loss: 0.0918 - acc: 0.9643 - val_loss: 0.3934 - val_acc: 0.8924\n",
            "Epoch 12/30\n",
            "59/59 [==============================] - 36s 603ms/step - loss: 0.0879 - acc: 0.9652 - val_loss: 0.6645 - val_acc: 0.8727\n",
            "Epoch 13/30\n",
            "59/59 [==============================] - 36s 604ms/step - loss: 0.0846 - acc: 0.9682 - val_loss: 0.4830 - val_acc: 0.8879\n",
            "Epoch 14/30\n",
            "59/59 [==============================] - 36s 604ms/step - loss: 0.0827 - acc: 0.9673 - val_loss: 0.4655 - val_acc: 0.8894\n",
            "Epoch 15/30\n",
            "59/59 [==============================] - 36s 603ms/step - loss: 0.0811 - acc: 0.9686 - val_loss: 0.5016 - val_acc: 0.8727\n",
            "Epoch 16/30\n",
            "59/59 [==============================] - 36s 604ms/step - loss: 0.0798 - acc: 0.9677 - val_loss: 0.4773 - val_acc: 0.8788\n",
            "Epoch 17/30\n",
            "59/59 [==============================] - 36s 605ms/step - loss: 0.0824 - acc: 0.9686 - val_loss: 0.5575 - val_acc: 0.8894\n",
            "Epoch 18/30\n",
            "59/59 [==============================] - 36s 604ms/step - loss: 0.0699 - acc: 0.9758 - val_loss: 0.5511 - val_acc: 0.9000\n",
            "Epoch 19/30\n",
            "59/59 [==============================] - 36s 604ms/step - loss: 0.0596 - acc: 0.9775 - val_loss: 0.5578 - val_acc: 0.8955\n",
            "Epoch 20/30\n",
            "59/59 [==============================] - 36s 605ms/step - loss: 0.0712 - acc: 0.9754 - val_loss: 0.5119 - val_acc: 0.8848\n",
            "Epoch 21/30\n",
            "59/59 [==============================] - 36s 609ms/step - loss: 0.0622 - acc: 0.9766 - val_loss: 0.5404 - val_acc: 0.8939\n",
            "Epoch 22/30\n",
            "59/59 [==============================] - 36s 609ms/step - loss: 0.0624 - acc: 0.9771 - val_loss: 0.5973 - val_acc: 0.8788\n",
            "Epoch 23/30\n",
            "59/59 [==============================] - 36s 610ms/step - loss: 0.0581 - acc: 0.9783 - val_loss: 0.8421 - val_acc: 0.8727\n",
            "Epoch 24/30\n",
            "59/59 [==============================] - 36s 606ms/step - loss: 0.0564 - acc: 0.9826 - val_loss: 0.5965 - val_acc: 0.8864\n",
            "Epoch 25/30\n",
            "59/59 [==============================] - 36s 606ms/step - loss: 0.0553 - acc: 0.9796 - val_loss: 0.6930 - val_acc: 0.8788\n",
            "Epoch 26/30\n",
            "59/59 [==============================] - 36s 607ms/step - loss: 0.0567 - acc: 0.9766 - val_loss: 0.5815 - val_acc: 0.8894\n",
            "Epoch 27/30\n",
            "59/59 [==============================] - 36s 606ms/step - loss: 0.0499 - acc: 0.9809 - val_loss: 0.5750 - val_acc: 0.8803\n",
            "Epoch 28/30\n",
            "59/59 [==============================] - 36s 606ms/step - loss: 0.0543 - acc: 0.9796 - val_loss: 0.6515 - val_acc: 0.8864\n",
            "Epoch 29/30\n",
            "59/59 [==============================] - 36s 609ms/step - loss: 0.0450 - acc: 0.9822 - val_loss: 0.7213 - val_acc: 0.8545\n",
            "Epoch 30/30\n",
            "59/59 [==============================] - 36s 607ms/step - loss: 0.0496 - acc: 0.9792 - val_loss: 0.7434 - val_acc: 0.8818\n"
          ]
        }
      ]
    },
    {
      "cell_type": "code",
      "metadata": {
        "colab": {
          "base_uri": "https://localhost:8080/",
          "height": 545
        },
        "id": "iGuIXBvkuzim",
        "outputId": "ccb17aa7-d1a0-4800-bbcd-3bc3c11d6011"
      },
      "source": [
        "import matplotlib.pyplot as plt\n",
        "acc = history.history['acc']\n",
        "val_acc = history.history['val_acc']\n",
        "loss = history.history['loss']\n",
        "val_loss = history.history['val_loss']\n",
        "epochs = range(1, len(acc) + 1)\n",
        "plt.plot(epochs, acc, 'bo', label='Training acc')\n",
        "plt.plot(epochs, val_acc, 'b', label='Validation acc')\n",
        "plt.title('Training and validation accuracy')\n",
        "plt.legend()\n",
        "plt.figure()\n",
        "plt.plot(epochs, loss, 'bo', label='Training loss')\n",
        "plt.plot(epochs, val_loss, 'b', label='Validation loss')\n",
        "plt.title('Training and validation loss')\n",
        "plt.legend()\n",
        "plt.show()"
      ],
      "execution_count": 37,
      "outputs": [
        {
          "output_type": "display_data",
          "data": {
            "image/png": "[encoded data removed]",
            "text/plain": [
              "<Figure size 432x288 with 1 Axes>"
            ]
          },
          "metadata": {
            "needs_background": "light"
          }
        },
        {
          "output_type": "display_data",
          "data": {
            "image/png": "[encoded data removed]",
            "text/plain": [
              "<Figure size 432x288 with 1 Axes>"
            ]
          },
          "metadata": {
            "needs_background": "light"
          }
        }
      ]
    },
    {
      "cell_type": "markdown",
      "metadata": {
        "id": "8VAjltsnvmrn"
      },
      "source": [
        "#Smoothing the plots"
      ]
    },
    {
      "cell_type": "code",
      "metadata": {
        "colab": {
          "base_uri": "https://localhost:8080/",
          "height": 545
        },
        "id": "-MpM-zayvn5A",
        "outputId": "5e043c25-a9aa-4fe8-fce5-3695e86fddb0"
      },
      "source": [
        "def smooth_curve(points, factor=0.8):\n",
        "  smoothed_points = []\n",
        "  for point in points:\n",
        "    if smoothed_points:\n",
        "      previous = smoothed_points[-1]\n",
        "      smoothed_points.append(previous * factor + point * (1 - factor))\n",
        "    else:\n",
        "      smoothed_points.append(point)\n",
        "  return smoothed_points\n",
        "\n",
        "plt.plot(epochs,smooth_curve(acc), 'bo', label='Smoothed training acc')\n",
        "plt.plot(epochs,smooth_curve(val_acc), 'b', label='Smoothed validation acc')\n",
        "plt.title('Training and validation accuracy')\n",
        "plt.legend()\n",
        "plt.figure()\n",
        "plt.plot(epochs,smooth_curve(loss), 'bo', label='Smoothed training loss')\n",
        "plt.plot(epochs,smooth_curve(val_loss), 'b', label='Smoothed validation loss')\n",
        "plt.title('Training and validation loss')\n",
        "plt.legend()\n",
        "plt.show()"
      ],
      "execution_count": 40,
      "outputs": [
        {
          "output_type": "display_data",
          "data": {
            "image/png": "[encoded data removed]",
            "text/plain": [
              "<Figure size 432x288 with 1 Axes>"
            ]
          },
          "metadata": {
            "needs_background": "light"
          }
        },
        {
          "output_type": "display_data",
          "data": {
            "image/png": "[encoded data removed]",
            "text/plain": [
              "<Figure size 432x288 with 1 Axes>"
            ]
          },
          "metadata": {
            "needs_background": "light"
          }
        }
      ]
    },
    {
      "cell_type": "code",
      "metadata": {
        "id": "xJnx8BCvzTB6"
      },
      "source": [
        "model.save('skin-cancer-malignant-vs-benign.h5')"
      ],
      "execution_count": 41,
      "outputs": []
    },
    {
      "cell_type": "code",
      "metadata": {
        "id": "hN_pinaUz_HK"
      },
      "source": [
        ""
      ],
      "execution_count": null,
      "outputs": []
    }
  ]
}