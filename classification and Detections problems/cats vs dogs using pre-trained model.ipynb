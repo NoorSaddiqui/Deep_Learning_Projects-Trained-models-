{
 "cells": [
  {
   "cell_type": "code",
   "execution_count": 9,
   "id": "b2d31895",
   "metadata": {},
   "outputs": [],
   "source": [
    "from tensorflow.keras.applications import VGG16\n",
    "conv_base = VGG16(weights='imagenet',\n",
    "                  include_top=False,\n",
    "                input_shape=(150, 150, 3))"
   ]
  },
  {
   "cell_type": "code",
   "execution_count": 10,
   "id": "5eebe077",
   "metadata": {},
   "outputs": [
    {
     "name": "stdout",
     "output_type": "stream",
     "text": [
      "Model: \"vgg16\"\n",
      "_________________________________________________________________\n",
      "Layer (type)                 Output Shape              Param #   \n",
      "=================================================================\n",
      "input_3 (InputLayer)         [(None, 150, 150, 3)]     0         \n",
      "_________________________________________________________________\n",
      "block1_conv1 (Conv2D)        (None, 150, 150, 64)      1792      \n",
      "_________________________________________________________________\n",
      "block1_conv2 (Conv2D)        (None, 150, 150, 64)      36928     \n",
      "_________________________________________________________________\n",
      "block1_pool (MaxPooling2D)   (None, 75, 75, 64)        0         \n",
      "_________________________________________________________________\n",
      "block2_conv1 (Conv2D)        (None, 75, 75, 128)       73856     \n",
      "_________________________________________________________________\n",
      "block2_conv2 (Conv2D)        (None, 75, 75, 128)       147584    \n",
      "_________________________________________________________________\n",
      "block2_pool (MaxPooling2D)   (None, 37, 37, 128)       0         \n",
      "_________________________________________________________________\n",
      "block3_conv1 (Conv2D)        (None, 37, 37, 256)       295168    \n",
      "_________________________________________________________________\n",
      "block3_conv2 (Conv2D)        (None, 37, 37, 256)       590080    \n",
      "_________________________________________________________________\n",
      "block3_conv3 (Conv2D)        (None, 37, 37, 256)       590080    \n",
      "_________________________________________________________________\n",
      "block3_pool (MaxPooling2D)   (None, 18, 18, 256)       0         \n",
      "_________________________________________________________________\n",
      "block4_conv1 (Conv2D)        (None, 18, 18, 512)       1180160   \n",
      "_________________________________________________________________\n",
      "block4_conv2 (Conv2D)        (None, 18, 18, 512)       2359808   \n",
      "_________________________________________________________________\n",
      "block4_conv3 (Conv2D)        (None, 18, 18, 512)       2359808   \n",
      "_________________________________________________________________\n",
      "block4_pool (MaxPooling2D)   (None, 9, 9, 512)         0         \n",
      "_________________________________________________________________\n",
      "block5_conv1 (Conv2D)        (None, 9, 9, 512)         2359808   \n",
      "_________________________________________________________________\n",
      "block5_conv2 (Conv2D)        (None, 9, 9, 512)         2359808   \n",
      "_________________________________________________________________\n",
      "block5_conv3 (Conv2D)        (None, 9, 9, 512)         2359808   \n",
      "_________________________________________________________________\n",
      "block5_pool (MaxPooling2D)   (None, 4, 4, 512)         0         \n",
      "=================================================================\n",
      "Total params: 14,714,688\n",
      "Trainable params: 14,714,688\n",
      "Non-trainable params: 0\n",
      "_________________________________________________________________\n"
     ]
    }
   ],
   "source": [
    "conv_base.summary()\n"
   ]
  },
  {
   "cell_type": "code",
   "execution_count": 11,
   "id": "cfee0ea2",
   "metadata": {},
   "outputs": [],
   "source": [
    "import os\n",
    "import numpy as np\n",
    "from tensorflow.keras.preprocessing.image import ImageDataGenerator"
   ]
  },
  {
   "cell_type": "code",
   "execution_count": 14,
   "id": "d6247f4e",
   "metadata": {},
   "outputs": [],
   "source": [
    "import os\n",
    "import numpy as np\n",
    "from tensorflow.keras.preprocessing.image import ImageDataGenerator\n",
    "base_dir       = \"cat and dog\"\n",
    "train_dir      = \"cat and dog/train\"\n",
    "validation_dir = \"cat and dog/validation\"\n",
    "test_dir       = \"cat and dog/test\"\n",
    "\n",
    "datagen = ImageDataGenerator(rescale=1./255)\n",
    "batch_size = 30\n",
    "\n",
    "def extract_features(directory, sample_count):   \n",
    "    features = np.zeros(shape=(sample_count, 4, 4, 512))\n",
    "    labels = np.zeros(shape=(sample_count))\n",
    "    \n",
    "    generator = datagen.flow_from_directory(\n",
    "                                       directory,\n",
    "                                       target_size=(150, 150),\n",
    "                                       batch_size=batch_size,\n",
    "                                       class_mode='binary')\n",
    "\n",
    "    i=0\n",
    "    for inputs_batch, labels_batch in generator:\n",
    "        features_batch = conv_base.predict(inputs_batch)\n",
    "        features[i * batch_size : (i + 1) * batch_size] = features_batch\n",
    "        labels[i * batch_size : (i + 1) * batch_size] = labels_batch\n",
    "        i += 1\n",
    "        if i * batch_size >= sample_count:\n",
    "        \n",
    "            break\n",
    "    return features, labels"
   ]
  },
  {
   "cell_type": "code",
   "execution_count": 16,
   "id": "cc7a0059",
   "metadata": {},
   "outputs": [
    {
     "name": "stdout",
     "output_type": "stream",
     "text": [
      "Found 2000 images belonging to 2 classes.\n",
      "Found 1000 images belonging to 2 classes.\n",
      "Found 1000 images belonging to 2 classes.\n"
     ]
    }
   ],
   "source": [
    "train_features, train_labels = extract_features(train_dir,2000 )\n",
    "validation_features, validation_labels = extract_features(validation_dir,1000 )\n",
    "test_features, test_labels = extract_features(test_dir,1000)"
   ]
  },
  {
   "cell_type": "code",
   "execution_count": 21,
   "id": "cbdbad1f",
   "metadata": {},
   "outputs": [],
   "source": [
    "train_features = np.reshape(train_features, (2000, 4*4* 512))\n",
    "validation_features = np.reshape(validation_features, (1000, 4*4* 512))\n",
    "test_features = np.reshape(test_features, (1000, 4*4* 512))"
   ]
  },
  {
   "cell_type": "code",
   "execution_count": 22,
   "id": "5ce1c244",
   "metadata": {},
   "outputs": [],
   "source": [
    "from tensorflow.keras import models\n",
    "from tensorflow.keras import layers\n",
    "from tensorflow.keras import optimizers\n",
    "model = models.Sequential()\n",
    "model.add(layers.Dense(256, activation='relu', input_dim=4 * 4 * 512))\n",
    "model.add(layers.Dropout(0.5))\n",
    "model.add(layers.Dense(1, activation='sigmoid'))\n",
    "\n",
    "model.compile(optimizer=optimizers.RMSprop(lr=2e-5),\n",
    "loss='binary_crossentropy',\n",
    "metrics=['acc'])\n"
   ]
  },
  {
   "cell_type": "code",
   "execution_count": 23,
   "id": "61605ab5",
   "metadata": {},
   "outputs": [
    {
     "name": "stdout",
     "output_type": "stream",
     "text": [
      "Epoch 1/20\n",
      "67/67 [==============================] - 3s 40ms/step - loss: 0.5947 - acc: 0.6795 - val_loss: 0.4810 - val_acc: 0.8080\n",
      "Epoch 2/20\n",
      "67/67 [==============================] - 2s 35ms/step - loss: 0.4549 - acc: 0.7830 - val_loss: 0.4109 - val_acc: 0.8260\n",
      "Epoch 3/20\n",
      "67/67 [==============================] - 2s 35ms/step - loss: 0.3883 - acc: 0.8345 - val_loss: 0.3752 - val_acc: 0.8390\n",
      "Epoch 4/20\n",
      "67/67 [==============================] - 2s 35ms/step - loss: 0.3421 - acc: 0.8565 - val_loss: 0.3516 - val_acc: 0.8540\n",
      "Epoch 5/20\n",
      "67/67 [==============================] - 2s 36ms/step - loss: 0.3113 - acc: 0.8710 - val_loss: 0.3383 - val_acc: 0.8640\n",
      "Epoch 6/20\n",
      "67/67 [==============================] - 3s 40ms/step - loss: 0.2909 - acc: 0.8810 - val_loss: 0.3273 - val_acc: 0.8620\n",
      "Epoch 7/20\n",
      "67/67 [==============================] - 2s 35ms/step - loss: 0.2736 - acc: 0.8890 - val_loss: 0.3146 - val_acc: 0.8650\n",
      "Epoch 8/20\n",
      "67/67 [==============================] - 2s 35ms/step - loss: 0.2557 - acc: 0.8985 - val_loss: 0.3084 - val_acc: 0.8660\n",
      "Epoch 9/20\n",
      "67/67 [==============================] - 2s 37ms/step - loss: 0.2472 - acc: 0.9095 - val_loss: 0.3053 - val_acc: 0.8690\n",
      "Epoch 10/20\n",
      "67/67 [==============================] - 3s 41ms/step - loss: 0.2333 - acc: 0.9070 - val_loss: 0.3001 - val_acc: 0.8680\n",
      "Epoch 11/20\n",
      "67/67 [==============================] - 2s 36ms/step - loss: 0.2212 - acc: 0.9145 - val_loss: 0.2999 - val_acc: 0.8700\n",
      "Epoch 12/20\n",
      "67/67 [==============================] - 2s 35ms/step - loss: 0.2097 - acc: 0.9210 - val_loss: 0.2955 - val_acc: 0.8690\n",
      "Epoch 13/20\n",
      "67/67 [==============================] - 2s 36ms/step - loss: 0.2054 - acc: 0.9210 - val_loss: 0.2923 - val_acc: 0.8690\n",
      "Epoch 14/20\n",
      "67/67 [==============================] - 2s 35ms/step - loss: 0.1883 - acc: 0.9390 - val_loss: 0.2866 - val_acc: 0.8740\n",
      "Epoch 15/20\n",
      "67/67 [==============================] - 2s 35ms/step - loss: 0.1922 - acc: 0.9285 - val_loss: 0.2905 - val_acc: 0.8680\n",
      "Epoch 16/20\n",
      "67/67 [==============================] - 2s 35ms/step - loss: 0.1813 - acc: 0.9355 - val_loss: 0.2910 - val_acc: 0.8680\n",
      "Epoch 17/20\n",
      "67/67 [==============================] - 2s 35ms/step - loss: 0.1752 - acc: 0.9385 - val_loss: 0.2806 - val_acc: 0.8720\n",
      "Epoch 18/20\n",
      "67/67 [==============================] - 2s 36ms/step - loss: 0.1608 - acc: 0.9400 - val_loss: 0.2801 - val_acc: 0.8740\n",
      "Epoch 19/20\n",
      "67/67 [==============================] - 2s 37ms/step - loss: 0.1644 - acc: 0.9440 - val_loss: 0.2787 - val_acc: 0.8730\n",
      "Epoch 20/20\n",
      "67/67 [==============================] - 2s 35ms/step - loss: 0.1585 - acc: 0.9455 - val_loss: 0.2780 - val_acc: 0.8740\n"
     ]
    }
   ],
   "source": [
    "history = model.fit(train_features, train_labels,\n",
    "epochs=20,\n",
    "batch_size=30,\n",
    "validation_data=(validation_features, validation_labels))"
   ]
  },
  {
   "cell_type": "code",
   "execution_count": null,
   "id": "aeb1b7b8",
   "metadata": {},
   "outputs": [],
   "source": []
  },
  {
   "cell_type": "code",
   "execution_count": 24,
   "id": "b6d3e3df",
   "metadata": {},
   "outputs": [
    {
     "data": {
      "image/png": "[encoded data removed]",
      "text/plain": [
       "<Figure size 432x288 with 1 Axes>"
      ]
     },
     "metadata": {
      "needs_background": "light"
     },
     "output_type": "display_data"
    },
    {
     "data": {
      "image/png": "[encoded data removed]",
      "text/plain": [
       "<Figure size 432x288 with 1 Axes>"
      ]
     },
     "metadata": {
      "needs_background": "light"
     },
     "output_type": "display_data"
    }
   ],
   "source": [
    "import matplotlib.pyplot as plt\n",
    "acc = history.history['acc']\n",
    "val_acc = history.history['val_acc']\n",
    "loss = history.history['loss']\n",
    "val_loss = history.history['val_loss']\n",
    "epochs = range(1, len(acc) + 1)\n",
    "plt.plot(epochs, acc, 'bo', label='Training acc')\n",
    "plt.plot(epochs, val_acc, 'b', label='Validation acc')\n",
    "plt.title('Training and validation accuracy')\n",
    "plt.legend()\n",
    "plt.figure()\n",
    "plt.plot(epochs, loss, 'bo', label='Training loss')\n",
    "plt.plot(epochs, val_loss, 'b', label='Validation loss')\n",
    "plt.title('Training and validation loss')\n",
    "plt.legend()\n",
    "plt.show()"
   ]
  },
  {
   "cell_type": "code",
   "execution_count": 28,
   "id": "e04ddea4",
   "metadata": {},
   "outputs": [],
   "source": [
    "model.save('cats vs dogs.h5')"
   ]
  },
  {
   "cell_type": "code",
   "execution_count": null,
   "id": "b2a721fb",
   "metadata": {},
   "outputs": [],
   "source": []
  }
 ],
 "metadata": {
  "kernelspec": {
   "display_name": "Python 3",
   "language": "python",
   "name": "python3"
  },
  "language_info": {
   "codemirror_mode": {
    "name": "ipython",
    "version": 3
   },
   "file_extension": ".py",
   "mimetype": "text/x-python",
   "name": "python",
   "nbconvert_exporter": "python",
   "pygments_lexer": "ipython3",
   "version": "3.8.8"
  }
 },
 "nbformat": 4,
 "nbformat_minor": 5
}
