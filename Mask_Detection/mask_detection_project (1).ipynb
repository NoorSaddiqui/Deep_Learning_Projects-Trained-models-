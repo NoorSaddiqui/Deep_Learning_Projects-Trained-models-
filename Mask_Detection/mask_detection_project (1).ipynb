{
 "cells": [
  {
   "cell_type": "code",
   "execution_count": null,
   "metadata": {
    "id": "Vh-fIAsRGE3B"
   },
   "outputs": [],
   "source": [
    "import tensorflow as tf\n",
    "import keras"
   ]
  },
  {
   "cell_type": "code",
   "execution_count": null,
   "metadata": {
    "id": "gR5nWtSGGQGf"
   },
   "outputs": [],
   "source": [
    "import tensorflow as tf\n",
    "from tensorflow import keras\n",
    "from keras import layers\n",
    "inputs = keras.Input(shape=(160, 160, 3))\n",
    "x = layers.Conv2D(filters=32, kernel_size=3, activation=\"relu\")(inputs)\n",
    "x = layers.Conv2D(filters=32, kernel_size=3, activation=\"relu\")(x)\n",
    "\n",
    "x = layers.MaxPooling2D(pool_size=2)(x)\n",
    "x = layers.Conv2D(filters=64, kernel_size=3, activation=\"relu\")(x)\n",
    "x = layers.Conv2D(filters=64, kernel_size=3, activation=\"relu\")(x)\n",
    "\n",
    "x = layers.MaxPooling2D(pool_size=2)(x)\n",
    "x = layers.Conv2D(filters=128, kernel_size=3, activation=\"relu\")(x)\n",
    "x = layers.Conv2D(filters=128, kernel_size=3, activation=\"relu\")(x)\n",
    "\n",
    "x = layers.MaxPooling2D(pool_size=2)(x)\n",
    "x = layers.Conv2D(filters=128, kernel_size=3, activation=\"relu\")(x)\n",
    "x = layers.Conv2D(filters=128, kernel_size=3, activation=\"relu\")(x)\n",
    "\n",
    "x = layers.MaxPooling2D(pool_size=2)(x)\n",
    "x = layers.Conv2D(filters=64, kernel_size=3, activation=\"relu\")(x)\n",
    "x = layers.Conv2D(filters=64, kernel_size=3, activation=\"relu\")(x)\n",
    "\n",
    "x = layers.Flatten()(x)\n",
    "outputs = layers.Dense(1, activation=\"sigmoid\")(x)\n",
    "model = keras.Model(inputs=inputs, outputs=outputs)"
   ]
  },
  {
   "cell_type": "code",
   "execution_count": null,
   "metadata": {
    "colab": {
     "base_uri": "https://localhost:8080/"
    },
    "id": "OwXgeuX2GZP2",
    "outputId": "0002f2fe-56ce-4eea-f949-39511339b728"
   },
   "outputs": [
    {
     "name": "stdout",
     "output_type": "stream",
     "text": [
      "Model: \"model_8\"\n",
      "_________________________________________________________________\n",
      " Layer (type)                Output Shape              Param #   \n",
      "=================================================================\n",
      " input_9 (InputLayer)        [(None, 160, 160, 3)]     0         \n",
      "                                                                 \n",
      " conv2d_80 (Conv2D)          (None, 158, 158, 32)      896       \n",
      "                                                                 \n",
      " conv2d_81 (Conv2D)          (None, 156, 156, 32)      9248      \n",
      "                                                                 \n",
      " max_pooling2d_32 (MaxPoolin  (None, 78, 78, 32)       0         \n",
      " g2D)                                                            \n",
      "                                                                 \n",
      " conv2d_82 (Conv2D)          (None, 76, 76, 64)        18496     \n",
      "                                                                 \n",
      " conv2d_83 (Conv2D)          (None, 74, 74, 64)        36928     \n",
      "                                                                 \n",
      " max_pooling2d_33 (MaxPoolin  (None, 37, 37, 64)       0         \n",
      " g2D)                                                            \n",
      "                                                                 \n",
      " conv2d_84 (Conv2D)          (None, 35, 35, 128)       73856     \n",
      "                                                                 \n",
      " conv2d_85 (Conv2D)          (None, 33, 33, 128)       147584    \n",
      "                                                                 \n",
      " max_pooling2d_34 (MaxPoolin  (None, 16, 16, 128)      0         \n",
      " g2D)                                                            \n",
      "                                                                 \n",
      " conv2d_86 (Conv2D)          (None, 14, 14, 128)       147584    \n",
      "                                                                 \n",
      " conv2d_87 (Conv2D)          (None, 12, 12, 128)       147584    \n",
      "                                                                 \n",
      " max_pooling2d_35 (MaxPoolin  (None, 6, 6, 128)        0         \n",
      " g2D)                                                            \n",
      "                                                                 \n",
      " conv2d_88 (Conv2D)          (None, 4, 4, 64)          73792     \n",
      "                                                                 \n",
      " conv2d_89 (Conv2D)          (None, 2, 2, 64)          36928     \n",
      "                                                                 \n",
      " flatten_8 (Flatten)         (None, 256)               0         \n",
      "                                                                 \n",
      " dense_8 (Dense)             (None, 1)                 257       \n",
      "                                                                 \n",
      "=================================================================\n",
      "Total params: 693,153\n",
      "Trainable params: 693,153\n",
      "Non-trainable params: 0\n",
      "_________________________________________________________________\n"
     ]
    }
   ],
   "source": [
    "model.summary()"
   ]
  },
  {
   "cell_type": "code",
   "execution_count": null,
   "metadata": {
    "id": "0UbJ8Q3uGoWr"
   },
   "outputs": [],
   "source": [
    "model.compile(optimizer=\"rmsprop\",\n",
    " loss=\"binary_crossentropy\",\n",
    " metrics=[\"accuracy\"])"
   ]
  },
  {
   "cell_type": "code",
   "execution_count": null,
   "metadata": {
    "colab": {
     "base_uri": "https://localhost:8080/"
    },
    "id": "ckdQm0EWGvDG",
    "outputId": "99b1e50a-b897-4010-d06f-db0e1dcc139d"
   },
   "outputs": [
    {
     "name": "stdout",
     "output_type": "stream",
     "text": [
      "Found 2866 files belonging to 2 classes.\n"
     ]
    }
   ],
   "source": [
    "from tensorflow.keras.utils import image_dataset_from_directory\n",
    "\n",
    "train_dataset = image_dataset_from_directory(\"/content/drive/MyDrive/computer_vision/dataset/train\",\n",
    "                                            image_size=(160, 160), batch_size=32)"
   ]
  },
  {
   "cell_type": "code",
   "execution_count": null,
   "metadata": {
    "colab": {
     "base_uri": "https://localhost:8080/"
    },
    "id": "nBBEi_evG7F8",
    "outputId": "d9579ed1-155e-4cb5-97fc-0c43a795e7fa"
   },
   "outputs": [
    {
     "name": "stdout",
     "output_type": "stream",
     "text": [
      "Found 718 files belonging to 2 classes.\n"
     ]
    }
   ],
   "source": [
    "test_dataset = image_dataset_from_directory(\"/content/drive/MyDrive/computer_vision/dataset/val\",\n",
    "                                             image_size=(160, 160),batch_size=32)"
   ]
  },
  {
   "cell_type": "code",
   "execution_count": null,
   "metadata": {
    "colab": {
     "base_uri": "https://localhost:8080/"
    },
    "id": "_9sz1cW5HlRy",
    "outputId": "1cad53d4-bb83-4692-d9e7-e9f4e1394630"
   },
   "outputs": [
    {
     "name": "stdout",
     "output_type": "stream",
     "text": [
      "Epoch 1/25\n",
      "90/90 [==============================] - 13s 105ms/step - loss: 0.9958 - accuracy: 0.6064\n",
      "Epoch 2/25\n",
      "90/90 [==============================] - 9s 95ms/step - loss: 0.5622 - accuracy: 0.8036\n",
      "Epoch 3/25\n",
      "90/90 [==============================] - 9s 94ms/step - loss: 0.4156 - accuracy: 0.8653\n",
      "Epoch 4/25\n",
      "90/90 [==============================] - 9s 97ms/step - loss: 0.3219 - accuracy: 0.9023\n",
      "Epoch 5/25\n",
      "90/90 [==============================] - 9s 94ms/step - loss: 0.2679 - accuracy: 0.9110\n",
      "Epoch 6/25\n",
      "90/90 [==============================] - 9s 93ms/step - loss: 0.3111 - accuracy: 0.9334\n",
      "Epoch 7/25\n",
      "90/90 [==============================] - 9s 94ms/step - loss: 0.1836 - accuracy: 0.9375\n",
      "Epoch 8/25\n",
      "90/90 [==============================] - 9s 94ms/step - loss: 0.1926 - accuracy: 0.9386\n",
      "Epoch 9/25\n",
      "90/90 [==============================] - 9s 95ms/step - loss: 0.1632 - accuracy: 0.9449\n",
      "Epoch 10/25\n",
      "90/90 [==============================] - 9s 95ms/step - loss: 0.1545 - accuracy: 0.9529\n",
      "Epoch 11/25\n",
      "90/90 [==============================] - 9s 93ms/step - loss: 0.2577 - accuracy: 0.9529\n",
      "Epoch 12/25\n",
      "90/90 [==============================] - 9s 93ms/step - loss: 0.1404 - accuracy: 0.9546\n",
      "Epoch 13/25\n",
      "90/90 [==============================] - 9s 95ms/step - loss: 0.1424 - accuracy: 0.9557\n",
      "Epoch 14/25\n",
      "90/90 [==============================] - 9s 93ms/step - loss: 0.1318 - accuracy: 0.9616\n",
      "Epoch 15/25\n",
      "90/90 [==============================] - 9s 95ms/step - loss: 0.1310 - accuracy: 0.9665\n",
      "Epoch 16/25\n",
      "90/90 [==============================] - 9s 95ms/step - loss: 0.1345 - accuracy: 0.9686\n",
      "Epoch 17/25\n",
      "90/90 [==============================] - 9s 93ms/step - loss: 0.1217 - accuracy: 0.9627\n",
      "Epoch 18/25\n",
      "90/90 [==============================] - 9s 93ms/step - loss: 0.1004 - accuracy: 0.9714\n",
      "Epoch 19/25\n",
      "90/90 [==============================] - 9s 93ms/step - loss: 0.1153 - accuracy: 0.9703\n",
      "Epoch 20/25\n",
      "90/90 [==============================] - 9s 94ms/step - loss: 0.1074 - accuracy: 0.9724\n",
      "Epoch 21/25\n",
      "90/90 [==============================] - 9s 93ms/step - loss: 0.0857 - accuracy: 0.9766\n",
      "Epoch 22/25\n",
      "90/90 [==============================] - 9s 94ms/step - loss: 0.0959 - accuracy: 0.9777\n",
      "Epoch 23/25\n",
      "90/90 [==============================] - 9s 92ms/step - loss: 0.1390 - accuracy: 0.9773\n",
      "Epoch 24/25\n",
      "90/90 [==============================] - 9s 93ms/step - loss: 0.1186 - accuracy: 0.9756\n",
      "Epoch 25/25\n",
      "90/90 [==============================] - 9s 93ms/step - loss: 0.1638 - accuracy: 0.9672\n"
     ]
    }
   ],
   "source": [
    "history = model.fit(\n",
    "train_dataset,epochs=25)"
   ]
  },
  {
   "cell_type": "code",
   "execution_count": null,
   "metadata": {
    "id": "MCCPobWbItkq"
   },
   "outputs": [],
   "source": []
  },
  {
   "cell_type": "code",
   "execution_count": null,
   "metadata": {
    "id": "jpYjLQB2H5-v"
   },
   "outputs": [],
   "source": [
    "model.save('mask_model.h5')"
   ]
  },
  {
   "cell_type": "code",
   "execution_count": null,
   "metadata": {
    "colab": {
     "base_uri": "https://localhost:8080/"
    },
    "id": "W2Xr7TRrIIww",
    "outputId": "beabfe7c-5427-4cd0-93c4-4b22023ef44d"
   },
   "outputs": [
    {
     "name": "stdout",
     "output_type": "stream",
     "text": [
      "23/23 [==============================] - 3s 85ms/step - loss: 0.3295 - accuracy: 0.9694\n"
     ]
    },
    {
     "data": {
      "text/plain": [
       "[0.32947590947151184, 0.9693593382835388]"
      ]
     },
     "execution_count": 58,
     "metadata": {},
     "output_type": "execute_result"
    }
   ],
   "source": [
    "model.evaluate(test_dataset)"
   ]
  },
  {
   "cell_type": "code",
   "execution_count": null,
   "metadata": {
    "id": "EaTC9nFyITcg"
   },
   "outputs": [],
   "source": []
  }
 ],
 "metadata": {
  "accelerator": "GPU",
  "colab": {
   "name": "mask_detection_project.ipynb",
   "provenance": []
  },
  "kernelspec": {
   "display_name": "Python 3 (ipykernel)",
   "language": "python",
   "name": "python3"
  },
  "language_info": {
   "codemirror_mode": {
    "name": "ipython",
    "version": 3
   },
   "file_extension": ".py",
   "mimetype": "text/x-python",
   "name": "python",
   "nbconvert_exporter": "python",
   "pygments_lexer": "ipython3",
   "version": "3.9.7"
  }
 },
 "nbformat": 4,
 "nbformat_minor": 1
}
