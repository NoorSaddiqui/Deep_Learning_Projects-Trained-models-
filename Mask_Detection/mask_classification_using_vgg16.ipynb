{
  "nbformat": 4,
  "nbformat_minor": 0,
  "metadata": {
    "colab": {
      "name": "mask classification using vgg16.ipynb",
      "provenance": []
    },
    "kernelspec": {
      "name": "python3",
      "display_name": "Python 3"
    },
    "language_info": {
      "name": "python"
    },
    "accelerator": "GPU"
  },
  "cells": [
    {
      "cell_type": "code",
      "execution_count": null,
      "metadata": {
        "id": "AKTQVvJlZ98P"
      },
      "outputs": [],
      "source": [
        "import tensorflow as tf\n",
        "import numpy as np\n",
        "import keras\n",
        "import matplotlib.pyplot as plt\n",
        "from keras.layers import *\n",
        "from keras import models\n",
        "model = models.Sequential()\n",
        "from keras.preprocessing import image"
      ]
    },
    {
      "cell_type": "code",
      "source": [
        "from keras.applications.vgg16 import VGG16\n",
        "conv_base = VGG16(weights='imagenet',include_top=False,\n",
        "                              input_shape=(128,128, 3))\n"
      ],
      "metadata": {
        "id": "Mk7kApNQ32a1"
      },
      "execution_count": null,
      "outputs": []
    },
    {
      "cell_type": "code",
      "source": [
        "from keras import models\n",
        "from keras import layers\n",
        "model = models.Sequential()\n",
        "model.add(conv_base)\n",
        "\n",
        "model.add(layers.Flatten())\n",
        "model.add(layers.Dense(256, activation='relu'))\n",
        "model.add(layers.Dense(128, activation='relu'))\n",
        "model.add(Dropout(0.25))\n",
        "model.add(layers.Dense(1, activation='sigmoid'))"
      ],
      "metadata": {
        "id": "5jTWXRvT32d5"
      },
      "execution_count": null,
      "outputs": []
    },
    {
      "cell_type": "code",
      "source": [
        "model.summary()"
      ],
      "metadata": {
        "colab": {
          "base_uri": "https://localhost:8080/"
        },
        "id": "QrRuhGTnaKBV",
        "outputId": "2aeb04f5-517d-4987-a276-2fb7d1fbc68a"
      },
      "execution_count": null,
      "outputs": [
        {
          "output_type": "stream",
          "name": "stdout",
          "text": [
            "Model: \"sequential_5\"\n",
            "_________________________________________________________________\n",
            " Layer (type)                Output Shape              Param #   \n",
            "=================================================================\n",
            " vgg16 (Functional)          (None, 4, 4, 512)         14714688  \n",
            "                                                                 \n",
            " flatten_1 (Flatten)         (None, 8192)              0         \n",
            "                                                                 \n",
            " dense_3 (Dense)             (None, 256)               2097408   \n",
            "                                                                 \n",
            " dense_4 (Dense)             (None, 128)               32896     \n",
            "                                                                 \n",
            " dropout_1 (Dropout)         (None, 128)               0         \n",
            "                                                                 \n",
            " dense_5 (Dense)             (None, 1)                 129       \n",
            "                                                                 \n",
            "=================================================================\n",
            "Total params: 16,845,121\n",
            "Trainable params: 16,845,121\n",
            "Non-trainable params: 0\n",
            "_________________________________________________________________\n"
          ]
        }
      ]
    },
    {
      "cell_type": "code",
      "source": [
        "model.compile(optimizer=\"adam\",\n",
        " loss=\"binary_crossentropy\",\n",
        " metrics=[\"accuracy\"])"
      ],
      "metadata": {
        "id": "dQHIPzE5aZcI"
      },
      "execution_count": null,
      "outputs": []
    },
    {
      "cell_type": "code",
      "source": [
        "from tensorflow.keras.utils import image_dataset_from_directory\n",
        "\n",
        "train_dataset = image_dataset_from_directory(\"/content/drive/MyDrive/computer_vision/preprocess_data/train\",\n",
        "                                            image_size=(128,128), batch_size=32)"
      ],
      "metadata": {
        "id": "JeWZ0L3Eft3A",
        "colab": {
          "base_uri": "https://localhost:8080/"
        },
        "outputId": "078529dd-09af-4153-d8aa-0b007fc496d8"
      },
      "execution_count": null,
      "outputs": [
        {
          "output_type": "stream",
          "name": "stdout",
          "text": [
            "Found 4190 files belonging to 2 classes.\n"
          ]
        }
      ]
    },
    {
      "cell_type": "code",
      "source": [
        "val_dataset = image_dataset_from_directory(\"/content/drive/MyDrive/computer_vision/preprocess_data/val\",\n",
        "                                             image_size=(128,128),batch_size=32)"
      ],
      "metadata": {
        "id": "2HZFW2qKacHh",
        "colab": {
          "base_uri": "https://localhost:8080/"
        },
        "outputId": "93ea5b15-d4ec-4918-e9b7-b71103a649d3"
      },
      "execution_count": null,
      "outputs": [
        {
          "output_type": "stream",
          "name": "stdout",
          "text": [
            "Found 1196 files belonging to 2 classes.\n"
          ]
        }
      ]
    },
    {
      "cell_type": "code",
      "source": [
        "test_dataset = image_dataset_from_directory(\"/content/drive/MyDrive/computer_vision/preprocess_data/test\",\n",
        "                                             image_size=(128,128),batch_size=32)"
      ],
      "metadata": {
        "id": "MHCexIe0alx_",
        "colab": {
          "base_uri": "https://localhost:8080/"
        },
        "outputId": "467419bb-5071-4410-f9a0-9ab1bfb5b699"
      },
      "execution_count": null,
      "outputs": [
        {
          "output_type": "stream",
          "name": "stdout",
          "text": [
            "Found 602 files belonging to 2 classes.\n"
          ]
        }
      ]
    },
    {
      "cell_type": "code",
      "source": [
        "\n",
        "history = model.fit(train_dataset,validation_data = val_dataset, epochs=10)"
      ],
      "metadata": {
        "id": "r3HyURN0ao80",
        "colab": {
          "base_uri": "https://localhost:8080/"
        },
        "outputId": "9ec8795e-a14a-4e2c-81cd-4b0d7787ea0c"
      },
      "execution_count": null,
      "outputs": [
        {
          "output_type": "stream",
          "name": "stdout",
          "text": [
            "Epoch 1/10\n",
            "131/131 [==============================] - 33s 205ms/step - loss: 1.9240 - accuracy: 0.6757 - val_loss: 0.2037 - val_accuracy: 0.9289\n",
            "Epoch 2/10\n",
            "131/131 [==============================] - 22s 167ms/step - loss: 0.2133 - accuracy: 0.9284 - val_loss: 0.0977 - val_accuracy: 0.9774\n",
            "Epoch 3/10\n",
            "131/131 [==============================] - 23s 170ms/step - loss: 0.1123 - accuracy: 0.9637 - val_loss: 0.0881 - val_accuracy: 0.9741\n",
            "Epoch 4/10\n",
            "131/131 [==============================] - 23s 170ms/step - loss: 0.1173 - accuracy: 0.9671 - val_loss: 0.0994 - val_accuracy: 0.9699\n",
            "Epoch 5/10\n",
            "131/131 [==============================] - 22s 168ms/step - loss: 0.0913 - accuracy: 0.9709 - val_loss: 0.0876 - val_accuracy: 0.9732\n",
            "Epoch 6/10\n",
            "131/131 [==============================] - 22s 167ms/step - loss: 0.0695 - accuracy: 0.9780 - val_loss: 0.0685 - val_accuracy: 0.9791\n",
            "Epoch 7/10\n",
            "131/131 [==============================] - 22s 168ms/step - loss: 0.0612 - accuracy: 0.9809 - val_loss: 0.0599 - val_accuracy: 0.9833\n",
            "Epoch 8/10\n",
            "131/131 [==============================] - 23s 169ms/step - loss: 0.1249 - accuracy: 0.9637 - val_loss: 0.0963 - val_accuracy: 0.9808\n",
            "Epoch 9/10\n",
            "131/131 [==============================] - 22s 168ms/step - loss: 0.0817 - accuracy: 0.9737 - val_loss: 0.0643 - val_accuracy: 0.9766\n",
            "Epoch 10/10\n",
            "131/131 [==============================] - 23s 169ms/step - loss: 0.0583 - accuracy: 0.9823 - val_loss: 0.0953 - val_accuracy: 0.9799\n"
          ]
        }
      ]
    },
    {
      "cell_type": "code",
      "source": [
        "import matplotlib.pyplot as plt\n",
        "accuracy = history.history[\"accuracy\"]\n",
        "val_accuracy = history.history[\"val_accuracy\"]\n",
        "loss = history.history[\"loss\"]\n",
        "val_loss = history.history[\"val_loss\"]\n",
        "epochs = range(1, len(accuracy) + 1)\n",
        "plt.plot(epochs, accuracy, \"bo\", label=\"Training accuracy\")\n",
        "plt.plot(epochs, val_accuracy, \"b\", label=\"Validation accuracy\")\n",
        "plt.title(\"Training and validation accuracy\")\n",
        "plt.legend()\n",
        "plt.figure()\n",
        "plt.plot(epochs, loss, \"bo\", label=\"Training loss\")\n",
        "plt.plot(epochs, val_loss, \"b\", label=\"Validation loss\")\n",
        "plt.title(\"Training and validation loss\")\n",
        "plt.legend()\n",
        "plt.show()"
      ],
      "metadata": {
        "colab": {
          "base_uri": "https://localhost:8080/",
          "height": 545
        },
        "id": "2PXxjsoqivRB",
        "outputId": "62f6b295-ec11-47fa-afc6-25ed6e4053e7"
      },
      "execution_count": null,
      "outputs": [
        {
          "output_type": "display_data",
          "data": {
            "text/plain": [
              "<Figure size 432x288 with 1 Axes>"
            ],
            "image/png": "[encoded data removed]"
          },
          "metadata": {
            "needs_background": "light"
          }
        },
        {
          "output_type": "display_data",
          "data": {
            "text/plain": [
              "<Figure size 432x288 with 1 Axes>"
            ],
            "image/png": "[encoded data removed]"
          },
          "metadata": {
            "needs_background": "light"
          }
        }
      ]
    },
    {
      "cell_type": "code",
      "source": [
        "scores = model.evaluate(test_dataset)"
      ],
      "metadata": {
        "id": "hsVdUsvPairw",
        "colab": {
          "base_uri": "https://localhost:8080/"
        },
        "outputId": "7719991b-7f92-493b-b55a-83d78075ac2b"
      },
      "execution_count": null,
      "outputs": [
        {
          "output_type": "stream",
          "name": "stdout",
          "text": [
            "19/19 [==============================] - 2s 62ms/step - loss: 0.1536 - accuracy: 0.9751\n"
          ]
        }
      ]
    },
    {
      "cell_type": "code",
      "source": [
        "print(scores[1])"
      ],
      "metadata": {
        "id": "xmdA_32wivqj",
        "colab": {
          "base_uri": "https://localhost:8080/"
        },
        "outputId": "1895b327-95c0-4e83-ee5e-995006832abd"
      },
      "execution_count": null,
      "outputs": [
        {
          "output_type": "stream",
          "name": "stdout",
          "text": [
            "0.97508305311203\n"
          ]
        }
      ]
    },
    {
      "cell_type": "code",
      "source": [
        "import numpy as np\n",
        "import pandas as pd"
      ],
      "metadata": {
        "id": "lNW22ZXsDRS4"
      },
      "execution_count": null,
      "outputs": []
    },
    {
      "cell_type": "code",
      "source": [
        ""
      ],
      "metadata": {
        "id": "dlFnnTNDH2P0"
      },
      "execution_count": null,
      "outputs": []
    }
  ]
}