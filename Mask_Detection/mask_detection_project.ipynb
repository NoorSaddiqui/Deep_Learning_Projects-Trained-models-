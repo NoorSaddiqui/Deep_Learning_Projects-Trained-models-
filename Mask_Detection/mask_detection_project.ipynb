{
  "nbformat": 4,
  "nbformat_minor": 0,
  "metadata": {
    "colab": {
      "name": "mask_detection_project.ipynb",
      "provenance": []
    },
    "kernelspec": {
      "name": "python3",
      "display_name": "Python 3"
    },
    "language_info": {
      "name": "python"
    },
    "accelerator": "GPU"
  },
  "cells": [
    {
      "cell_type": "code",
      "execution_count": 16,
      "metadata": {
        "id": "Vh-fIAsRGE3B"
      },
      "outputs": [],
      "source": [
        "import tensorflow as tf\n",
        "import keras"
      ]
    },
    {
      "cell_type": "code",
      "source": [
        "import tensorflow as tf\n",
        "from tensorflow import keras\n",
        "from keras import layers\n",
        "inputs = keras.Input(shape=(180, 180, 3))\n",
        "x = layers.Conv2D(filters=32, kernel_size=3, activation=\"relu\")(inputs)\n",
        "x = layers.Conv2D(filters=32, kernel_size=3, activation=\"relu\")(x)\n",
        "\n",
        "x = layers.MaxPooling2D(pool_size=2)(x)\n",
        "x = layers.Conv2D(filters=64, kernel_size=3, activation=\"relu\")(x)\n",
        "x = layers.Conv2D(filters=64, kernel_size=3, activation=\"relu\")(x)\n",
        "\n",
        "x = layers.MaxPooling2D(pool_size=2)(x)\n",
        "x = layers.Conv2D(filters=128, kernel_size=3, activation=\"relu\")(x)\n",
        "x = layers.Conv2D(filters=128, kernel_size=3, activation=\"relu\")(x)\n",
        "\n",
        "x = layers.MaxPooling2D(pool_size=2)(x)\n",
        "x = layers.Conv2D(filters=128, kernel_size=3, activation=\"relu\")(x)\n",
        "x = layers.Conv2D(filters=128, kernel_size=3, activation=\"relu\")(x)\n",
        "\n",
        "x = layers.MaxPooling2D(pool_size=2)(x)\n",
        "x = layers.Conv2D(filters=64, kernel_size=3, activation=\"relu\")(x)\n",
        "x = layers.Conv2D(filters=64, kernel_size=3, activation=\"relu\")(x)\n",
        "\n",
        "x = layers.Flatten()(x)\n",
        "outputs = layers.Dense(1, activation=\"sigmoid\")(x)\n",
        "model = keras.Model(inputs=inputs, outputs=outputs)"
      ],
      "metadata": {
        "id": "gR5nWtSGGQGf"
      },
      "execution_count": 17,
      "outputs": []
    },
    {
      "cell_type": "code",
      "source": [
        "model.summary()"
      ],
      "metadata": {
        "colab": {
          "base_uri": "https://localhost:8080/"
        },
        "id": "OwXgeuX2GZP2",
        "outputId": "ffc37c4b-1acf-4d6a-99dd-e3b575b8b50d"
      },
      "execution_count": 18,
      "outputs": [
        {
          "output_type": "stream",
          "name": "stdout",
          "text": [
            "Model: \"model_2\"\n",
            "_________________________________________________________________\n",
            " Layer (type)                Output Shape              Param #   \n",
            "=================================================================\n",
            " input_3 (InputLayer)        [(None, 180, 180, 3)]     0         \n",
            "                                                                 \n",
            " conv2d_20 (Conv2D)          (None, 178, 178, 32)      896       \n",
            "                                                                 \n",
            " conv2d_21 (Conv2D)          (None, 176, 176, 32)      9248      \n",
            "                                                                 \n",
            " max_pooling2d_8 (MaxPooling  (None, 88, 88, 32)       0         \n",
            " 2D)                                                             \n",
            "                                                                 \n",
            " conv2d_22 (Conv2D)          (None, 86, 86, 64)        18496     \n",
            "                                                                 \n",
            " conv2d_23 (Conv2D)          (None, 84, 84, 64)        36928     \n",
            "                                                                 \n",
            " max_pooling2d_9 (MaxPooling  (None, 42, 42, 64)       0         \n",
            " 2D)                                                             \n",
            "                                                                 \n",
            " conv2d_24 (Conv2D)          (None, 40, 40, 128)       73856     \n",
            "                                                                 \n",
            " conv2d_25 (Conv2D)          (None, 38, 38, 128)       147584    \n",
            "                                                                 \n",
            " max_pooling2d_10 (MaxPoolin  (None, 19, 19, 128)      0         \n",
            " g2D)                                                            \n",
            "                                                                 \n",
            " conv2d_26 (Conv2D)          (None, 17, 17, 128)       147584    \n",
            "                                                                 \n",
            " conv2d_27 (Conv2D)          (None, 15, 15, 128)       147584    \n",
            "                                                                 \n",
            " max_pooling2d_11 (MaxPoolin  (None, 7, 7, 128)        0         \n",
            " g2D)                                                            \n",
            "                                                                 \n",
            " conv2d_28 (Conv2D)          (None, 5, 5, 64)          73792     \n",
            "                                                                 \n",
            " conv2d_29 (Conv2D)          (None, 3, 3, 64)          36928     \n",
            "                                                                 \n",
            " flatten_2 (Flatten)         (None, 576)               0         \n",
            "                                                                 \n",
            " dense_2 (Dense)             (None, 1)                 577       \n",
            "                                                                 \n",
            "=================================================================\n",
            "Total params: 693,473\n",
            "Trainable params: 693,473\n",
            "Non-trainable params: 0\n",
            "_________________________________________________________________\n"
          ]
        }
      ]
    },
    {
      "cell_type": "code",
      "source": [
        "model.compile(optimizer=\"rmsprop\",\n",
        " loss=\"binary_crossentropy\",\n",
        " metrics=[\"accuracy\"])"
      ],
      "metadata": {
        "id": "0UbJ8Q3uGoWr"
      },
      "execution_count": 19,
      "outputs": []
    },
    {
      "cell_type": "code",
      "source": [
        "from tensorflow.keras.utils import image_dataset_from_directory\n",
        "\n",
        "train_dataset = image_dataset_from_directory(\"/content/drive/MyDrive/computer_vision/dataset/train\",\n",
        "                                            image_size=(180, 180), batch_size=32)"
      ],
      "metadata": {
        "colab": {
          "base_uri": "https://localhost:8080/"
        },
        "id": "ckdQm0EWGvDG",
        "outputId": "f595bc3c-f3a8-45aa-c5da-00a8fd503269"
      },
      "execution_count": 22,
      "outputs": [
        {
          "output_type": "stream",
          "name": "stdout",
          "text": [
            "Found 2866 files belonging to 2 classes.\n"
          ]
        }
      ]
    },
    {
      "cell_type": "code",
      "source": [
        "test_dataset = image_dataset_from_directory(\"/content/drive/MyDrive/computer_vision/dataset/val\",\n",
        "                                             image_size=(180, 180),batch_size=32)"
      ],
      "metadata": {
        "colab": {
          "base_uri": "https://localhost:8080/"
        },
        "id": "nBBEi_evG7F8",
        "outputId": "0f39cb60-73a3-48cc-d248-9f2de5abb9fd"
      },
      "execution_count": 23,
      "outputs": [
        {
          "output_type": "stream",
          "name": "stdout",
          "text": [
            "Found 718 files belonging to 2 classes.\n"
          ]
        }
      ]
    },
    {
      "cell_type": "code",
      "source": [
        "callbacks = [\n",
        " keras.callbacks.ModelCheckpoint(\n",
        " filepath=\"mask_detecting_project.keras\",\n",
        " save_best_only=True,\n",
        " monitor=\"loss\")\n",
        "]"
      ],
      "metadata": {
        "id": "KYPzD-2PHf3c"
      },
      "execution_count": 24,
      "outputs": []
    },
    {
      "cell_type": "code",
      "source": [
        "history = model.fit(\n",
        "train_dataset,epochs=25,\n",
        "callbacks=callbacks)"
      ],
      "metadata": {
        "colab": {
          "base_uri": "https://localhost:8080/"
        },
        "id": "_9sz1cW5HlRy",
        "outputId": "6438d523-c41b-4366-c94b-620c36a8c5ad"
      },
      "execution_count": 25,
      "outputs": [
        {
          "output_type": "stream",
          "name": "stdout",
          "text": [
            "Epoch 1/25\n",
            "90/90 [==============================] - 197s 2s/step - loss: 3.1236 - accuracy: 0.6420\n",
            "Epoch 2/25\n",
            "90/90 [==============================] - 10s 107ms/step - loss: 0.5914 - accuracy: 0.7812\n",
            "Epoch 3/25\n",
            "90/90 [==============================] - 10s 101ms/step - loss: 0.5252 - accuracy: 0.8625\n",
            "Epoch 4/25\n",
            "90/90 [==============================] - 10s 101ms/step - loss: 0.3145 - accuracy: 0.9096\n",
            "Epoch 5/25\n",
            "90/90 [==============================] - 10s 101ms/step - loss: 0.3000 - accuracy: 0.9142\n",
            "Epoch 6/25\n",
            "90/90 [==============================] - 10s 103ms/step - loss: 0.2789 - accuracy: 0.9093\n",
            "Epoch 7/25\n",
            "90/90 [==============================] - 10s 103ms/step - loss: 0.2447 - accuracy: 0.9215\n",
            "Epoch 8/25\n",
            "90/90 [==============================] - 10s 104ms/step - loss: 0.2031 - accuracy: 0.9435\n",
            "Epoch 9/25\n",
            "90/90 [==============================] - 10s 102ms/step - loss: 0.1878 - accuracy: 0.9508\n",
            "Epoch 10/25\n",
            "90/90 [==============================] - 10s 105ms/step - loss: 0.1685 - accuracy: 0.9431\n",
            "Epoch 11/25\n",
            "90/90 [==============================] - 10s 106ms/step - loss: 0.1578 - accuracy: 0.9525\n",
            "Epoch 12/25\n",
            "90/90 [==============================] - 10s 103ms/step - loss: 0.2111 - accuracy: 0.9536\n",
            "Epoch 13/25\n",
            "90/90 [==============================] - 10s 109ms/step - loss: 0.1687 - accuracy: 0.9508\n",
            "Epoch 14/25\n",
            "90/90 [==============================] - 10s 107ms/step - loss: 0.2007 - accuracy: 0.9484\n",
            "Epoch 15/25\n",
            "90/90 [==============================] - 10s 107ms/step - loss: 0.1428 - accuracy: 0.9560\n",
            "Epoch 16/25\n",
            "90/90 [==============================] - 10s 102ms/step - loss: 0.1449 - accuracy: 0.9585\n",
            "Epoch 17/25\n",
            "90/90 [==============================] - 10s 106ms/step - loss: 0.1721 - accuracy: 0.9634\n",
            "Epoch 18/25\n",
            "90/90 [==============================] - 10s 100ms/step - loss: 0.1874 - accuracy: 0.9672\n",
            "Epoch 19/25\n",
            "90/90 [==============================] - 10s 101ms/step - loss: 0.1503 - accuracy: 0.9546\n",
            "Epoch 20/25\n",
            "90/90 [==============================] - 10s 100ms/step - loss: 0.1283 - accuracy: 0.9658\n",
            "Epoch 21/25\n",
            "90/90 [==============================] - 10s 100ms/step - loss: 0.1245 - accuracy: 0.9717\n",
            "Epoch 22/25\n",
            "90/90 [==============================] - 10s 100ms/step - loss: 0.1408 - accuracy: 0.9637\n",
            "Epoch 23/25\n",
            "90/90 [==============================] - 10s 100ms/step - loss: 0.1230 - accuracy: 0.9676\n",
            "Epoch 24/25\n",
            "90/90 [==============================] - 10s 101ms/step - loss: 0.1105 - accuracy: 0.9731\n",
            "Epoch 25/25\n",
            "90/90 [==============================] - 10s 101ms/step - loss: 0.1098 - accuracy: 0.9693\n"
          ]
        }
      ]
    },
    {
      "cell_type": "code",
      "source": [
        ""
      ],
      "metadata": {
        "id": "MCCPobWbItkq"
      },
      "execution_count": 25,
      "outputs": []
    },
    {
      "cell_type": "code",
      "source": [
        "model.save('mask_detection_trained_model.h5')"
      ],
      "metadata": {
        "id": "jpYjLQB2H5-v"
      },
      "execution_count": 26,
      "outputs": []
    },
    {
      "cell_type": "code",
      "source": [
        "model.evaluate(test_dataset)"
      ],
      "metadata": {
        "colab": {
          "base_uri": "https://localhost:8080/"
        },
        "id": "W2Xr7TRrIIww",
        "outputId": "6e9f5b28-2133-4d1b-9b9f-ee3a0d2d0ba6"
      },
      "execution_count": 27,
      "outputs": [
        {
          "output_type": "stream",
          "name": "stdout",
          "text": [
            "23/23 [==============================] - 73s 2s/step - loss: 1.5052 - accuracy: 0.9011\n"
          ]
        },
        {
          "output_type": "execute_result",
          "data": {
            "text/plain": [
              "[1.5052415132522583, 0.9011142253875732]"
            ]
          },
          "metadata": {},
          "execution_count": 27
        }
      ]
    },
    {
      "cell_type": "code",
      "source": [
        ""
      ],
      "metadata": {
        "id": "EaTC9nFyITcg"
      },
      "execution_count": null,
      "outputs": []
    }
  ]
}