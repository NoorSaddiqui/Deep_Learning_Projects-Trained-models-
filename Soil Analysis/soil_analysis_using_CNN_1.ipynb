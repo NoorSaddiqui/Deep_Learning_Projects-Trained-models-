{
 "cells": [
  {
   "cell_type": "code",
   "execution_count": 13,
   "metadata": {
    "id": "94uLvOpFoCFu"
   },
   "outputs": [],
   "source": []
  },
  {
   "cell_type": "markdown",
   "metadata": {},
   "source": [
    "# Splitting data"
   ]
  },
  {
   "cell_type": "raw",
   "metadata": {},
   "source": [
    "Splitting 80% training and 20% validation data"
   ]
  },
  {
   "cell_type": "code",
   "execution_count": 14,
   "metadata": {
    "colab": {
     "base_uri": "https://localhost:8080/"
    },
    "id": "3k2XLabsndcs",
    "outputId": "cda0107b-0dc7-4308-89c1-477c8795f28b"
   },
   "outputs": [
    {
     "name": "stderr",
     "output_type": "stream",
     "text": [
      "Copying files: 2454 files [00:54, 45.28 files/s]\n"
     ]
    }
   ],
   "source": [
    "import splitfolders\n",
    "\n",
    "splitfolders.ratio('/content/drive/MyDrive/soil analysis', output=\"split data\", seed=1337, ratio=(.7, 0.3,)) \n"
   ]
  },
  {
   "cell_type": "code",
   "execution_count": 14,
   "metadata": {
    "id": "4M-fOyQyndZm"
   },
   "outputs": [],
   "source": []
  },
  {
   "cell_type": "markdown",
   "metadata": {
    "id": "C662VB6Osuny"
   },
   "source": [
    "libraries for Computing:\n",
    "- \n",
    "- Tensorflow / keras: used for training the model \n",
    "- PIL :               used for image processing\n",
    "- Numpy:              used for numerical computation\n",
    "- Os   :              used for joining the path"
   ]
  },
  {
   "cell_type": "code",
   "execution_count": null,
   "metadata": {},
   "outputs": [],
   "source": []
  },
  {
   "cell_type": "code",
   "execution_count": 122,
   "metadata": {
    "id": "F5LlJMxNj_A6"
   },
   "outputs": [],
   "source": [
    "\n",
    "import os\n",
    "import glob\n",
    "import h5py\n",
    "from PIL import Image\n",
    "from keras.models import Sequential, Model\n",
    "from keras.applications.vgg16 import VGG16, preprocess_input\n",
    "from keras.preprocessing.image import ImageDataGenerator,load_img, img_to_array\n",
    "from keras.models import Sequential\n",
    "from keras.layers import Conv2D, MaxPooling2D, Dense, Dropout, Input, Flatten, SeparableConv2D\n",
    "from keras.layers import GlobalMaxPooling2D\n",
    "from tensorflow.keras.layers import BatchNormalization\n",
    "from keras.models import Model\n",
    "from tensorflow.keras.optimizers import Adam , SGD, RMSprop\n",
    "from keras.callbacks import ModelCheckpoint, Callback, EarlyStopping\n",
    "from tensorflow.keras.utils import to_categorical\n",
    "from keras import backend as K\n",
    "import numpy as np"
   ]
  },
  {
   "cell_type": "code",
   "execution_count": 122,
   "metadata": {
    "id": "PnLct_aKm-a1"
   },
   "outputs": [],
   "source": []
  },
  {
   "cell_type": "markdown",
   "metadata": {},
   "source": [
    "Loading Data\n",
    "-\n",
    "- Uaing imagedatagenerator for reading/loading images from directory\n",
    "- batch_size used for how many images read togather\n",
    "- Rescal meaning image into 0,1\n",
    "- target size mean images dimension(height, width,channel)\n",
    "- 1716 images for training and 738 images for testing"
   ]
  },
  {
   "cell_type": "code",
   "execution_count": null,
   "metadata": {},
   "outputs": [],
   "source": []
  },
  {
   "cell_type": "code",
   "execution_count": 203,
   "metadata": {
    "colab": {
     "base_uri": "https://localhost:8080/"
    },
    "id": "bt6EGrBXnBjV",
    "outputId": "c5191ac2-c5e1-4d18-9d04-02e324fd1b3b"
   },
   "outputs": [
    {
     "name": "stdout",
     "output_type": "stream",
     "text": [
      "Found 1716 images belonging to 4 classes.\n",
      "Found 738 images belonging to 4 classes.\n"
     ]
    }
   ],
   "source": [
    "\n",
    "\n",
    "\n",
    "from tensorflow.keras.preprocessing.image import ImageDataGenerator\n",
    "train_datagen = ImageDataGenerator( preprocessing_function= preprocess_input,\n",
    "                                   horizontal_flip = True,\n",
    "                                     rescale=1./255 )\n",
    "\n",
    "batch_size = 16\n",
    "validation_datagen = ImageDataGenerator(preprocessing_function= preprocess_input,\n",
    "                                        horizontal_flip = True,\n",
    "                                        rescale=1./255)\n",
    "\n",
    "train_data = train_datagen.flow_from_directory(\n",
    "                    '/content/drive/MyDrive/soil analysis/split data/train',\n",
    "                    target_size=(224, 224),batch_size= batch_size)\n",
    "\n",
    "batches = validation_datagen.flow_from_directory(\n",
    "                    '/content/drive/MyDrive/soil analysis/split data/val',\n",
    "                    target_size=(224,224), batch_size= 738)\n"
   ]
  },
  {
   "cell_type": "code",
   "execution_count": null,
   "metadata": {},
   "outputs": [],
   "source": []
  },
  {
   "cell_type": "markdown",
   "metadata": {},
   "source": [
    "Creating labels\n",
    "-\n",
    "- sperate images and labels from dataset\n",
    "- checks the dataset categories indexes"
   ]
  },
  {
   "cell_type": "code",
   "execution_count": null,
   "metadata": {},
   "outputs": [],
   "source": []
  },
  {
   "cell_type": "code",
   "execution_count": 204,
   "metadata": {
    "colab": {
     "base_uri": "https://localhost:8080/"
    },
    "id": "oTCpgSIOo2kx",
    "outputId": "7844635a-9d23-41a9-bc3c-f9785feb461d"
   },
   "outputs": [
    {
     "data": {
      "text/plain": [
       "{'Mary soil': 0, 'chalky': 1, 'sand': 2, 'silt': 3}"
      ]
     },
     "execution_count": 204,
     "metadata": {},
     "output_type": "execute_result"
    }
   ],
   "source": [
    "from PIL import ImageFile\n",
    "ImageFile.LOAD_TRUNCATED_IMAGES = True\n",
    "\n",
    "imgs, labels = next(batches)\n",
    "\n",
    "batches.class_indices"
   ]
  },
  {
   "cell_type": "code",
   "execution_count": 205,
   "metadata": {
    "colab": {
     "base_uri": "https://localhost:8080/"
    },
    "id": "6LMYjzMIqVFc",
    "outputId": "d6d4a0d6-acf3-4d44-a88e-f4b45de93aed"
   },
   "outputs": [
    {
     "data": {
      "text/plain": [
       "{'Mary soil': 0, 'chalky': 1, 'sand': 2, 'silt': 3}"
      ]
     },
     "execution_count": 205,
     "metadata": {},
     "output_type": "execute_result"
    }
   ],
   "source": [
    "categories = {\n",
    "'Mary soil': 0, 'chalky': 1, 'sand': 2, 'silt': 3\n",
    "}\n",
    "\n",
    "categories"
   ]
  },
  {
   "cell_type": "code",
   "execution_count": null,
   "metadata": {},
   "outputs": [],
   "source": []
  },
  {
   "cell_type": "markdown",
   "metadata": {},
   "source": [
    "Splitting data into validation and testing\n",
    "-\n",
    "- val data have 738 samples\n",
    "- splitting into testing and validation further \n",
    "- 50% val and 50% testing\n",
    "- validation 369 and testing 369"
   ]
  },
  {
   "cell_type": "code",
   "execution_count": null,
   "metadata": {},
   "outputs": [],
   "source": []
  },
  {
   "cell_type": "code",
   "execution_count": 206,
   "metadata": {
    "id": "x_h6EO9Hq_GU"
   },
   "outputs": [],
   "source": [
    "from sklearn.model_selection import train_test_split\n",
    "# Train, validation and test split\n",
    "\n",
    "X_val, X_test, y_val, y_test = train_test_split(imgs,labels, test_size=0.5, random_state=7)\n",
    "\n"
   ]
  },
  {
   "cell_type": "code",
   "execution_count": 207,
   "metadata": {
    "colab": {
     "base_uri": "https://localhost:8080/"
    },
    "id": "atNGsqRarDcr",
    "outputId": "b6bc4e4d-9c06-4df5-a6fd-3f5edecd8272"
   },
   "outputs": [
    {
     "name": "stdout",
     "output_type": "stream",
     "text": [
      "*-*-*-*-*-*\n",
      "Train\n",
      "(369, 224, 224, 3)\n",
      "(369, 4)\n",
      "*-*-*-*-*-*\n",
      "Test\n",
      "(369, 224, 224, 3)\n",
      "(369, 4)\n"
     ]
    }
   ],
   "source": [
    "print(\"*-*-*-*-*-*\")\n",
    "print(\"Train\")\n",
    "print(X_val.shape)\n",
    "print(y_val.shape)\n",
    "\n",
    "print(\"*-*-*-*-*-*\")\n",
    "print(\"Test\")\n",
    "print(X_test.shape)\n",
    "print(y_test.shape)"
   ]
  },
  {
   "cell_type": "code",
   "execution_count": null,
   "metadata": {},
   "outputs": [],
   "source": []
  },
  {
   "cell_type": "markdown",
   "metadata": {},
   "source": [
    "Building CNN Model\n",
    "- \n",
    "- images size 224,224,3\n",
    "- activation 'relu'\n",
    "- Convent2d, maxpooling, batchnormalization\n",
    "- Dense layers, flatten layers\n",
    "- 'softmax'"
   ]
  },
  {
   "cell_type": "code",
   "execution_count": null,
   "metadata": {},
   "outputs": [],
   "source": []
  },
  {
   "cell_type": "code",
   "execution_count": 208,
   "metadata": {
    "id": "qkyh8CICrVA5"
   },
   "outputs": [],
   "source": [
    "import tensorflow as tf\n",
    "from tensorflow import keras\n",
    "from keras import layers\n",
    "inputs = keras.Input(shape=(224, 224, 3))\n",
    "x = layers.Conv2D(filters=16, kernel_size=3, activation=\"relu\")(inputs)\n",
    "x = layers.Conv2D(filters=16, kernel_size=3, activation=\"relu\")(x)\n",
    "\n",
    "x = layers.MaxPooling2D(pool_size=2)(x)\n",
    "x = layers.Conv2D(filters=32, kernel_size=3, activation=\"relu\")(x)\n",
    "x = layers.Conv2D(filters=32, kernel_size=3, activation=\"relu\")(x)\n",
    "\n",
    "x = layers.MaxPooling2D(pool_size=2)(x)\n",
    "x = layers.Conv2D(filters=64, kernel_size=3, activation=\"relu\")(x)\n",
    "x = layers.Conv2D(filters=64, kernel_size=3, activation=\"relu\")(x)\n",
    "\n",
    "x = layers.MaxPooling2D(pool_size=2)(x)\n",
    "x = layers.Conv2D(filters=128, kernel_size=3, activation=\"relu\")(x)\n",
    "x = layers.Conv2D(filters=128, kernel_size=3, activation=\"relu\")(x)\n",
    "\n",
    "x = layers.MaxPooling2D(pool_size=2)(x)\n",
    "x = layers.Conv2D(filters=64, kernel_size=3, activation=\"relu\")(x)\n",
    "x = layers.Conv2D(filters=64, kernel_size=3, activation=\"relu\")(x)\n",
    "x = layers.MaxPooling2D(pool_size=2)(x)\n",
    "\n",
    "x = layers.Flatten()(x)\n",
    "outputs = layers.Dense(4, activation=\"softmax\")(x)\n",
    "model = keras.Model(inputs=inputs, outputs=outputs)"
   ]
  },
  {
   "cell_type": "code",
   "execution_count": 209,
   "metadata": {
    "colab": {
     "base_uri": "https://localhost:8080/"
    },
    "id": "37kbxZVHrbiy",
    "outputId": "a44a549e-5485-4af6-8ec4-2c515205577e"
   },
   "outputs": [
    {
     "name": "stdout",
     "output_type": "stream",
     "text": [
      "Model: \"model_1\"\n",
      "_________________________________________________________________\n",
      " Layer (type)                Output Shape              Param #   \n",
      "=================================================================\n",
      " input_16 (InputLayer)       [(None, 224, 224, 3)]     0         \n",
      "                                                                 \n",
      " conv2d_307 (Conv2D)         (None, 222, 222, 16)      448       \n",
      "                                                                 \n",
      " conv2d_308 (Conv2D)         (None, 220, 220, 16)      2320      \n",
      "                                                                 \n",
      " max_pooling2d_12 (MaxPoolin  (None, 110, 110, 16)     0         \n",
      " g2D)                                                            \n",
      "                                                                 \n",
      " conv2d_309 (Conv2D)         (None, 108, 108, 32)      4640      \n",
      "                                                                 \n",
      " conv2d_310 (Conv2D)         (None, 106, 106, 32)      9248      \n",
      "                                                                 \n",
      " max_pooling2d_13 (MaxPoolin  (None, 53, 53, 32)       0         \n",
      " g2D)                                                            \n",
      "                                                                 \n",
      " conv2d_311 (Conv2D)         (None, 51, 51, 64)        18496     \n",
      "                                                                 \n",
      " conv2d_312 (Conv2D)         (None, 49, 49, 64)        36928     \n",
      "                                                                 \n",
      " max_pooling2d_14 (MaxPoolin  (None, 24, 24, 64)       0         \n",
      " g2D)                                                            \n",
      "                                                                 \n",
      " conv2d_313 (Conv2D)         (None, 22, 22, 128)       73856     \n",
      "                                                                 \n",
      " conv2d_314 (Conv2D)         (None, 20, 20, 128)       147584    \n",
      "                                                                 \n",
      " max_pooling2d_15 (MaxPoolin  (None, 10, 10, 128)      0         \n",
      " g2D)                                                            \n",
      "                                                                 \n",
      " conv2d_315 (Conv2D)         (None, 8, 8, 64)          73792     \n",
      "                                                                 \n",
      " conv2d_316 (Conv2D)         (None, 6, 6, 64)          36928     \n",
      "                                                                 \n",
      " max_pooling2d_16 (MaxPoolin  (None, 3, 3, 64)         0         \n",
      " g2D)                                                            \n",
      "                                                                 \n",
      " flatten_13 (Flatten)        (None, 576)               0         \n",
      "                                                                 \n",
      " dense_49 (Dense)            (None, 4)                 2308      \n",
      "                                                                 \n",
      "=================================================================\n",
      "Total params: 406,548\n",
      "Trainable params: 406,548\n",
      "Non-trainable params: 0\n",
      "_________________________________________________________________\n"
     ]
    }
   ],
   "source": [
    "model.summary()"
   ]
  },
  {
   "cell_type": "code",
   "execution_count": null,
   "metadata": {},
   "outputs": [],
   "source": []
  },
  {
   "cell_type": "markdown",
   "metadata": {},
   "source": [
    "Compiling the model\n",
    "-\n",
    "- 'rmsprop' is optimizer\n",
    "- loss used categorical crossentropy because problems is not binary\n",
    "- Evaluation matrix is 'Accuracy'"
   ]
  },
  {
   "cell_type": "code",
   "execution_count": null,
   "metadata": {},
   "outputs": [],
   "source": []
  },
  {
   "cell_type": "code",
   "execution_count": 210,
   "metadata": {
    "id": "40tKnK5Trg68"
   },
   "outputs": [],
   "source": [
    "model.compile(optimizer=\"rmsprop\",\n",
    " loss=\"categorical_crossentropy\",\n",
    " metrics=[\"accuracy\"])"
   ]
  },
  {
   "cell_type": "code",
   "execution_count": null,
   "metadata": {},
   "outputs": [],
   "source": []
  },
  {
   "cell_type": "markdown",
   "metadata": {},
   "source": [
    "Fitting the model\n",
    "-\n",
    "- In fit method using training and validation data \n",
    "- Epochs defined 30"
   ]
  },
  {
   "cell_type": "code",
   "execution_count": 211,
   "metadata": {
    "colab": {
     "base_uri": "https://localhost:8080/"
    },
    "id": "Icf14IqjrjwI",
    "outputId": "4e0c2808-e42c-4487-884b-e583cc5ca8c7"
   },
   "outputs": [
    {
     "name": "stdout",
     "output_type": "stream",
     "text": [
      "Epoch 1/30\n",
      "108/108 [==============================] - 36s 314ms/step - loss: 1.3722 - accuracy: 0.3689 - val_loss: 1.1890 - val_accuracy: 0.4824\n",
      "Epoch 2/30\n",
      "108/108 [==============================] - 32s 297ms/step - loss: 1.0824 - accuracy: 0.5664 - val_loss: 0.9679 - val_accuracy: 0.6558\n",
      "Epoch 3/30\n",
      "108/108 [==============================] - 33s 304ms/step - loss: 0.9349 - accuracy: 0.6422 - val_loss: 0.9234 - val_accuracy: 0.6748\n",
      "Epoch 4/30\n",
      "108/108 [==============================] - 32s 294ms/step - loss: 0.7609 - accuracy: 0.7150 - val_loss: 0.7272 - val_accuracy: 0.7154\n",
      "Epoch 5/30\n",
      "108/108 [==============================] - 32s 296ms/step - loss: 0.6330 - accuracy: 0.7692 - val_loss: 0.7464 - val_accuracy: 0.7425\n",
      "Epoch 6/30\n",
      "108/108 [==============================] - 32s 297ms/step - loss: 0.5332 - accuracy: 0.8205 - val_loss: 0.4606 - val_accuracy: 0.8293\n",
      "Epoch 7/30\n",
      "108/108 [==============================] - 32s 296ms/step - loss: 0.4253 - accuracy: 0.8508 - val_loss: 0.7010 - val_accuracy: 0.7778\n",
      "Epoch 8/30\n",
      "108/108 [==============================] - 32s 300ms/step - loss: 0.3807 - accuracy: 0.8817 - val_loss: 0.3720 - val_accuracy: 0.8564\n",
      "Epoch 9/30\n",
      "108/108 [==============================] - 32s 297ms/step - loss: 0.3400 - accuracy: 0.8922 - val_loss: 0.3152 - val_accuracy: 0.8943\n",
      "Epoch 10/30\n",
      "108/108 [==============================] - 32s 295ms/step - loss: 0.2741 - accuracy: 0.9033 - val_loss: 0.2994 - val_accuracy: 0.9133\n",
      "Epoch 11/30\n",
      "108/108 [==============================] - 32s 297ms/step - loss: 0.2174 - accuracy: 0.9301 - val_loss: 0.2797 - val_accuracy: 0.8997\n",
      "Epoch 12/30\n",
      "108/108 [==============================] - 32s 297ms/step - loss: 0.2106 - accuracy: 0.9336 - val_loss: 0.2706 - val_accuracy: 0.9051\n",
      "Epoch 13/30\n",
      "108/108 [==============================] - 32s 294ms/step - loss: 0.1770 - accuracy: 0.9458 - val_loss: 0.6367 - val_accuracy: 0.8157\n",
      "Epoch 14/30\n",
      "108/108 [==============================] - 32s 294ms/step - loss: 0.1743 - accuracy: 0.9487 - val_loss: 0.3043 - val_accuracy: 0.8943\n",
      "Epoch 15/30\n",
      "108/108 [==============================] - 32s 293ms/step - loss: 0.1454 - accuracy: 0.9586 - val_loss: 0.2555 - val_accuracy: 0.9404\n",
      "Epoch 16/30\n",
      "108/108 [==============================] - 32s 294ms/step - loss: 0.1603 - accuracy: 0.9510 - val_loss: 0.2235 - val_accuracy: 0.9350\n",
      "Epoch 17/30\n",
      "108/108 [==============================] - 32s 295ms/step - loss: 0.1606 - accuracy: 0.9551 - val_loss: 0.2521 - val_accuracy: 0.9377\n",
      "Epoch 18/30\n",
      "108/108 [==============================] - 32s 295ms/step - loss: 0.0980 - accuracy: 0.9685 - val_loss: 0.4697 - val_accuracy: 0.9187\n",
      "Epoch 19/30\n",
      "108/108 [==============================] - 32s 295ms/step - loss: 0.1236 - accuracy: 0.9604 - val_loss: 0.3694 - val_accuracy: 0.9160\n",
      "Epoch 20/30\n",
      "108/108 [==============================] - 32s 295ms/step - loss: 0.1231 - accuracy: 0.9668 - val_loss: 0.2239 - val_accuracy: 0.9593\n",
      "Epoch 21/30\n",
      "108/108 [==============================] - 32s 295ms/step - loss: 0.1008 - accuracy: 0.9674 - val_loss: 0.2270 - val_accuracy: 0.9295\n",
      "Epoch 22/30\n",
      "108/108 [==============================] - 32s 294ms/step - loss: 0.1113 - accuracy: 0.9709 - val_loss: 0.2650 - val_accuracy: 0.9350\n",
      "Epoch 23/30\n",
      "108/108 [==============================] - 32s 294ms/step - loss: 0.0952 - accuracy: 0.9714 - val_loss: 0.3541 - val_accuracy: 0.9377\n",
      "Epoch 24/30\n",
      "108/108 [==============================] - 32s 293ms/step - loss: 0.0959 - accuracy: 0.9749 - val_loss: 0.2463 - val_accuracy: 0.9458\n",
      "Epoch 25/30\n",
      "108/108 [==============================] - 32s 294ms/step - loss: 0.0857 - accuracy: 0.9744 - val_loss: 0.2473 - val_accuracy: 0.9485\n",
      "Epoch 26/30\n",
      "108/108 [==============================] - 32s 294ms/step - loss: 0.0816 - accuracy: 0.9773 - val_loss: 0.4161 - val_accuracy: 0.9295\n",
      "Epoch 27/30\n",
      "108/108 [==============================] - 32s 297ms/step - loss: 0.1163 - accuracy: 0.9784 - val_loss: 0.3114 - val_accuracy: 0.9485\n",
      "Epoch 28/30\n",
      "108/108 [==============================] - 32s 297ms/step - loss: 0.0778 - accuracy: 0.9773 - val_loss: 0.5975 - val_accuracy: 0.9160\n",
      "Epoch 29/30\n",
      "108/108 [==============================] - 32s 294ms/step - loss: 0.0908 - accuracy: 0.9779 - val_loss: 0.3942 - val_accuracy: 0.9160\n",
      "Epoch 30/30\n",
      "108/108 [==============================] - 32s 293ms/step - loss: 0.0785 - accuracy: 0.9866 - val_loss: 0.2906 - val_accuracy: 0.9458\n"
     ]
    }
   ],
   "source": [
    "history = model.fit(\n",
    "                    train_data,\n",
    "                    validation_data = (X_val, y_val),\n",
    "                    epochs=30)"
   ]
  },
  {
   "cell_type": "code",
   "execution_count": null,
   "metadata": {},
   "outputs": [],
   "source": []
  },
  {
   "cell_type": "markdown",
   "metadata": {},
   "source": [
    "Visualize Accuracy and Loss\n",
    "-\n",
    "- importing matplotlib and seaborn libraries for ploting graphs\n",
    "- Training accuracy and validation accuracy graphs\n",
    "- Training loss and validation loss graphs"
   ]
  },
  {
   "cell_type": "code",
   "execution_count": null,
   "metadata": {},
   "outputs": [],
   "source": []
  },
  {
   "cell_type": "code",
   "execution_count": 214,
   "metadata": {
    "colab": {
     "base_uri": "https://localhost:8080/",
     "height": 573
    },
    "id": "AwrUPSufrnfo",
    "outputId": "04613598-22fa-4506-d24a-658275907a52"
   },
   "outputs": [
    {
     "data": {
      "image/png": "[encoded data removed]",
      "text/plain": [
       "<Figure size 432x288 with 1 Axes>"
      ]
     },
     "metadata": {
      "needs_background": "light"
     },
     "output_type": "display_data"
    },
    {
     "data": {
      "image/png": "[encoded data removed]",
      "text/plain": [
       "<Figure size 432x288 with 1 Axes>"
      ]
     },
     "metadata": {
      "needs_background": "light"
     },
     "output_type": "display_data"
    }
   ],
   "source": [
    "\n",
    "import matplotlib.pyplot as plt\n",
    "import seaborn as sns\n",
    "\n",
    "plt.plot(history.history['accuracy'], label=\"Training accuracy\")\n",
    "plt.plot(history.history['val_accuracy'], label=\"Validation accuracy\")\n",
    "plt.title('Training and validation accuracy')\n",
    "plt.xlabel('Epochs')\n",
    "plt.ylabel('Accuracy')\n",
    "plt.legend()\n",
    "plt.show()\n",
    "# Plot using Seaborn\n",
    "\n",
    "plt.plot(history.history['accuracy'], label=\"Training loss\")\n",
    "plt.plot(history.history['val_accuracy'], label=\"Validation loss\")\n",
    "#my_plot = sns.lineplot(data=history[[\"loss\",\"validation_loss\"]])\n",
    "plt.xlabel('Epochs')\n",
    "plt.ylabel('Loss')\n",
    "#plt.legend(labels=[\"Training\", \"Validation\"])\n",
    "plt.title('Training and Validation Loss')\n",
    "plt.show()"
   ]
  },
  {
   "cell_type": "code",
   "execution_count": null,
   "metadata": {},
   "outputs": [],
   "source": []
  },
  {
   "cell_type": "markdown",
   "metadata": {},
   "source": [
    "Testing the model on unseen data\n",
    "-\n",
    "- Evaluate method used for testing\n",
    "- putting the unseen data"
   ]
  },
  {
   "cell_type": "code",
   "execution_count": null,
   "metadata": {},
   "outputs": [],
   "source": []
  },
  {
   "cell_type": "code",
   "execution_count": 215,
   "metadata": {
    "colab": {
     "base_uri": "https://localhost:8080/"
    },
    "id": "jvQG4hqMr3W1",
    "outputId": "ab44a7c7-ad3c-4455-fb89-561639beb007"
   },
   "outputs": [
    {
     "name": "stdout",
     "output_type": "stream",
     "text": [
      "12/12 [==============================] - 0s 32ms/step - loss: 0.3304 - accuracy: 0.9539\n"
     ]
    },
    {
     "data": {
      "text/plain": [
       "[0.33039501309394836, 0.9539295434951782]"
      ]
     },
     "execution_count": 215,
     "metadata": {},
     "output_type": "execute_result"
    }
   ],
   "source": [
    "model.evaluate(X_test, y_test)"
   ]
  },
  {
   "cell_type": "code",
   "execution_count": 216,
   "metadata": {
    "colab": {
     "base_uri": "https://localhost:8080/"
    },
    "id": "JL67G2TPr7Nb",
    "outputId": "08b5565a-c58a-4d11-e2b1-e82b5fbef7c9"
   },
   "outputs": [
    {
     "data": {
      "text/plain": [
       "(369, 4)"
      ]
     },
     "execution_count": 216,
     "metadata": {},
     "output_type": "execute_result"
    }
   ],
   "source": [
    "import numpy as np\n",
    "import pandas as pd\n",
    "y_test.shape\n"
   ]
  },
  {
   "cell_type": "code",
   "execution_count": 217,
   "metadata": {
    "id": "2H3dl4ynr-k_"
   },
   "outputs": [],
   "source": [
    "y_pred = model.predict(X_test, verbose=0)\n",
    "\n"
   ]
  },
  {
   "cell_type": "code",
   "execution_count": null,
   "metadata": {},
   "outputs": [],
   "source": []
  },
  {
   "cell_type": "markdown",
   "metadata": {},
   "source": [
    "Confusion matrix\n",
    "-\n",
    "- import confusion matrix from sklearn\n",
    "- predict the model \n",
    "- plot the confusion matrix graphs"
   ]
  },
  {
   "cell_type": "code",
   "execution_count": null,
   "metadata": {},
   "outputs": [],
   "source": []
  },
  {
   "cell_type": "code",
   "execution_count": 218,
   "metadata": {
    "id": "fDXKuH9AsI8r"
   },
   "outputs": [],
   "source": [
    "from sklearn.metrics import confusion_matrix\n",
    "c_matrix = confusion_matrix(np.argmax(y_test, axis=1), np.argmax(y_pred, axis=1))\n",
    "\n",
    "import seaborn as sns\n",
    "def confusion_matrix(confusion_matrix, class_names, figsize = (10,7), fontsize=14):\n",
    "    \"\"\"Prints a confusion matrix, as returned by sklearn.metrics.confusion_matrix, as a heatmap.\n",
    "    \n",
    "    Arguments\n",
    "    ---------\n",
    "    confusion_matrix: numpy.ndarray\n",
    "        The numpy.ndarray object returned from a call to sklearn.metrics.confusion_matrix. \n",
    "        Similarly constructed ndarrays can also be used.\n",
    "    class_names: list\n",
    "        An ordered list of class names, in the order they index the given confusion matrix.\n",
    "    figsize: tuple\n",
    "        A 2-long tuple, the first value determining the horizontal size of the ouputted figure,\n",
    "        the second determining the vertical size. Defaults to (10,7).\n",
    "    fontsize: int\n",
    "        Font size for axes labels. Defaults to 14.\n",
    "    \"\"\"\n",
    "    df_cm = pd.DataFrame(\n",
    "        confusion_matrix, index=class_names, columns=class_names, \n",
    "    )\n",
    "    fig = plt.figure(figsize=figsize)\n",
    "    try:\n",
    "        heatmap = sns.heatmap(df_cm, annot=True, fmt=\"d\")\n",
    "    except ValueError:\n",
    "        raise ValueError(\"Confusion matrix values must be integers.\")\n",
    "    heatmap.yaxis.set_ticklabels(heatmap.yaxis.get_ticklabels(), rotation=0, ha='right', fontsize=fontsize)\n",
    "    heatmap.xaxis.set_ticklabels(heatmap.xaxis.get_ticklabels(), rotation=45, ha='right', fontsize=fontsize)\n",
    "    plt.ylabel('True label')\n",
    "    plt.xlabel('Predicted label')"
   ]
  },
  {
   "cell_type": "code",
   "execution_count": 219,
   "metadata": {
    "colab": {
     "base_uri": "https://localhost:8080/",
     "height": 491
    },
    "id": "G0GkiJGasNB3",
    "outputId": "cea69348-ef89-4df3-8cd9-d62bc22321e4"
   },
   "outputs": [
    {
     "data": {
      "image/png": "[encoded data removed]",
      "text/plain": [
       "<Figure size 1080x504 with 2 Axes>"
      ]
     },
     "metadata": {
      "needs_background": "light"
     },
     "output_type": "display_data"
    }
   ],
   "source": [
    "class_names = batches.class_indices.keys()\n",
    "confusion_matrix(c_matrix, class_names, figsize = (15,7), fontsize=14)"
   ]
  },
  {
   "cell_type": "code",
   "execution_count": null,
   "metadata": {},
   "outputs": [],
   "source": []
  },
  {
   "cell_type": "markdown",
   "metadata": {},
   "source": [
    "Creating Classification Report\n",
    "- \n",
    "- import classification report from sklearn\n",
    "- predicting the value\n",
    "- "
   ]
  },
  {
   "cell_type": "code",
   "execution_count": null,
   "metadata": {},
   "outputs": [],
   "source": []
  },
  {
   "cell_type": "code",
   "execution_count": 220,
   "metadata": {
    "colab": {
     "base_uri": "https://localhost:8080/"
    },
    "id": "6xKfQ2rnsTHv",
    "outputId": "a6fc549e-6ee4-4863-ef4e-9dcb5bcb5d68"
   },
   "outputs": [
    {
     "name": "stdout",
     "output_type": "stream",
     "text": [
      "              precision    recall  f1-score   support\n",
      "\n",
      "           0       0.97      0.95      0.96       105\n",
      "           1       0.94      0.95      0.95       103\n",
      "           2       0.93      0.94      0.93        81\n",
      "           3       0.97      0.97      0.97        80\n",
      "\n",
      "    accuracy                           0.95       369\n",
      "   macro avg       0.95      0.95      0.95       369\n",
      "weighted avg       0.95      0.95      0.95       369\n",
      "\n"
     ]
    }
   ],
   "source": [
    "# From categorical outputs to discrete values\n",
    "\n",
    "y_pred_ = [np.argmax(y) for y in y_pred]\n",
    "y_test_ = [np.argmax(y) for y in y_test]\n",
    "\n",
    "from sklearn.metrics import classification_report\n",
    "print(classification_report(y_test_, y_pred_))"
   ]
  },
  {
   "cell_type": "code",
   "execution_count": null,
   "metadata": {
    "id": "WGXaRtidscvE"
   },
   "outputs": [],
   "source": []
  }
 ],
 "metadata": {
  "accelerator": "GPU",
  "colab": {
   "collapsed_sections": [],
   "name": "soil_analysis_using_CNN.ipynb",
   "provenance": []
  },
  "gpuClass": "standard",
  "kernelspec": {
   "display_name": "Python 3 (ipykernel)",
   "language": "python",
   "name": "python3"
  },
  "language_info": {
   "codemirror_mode": {
    "name": "ipython",
    "version": 3
   },
   "file_extension": ".py",
   "mimetype": "text/x-python",
   "name": "python",
   "nbconvert_exporter": "python",
   "pygments_lexer": "ipython3",
   "version": "3.9.7"
  }
 },
 "nbformat": 4,
 "nbformat_minor": 1
}
