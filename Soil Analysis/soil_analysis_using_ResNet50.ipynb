{
  "nbformat": 4,
  "nbformat_minor": 0,
  "metadata": {
    "colab": {
      "name": "soil_analysis_using_ResNet50.ipynb",
      "provenance": [],
      "collapsed_sections": []
    },
    "kernelspec": {
      "name": "python3",
      "display_name": "Python 3"
    },
    "language_info": {
      "name": "python"
    },
    "accelerator": "GPU",
    "gpuClass": "standard"
  },
  "cells": [
    {
      "cell_type": "code",
      "execution_count": 7,
      "metadata": {
        "id": "xVKGB0Vcj3bu"
      },
      "outputs": [],
      "source": [
        "import tensorflow as tf"
      ]
    },
    {
      "cell_type": "code",
      "source": [
        "#!unzip \"/content/drive/MyDrive/water analysis/water resize data.zip\" -d \"/content/drive/MyDrive/water analysis/\""
      ],
      "metadata": {
        "id": "NkziM-fgmLre"
      },
      "execution_count": 8,
      "outputs": []
    },
    {
      "cell_type": "code",
      "source": [
        "!pip install split-folders"
      ],
      "metadata": {
        "colab": {
          "base_uri": "https://localhost:8080/"
        },
        "id": "9riRSOmlmNgE",
        "outputId": "fc86b1a3-8693-42f1-a3ef-d025297dd204"
      },
      "execution_count": 9,
      "outputs": [
        {
          "output_type": "stream",
          "name": "stdout",
          "text": [
            "Looking in indexes: https://pypi.org/simple, https://us-python.pkg.dev/colab-wheels/public/simple/\n",
            "Requirement already satisfied: split-folders in /usr/local/lib/python3.7/dist-packages (0.5.1)\n"
          ]
        }
      ]
    },
    {
      "cell_type": "code",
      "source": [
        ""
      ],
      "metadata": {
        "id": "azUEzXX1n2l5"
      },
      "execution_count": 9,
      "outputs": []
    },
    {
      "cell_type": "code",
      "source": [
        "import os \n",
        "os.getcwdb()"
      ],
      "metadata": {
        "colab": {
          "base_uri": "https://localhost:8080/"
        },
        "id": "5Cj72rhPn2io",
        "outputId": "af10db0f-c37e-4e44-803e-61b3fb612846"
      },
      "execution_count": 10,
      "outputs": [
        {
          "output_type": "execute_result",
          "data": {
            "text/plain": [
              "b'/content'"
            ]
          },
          "metadata": {},
          "execution_count": 10
        }
      ]
    },
    {
      "cell_type": "code",
      "source": [
        "%cd /content/drive/MyDrive/soil analysis"
      ],
      "metadata": {
        "colab": {
          "base_uri": "https://localhost:8080/"
        },
        "id": "UYsekR1-oB6I",
        "outputId": "e6f9a589-0799-41c1-c5cb-d261c734b867"
      },
      "execution_count": 12,
      "outputs": [
        {
          "output_type": "stream",
          "name": "stdout",
          "text": [
            "/content/drive/MyDrive/soil analysis\n"
          ]
        }
      ]
    },
    {
      "cell_type": "code",
      "source": [
        ""
      ],
      "metadata": {
        "id": "94uLvOpFoCFu"
      },
      "execution_count": 13,
      "outputs": []
    },
    {
      "cell_type": "code",
      "source": [
        "import splitfolders\n",
        "\n",
        "splitfolders.ratio('/content/drive/MyDrive/soil analysis', output=\"split data\", seed=1337, ratio=(.7, 0.3,)) \n"
      ],
      "metadata": {
        "colab": {
          "base_uri": "https://localhost:8080/"
        },
        "id": "3k2XLabsndcs",
        "outputId": "cda0107b-0dc7-4308-89c1-477c8795f28b"
      },
      "execution_count": 14,
      "outputs": [
        {
          "output_type": "stream",
          "name": "stderr",
          "text": [
            "Copying files: 2454 files [00:54, 45.28 files/s]\n"
          ]
        }
      ]
    },
    {
      "cell_type": "code",
      "source": [
        ""
      ],
      "metadata": {
        "id": "4M-fOyQyndZm"
      },
      "execution_count": 14,
      "outputs": []
    },
    {
      "cell_type": "code",
      "source": [
        ""
      ],
      "metadata": {
        "id": "C662VB6Osuny"
      },
      "execution_count": 14,
      "outputs": []
    },
    {
      "cell_type": "code",
      "source": [
        "\n",
        "import os\n",
        "import glob\n",
        "import h5py\n",
        "from PIL import Image\n",
        "from keras.models import Sequential, Model\n",
        "from keras.applications.vgg16 import VGG16, preprocess_input\n",
        "from keras.preprocessing.image import ImageDataGenerator,load_img, img_to_array\n",
        "from keras.models import Sequential\n",
        "from keras.layers import Conv2D, MaxPooling2D, Dense, Dropout, Input, Flatten, SeparableConv2D\n",
        "from keras.layers import GlobalMaxPooling2D\n",
        "from tensorflow.keras.layers import BatchNormalization\n",
        "from keras.models import Model\n",
        "from tensorflow.keras.optimizers import Adam , SGD, RMSprop\n",
        "from keras.callbacks import ModelCheckpoint, Callback, EarlyStopping\n",
        "from tensorflow.keras.utils import to_categorical\n",
        "from keras import backend as K\n",
        "import numpy as np"
      ],
      "metadata": {
        "id": "F5LlJMxNj_A6"
      },
      "execution_count": 83,
      "outputs": []
    },
    {
      "cell_type": "code",
      "source": [
        ""
      ],
      "metadata": {
        "id": "PnLct_aKm-a1"
      },
      "execution_count": 83,
      "outputs": []
    },
    {
      "cell_type": "code",
      "source": [
        "\n",
        "\n",
        "\n",
        "from tensorflow.keras.preprocessing.image import ImageDataGenerator\n",
        "train_datagen = ImageDataGenerator( preprocessing_function= preprocess_input,\n",
        "                                   horizontal_flip = True,\n",
        "                                     rescale=1./255 )\n",
        "\n",
        "batch_size = 16\n",
        "validation_datagen = ImageDataGenerator(preprocessing_function= preprocess_input,\n",
        "                                        horizontal_flip = True,\n",
        "                                        rescale=1./255)\n",
        "\n",
        "train_data = train_datagen.flow_from_directory(\n",
        "                    '/content/drive/MyDrive/soil analysis/split data/train',\n",
        "                    target_size=(224, 224),batch_size= batch_size)\n",
        "\n",
        "batches = validation_datagen.flow_from_directory(\n",
        "                    '/content/drive/MyDrive/soil analysis/split data/val',\n",
        "                    target_size=(224,224), batch_size= 738)\n"
      ],
      "metadata": {
        "colab": {
          "base_uri": "https://localhost:8080/"
        },
        "id": "bt6EGrBXnBjV",
        "outputId": "c7c000c3-a136-427c-8613-1665f7a44471"
      },
      "execution_count": 84,
      "outputs": [
        {
          "output_type": "stream",
          "name": "stdout",
          "text": [
            "Found 1716 images belonging to 4 classes.\n",
            "Found 738 images belonging to 4 classes.\n"
          ]
        }
      ]
    },
    {
      "cell_type": "code",
      "source": [
        "from PIL import ImageFile\n",
        "ImageFile.LOAD_TRUNCATED_IMAGES = True\n",
        "\n",
        "imgs, labels = next(batches)\n",
        "\n",
        "batches.class_indices"
      ],
      "metadata": {
        "colab": {
          "base_uri": "https://localhost:8080/"
        },
        "id": "oTCpgSIOo2kx",
        "outputId": "da55970a-5cff-46d6-a284-ff84f443d312"
      },
      "execution_count": 85,
      "outputs": [
        {
          "output_type": "execute_result",
          "data": {
            "text/plain": [
              "{'Mary soil': 0, 'chalky': 1, 'sand': 2, 'silt': 3}"
            ]
          },
          "metadata": {},
          "execution_count": 85
        }
      ]
    },
    {
      "cell_type": "code",
      "source": [
        "categories = {\n",
        "'Mary soil': 0, 'chalky': 1, 'sand': 2, 'silt': 3\n",
        "}\n",
        "\n",
        "categories"
      ],
      "metadata": {
        "colab": {
          "base_uri": "https://localhost:8080/"
        },
        "id": "6LMYjzMIqVFc",
        "outputId": "22d8efe7-50b3-4bdd-b0e8-16e6c3e0cac4"
      },
      "execution_count": 86,
      "outputs": [
        {
          "output_type": "execute_result",
          "data": {
            "text/plain": [
              "{'Mary soil': 0, 'chalky': 1, 'sand': 2, 'silt': 3}"
            ]
          },
          "metadata": {},
          "execution_count": 86
        }
      ]
    },
    {
      "cell_type": "code",
      "source": [
        "from sklearn.model_selection import train_test_split\n",
        "# Train, validation and test split\n",
        "\n",
        "X_val, X_test, y_val, y_test = train_test_split(imgs,labels, test_size=0.5, random_state=7)\n",
        "\n"
      ],
      "metadata": {
        "id": "x_h6EO9Hq_GU"
      },
      "execution_count": 87,
      "outputs": []
    },
    {
      "cell_type": "code",
      "source": [
        "print(\"*-*-*-*-*-*\")\n",
        "print(\"Train\")\n",
        "print(X_val.shape)\n",
        "print(y_val.shape)\n",
        "\n",
        "print(\"*-*-*-*-*-*\")\n",
        "print(\"Test\")\n",
        "print(X_test.shape)\n",
        "print(y_test.shape)"
      ],
      "metadata": {
        "colab": {
          "base_uri": "https://localhost:8080/"
        },
        "id": "atNGsqRarDcr",
        "outputId": "ea69bb23-3222-4521-888b-227b24ad9357"
      },
      "execution_count": 88,
      "outputs": [
        {
          "output_type": "stream",
          "name": "stdout",
          "text": [
            "*-*-*-*-*-*\n",
            "Train\n",
            "(369, 224, 224, 3)\n",
            "(369, 4)\n",
            "*-*-*-*-*-*\n",
            "Test\n",
            "(369, 224, 224, 3)\n",
            "(369, 4)\n"
          ]
        }
      ]
    },
    {
      "cell_type": "code",
      "source": [
        "from tensorflow.keras.applications import ResNet50\n",
        "conv_base = ResNet50(weights='imagenet',\n",
        "include_top=False,\n",
        "input_shape=(224, 224, 3))"
      ],
      "metadata": {
        "id": "y9lxhAohrF1k",
        "colab": {
          "base_uri": "https://localhost:8080/"
        },
        "outputId": "e668bf7a-07a2-478e-96c1-63f36134cc52"
      },
      "execution_count": 89,
      "outputs": [
        {
          "output_type": "stream",
          "name": "stdout",
          "text": [
            "Downloading data from https://storage.googleapis.com/tensorflow/keras-applications/resnet/resnet50_weights_tf_dim_ordering_tf_kernels_notop.h5\n",
            "94773248/94765736 [==============================] - 0s 0us/step\n",
            "94781440/94765736 [==============================] - 0s 0us/step\n"
          ]
        }
      ]
    },
    {
      "cell_type": "code",
      "source": [
        "from keras import models\n",
        "from keras import layers\n",
        "model = models.Sequential()\n",
        "model.add(conv_base)\n",
        "model.add(Dropout(0.25))\n",
        "\n",
        "model.add(layers.Flatten())\n",
        "model.add(layers.Dense(512, activation='relu'))\n",
        "model.add(layers.Dense(256, activation='relu'))\n",
        "model.add(layers.Dense(128, activation='relu'))\n",
        "model.add(Dropout(0.25))\n",
        "model.add(layers.Dense(4, activation='softmax'))"
      ],
      "metadata": {
        "id": "qkyh8CICrVA5"
      },
      "execution_count": 90,
      "outputs": []
    },
    {
      "cell_type": "code",
      "source": [
        "model.summary()"
      ],
      "metadata": {
        "colab": {
          "base_uri": "https://localhost:8080/"
        },
        "id": "37kbxZVHrbiy",
        "outputId": "3dc44239-b647-4b0c-9eab-549ef6e9869c"
      },
      "execution_count": 91,
      "outputs": [
        {
          "output_type": "stream",
          "name": "stdout",
          "text": [
            "Model: \"sequential_6\"\n",
            "_________________________________________________________________\n",
            " Layer (type)                Output Shape              Param #   \n",
            "=================================================================\n",
            " resnet50 (Functional)       (None, 7, 7, 2048)        23587712  \n",
            "                                                                 \n",
            " dropout_12 (Dropout)        (None, 7, 7, 2048)        0         \n",
            "                                                                 \n",
            " flatten_6 (Flatten)         (None, 100352)            0         \n",
            "                                                                 \n",
            " dense_24 (Dense)            (None, 512)               51380736  \n",
            "                                                                 \n",
            " dense_25 (Dense)            (None, 256)               131328    \n",
            "                                                                 \n",
            " dense_26 (Dense)            (None, 128)               32896     \n",
            "                                                                 \n",
            " dropout_13 (Dropout)        (None, 128)               0         \n",
            "                                                                 \n",
            " dense_27 (Dense)            (None, 4)                 516       \n",
            "                                                                 \n",
            "=================================================================\n",
            "Total params: 75,133,188\n",
            "Trainable params: 75,080,068\n",
            "Non-trainable params: 53,120\n",
            "_________________________________________________________________\n"
          ]
        }
      ]
    },
    {
      "cell_type": "code",
      "source": [
        "model.compile(optimizer=\"rmsprop\",\n",
        " loss=\"categorical_crossentropy\",\n",
        " metrics=[\"accuracy\"])"
      ],
      "metadata": {
        "id": "40tKnK5Trg68"
      },
      "execution_count": 92,
      "outputs": []
    },
    {
      "cell_type": "code",
      "source": [
        "history = model.fit(\n",
        "                    train_data,\n",
        "                    validation_data = (X_val, y_val),\n",
        "                    epochs=30)"
      ],
      "metadata": {
        "colab": {
          "base_uri": "https://localhost:8080/"
        },
        "id": "Icf14IqjrjwI",
        "outputId": "6fd72897-589c-4750-fe7e-26c8025db691"
      },
      "execution_count": 93,
      "outputs": [
        {
          "output_type": "stream",
          "name": "stdout",
          "text": [
            "Epoch 1/30\n",
            "108/108 [==============================] - 53s 377ms/step - loss: 2.9204 - accuracy: 0.3601 - val_loss: 1215.3738 - val_accuracy: 0.2358\n",
            "Epoch 2/30\n",
            "108/108 [==============================] - 38s 352ms/step - loss: 1.4385 - accuracy: 0.4580 - val_loss: 1125.4292 - val_accuracy: 0.2358\n",
            "Epoch 3/30\n",
            "108/108 [==============================] - 38s 354ms/step - loss: 1.2219 - accuracy: 0.5303 - val_loss: 52.5920 - val_accuracy: 0.2304\n",
            "Epoch 4/30\n",
            "108/108 [==============================] - 38s 350ms/step - loss: 1.0923 - accuracy: 0.5944 - val_loss: 36.6867 - val_accuracy: 0.2358\n",
            "Epoch 5/30\n",
            "108/108 [==============================] - 38s 349ms/step - loss: 0.9173 - accuracy: 0.6620 - val_loss: 21.8438 - val_accuracy: 0.2358\n",
            "Epoch 6/30\n",
            "108/108 [==============================] - 38s 349ms/step - loss: 0.8229 - accuracy: 0.7028 - val_loss: 19.5109 - val_accuracy: 0.2358\n",
            "Epoch 7/30\n",
            "108/108 [==============================] - 38s 350ms/step - loss: 0.7678 - accuracy: 0.7547 - val_loss: 16.0027 - val_accuracy: 0.2358\n",
            "Epoch 8/30\n",
            "108/108 [==============================] - 38s 351ms/step - loss: 0.6417 - accuracy: 0.7844 - val_loss: 7.0500 - val_accuracy: 0.3659\n",
            "Epoch 9/30\n",
            "108/108 [==============================] - 38s 353ms/step - loss: 0.6670 - accuracy: 0.7966 - val_loss: 2.8210 - val_accuracy: 0.3388\n",
            "Epoch 10/30\n",
            "108/108 [==============================] - 38s 348ms/step - loss: 0.5386 - accuracy: 0.8362 - val_loss: 5.8610 - val_accuracy: 0.2276\n",
            "Epoch 11/30\n",
            "108/108 [==============================] - 38s 349ms/step - loss: 0.4795 - accuracy: 0.8613 - val_loss: 1.0023 - val_accuracy: 0.6965\n",
            "Epoch 12/30\n",
            "108/108 [==============================] - 38s 348ms/step - loss: 0.4817 - accuracy: 0.8578 - val_loss: 0.7848 - val_accuracy: 0.6504\n",
            "Epoch 13/30\n",
            "108/108 [==============================] - 38s 349ms/step - loss: 0.3459 - accuracy: 0.9044 - val_loss: 2.2652 - val_accuracy: 0.6423\n",
            "Epoch 14/30\n",
            "108/108 [==============================] - 38s 349ms/step - loss: 0.3705 - accuracy: 0.8858 - val_loss: 1.0536 - val_accuracy: 0.8184\n",
            "Epoch 15/30\n",
            "108/108 [==============================] - 38s 349ms/step - loss: 0.3321 - accuracy: 0.9097 - val_loss: 0.8825 - val_accuracy: 0.8076\n",
            "Epoch 16/30\n",
            "108/108 [==============================] - 38s 354ms/step - loss: 0.3026 - accuracy: 0.9213 - val_loss: 11.1514 - val_accuracy: 0.4309\n",
            "Epoch 17/30\n",
            "108/108 [==============================] - 38s 350ms/step - loss: 0.4129 - accuracy: 0.9079 - val_loss: 3.1963 - val_accuracy: 0.6396\n",
            "Epoch 18/30\n",
            "108/108 [==============================] - 38s 349ms/step - loss: 0.2731 - accuracy: 0.9376 - val_loss: 0.5564 - val_accuracy: 0.9322\n",
            "Epoch 19/30\n",
            "108/108 [==============================] - 38s 348ms/step - loss: 0.2858 - accuracy: 0.9371 - val_loss: 0.4595 - val_accuracy: 0.8862\n",
            "Epoch 20/30\n",
            "108/108 [==============================] - 38s 349ms/step - loss: 0.2694 - accuracy: 0.9376 - val_loss: 0.6818 - val_accuracy: 0.8266\n",
            "Epoch 21/30\n",
            "108/108 [==============================] - 38s 349ms/step - loss: 0.2408 - accuracy: 0.9411 - val_loss: 0.5112 - val_accuracy: 0.9106\n",
            "Epoch 22/30\n",
            "108/108 [==============================] - 38s 354ms/step - loss: 0.2110 - accuracy: 0.9545 - val_loss: 0.4890 - val_accuracy: 0.9106\n",
            "Epoch 23/30\n",
            "108/108 [==============================] - 38s 352ms/step - loss: 0.2394 - accuracy: 0.9423 - val_loss: 1.6108 - val_accuracy: 0.8103\n",
            "Epoch 24/30\n",
            "108/108 [==============================] - 38s 350ms/step - loss: 0.2318 - accuracy: 0.9557 - val_loss: 0.6309 - val_accuracy: 0.9160\n",
            "Epoch 25/30\n",
            "108/108 [==============================] - 38s 350ms/step - loss: 0.2265 - accuracy: 0.9505 - val_loss: 0.7390 - val_accuracy: 0.8645\n",
            "Epoch 26/30\n",
            "108/108 [==============================] - 38s 350ms/step - loss: 0.1606 - accuracy: 0.9685 - val_loss: 3.2238 - val_accuracy: 0.6206\n",
            "Epoch 27/30\n",
            "108/108 [==============================] - 38s 350ms/step - loss: 0.1414 - accuracy: 0.9679 - val_loss: 1.7489 - val_accuracy: 0.8103\n",
            "Epoch 28/30\n",
            "108/108 [==============================] - 38s 347ms/step - loss: 0.1520 - accuracy: 0.9755 - val_loss: 5.7262 - val_accuracy: 0.7588\n",
            "Epoch 29/30\n",
            "108/108 [==============================] - 38s 350ms/step - loss: 0.2035 - accuracy: 0.9621 - val_loss: 0.4359 - val_accuracy: 0.9241\n",
            "Epoch 30/30\n",
            "108/108 [==============================] - 38s 349ms/step - loss: 0.1712 - accuracy: 0.9755 - val_loss: 0.2045 - val_accuracy: 0.9648\n"
          ]
        }
      ]
    },
    {
      "cell_type": "code",
      "source": [
        "\n",
        "import matplotlib.pyplot as plt\n",
        "import seaborn as sns\n",
        "\n",
        "plt.plot(history.history['accuracy'], label=\"Training accuracy\")\n",
        "plt.plot(history.history['val_accuracy'], label=\"Validation accuracy\")\n",
        "plt.title('Training and validation accuracy')\n",
        "plt.xlabel('Epochs')\n",
        "plt.ylabel('Accuracy')\n",
        "plt.legend()\n",
        "plt.show()\n",
        "# Plot using Seaborn\n",
        "\n",
        "plt.plot(history.history['accuracy'], label=\"Training loss\")\n",
        "plt.plot(history.history['val_accuracy'], label=\"Validation loss\")\n",
        "#my_plot = sns.lineplot(data=history[[\"loss\",\"validation_loss\"]])\n",
        "plt.xlabel('Epochs')\n",
        "plt.ylabel('Loss')\n",
        "#plt.legend(labels=[\"Training\", \"Validation\"])\n",
        "plt.title('Training and Validation Loss')\n",
        "plt.show()"
      ],
      "metadata": {
        "colab": {
          "base_uri": "https://localhost:8080/",
          "height": 573
        },
        "id": "AwrUPSufrnfo",
        "outputId": "d6eca2d0-59e8-46aa-9ce3-a858e8f20b29"
      },
      "execution_count": 94,
      "outputs": [
        {
          "output_type": "display_data",
          "data": {
            "text/plain": [
              "<Figure size 432x288 with 1 Axes>"
            ],
            "image/png": "[encoded data removed]"
          },
          "metadata": {
            "needs_background": "light"
          }
        },
        {
          "output_type": "display_data",
          "data": {
            "text/plain": [
              "<Figure size 432x288 with 1 Axes>"
            ],
            "image/png": "[encoded data removed]"
          },
          "metadata": {
            "needs_background": "light"
          }
        }
      ]
    },
    {
      "cell_type": "code",
      "source": [
        "model.evaluate(X_test, y_test)"
      ],
      "metadata": {
        "colab": {
          "base_uri": "https://localhost:8080/"
        },
        "id": "jvQG4hqMr3W1",
        "outputId": "892ed85c-266b-4766-ec38-4f160bf42a55"
      },
      "execution_count": 95,
      "outputs": [
        {
          "output_type": "stream",
          "name": "stdout",
          "text": [
            "12/12 [==============================] - 1s 100ms/step - loss: 0.1329 - accuracy: 0.9566\n"
          ]
        },
        {
          "output_type": "execute_result",
          "data": {
            "text/plain": [
              "[0.13286076486110687, 0.9566395878791809]"
            ]
          },
          "metadata": {},
          "execution_count": 95
        }
      ]
    },
    {
      "cell_type": "code",
      "source": [
        "import numpy as np\n",
        "import pandas as pd\n",
        "y_test.shape\n"
      ],
      "metadata": {
        "colab": {
          "base_uri": "https://localhost:8080/"
        },
        "id": "JL67G2TPr7Nb",
        "outputId": "e863b74e-edb5-44f0-87e5-5076eeb0bff5"
      },
      "execution_count": 96,
      "outputs": [
        {
          "output_type": "execute_result",
          "data": {
            "text/plain": [
              "(369, 4)"
            ]
          },
          "metadata": {},
          "execution_count": 96
        }
      ]
    },
    {
      "cell_type": "code",
      "source": [
        "y_pred = model.predict(X_test, verbose=0)\n",
        "\n"
      ],
      "metadata": {
        "id": "2H3dl4ynr-k_"
      },
      "execution_count": 97,
      "outputs": []
    },
    {
      "cell_type": "code",
      "source": [
        "from sklearn.metrics import confusion_matrix\n",
        "c_matrix = confusion_matrix(np.argmax(y_test, axis=1), np.argmax(y_pred, axis=1))\n",
        "\n",
        "import seaborn as sns\n",
        "def confusion_matrix(confusion_matrix, class_names, figsize = (10,7), fontsize=14):\n",
        "    \"\"\"Prints a confusion matrix, as returned by sklearn.metrics.confusion_matrix, as a heatmap.\n",
        "    \n",
        "    Arguments\n",
        "    ---------\n",
        "    confusion_matrix: numpy.ndarray\n",
        "        The numpy.ndarray object returned from a call to sklearn.metrics.confusion_matrix. \n",
        "        Similarly constructed ndarrays can also be used.\n",
        "    class_names: list\n",
        "        An ordered list of class names, in the order they index the given confusion matrix.\n",
        "    figsize: tuple\n",
        "        A 2-long tuple, the first value determining the horizontal size of the ouputted figure,\n",
        "        the second determining the vertical size. Defaults to (10,7).\n",
        "    fontsize: int\n",
        "        Font size for axes labels. Defaults to 14.\n",
        "    \"\"\"\n",
        "    df_cm = pd.DataFrame(\n",
        "        confusion_matrix, index=class_names, columns=class_names, \n",
        "    )\n",
        "    fig = plt.figure(figsize=figsize)\n",
        "    try:\n",
        "        heatmap = sns.heatmap(df_cm, annot=True, fmt=\"d\")\n",
        "    except ValueError:\n",
        "        raise ValueError(\"Confusion matrix values must be integers.\")\n",
        "    heatmap.yaxis.set_ticklabels(heatmap.yaxis.get_ticklabels(), rotation=0, ha='right', fontsize=fontsize)\n",
        "    heatmap.xaxis.set_ticklabels(heatmap.xaxis.get_ticklabels(), rotation=45, ha='right', fontsize=fontsize)\n",
        "    plt.ylabel('True label')\n",
        "    plt.xlabel('Predicted label')"
      ],
      "metadata": {
        "id": "fDXKuH9AsI8r"
      },
      "execution_count": 98,
      "outputs": []
    },
    {
      "cell_type": "code",
      "source": [
        "class_names = batches.class_indices.keys()\n",
        "confusion_matrix(c_matrix, class_names, figsize = (15,7), fontsize=14)"
      ],
      "metadata": {
        "colab": {
          "base_uri": "https://localhost:8080/",
          "height": 487
        },
        "id": "G0GkiJGasNB3",
        "outputId": "179feac7-4d5c-40e1-861c-53f721a0b872"
      },
      "execution_count": 99,
      "outputs": [
        {
          "output_type": "display_data",
          "data": {
            "text/plain": [
              "<Figure size 1080x504 with 2 Axes>"
            ],
            "image/png": "[encoded data removed]"
          },
          "metadata": {
            "needs_background": "light"
          }
        }
      ]
    },
    {
      "cell_type": "code",
      "source": [
        "# From categorical outputs to discrete values\n",
        "\n",
        "y_pred_ = [np.argmax(y) for y in y_pred]\n",
        "y_test_ = [np.argmax(y) for y in y_test]\n",
        "\n",
        "from sklearn.metrics import classification_report\n",
        "print(classification_report(y_test_, y_pred_))"
      ],
      "metadata": {
        "colab": {
          "base_uri": "https://localhost:8080/"
        },
        "id": "6xKfQ2rnsTHv",
        "outputId": "d89eb412-b35d-4d37-f417-21b0f0869b34"
      },
      "execution_count": 100,
      "outputs": [
        {
          "output_type": "stream",
          "name": "stdout",
          "text": [
            "              precision    recall  f1-score   support\n",
            "\n",
            "           0       0.95      1.00      0.97       109\n",
            "           1       0.97      0.97      0.97        96\n",
            "           2       0.97      0.86      0.91        84\n",
            "           3       0.94      0.99      0.96        80\n",
            "\n",
            "    accuracy                           0.96       369\n",
            "   macro avg       0.96      0.95      0.95       369\n",
            "weighted avg       0.96      0.96      0.96       369\n",
            "\n"
          ]
        }
      ]
    },
    {
      "cell_type": "code",
      "source": [
        ""
      ],
      "metadata": {
        "id": "WGXaRtidscvE"
      },
      "execution_count": null,
      "outputs": []
    }
  ]
}