{
  "nbformat": 4,
  "nbformat_minor": 0,
  "metadata": {
    "colab": {
      "name": "water_analysis_using_DenseNet201.ipynb",
      "provenance": []
    },
    "kernelspec": {
      "name": "python3",
      "display_name": "Python 3"
    },
    "language_info": {
      "name": "python"
    },
    "accelerator": "GPU",
    "gpuClass": "standard"
  },
  "cells": [
    {
      "cell_type": "code",
      "execution_count": 5,
      "metadata": {
        "id": "xVKGB0Vcj3bu"
      },
      "outputs": [],
      "source": [
        "import tensorflow as tf"
      ]
    },
    {
      "cell_type": "code",
      "source": [
        "#!unzip \"/content/drive/MyDrive/water analysis/water resize data.zip\" -d \"/content/drive/MyDrive/water analysis/\""
      ],
      "metadata": {
        "id": "NkziM-fgmLre"
      },
      "execution_count": 7,
      "outputs": []
    },
    {
      "cell_type": "code",
      "source": [
        "!pip install split-folders"
      ],
      "metadata": {
        "colab": {
          "base_uri": "https://localhost:8080/"
        },
        "id": "9riRSOmlmNgE",
        "outputId": "52820ee8-b271-4513-9298-86327648f124"
      },
      "execution_count": 10,
      "outputs": [
        {
          "output_type": "stream",
          "name": "stdout",
          "text": [
            "Looking in indexes: https://pypi.org/simple, https://us-python.pkg.dev/colab-wheels/public/simple/\n",
            "Collecting split-folders\n",
            "  Downloading split_folders-0.5.1-py3-none-any.whl (8.4 kB)\n",
            "Installing collected packages: split-folders\n",
            "Successfully installed split-folders-0.5.1\n"
          ]
        }
      ]
    },
    {
      "cell_type": "code",
      "source": [
        ""
      ],
      "metadata": {
        "id": "azUEzXX1n2l5"
      },
      "execution_count": 10,
      "outputs": []
    },
    {
      "cell_type": "code",
      "source": [
        "import os \n",
        "os.getcwdb()"
      ],
      "metadata": {
        "colab": {
          "base_uri": "https://localhost:8080/"
        },
        "id": "5Cj72rhPn2io",
        "outputId": "15b9953c-0979-4c9c-eb6b-74739b3d6a77"
      },
      "execution_count": 11,
      "outputs": [
        {
          "output_type": "execute_result",
          "data": {
            "text/plain": [
              "b'/content/drive/MyDrive/water analysis'"
            ]
          },
          "metadata": {},
          "execution_count": 11
        }
      ]
    },
    {
      "cell_type": "code",
      "source": [
        "%cd /content/drive/MyDrive/water analysis"
      ],
      "metadata": {
        "colab": {
          "base_uri": "https://localhost:8080/"
        },
        "id": "UYsekR1-oB6I",
        "outputId": "bbd19566-447e-49c3-cac5-4d533a7e7d4f"
      },
      "execution_count": 12,
      "outputs": [
        {
          "output_type": "stream",
          "name": "stdout",
          "text": [
            "/content/drive/MyDrive/water analysis\n"
          ]
        }
      ]
    },
    {
      "cell_type": "code",
      "source": [
        ""
      ],
      "metadata": {
        "id": "94uLvOpFoCFu"
      },
      "execution_count": null,
      "outputs": []
    },
    {
      "cell_type": "code",
      "source": [
        "import splitfolders\n",
        "\n",
        "splitfolders.ratio('/content/drive/MyDrive/water analysis/water resize data', output=\"split data\", seed=1337, ratio=(.8, 0.2,)) \n"
      ],
      "metadata": {
        "colab": {
          "base_uri": "https://localhost:8080/"
        },
        "id": "3k2XLabsndcs",
        "outputId": "f3bde090-a26a-4960-90a9-8333ee8b872e"
      },
      "execution_count": 13,
      "outputs": [
        {
          "output_type": "stream",
          "name": "stderr",
          "text": [
            "Copying files: 239 files [00:02, 93.47 files/s] \n"
          ]
        }
      ]
    },
    {
      "cell_type": "code",
      "source": [
        ""
      ],
      "metadata": {
        "id": "4M-fOyQyndZm"
      },
      "execution_count": 13,
      "outputs": []
    },
    {
      "cell_type": "code",
      "source": [
        ""
      ],
      "metadata": {
        "id": "C662VB6Osuny"
      },
      "execution_count": null,
      "outputs": []
    },
    {
      "cell_type": "code",
      "source": [
        "\n",
        "import os\n",
        "import glob\n",
        "import h5py\n",
        "from PIL import Image\n",
        "from keras.models import Sequential, Model\n",
        "from keras.applications.vgg16 import VGG16, preprocess_input\n",
        "from keras.preprocessing.image import ImageDataGenerator,load_img, img_to_array\n",
        "from keras.models import Sequential\n",
        "from keras.layers import Conv2D, MaxPooling2D, Dense, Dropout, Input, Flatten, SeparableConv2D\n",
        "from keras.layers import GlobalMaxPooling2D\n",
        "from tensorflow.keras.layers import BatchNormalization\n",
        "from keras.models import Model\n",
        "from tensorflow.keras.optimizers import Adam , SGD, RMSprop\n",
        "from keras.callbacks import ModelCheckpoint, Callback, EarlyStopping\n",
        "from tensorflow.keras.utils import to_categorical\n",
        "from keras import backend as K\n",
        "import numpy as np"
      ],
      "metadata": {
        "id": "F5LlJMxNj_A6"
      },
      "execution_count": 218,
      "outputs": []
    },
    {
      "cell_type": "code",
      "source": [
        ""
      ],
      "metadata": {
        "id": "PnLct_aKm-a1"
      },
      "execution_count": 218,
      "outputs": []
    },
    {
      "cell_type": "code",
      "source": [
        "\n",
        "\n",
        "import keras\n",
        "import tensorflow as tf\n",
        "from tensorflow.keras import layers\n",
        "\n",
        "data_augmentation = keras.Sequential(\n",
        " [\n",
        " layers.RandomFlip(\"horizontal\"),\n",
        " layers.RandomRotation(0.1),\n",
        " layers.RandomZoom(0.2),\n",
        " ]\n",
        ")\n",
        "\n",
        "\n",
        "from tensorflow.keras.preprocessing.image import ImageDataGenerator\n",
        "train_datagen = ImageDataGenerator( preprocessing_function= preprocess_input,\n",
        "                                   horizontal_flip = True,\n",
        "                                     rescale=1./255 )\n",
        "\n",
        "\n",
        "validation_datagen = ImageDataGenerator(preprocessing_function= preprocess_input,\n",
        "                                        horizontal_flip = True,\n",
        "                                        rescale=1./255)\n",
        "\n",
        "train_data = train_datagen.flow_from_directory(\n",
        "                    '/content/drive/MyDrive/water analysis/water resize data',\n",
        "                    target_size=(224, 224), batch_size= 16)\n",
        "\n",
        "batches = validation_datagen.flow_from_directory(\n",
        "                    '/content/drive/MyDrive/water analysis/split data/val',\n",
        "                   target_size=(224,224),batch_size= 49)\n",
        "                    "
      ],
      "metadata": {
        "colab": {
          "base_uri": "https://localhost:8080/"
        },
        "id": "bt6EGrBXnBjV",
        "outputId": "b4c9b23d-7f69-4163-97b5-0d1f3c59621e"
      },
      "execution_count": 291,
      "outputs": [
        {
          "output_type": "stream",
          "name": "stdout",
          "text": [
            "Found 239 images belonging to 3 classes.\n",
            "Found 49 images belonging to 3 classes.\n"
          ]
        }
      ]
    },
    {
      "cell_type": "code",
      "source": [
        "\n",
        "\n",
        "\n",
        "\n",
        "\n",
        "\n",
        "from PIL import ImageFile\n",
        "ImageFile.LOAD_TRUNCATED_IMAGES = True\n",
        "\n",
        "imgs, labels = next(batches)\n",
        "\n",
        "batches.class_indices"
      ],
      "metadata": {
        "colab": {
          "base_uri": "https://localhost:8080/"
        },
        "id": "oTCpgSIOo2kx",
        "outputId": "d9cd3924-a3fd-4157-9089-edcc512fff4b"
      },
      "execution_count": 292,
      "outputs": [
        {
          "output_type": "execute_result",
          "data": {
            "text/plain": [
              "{'clean water': 0, 'lake': 1, 'pound': 2}"
            ]
          },
          "metadata": {},
          "execution_count": 292
        }
      ]
    },
    {
      "cell_type": "code",
      "source": [
        "\n",
        "\n",
        "\n",
        "\n",
        "\n",
        "categories = {\n",
        "'clean water': 0, 'lake': 1, 'pound': 2\n",
        "}\n",
        "\n",
        "categories"
      ],
      "metadata": {
        "colab": {
          "base_uri": "https://localhost:8080/"
        },
        "id": "6LMYjzMIqVFc",
        "outputId": "07379595-98bd-4aaa-ad3c-cfb61db35d72"
      },
      "execution_count": 293,
      "outputs": [
        {
          "output_type": "execute_result",
          "data": {
            "text/plain": [
              "{'clean water': 0, 'lake': 1, 'pound': 2}"
            ]
          },
          "metadata": {},
          "execution_count": 293
        }
      ]
    },
    {
      "cell_type": "code",
      "source": [
        "\n",
        "'''from sklearn.model_selection import train_test_split\n",
        "# Train, validation and test split\n",
        "\n",
        "X_val, X_test, y_val, y_test = train_test_split(imgs,labels, test_size=0.2, random_state=7)\n",
        "\n",
        "'''"
      ],
      "metadata": {
        "id": "x_h6EO9Hq_GU",
        "colab": {
          "base_uri": "https://localhost:8080/",
          "height": 54
        },
        "outputId": "60c213bc-91e8-48ac-d25e-c26723f159f2"
      },
      "execution_count": 294,
      "outputs": [
        {
          "output_type": "execute_result",
          "data": {
            "text/plain": [
              "'from sklearn.model_selection import train_test_split\\n# Train, validation and test split\\n\\nX_val, X_test, y_val, y_test = train_test_split(imgs,labels, test_size=0.2, random_state=7)\\n\\n'"
            ],
            "application/vnd.google.colaboratory.intrinsic+json": {
              "type": "string"
            }
          },
          "metadata": {},
          "execution_count": 294
        }
      ]
    },
    {
      "cell_type": "code",
      "source": [
        "\n",
        "\n",
        "'''print(\"*-*-*-*-*-*\")\n",
        "print(\"Train\")\n",
        "print(X_val.shape)\n",
        "print(y_val.shape)\n",
        "\n",
        "print(\"*-*-*-*-*-*\")\n",
        "print(\"Test\")\n",
        "print(X_test.shape)\n",
        "print(y_test.shape)\n",
        "'''"
      ],
      "metadata": {
        "colab": {
          "base_uri": "https://localhost:8080/",
          "height": 54
        },
        "id": "atNGsqRarDcr",
        "outputId": "98130fab-393e-42b6-eb53-3e954be4ba38"
      },
      "execution_count": 295,
      "outputs": [
        {
          "output_type": "execute_result",
          "data": {
            "text/plain": [
              "'print(\"*-*-*-*-*-*\")\\nprint(\"Train\")\\nprint(X_val.shape)\\nprint(y_val.shape)\\n\\nprint(\"*-*-*-*-*-*\")\\nprint(\"Test\")\\nprint(X_test.shape)\\nprint(y_test.shape)\\n'"
            ],
            "application/vnd.google.colaboratory.intrinsic+json": {
              "type": "string"
            }
          },
          "metadata": {},
          "execution_count": 295
        }
      ]
    },
    {
      "cell_type": "code",
      "source": [
        "\n",
        "\n",
        "\n",
        "\n",
        "from tensorflow.keras.applications import DenseNet201\n",
        "conv_base = DenseNet201(weights='imagenet',\n",
        "include_top=False,\n",
        "input_shape=(224, 224, 3))"
      ],
      "metadata": {
        "id": "y9lxhAohrF1k",
        "colab": {
          "base_uri": "https://localhost:8080/"
        },
        "outputId": "7d19dc2e-5db2-4596-ce55-9668a7b9bf24"
      },
      "execution_count": 296,
      "outputs": [
        {
          "output_type": "stream",
          "name": "stdout",
          "text": [
            "Downloading data from https://storage.googleapis.com/tensorflow/keras-applications/densenet/densenet201_weights_tf_dim_ordering_tf_kernels_notop.h5\n",
            "74842112/74836368 [==============================] - 0s 0us/step\n",
            "74850304/74836368 [==============================] - 0s 0us/step\n"
          ]
        }
      ]
    },
    {
      "cell_type": "code",
      "source": [
        "from keras import models\n",
        "from keras import layers\n",
        "model = models.Sequential()\n",
        "model.add(conv_base)\n",
        "#model.add(data_augmentation)\n",
        "model.add(Dropout(0.25))\n",
        "\n",
        "model.add(layers.Flatten())\n",
        "model.add(layers.Dense(512, activation='relu'))\n",
        "model.add(layers.Dense(256, activation='relu'))\n",
        "model.add(layers.Dense(128, activation='relu'))\n",
        "model.add(Dropout(0.25))\n",
        "model.add(layers.Dense(3, activation='softmax'))"
      ],
      "metadata": {
        "id": "qkyh8CICrVA5"
      },
      "execution_count": 297,
      "outputs": []
    },
    {
      "cell_type": "code",
      "source": [
        "\n",
        "\n",
        "\n",
        "model.summary()"
      ],
      "metadata": {
        "colab": {
          "base_uri": "https://localhost:8080/"
        },
        "id": "37kbxZVHrbiy",
        "outputId": "ef3be3c9-a704-4765-a180-4ed66e408b50"
      },
      "execution_count": 298,
      "outputs": [
        {
          "output_type": "stream",
          "name": "stdout",
          "text": [
            "Model: \"sequential_39\"\n",
            "_________________________________________________________________\n",
            " Layer (type)                Output Shape              Param #   \n",
            "=================================================================\n",
            " densenet201 (Functional)    (None, 7, 7, 1920)        18321984  \n",
            "                                                                 \n",
            " dropout_14 (Dropout)        (None, 7, 7, 1920)        0         \n",
            "                                                                 \n",
            " flatten_18 (Flatten)        (None, 94080)             0         \n",
            "                                                                 \n",
            " dense_72 (Dense)            (None, 512)               48169472  \n",
            "                                                                 \n",
            " dense_73 (Dense)            (None, 256)               131328    \n",
            "                                                                 \n",
            " dense_74 (Dense)            (None, 128)               32896     \n",
            "                                                                 \n",
            " dropout_15 (Dropout)        (None, 128)               0         \n",
            "                                                                 \n",
            " dense_75 (Dense)            (None, 3)                 387       \n",
            "                                                                 \n",
            "=================================================================\n",
            "Total params: 66,656,067\n",
            "Trainable params: 66,427,011\n",
            "Non-trainable params: 229,056\n",
            "_________________________________________________________________\n"
          ]
        }
      ]
    },
    {
      "cell_type": "code",
      "source": [
        "\n",
        "\n",
        "model.compile(optimizer=\"rmsprop\",\n",
        " loss=\"categorical_crossentropy\",\n",
        " metrics=[\"accuracy\"])"
      ],
      "metadata": {
        "id": "40tKnK5Trg68"
      },
      "execution_count": 299,
      "outputs": []
    },
    {
      "cell_type": "code",
      "source": [
        "history = model.fit(\n",
        "                    train_data,\n",
        "                    validation_data = (imgs, labels),\n",
        "                    epochs=50)"
      ],
      "metadata": {
        "colab": {
          "base_uri": "https://localhost:8080/"
        },
        "id": "Icf14IqjrjwI",
        "outputId": "36123694-c7a2-4e20-df08-c3c0899f7c11"
      },
      "execution_count": 300,
      "outputs": [
        {
          "output_type": "stream",
          "name": "stdout",
          "text": [
            "Epoch 1/50\n",
            "15/15 [==============================] - 57s 1s/step - loss: 13.7798 - accuracy: 0.5900 - val_loss: 1391.2645 - val_accuracy: 0.4082\n",
            "Epoch 2/50\n",
            "15/15 [==============================] - 5s 357ms/step - loss: 3.1074 - accuracy: 0.7113 - val_loss: 10409485.0000 - val_accuracy: 0.4082\n",
            "Epoch 3/50\n",
            "15/15 [==============================] - 5s 352ms/step - loss: 0.3444 - accuracy: 0.8745 - val_loss: 1322229.5000 - val_accuracy: 0.4082\n",
            "Epoch 4/50\n",
            "15/15 [==============================] - 5s 353ms/step - loss: 0.1716 - accuracy: 0.9372 - val_loss: 224478.2812 - val_accuracy: 0.4082\n",
            "Epoch 5/50\n",
            "15/15 [==============================] - 5s 354ms/step - loss: 1.6071 - accuracy: 0.8619 - val_loss: 2638102.5000 - val_accuracy: 0.4082\n",
            "Epoch 6/50\n",
            "15/15 [==============================] - 6s 382ms/step - loss: 0.2373 - accuracy: 0.9205 - val_loss: 124792.7891 - val_accuracy: 0.4082\n",
            "Epoch 7/50\n",
            "15/15 [==============================] - 5s 357ms/step - loss: 0.0600 - accuracy: 0.9874 - val_loss: 5232.6953 - val_accuracy: 0.4082\n",
            "Epoch 8/50\n",
            "15/15 [==============================] - 5s 359ms/step - loss: 6.6435 - accuracy: 0.7615 - val_loss: 24023.7656 - val_accuracy: 0.4082\n",
            "Epoch 9/50\n",
            "15/15 [==============================] - 6s 363ms/step - loss: 0.2709 - accuracy: 0.9079 - val_loss: 5175.7422 - val_accuracy: 0.4082\n",
            "Epoch 10/50\n",
            "15/15 [==============================] - 6s 363ms/step - loss: 0.2749 - accuracy: 0.9038 - val_loss: 7722.0293 - val_accuracy: 0.4082\n",
            "Epoch 11/50\n",
            "15/15 [==============================] - 5s 359ms/step - loss: 4.9180 - accuracy: 0.7615 - val_loss: 172.7540 - val_accuracy: 0.5102\n",
            "Epoch 12/50\n",
            "15/15 [==============================] - 6s 362ms/step - loss: 0.2657 - accuracy: 0.8996 - val_loss: 635.5476 - val_accuracy: 0.6939\n",
            "Epoch 13/50\n",
            "15/15 [==============================] - 5s 358ms/step - loss: 0.1297 - accuracy: 0.9623 - val_loss: 105.0363 - val_accuracy: 0.8163\n",
            "Epoch 14/50\n",
            "15/15 [==============================] - 5s 357ms/step - loss: 0.2034 - accuracy: 0.9540 - val_loss: 98.5938 - val_accuracy: 0.5306\n",
            "Epoch 15/50\n",
            "15/15 [==============================] - 5s 355ms/step - loss: 0.1227 - accuracy: 0.9707 - val_loss: 56.7319 - val_accuracy: 0.7143\n",
            "Epoch 16/50\n",
            "15/15 [==============================] - 5s 356ms/step - loss: 0.1377 - accuracy: 0.9749 - val_loss: 4.8740 - val_accuracy: 0.8367\n",
            "Epoch 17/50\n",
            "15/15 [==============================] - 5s 361ms/step - loss: 0.2910 - accuracy: 0.9414 - val_loss: 23218.2031 - val_accuracy: 0.5306\n",
            "Epoch 18/50\n",
            "15/15 [==============================] - 5s 353ms/step - loss: 0.2791 - accuracy: 0.9331 - val_loss: 7832.0244 - val_accuracy: 0.4898\n",
            "Epoch 19/50\n",
            "15/15 [==============================] - 5s 354ms/step - loss: 0.3299 - accuracy: 0.9372 - val_loss: 113.8510 - val_accuracy: 0.1020\n",
            "Epoch 20/50\n",
            "15/15 [==============================] - 5s 356ms/step - loss: 0.2337 - accuracy: 0.9414 - val_loss: 10059.8516 - val_accuracy: 0.7347\n",
            "Epoch 21/50\n",
            "15/15 [==============================] - 5s 353ms/step - loss: 0.0153 - accuracy: 0.9958 - val_loss: 9484.5527 - val_accuracy: 0.7143\n",
            "Epoch 22/50\n",
            "15/15 [==============================] - 5s 354ms/step - loss: 2.2400 - accuracy: 0.9163 - val_loss: 8538.1406 - val_accuracy: 0.4898\n",
            "Epoch 23/50\n",
            "15/15 [==============================] - 5s 359ms/step - loss: 2.2982 - accuracy: 0.9079 - val_loss: 13.6907 - val_accuracy: 0.4286\n",
            "Epoch 24/50\n",
            "15/15 [==============================] - 5s 354ms/step - loss: 2.9002 - accuracy: 0.7490 - val_loss: 100.8146 - val_accuracy: 0.5714\n",
            "Epoch 25/50\n",
            "15/15 [==============================] - 6s 382ms/step - loss: 1.0103 - accuracy: 0.8996 - val_loss: 121.6341 - val_accuracy: 0.6122\n",
            "Epoch 26/50\n",
            "15/15 [==============================] - 5s 360ms/step - loss: 3.2707 - accuracy: 0.8285 - val_loss: 2223.7815 - val_accuracy: 0.4694\n",
            "Epoch 27/50\n",
            "15/15 [==============================] - 5s 360ms/step - loss: 0.4252 - accuracy: 0.9121 - val_loss: 224.1702 - val_accuracy: 0.5510\n",
            "Epoch 28/50\n",
            "15/15 [==============================] - 5s 360ms/step - loss: 0.1576 - accuracy: 0.9372 - val_loss: 81.6814 - val_accuracy: 0.7755\n",
            "Epoch 29/50\n",
            "15/15 [==============================] - 5s 354ms/step - loss: 0.1883 - accuracy: 0.9121 - val_loss: 5.6248 - val_accuracy: 0.8980\n",
            "Epoch 30/50\n",
            "15/15 [==============================] - 5s 355ms/step - loss: 2.5670 - accuracy: 0.9038 - val_loss: 2257.4211 - val_accuracy: 0.4286\n",
            "Epoch 31/50\n",
            "15/15 [==============================] - 5s 354ms/step - loss: 0.7102 - accuracy: 0.8452 - val_loss: 898.3035 - val_accuracy: 0.4286\n",
            "Epoch 32/50\n",
            "15/15 [==============================] - 5s 354ms/step - loss: 0.0939 - accuracy: 0.9623 - val_loss: 321.6661 - val_accuracy: 0.4286\n",
            "Epoch 33/50\n",
            "15/15 [==============================] - 5s 360ms/step - loss: 0.2630 - accuracy: 0.9163 - val_loss: 84.5604 - val_accuracy: 0.6531\n",
            "Epoch 34/50\n",
            "15/15 [==============================] - 5s 354ms/step - loss: 0.2033 - accuracy: 0.9456 - val_loss: 98.9188 - val_accuracy: 0.7959\n",
            "Epoch 35/50\n",
            "15/15 [==============================] - 5s 360ms/step - loss: 0.1001 - accuracy: 0.9707 - val_loss: 673.9745 - val_accuracy: 0.5510\n",
            "Epoch 36/50\n",
            "15/15 [==============================] - 5s 355ms/step - loss: 0.0628 - accuracy: 0.9749 - val_loss: 0.1498 - val_accuracy: 0.9796\n",
            "Epoch 37/50\n",
            "15/15 [==============================] - 5s 354ms/step - loss: 0.3181 - accuracy: 0.9582 - val_loss: 7730.9619 - val_accuracy: 0.4286\n",
            "Epoch 38/50\n",
            "15/15 [==============================] - 5s 361ms/step - loss: 0.1860 - accuracy: 0.9540 - val_loss: 2528.6670 - val_accuracy: 0.7347\n",
            "Epoch 39/50\n",
            "15/15 [==============================] - 5s 360ms/step - loss: 0.0079 - accuracy: 0.9958 - val_loss: 2141.7700 - val_accuracy: 0.7143\n",
            "Epoch 40/50\n",
            "15/15 [==============================] - 5s 355ms/step - loss: 1.3571 - accuracy: 0.9582 - val_loss: 17065.3066 - val_accuracy: 0.5714\n",
            "Epoch 41/50\n",
            "15/15 [==============================] - 5s 361ms/step - loss: 0.6435 - accuracy: 0.8787 - val_loss: 30.7046 - val_accuracy: 0.9592\n",
            "Epoch 42/50\n",
            "15/15 [==============================] - 5s 354ms/step - loss: 0.2272 - accuracy: 0.9874 - val_loss: 4.1184e-06 - val_accuracy: 1.0000\n",
            "Epoch 43/50\n",
            "15/15 [==============================] - 5s 353ms/step - loss: 0.6234 - accuracy: 0.9665 - val_loss: 22.8117 - val_accuracy: 0.9592\n",
            "Epoch 44/50\n",
            "15/15 [==============================] - 5s 354ms/step - loss: 0.2652 - accuracy: 0.9623 - val_loss: 4983.9409 - val_accuracy: 0.7347\n",
            "Epoch 45/50\n",
            "15/15 [==============================] - 6s 377ms/step - loss: 0.1599 - accuracy: 0.9623 - val_loss: 0.0527 - val_accuracy: 0.9796\n",
            "Epoch 46/50\n",
            "15/15 [==============================] - 5s 360ms/step - loss: 0.1167 - accuracy: 0.9707 - val_loss: 0.4409 - val_accuracy: 0.8980\n",
            "Epoch 47/50\n",
            "15/15 [==============================] - 5s 357ms/step - loss: 0.0332 - accuracy: 0.9833 - val_loss: 0.3675 - val_accuracy: 0.9592\n",
            "Epoch 48/50\n",
            "15/15 [==============================] - 5s 361ms/step - loss: 0.2028 - accuracy: 0.9582 - val_loss: 8.3565 - val_accuracy: 0.8980\n",
            "Epoch 49/50\n",
            "15/15 [==============================] - 5s 355ms/step - loss: 0.0729 - accuracy: 0.9707 - val_loss: 0.0037 - val_accuracy: 1.0000\n",
            "Epoch 50/50\n",
            "15/15 [==============================] - 5s 356ms/step - loss: 0.0057 - accuracy: 1.0000 - val_loss: 0.0395 - val_accuracy: 0.9796\n"
          ]
        }
      ]
    },
    {
      "cell_type": "code",
      "source": [
        "\n",
        "\n",
        "import matplotlib.pyplot as plt\n",
        "import seaborn as sns\n",
        "\n",
        "plt.plot(history.history['accuracy'], label=\"Training accuracy\")\n",
        "plt.plot(history.history['val_accuracy'], label=\"Validation accuracy\")\n",
        "plt.title('Training and validation accuracy')\n",
        "plt.xlabel('Epochs')\n",
        "plt.ylabel('Accuracy')\n",
        "plt.legend()\n",
        "plt.show()\n",
        "# Plot using Seaborn\n",
        "\n",
        "plt.plot(history.history['accuracy'], label=\"Training loss\")\n",
        "plt.plot(history.history['val_accuracy'], label=\"Validation loss\")\n",
        "#my_plot = sns.lineplot(data=history[[\"loss\",\"validation_loss\"]])\n",
        "plt.xlabel('Epochs')\n",
        "plt.ylabel('Loss')\n",
        "#plt.legend(labels=[\"Training\", \"Validation\"])\n",
        "plt.title('Training and Validation Loss')\n",
        "plt.show()"
      ],
      "metadata": {
        "colab": {
          "base_uri": "https://localhost:8080/",
          "height": 573
        },
        "id": "AwrUPSufrnfo",
        "outputId": "b51860c5-1252-42d7-eaf3-e07b84ca98d0"
      },
      "execution_count": 301,
      "outputs": [
        {
          "output_type": "display_data",
          "data": {
            "text/plain": [
              "<Figure size 432x288 with 1 Axes>"
            ],
            "image/png": "[encoded data removed]"
          },
          "metadata": {
            "needs_background": "light"
          }
        },
        {
          "output_type": "display_data",
          "data": {
            "text/plain": [
              "<Figure size 432x288 with 1 Axes>"
            ],
            "image/png": "[encoded data removed]"
          },
          "metadata": {
            "needs_background": "light"
          }
        }
      ]
    },
    {
      "cell_type": "code",
      "source": [
        "\n",
        "\n",
        "model.evaluate(imgs, labels)"
      ],
      "metadata": {
        "colab": {
          "base_uri": "https://localhost:8080/"
        },
        "id": "jvQG4hqMr3W1",
        "outputId": "5bfbb311-df67-47a9-dc65-d6b08ce944a7"
      },
      "execution_count": 304,
      "outputs": [
        {
          "output_type": "stream",
          "name": "stdout",
          "text": [
            "2/2 [==============================] - 0s 118ms/step - loss: 0.0395 - accuracy: 0.9796\n"
          ]
        },
        {
          "output_type": "execute_result",
          "data": {
            "text/plain": [
              "[0.03945841267704964, 0.9795918464660645]"
            ]
          },
          "metadata": {},
          "execution_count": 304
        }
      ]
    },
    {
      "cell_type": "code",
      "source": [
        "\n",
        "import numpy as np\n",
        "import pandas as pd\n",
        "\n"
      ],
      "metadata": {
        "id": "JL67G2TPr7Nb"
      },
      "execution_count": 305,
      "outputs": []
    },
    {
      "cell_type": "code",
      "source": [
        "y_pred = model.predict(imgs, verbose=0)\n",
        "\n"
      ],
      "metadata": {
        "id": "2H3dl4ynr-k_"
      },
      "execution_count": 306,
      "outputs": []
    },
    {
      "cell_type": "code",
      "source": [
        "from sklearn.metrics import confusion_matrix\n",
        "c_matrix = confusion_matrix(np.argmax(labels, axis=1), np.argmax(y_pred, axis=1))\n",
        "\n",
        "import seaborn as sns\n",
        "def confusion_matrix(confusion_matrix, class_names, figsize = (10,7), fontsize=14):\n",
        "    \"\"\"Prints a confusion matrix, as returned by sklearn.metrics.confusion_matrix, as a heatmap.\n",
        "    \n",
        "    Arguments\n",
        "    ---------\n",
        "    confusion_matrix: numpy.ndarray\n",
        "        The numpy.ndarray object returned from a call to sklearn.metrics.confusion_matrix. \n",
        "        Similarly constructed ndarrays can also be used.\n",
        "    class_names: list\n",
        "        An ordered list of class names, in the order they index the given confusion matrix.\n",
        "    figsize: tuple\n",
        "        A 2-long tuple, the first value determining the horizontal size of the ouputted figure,\n",
        "        the second determining the vertical size. Defaults to (10,7).\n",
        "    fontsize: int\n",
        "        Font size for axes labels. Defaults to 14.\n",
        "    \"\"\"\n",
        "    df_cm = pd.DataFrame(\n",
        "        confusion_matrix, index=class_names, columns=class_names, \n",
        "    )\n",
        "    fig = plt.figure(figsize=figsize)\n",
        "    try:\n",
        "        heatmap = sns.heatmap(df_cm, annot=True, fmt=\"d\")\n",
        "    except ValueError:\n",
        "        raise ValueError(\"Confusion matrix values must be integers.\")\n",
        "    heatmap.yaxis.set_ticklabels(heatmap.yaxis.get_ticklabels(), rotation=0, ha='right', fontsize=fontsize)\n",
        "    heatmap.xaxis.set_ticklabels(heatmap.xaxis.get_ticklabels(), rotation=45, ha='right', fontsize=fontsize)\n",
        "    plt.ylabel('True label')\n",
        "    plt.xlabel('Predicted label')"
      ],
      "metadata": {
        "id": "fDXKuH9AsI8r"
      },
      "execution_count": 307,
      "outputs": []
    },
    {
      "cell_type": "code",
      "source": [
        "class_names = batches.class_indices.keys()\n",
        "confusion_matrix(c_matrix, class_names, figsize = (15,7), fontsize=14)"
      ],
      "metadata": {
        "colab": {
          "base_uri": "https://localhost:8080/",
          "height": 504
        },
        "id": "G0GkiJGasNB3",
        "outputId": "0f956293-e0ce-49d1-ab48-d143ee0b4716"
      },
      "execution_count": 308,
      "outputs": [
        {
          "output_type": "display_data",
          "data": {
            "text/plain": [
              "<Figure size 1080x504 with 2 Axes>"
            ],
            "image/png": "[encoded data removed]"
          },
          "metadata": {
            "needs_background": "light"
          }
        }
      ]
    },
    {
      "cell_type": "code",
      "source": [
        "# From categorical outputs to discrete values\n",
        "\n",
        "y_pred_ = [np.argmax(y) for y in y_pred]\n",
        "y_test_ = [np.argmax(y) for y in labels]\n",
        "\n",
        "from sklearn.metrics import classification_report\n",
        "print(classification_report(y_test_, y_pred_))"
      ],
      "metadata": {
        "colab": {
          "base_uri": "https://localhost:8080/"
        },
        "id": "6xKfQ2rnsTHv",
        "outputId": "412e8e1a-7c1d-4e0a-a681-2dcb7b910cff"
      },
      "execution_count": 309,
      "outputs": [
        {
          "output_type": "stream",
          "name": "stdout",
          "text": [
            "              precision    recall  f1-score   support\n",
            "\n",
            "           0       1.00      1.00      1.00        20\n",
            "           1       1.00      0.95      0.98        21\n",
            "           2       0.89      1.00      0.94         8\n",
            "\n",
            "    accuracy                           0.98        49\n",
            "   macro avg       0.96      0.98      0.97        49\n",
            "weighted avg       0.98      0.98      0.98        49\n",
            "\n"
          ]
        }
      ]
    },
    {
      "cell_type": "code",
      "source": [
        ""
      ],
      "metadata": {
        "id": "WGXaRtidscvE"
      },
      "execution_count": null,
      "outputs": []
    }
  ]
}