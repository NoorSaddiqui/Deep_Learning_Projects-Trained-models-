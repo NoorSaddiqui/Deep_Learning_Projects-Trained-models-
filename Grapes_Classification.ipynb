{
  "nbformat": 4,
  "nbformat_minor": 0,
  "metadata": {
    "colab": {
      "name": "Grapes_Classification.ipynb",
      "provenance": []
    },
    "kernelspec": {
      "name": "python3",
      "display_name": "Python 3"
    },
    "language_info": {
      "name": "python"
    },
    "accelerator": "GPU"
  },
  "cells": [
    {
      "cell_type": "code",
      "metadata": {
        "colab": {
          "base_uri": "https://localhost:8080/"
        },
        "id": "tQQWbCeOWuQ0",
        "outputId": "f77537b0-65e5-4b76-985d-a5222ab7a3dd"
      },
      "source": [
        "pip install split-folders"
      ],
      "execution_count": 6,
      "outputs": [
        {
          "output_type": "stream",
          "text": [
            "Collecting split-folders\n",
            "  Downloading split_folders-0.4.3-py3-none-any.whl (7.4 kB)\n",
            "Installing collected packages: split-folders\n",
            "Successfully installed split-folders-0.4.3\n"
          ],
          "name": "stdout"
        }
      ]
    },
    {
      "cell_type": "code",
      "metadata": {
        "id": "sA6gfA4arjHh"
      },
      "source": [
        "import tensorflow"
      ],
      "execution_count": 54,
      "outputs": []
    },
    {
      "cell_type": "code",
      "metadata": {
        "id": "3L8cvigPYTAy",
        "colab": {
          "base_uri": "https://localhost:8080/"
        },
        "outputId": "8bd88282-15ff-41d5-911e-79baa6805cee"
      },
      "source": [
        "from tensorflow.keras.preprocessing.image import ImageDataGenerator\n",
        "grapes = ImageDataGenerator(rescale=1./255)\n",
        "\n",
        "grapes_data = grapes.flow_from_directory('/content/drive/MyDrive/DEEP_LEARNING _DATASETS/grapes data set')\n"
      ],
      "execution_count": 7,
      "outputs": [
        {
          "output_type": "stream",
          "text": [
            "Found 4099 images belonging to 4 classes.\n"
          ],
          "name": "stdout"
        }
      ]
    },
    {
      "cell_type": "code",
      "metadata": {
        "id": "PccHMtqqcmtC"
      },
      "source": [
        "import splitfolders"
      ],
      "execution_count": 8,
      "outputs": []
    },
    {
      "cell_type": "code",
      "metadata": {
        "colab": {
          "base_uri": "https://localhost:8080/"
        },
        "id": "G82_XlkKXRWS",
        "outputId": "4ac486b5-43bd-4fd8-a2b1-cc4a4274a63d"
      },
      "source": [
        "import splitfolders\n",
        "splitfolders.ratio('/content/drive/MyDrive/DEEP_LEARNING _DATASETS/grapes data set', output=\"output\", seed=1337, ratio=(.7, 0.2,0.1)) \n"
      ],
      "execution_count": 10,
      "outputs": [
        {
          "output_type": "stream",
          "text": [
            "Copying files: 4099 files [20:43,  3.30 files/s]\n"
          ],
          "name": "stderr"
        }
      ]
    },
    {
      "cell_type": "code",
      "metadata": {
        "id": "Ac3ddF76XWTd"
      },
      "source": [
        "from tensorflow.keras import layers\n",
        "from tensorflow.keras import models\n",
        "model = models.Sequential()\n",
        "model.add(layers.Conv2D(32, (3, 3), activation='relu',\n",
        "input_shape=(150, 150, 3)))\n",
        "model.add(layers.MaxPooling2D((2, 2)))\n",
        "model.add(layers.Conv2D(64, (3, 3), activation='relu'))\n",
        "model.add(layers.MaxPooling2D((2, 2)))\n",
        "model.add(layers.Conv2D(128, (3, 3), activation='relu'))\n",
        "model.add(layers.MaxPooling2D((2, 2)))\n",
        "#model.add(layers.Conv2D(128, (3, 3), activation='relu'))\n",
        "#model.add(layers.MaxPooling2D((2, 2)))\n",
        "model.add(layers.Flatten())\n",
        "model.add(layers.Dense(512, activation='relu'))\n",
        "model.add(layers.Dense(128, activation='relu'))\n",
        "\n",
        "model.add(layers.Dense(4, activation='softmax'))"
      ],
      "execution_count": 44,
      "outputs": []
    },
    {
      "cell_type": "code",
      "metadata": {
        "id": "HE_t7gdJeFTg"
      },
      "source": [
        "from tensorflow.keras import optimizers\n",
        "model.compile(loss='categorical_crossentropy',\n",
        "optimizer=optimizers.RMSprop(learning_rate=1e-4),\n",
        "metrics=['acc'])"
      ],
      "execution_count": 45,
      "outputs": []
    },
    {
      "cell_type": "code",
      "metadata": {
        "id": "gtgAm9RPeI2O"
      },
      "source": [
        "from tensorflow.keras.preprocessing.image import ImageDataGenerator\n",
        "train_datagen = ImageDataGenerator(rescale=1./255)\n",
        "validation_datagen = ImageDataGenerator(rescale=1./255)\n",
        "test_datagen = ImageDataGenerator(rescale=1./255)"
      ],
      "execution_count": 46,
      "outputs": []
    },
    {
      "cell_type": "code",
      "metadata": {
        "colab": {
          "base_uri": "https://localhost:8080/"
        },
        "id": "Iv9zn3r7eMvg",
        "outputId": "794276c0-46d0-41be-b551-130a27704661"
      },
      "source": [
        "train_generator = train_datagen.flow_from_directory(\n",
        "'/content/output/train',\n",
        "target_size=(150, 150),batch_size=32,class_mode='categorical')"
      ],
      "execution_count": 47,
      "outputs": [
        {
          "output_type": "stream",
          "text": [
            "Found 2868 images belonging to 4 classes.\n"
          ],
          "name": "stdout"
        }
      ]
    },
    {
      "cell_type": "code",
      "metadata": {
        "colab": {
          "base_uri": "https://localhost:8080/"
        },
        "id": "Y6YpmQb6ePX4",
        "outputId": "196c7209-0166-4bff-ef84-5c0a60f59bb3"
      },
      "source": [
        "validation_generator = validation_datagen.flow_from_directory(\n",
        "    '/content/output/val',\n",
        "      target_size=(150,150),batch_size=32,class_mode=\"categorical\")"
      ],
      "execution_count": 48,
      "outputs": [
        {
          "output_type": "stream",
          "text": [
            "Found 818 images belonging to 4 classes.\n"
          ],
          "name": "stdout"
        }
      ]
    },
    {
      "cell_type": "code",
      "metadata": {
        "colab": {
          "base_uri": "https://localhost:8080/"
        },
        "id": "UtCUAhs4eR5Z",
        "outputId": "78a5b6f4-b99a-4031-ff55-01834b74299c"
      },
      "source": [
        "test_generator = test_datagen.flow_from_directory(\n",
        "'/content/output/test',target_size=(150, 150),\n",
        "batch_size=32,\n",
        "class_mode='categorical')"
      ],
      "execution_count": 49,
      "outputs": [
        {
          "output_type": "stream",
          "text": [
            "Found 413 images belonging to 4 classes.\n"
          ],
          "name": "stdout"
        }
      ]
    },
    {
      "cell_type": "code",
      "metadata": {
        "colab": {
          "base_uri": "https://localhost:8080/"
        },
        "id": "-n60zTcVeVXt",
        "outputId": "07335d7d-5034-4a5c-92e7-780b0776ef8f"
      },
      "source": [
        "history = model.fit_generator(\n",
        "train_generator,\n",
        "steps_per_epoch=90,\n",
        "epochs=15,\n",
        "validation_data=validation_generator,\n",
        "validation_steps=26)"
      ],
      "execution_count": 50,
      "outputs": [
        {
          "output_type": "stream",
          "text": [
            "/usr/local/lib/python3.7/dist-packages/tensorflow/python/keras/engine/training.py:1940: UserWarning: `Model.fit_generator` is deprecated and will be removed in a future version. Please use `Model.fit`, which supports generators.\n",
            "  warnings.warn('`Model.fit_generator` is deprecated and '\n"
          ],
          "name": "stderr"
        },
        {
          "output_type": "stream",
          "text": [
            "Epoch 1/15\n",
            "90/90 [==============================] - 7s 74ms/step - loss: 0.7817 - acc: 0.6569 - val_loss: 0.7047 - val_acc: 0.6736\n",
            "Epoch 2/15\n",
            "90/90 [==============================] - 6s 69ms/step - loss: 0.4207 - acc: 0.8281 - val_loss: 0.3237 - val_acc: 0.8912\n",
            "Epoch 3/15\n",
            "90/90 [==============================] - 6s 68ms/step - loss: 0.3017 - acc: 0.8863 - val_loss: 0.3289 - val_acc: 0.8802\n",
            "Epoch 4/15\n",
            "90/90 [==============================] - 6s 69ms/step - loss: 0.2526 - acc: 0.9013 - val_loss: 0.3885 - val_acc: 0.8509\n",
            "Epoch 5/15\n",
            "90/90 [==============================] - 6s 72ms/step - loss: 0.2025 - acc: 0.9198 - val_loss: 0.3131 - val_acc: 0.8863\n",
            "Epoch 6/15\n",
            "90/90 [==============================] - 7s 72ms/step - loss: 0.1733 - acc: 0.9303 - val_loss: 0.4408 - val_acc: 0.8411\n",
            "Epoch 7/15\n",
            "90/90 [==============================] - 7s 74ms/step - loss: 0.1383 - acc: 0.9474 - val_loss: 0.2384 - val_acc: 0.9108\n",
            "Epoch 8/15\n",
            "90/90 [==============================] - 7s 76ms/step - loss: 0.1256 - acc: 0.9543 - val_loss: 0.2602 - val_acc: 0.8973\n",
            "Epoch 9/15\n",
            "90/90 [==============================] - 7s 76ms/step - loss: 0.1021 - acc: 0.9669 - val_loss: 0.1607 - val_acc: 0.9450\n",
            "Epoch 10/15\n",
            "90/90 [==============================] - 7s 76ms/step - loss: 0.0943 - acc: 0.9669 - val_loss: 0.1659 - val_acc: 0.9413\n",
            "Epoch 11/15\n",
            "90/90 [==============================] - 7s 74ms/step - loss: 0.0814 - acc: 0.9718 - val_loss: 0.1681 - val_acc: 0.9425\n",
            "Epoch 12/15\n",
            "90/90 [==============================] - 7s 73ms/step - loss: 0.0630 - acc: 0.9801 - val_loss: 0.1588 - val_acc: 0.9487\n",
            "Epoch 13/15\n",
            "90/90 [==============================] - 7s 74ms/step - loss: 0.0557 - acc: 0.9805 - val_loss: 0.2049 - val_acc: 0.9377\n",
            "Epoch 14/15\n",
            "90/90 [==============================] - 7s 74ms/step - loss: 0.0484 - acc: 0.9854 - val_loss: 0.1879 - val_acc: 0.9425\n",
            "Epoch 15/15\n",
            "90/90 [==============================] - 7s 75ms/step - loss: 0.0409 - acc: 0.9850 - val_loss: 0.1623 - val_acc: 0.9487\n"
          ],
          "name": "stdout"
        }
      ]
    },
    {
      "cell_type": "code",
      "metadata": {
        "colab": {
          "base_uri": "https://localhost:8080/"
        },
        "id": "jC5uUbevkt2b",
        "outputId": "db80c62b-a223-4bc4-ddec-f620705a64b6"
      },
      "source": [
        "model.evaluate(test_generator)"
      ],
      "execution_count": 51,
      "outputs": [
        {
          "output_type": "stream",
          "text": [
            "13/13 [==============================] - 1s 48ms/step - loss: 0.0973 - acc: 0.9516\n"
          ],
          "name": "stdout"
        },
        {
          "output_type": "execute_result",
          "data": {
            "text/plain": [
              "[0.0973159596323967, 0.9515738487243652]"
            ]
          },
          "metadata": {
            "tags": []
          },
          "execution_count": 51
        }
      ]
    },
    {
      "cell_type": "code",
      "metadata": {
        "colab": {
          "base_uri": "https://localhost:8080/",
          "height": 545
        },
        "id": "9PuTzdAAhuiQ",
        "outputId": "8c7878d8-3f19-4995-a922-68dd5cb986c9"
      },
      "source": [
        "import matplotlib.pyplot as plt\n",
        "acc = history.history['acc']\n",
        "val_acc = history.history['val_acc']\n",
        "loss = history.history['loss']\n",
        "val_loss = history.history['val_loss']\n",
        "epochs = range(1, len(acc) + 1)\n",
        "plt.plot(epochs, acc, 'bo', label='Training acc')\n",
        "plt.plot(epochs, val_acc, 'b', label='Validation acc')\n",
        "plt.title('Training and validation accuracy')\n",
        "plt.legend()\n",
        "plt.figure()\n",
        "plt.plot(epochs, loss, 'bo', label='Training loss')\n",
        "plt.plot(epochs, val_loss, 'b', label='Validation loss')\n",
        "plt.title('Training and validation loss')\n",
        "plt.legend()\n",
        "plt.show()\n"
      ],
      "execution_count": 52,
      "outputs": [
        {
          "output_type": "display_data",
          "data": {
            "image/png": "[encoded data removed]",
            "text/plain": [
              "<Figure size 432x288 with 1 Axes>"
            ]
          },
          "metadata": {
            "tags": [],
            "needs_background": "light"
          }
        },
        {
          "output_type": "display_data",
          "data": {
            "image/png": "[encoded data removed]",
            "text/plain": [
              "<Figure size 432x288 with 1 Axes>"
            ]
          },
          "metadata": {
            "tags": [],
            "needs_background": "light"
          }
        }
      ]
    },
    {
      "cell_type": "code",
      "metadata": {
        "id": "LUCKwUQdjtJo"
      },
      "source": [
        "model.save('grapes_trained_model.h5')"
      ],
      "execution_count": 53,
      "outputs": []
    },
    {
      "cell_type": "code",
      "metadata": {
        "id": "g0NE4kHzrNNr"
      },
      "source": [
        ""
      ],
      "execution_count": null,
      "outputs": []
    }
  ]
}