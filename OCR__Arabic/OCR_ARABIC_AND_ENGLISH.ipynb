{
  "nbformat": 4,
  "nbformat_minor": 0,
  "metadata": {
    "colab": {
      "name": "OCR_ARABIC AND ENGLISH.ipynb",
      "provenance": []
    },
    "kernelspec": {
      "name": "python3",
      "display_name": "Python 3"
    },
    "language_info": {
      "name": "python"
    },
    "accelerator": "GPU"
  },
  "cells": [
    {
      "cell_type": "code",
      "execution_count": null,
      "metadata": {
        "colab": {
          "base_uri": "https://localhost:8080/"
        },
        "id": "EdtY9tii6QfW",
        "outputId": "fff7f876-30f2-48f7-db5c-00e76389fd48"
      },
      "outputs": [
        {
          "output_type": "stream",
          "name": "stdout",
          "text": [
            "Collecting ArabicOcr\n",
            "  Downloading ArabicOcr-1.1.6-py3-none-any.whl (3.4 kB)\n",
            "Collecting easyocr\n",
            "  Downloading easyocr-1.4.1-py3-none-any.whl (63.6 MB)\n",
            "\u001b[K     |████████████████████████████████| 63.6 MB 68 kB/s \n",
            "\u001b[?25hCollecting opencv-python-headless\n",
            "  Downloading opencv_python_headless-4.5.4.60-cp37-cp37m-manylinux_2_17_x86_64.manylinux2014_x86_64.whl (47.6 MB)\n",
            "\u001b[K     |████████████████████████████████| 47.6 MB 77 kB/s \n",
            "\u001b[?25hRequirement already satisfied: Pillow<8.3.0 in /usr/local/lib/python3.7/dist-packages (from easyocr->ArabicOcr) (7.1.2)\n",
            "Requirement already satisfied: scikit-image in /usr/local/lib/python3.7/dist-packages (from easyocr->ArabicOcr) (0.18.3)\n",
            "Requirement already satisfied: torch in /usr/local/lib/python3.7/dist-packages (from easyocr->ArabicOcr) (1.10.0+cu111)\n",
            "Requirement already satisfied: numpy in /usr/local/lib/python3.7/dist-packages (from easyocr->ArabicOcr) (1.19.5)\n",
            "Requirement already satisfied: PyYAML in /usr/local/lib/python3.7/dist-packages (from easyocr->ArabicOcr) (3.13)\n",
            "Requirement already satisfied: torchvision>=0.5 in /usr/local/lib/python3.7/dist-packages (from easyocr->ArabicOcr) (0.11.1+cu111)\n",
            "Requirement already satisfied: scipy in /usr/local/lib/python3.7/dist-packages (from easyocr->ArabicOcr) (1.4.1)\n",
            "Collecting python-bidi\n",
            "  Downloading python_bidi-0.4.2-py2.py3-none-any.whl (30 kB)\n",
            "Requirement already satisfied: typing-extensions in /usr/local/lib/python3.7/dist-packages (from torch->easyocr->ArabicOcr) (3.10.0.2)\n",
            "Requirement already satisfied: six in /usr/local/lib/python3.7/dist-packages (from python-bidi->easyocr->ArabicOcr) (1.15.0)\n",
            "Requirement already satisfied: matplotlib!=3.0.0,>=2.0.0 in /usr/local/lib/python3.7/dist-packages (from scikit-image->easyocr->ArabicOcr) (3.2.2)\n",
            "Requirement already satisfied: networkx>=2.0 in /usr/local/lib/python3.7/dist-packages (from scikit-image->easyocr->ArabicOcr) (2.6.3)\n",
            "Requirement already satisfied: PyWavelets>=1.1.1 in /usr/local/lib/python3.7/dist-packages (from scikit-image->easyocr->ArabicOcr) (1.2.0)\n",
            "Requirement already satisfied: tifffile>=2019.7.26 in /usr/local/lib/python3.7/dist-packages (from scikit-image->easyocr->ArabicOcr) (2021.11.2)\n",
            "Requirement already satisfied: imageio>=2.3.0 in /usr/local/lib/python3.7/dist-packages (from scikit-image->easyocr->ArabicOcr) (2.4.1)\n",
            "Requirement already satisfied: kiwisolver>=1.0.1 in /usr/local/lib/python3.7/dist-packages (from matplotlib!=3.0.0,>=2.0.0->scikit-image->easyocr->ArabicOcr) (1.3.2)\n",
            "Requirement already satisfied: python-dateutil>=2.1 in /usr/local/lib/python3.7/dist-packages (from matplotlib!=3.0.0,>=2.0.0->scikit-image->easyocr->ArabicOcr) (2.8.2)\n",
            "Requirement already satisfied: pyparsing!=2.0.4,!=2.1.2,!=2.1.6,>=2.0.1 in /usr/local/lib/python3.7/dist-packages (from matplotlib!=3.0.0,>=2.0.0->scikit-image->easyocr->ArabicOcr) (3.0.6)\n",
            "Requirement already satisfied: cycler>=0.10 in /usr/local/lib/python3.7/dist-packages (from matplotlib!=3.0.0,>=2.0.0->scikit-image->easyocr->ArabicOcr) (0.11.0)\n",
            "Installing collected packages: python-bidi, opencv-python-headless, easyocr, ArabicOcr\n",
            "Successfully installed ArabicOcr-1.1.6 easyocr-1.4.1 opencv-python-headless-4.5.4.60 python-bidi-0.4.2\n"
          ]
        }
      ],
      "source": [
        "!pip install ArabicOcr"
      ]
    },
    {
      "cell_type": "code",
      "source": [
        "!sudo apt install tesseract-ocr\n",
        "!pip install pytesseract"
      ],
      "metadata": {
        "colab": {
          "base_uri": "https://localhost:8080/"
        },
        "id": "mNml-8gM6eEQ",
        "outputId": "21d35740-6f46-487d-e3e9-9d335ad14376"
      },
      "execution_count": null,
      "outputs": [
        {
          "output_type": "stream",
          "name": "stdout",
          "text": [
            "Reading package lists... Done\n",
            "Building dependency tree       \n",
            "Reading state information... Done\n",
            "The following additional packages will be installed:\n",
            "  tesseract-ocr-eng tesseract-ocr-osd\n",
            "The following NEW packages will be installed:\n",
            "  tesseract-ocr tesseract-ocr-eng tesseract-ocr-osd\n",
            "0 upgraded, 3 newly installed, 0 to remove and 37 not upgraded.\n",
            "Need to get 4,795 kB of archives.\n",
            "After this operation, 15.8 MB of additional disk space will be used.\n",
            "Get:1 http://archive.ubuntu.com/ubuntu bionic/universe amd64 tesseract-ocr-eng all 4.00~git24-0e00fe6-1.2 [1,588 kB]\n",
            "Get:2 http://archive.ubuntu.com/ubuntu bionic/universe amd64 tesseract-ocr-osd all 4.00~git24-0e00fe6-1.2 [2,989 kB]\n",
            "Get:3 http://archive.ubuntu.com/ubuntu bionic/universe amd64 tesseract-ocr amd64 4.00~git2288-10f4998a-2 [218 kB]\n",
            "Fetched 4,795 kB in 3s (1,642 kB/s)\n",
            "debconf: unable to initialize frontend: Dialog\n",
            "debconf: (No usable dialog-like program is installed, so the dialog based frontend cannot be used. at /usr/share/perl5/Debconf/FrontEnd/Dialog.pm line 76, <> line 3.)\n",
            "debconf: falling back to frontend: Readline\n",
            "debconf: unable to initialize frontend: Readline\n",
            "debconf: (This frontend requires a controlling tty.)\n",
            "debconf: falling back to frontend: Teletype\n",
            "dpkg-preconfigure: unable to re-open stdin: \n",
            "Selecting previously unselected package tesseract-ocr-eng.\n",
            "(Reading database ... 155222 files and directories currently installed.)\n",
            "Preparing to unpack .../tesseract-ocr-eng_4.00~git24-0e00fe6-1.2_all.deb ...\n",
            "Unpacking tesseract-ocr-eng (4.00~git24-0e00fe6-1.2) ...\n",
            "Selecting previously unselected package tesseract-ocr-osd.\n",
            "Preparing to unpack .../tesseract-ocr-osd_4.00~git24-0e00fe6-1.2_all.deb ...\n",
            "Unpacking tesseract-ocr-osd (4.00~git24-0e00fe6-1.2) ...\n",
            "Selecting previously unselected package tesseract-ocr.\n",
            "Preparing to unpack .../tesseract-ocr_4.00~git2288-10f4998a-2_amd64.deb ...\n",
            "Unpacking tesseract-ocr (4.00~git2288-10f4998a-2) ...\n",
            "Setting up tesseract-ocr-osd (4.00~git24-0e00fe6-1.2) ...\n",
            "Setting up tesseract-ocr-eng (4.00~git24-0e00fe6-1.2) ...\n",
            "Setting up tesseract-ocr (4.00~git2288-10f4998a-2) ...\n",
            "Processing triggers for man-db (2.8.3-2ubuntu0.1) ...\n",
            "Collecting pytesseract\n",
            "  Downloading pytesseract-0.3.8.tar.gz (14 kB)\n",
            "Requirement already satisfied: Pillow in /usr/local/lib/python3.7/dist-packages (from pytesseract) (7.1.2)\n",
            "Building wheels for collected packages: pytesseract\n",
            "  Building wheel for pytesseract (setup.py) ... \u001b[?25l\u001b[?25hdone\n",
            "  Created wheel for pytesseract: filename=pytesseract-0.3.8-py2.py3-none-any.whl size=14072 sha256=c00b5621959fd8467f645fd264e7a8c0f001f1c12ba19fd1c8a1622ccde8efbd\n",
            "  Stored in directory: /root/.cache/pip/wheels/a4/89/b9/3f11250225d0f90e5454fcc30fd1b7208db226850715aa9ace\n",
            "Successfully built pytesseract\n",
            "Installing collected packages: pytesseract\n",
            "Successfully installed pytesseract-0.3.8\n"
          ]
        }
      ]
    },
    {
      "cell_type": "code",
      "source": [
        "from ArabicOcr import arabicocr\n",
        "image_path='/content/drive/MyDrive/arabic/new/card.jpeg'\n",
        "out_image='out.jpg'\n",
        "results=arabicocr.arabic_ocr(image_path,out_image)\n",
        "print(results)\n",
        "words=[]\n",
        "for i in range(len(results)):\t\n",
        "\t\tword=results[i][1]\n",
        "\t\twords.append(word)\n",
        "with open ('file.txt','w',encoding='utf-8')as myfile:\n",
        "\t\tmyfile.write(str(words))"
      ],
      "metadata": {
        "colab": {
          "base_uri": "https://localhost:8080/"
        },
        "id": "1kb4UbDA9iBb",
        "outputId": "da3d55df-8363-4ea5-a0bf-741f98e3c630"
      },
      "execution_count": null,
      "outputs": [
        {
          "output_type": "stream",
          "name": "stderr",
          "text": [
            "Using CPU. Note: This module is much faster with a GPU.\n",
            "Downloading detection model, please wait. This may take several minutes depending upon your network connection.\n"
          ]
        },
        {
          "output_type": "stream",
          "name": "stdout",
          "text": [
            "[INFO] OCR'ing input image...\n"
          ]
        },
        {
          "output_type": "stream",
          "name": "stderr",
          "text": [
            "Downloading recognition model, please wait. This may take several minutes depending upon your network connection.\n"
          ]
        },
        {
          "output_type": "stream",
          "name": "stdout",
          "text": [
            "[INFO] 0.2086: KINCDOM OF SAUDL ARABIA\n",
            "[INFO] 0.4443: متمن\n",
            "[INFO] 0.1815: اللالع با\n",
            "[INFO] 0.2704: MINISIRTOFINJERIOR\n",
            "[INFO] 0.2061: RESIDENT IDENTITY\n",
            "[INFO] 0.1402: رؤللرا\n",
            "[INFO] 0.3847: IMRAN SHARIF BUTI MUHAMMAD SHARIF BUTT\n",
            "[INFO] 0.6304: ثريف برت\n",
            "[INFO] 0.4228: مدمد\n",
            "[INFO] 0.4431: عمران شريف\n",
            "[INFO] 0.3735: ٥\n",
            "[INFO] 0.3631: سمة\n",
            "[INFO] 0.3369: ١ ٢٢١٥٧٨٣٢٢\n",
            "[INFO] 0.3570: الرفم\n",
            "[INFO] 0.3587: الغدمات ا٧لكتررنية\n",
            "[INFO] 0.2488: الامتدار\n",
            "[INFO] 0.1983: ٩ ٠١٢ ٩٧٦/١\n",
            "[INFO] 0.4540: ا البلار\n",
            "[INFO] 0.5265: الإصدار ١٧ ٤٢٨٠٤\n",
            "[INFO] 0.5010: نني الكتروني اتصالات\n",
            "[INFO] 0.5776: المهنة\n",
            "[INFO] 0.2436: الاملام\n",
            "[INFO] 0.8502: الدباة\n",
            "[INFO] 0.9098: باكستان\n",
            "[INFO] 0.1756: احنسبة\n",
            "[INFO] 0.3113: زفرع نركة نور\n",
            "[INFO] 0.2070: ماب الثمر\n",
            "[INFO] 0.6456: ?3157832?1\n",
            "[INFO] 0.9647: برت\n",
            "[INFO] 0.6628: مكان\n",
            "[INFO] 0.6029: بيت\n",
            "[[[[78, 30], [430, 30], [430, 62], [78, 62]], 'KINCDOM OF SAUDL ARABIA', 0.20862581638943717], [[[513, 11], [685, 11], [685, 73], [513, 73]], 'متمن', 0.44431546330451965], [[[1038, 10], [1226, 10], [1226, 66], [1038, 66]], 'اللالع با', 0.18146187129690297], [[[82, 74], [398, 74], [398, 106], [82, 106]], 'MINISIRTOFINJERIOR', 0.2704253824532489], [[[513, 87], [796, 87], [796, 125], [513, 125]], 'RESIDENT IDENTITY', 0.20606517085008905], [[[979, 71], [1120, 71], [1120, 123], [979, 123]], 'رؤللرا', 0.1401993440825089], [[[279, 114], [1194, 114], [1194, 166], [279, 166]], 'IMRAN SHARIF BUTI MUHAMMAD SHARIF BUTT', 0.38474461228025514], [[[569, 171], [771, 171], [771, 231], [569, 231]], 'ثريف برت', 0.6303941215953539], [[[781, 181], [865, 181], [865, 219], [781, 219]], 'مدمد', 0.42277055978775024], [[[960, 174], [1194, 174], [1194, 228], [960, 228]], 'عمران شريف', 0.443055241379553], [[[514, 254], [538, 254], [538, 284], [514, 284]], '٥', 0.37347572330051904], [[[562, 250], [665, 250], [665, 289], [562, 289]], 'سمة', 0.3631090958674079], [[[730, 250], [1078, 250], [1078, 300], [730, 300]], '١ ٢٢١٥٧٨٣٢٢', 0.33686783670985027], [[[1104, 250], [1196, 250], [1196, 298], [1104, 298]], 'الرفم', 0.3570140104066157], [[[631, 309], [950, 309], [950, 363], [631, 363]], 'الغدمات ا٧لكتررنية', 0.3587071991348724], [[[988, 320], [1109, 320], [1109, 361], [988, 361]], 'الامتدار', 0.24875919679085748], [[[431, 373], [672, 373], [672, 429], [431, 429]], '٩ ٠١٢ ٩٧٦/١', 0.19828674765898316], [[[703, 383], [827, 383], [827, 421], [703, 421]], 'ا البلار', 0.45399471546094544], [[[820, 373], [1199, 373], [1199, 434], [820, 434]], 'الإصدار ١٧ ٤٢٨٠٤', 0.5264717960875681], [[[704, 444], [1056, 444], [1056, 500], [704, 500]], 'نني الكتروني اتصالات', 0.501034998598405], [[[1100, 448], [1197, 448], [1197, 496], [1100, 496]], 'المهنة', 0.5775994508582731], [[[428, 514], [541, 514], [541, 563], [428, 563]], 'الاملام', 0.24361567929998393], [[[549, 521], [651, 521], [651, 557], [549, 557]], 'الدباة', 0.8501757967088727], [[[924, 512], [1057, 512], [1057, 569], [924, 569]], 'باكستان', 0.9098207576553853], [[[1067, 525], [1197, 525], [1197, 563], [1067, 563]], 'احنسبة', 0.17556218818737201], [[[766, 583], [989, 583], [989, 635], [766, 635]], 'زفرع نركة نور', 0.3112704654341883], [[[1009, 591], [1193, 591], [1193, 629], [1009, 629]], 'ماب الثمر', 0.2070328573965983], [[[84, 716], [274, 716], [274, 748], [84, 748]], '?3157832?1', 0.6456057294618557], [[[878.0136060761679, 166.08163645700714], [960.6152555309748, 183.88602144716245], [947.9863939238321, 237.91836354299286], [864.3847444690252, 220.11397855283755]], 'برت', 0.9647101705437537], [[[1107.5144372945836, 322.28609323645895], [1191.5203959449127, 316.10083902971814], [1193.4855627054164, 354.71390676354105], [1108.4796040550873, 360.89916097028186]], 'مكان', 0.662779915192112], [[[648.0064985989292, 585.1253445358238], [708.7821503434643, 596.697948242414], [700.9935014010708, 631.8746554641762], [640.2178496565357, 620.302051757586]], 'بيت', 0.6028558680773569]]\n"
          ]
        }
      ]
    },
    {
      "cell_type": "code",
      "source": [
        "print(words)"
      ],
      "metadata": {
        "colab": {
          "base_uri": "https://localhost:8080/"
        },
        "id": "LyQICuHF9iEZ",
        "outputId": "a2dbba93-142d-48e7-97e9-c0654760025a"
      },
      "execution_count": null,
      "outputs": [
        {
          "output_type": "stream",
          "name": "stdout",
          "text": [
            "['KINCDOM OF SAUDL ARABIA', 'متمن', 'اللالع با', 'MINISIRTOFINJERIOR', 'RESIDENT IDENTITY', 'رؤللرا', 'IMRAN SHARIF BUTI MUHAMMAD SHARIF BUTT', 'ثريف برت', 'مدمد', 'عمران شريف', '٥', 'سمة', '١ ٢٢١٥٧٨٣٢٢', 'الرفم', 'الغدمات ا٧لكتررنية', 'الامتدار', '٩ ٠١٢ ٩٧٦/١', 'ا البلار', 'الإصدار ١٧ ٤٢٨٠٤', 'نني الكتروني اتصالات', 'المهنة', 'الاملام', 'الدباة', 'باكستان', 'احنسبة', 'زفرع نركة نور', 'ماب الثمر', '?3157832?1', 'برت', 'مكان', 'بيت']\n"
          ]
        }
      ]
    },
    {
      "cell_type": "code",
      "source": [
        "from ArabicOcr import arabicocr\n",
        "image_path='/content/drive/MyDrive/arabic/new/eng.jpeg'\n",
        "out_image='out.jpg'\n",
        "results=arabicocr.arabic_ocr(image_path,out_image)\n",
        "print(results)\n",
        "words=[]\n",
        "for i in range(len(results)):\t\n",
        "\t\tword=results[i][1]\n",
        "\t\twords.append(word)\n",
        "with open ('file.txt','w',encoding='utf-8')as myfile:\n",
        "\t\tmyfile.write(str(words))"
      ],
      "metadata": {
        "colab": {
          "base_uri": "https://localhost:8080/"
        },
        "id": "gB3CeDII9iPZ",
        "outputId": "c211bbeb-52e3-4bc2-eb09-ad036918aa2d"
      },
      "execution_count": null,
      "outputs": [
        {
          "output_type": "stream",
          "name": "stderr",
          "text": [
            "Using CPU. Note: This module is much faster with a GPU.\n"
          ]
        },
        {
          "output_type": "stream",
          "name": "stdout",
          "text": [
            "[INFO] OCR'ing input image...\n",
            "[INFO] 0.7700: Imran Sharif Butt Muhammad Sharif Butt\n",
            "[INFO] 0.6776: 2315783221\n",
            "[INFO] 0.9656: توكلنا\n",
            "[INFO] 0.9280: Immune\n",
            "[INFO] 0.4908: Complated Covid 19 Vaccine doses\n",
            "[INFO] 0.4551: Last update: Iuesday 7 December 05:58 PM\n",
            "[INFO] 0.6589: ew Services\n",
            "[INFO] 0.9133: Display\n",
            "[INFO] 0.5819: Le Permits\n",
            "[INFO] 0.8869: Tavakkalna\n",
            "[INFO] 0.5254: OR Code\n",
            "[INFO] 0.9958: Passcode\n",
            "[INFO] 0.9873: Scanner\n",
            "[INFO] 0.1966: \"  \n",
            "[INFO] 0.0780: م\n",
            "[INFO] 0.0000: دما  وهمهن واولةر00\n",
            "[[[[71, 295], [535, 295], [535, 331], [71, 331]], 'Imran Sharif Butt Muhammad Sharif Butt', 0.7700462759416598], [[[220, 332], [380, 332], [380, 364], [220, 364]], '2315783221', 0.6775967887277785], [[[64, 412], [126, 412], [126, 440], [64, 440]], 'توكلنا', 0.9655739850434567], [[[173, 601], [274, 601], [274, 630], [173, 630]], 'Immune', 0.9279717525061669], [[[172, 638], [478, 638], [478, 666], [172, 666]], 'Complated Covid 19 Vaccine doses', 0.4907838072511453], [[[172, 669], [548, 669], [548, 698], [172, 698]], 'Last update: Iuesday 7 December 05:58 PM', 0.4550701129602385], [[[0, 789], [130, 789], [130, 819], [0, 819]], 'ew Services', 0.6588884431086206], [[[482, 802], [560, 802], [560, 830], [482, 830]], 'Display', 0.9132881500759195], [[[0, 962], [108, 962], [108, 988], [0, 988]], 'Le Permits', 0.581945637828462], [[[164, 966], [284, 966], [284, 992], [164, 992]], 'Tavakkalna', 0.886919070221846], [[[362, 968], [452, 968], [452, 994], [362, 994]], 'OR Code', 0.525418680211633], [[[174, 992], [272, 992], [272, 1018], [174, 1018]], 'Passcode', 0.995828491244719], [[[358, 993], [448, 993], [448, 1023], [358, 1023]], 'Scanner', 0.9872769893457016], [[[238, 1188], [339, 1188], [339, 1225], [238, 1225]], '\"  ', 0.19658684730529785], [[[221, 1239], [245, 1239], [245, 1257], [221, 1257]], 'م', 0.07797327007332289], [[[241, 1233], [517, 1233], [517, 1269], [241, 1269]], 'دما  وهمهن واولةر00', 4.268196660115192e-05]]\n"
          ]
        }
      ]
    },
    {
      "cell_type": "code",
      "source": [
        "words"
      ],
      "metadata": {
        "colab": {
          "base_uri": "https://localhost:8080/"
        },
        "id": "QI0vJaVd-VH_",
        "outputId": "bcfcd7a6-6bb6-43dc-e81b-2d4e23843661"
      },
      "execution_count": null,
      "outputs": [
        {
          "output_type": "execute_result",
          "data": {
            "text/plain": [
              "['Imran Sharif Butt Muhammad Sharif Butt',\n",
              " '2315783221',\n",
              " 'توكلنا',\n",
              " 'Immune',\n",
              " 'Complated Covid 19 Vaccine doses',\n",
              " 'Last update: Iuesday 7 December 05:58 PM',\n",
              " 'ew Services',\n",
              " 'Display',\n",
              " 'Le Permits',\n",
              " 'Tavakkalna',\n",
              " 'OR Code',\n",
              " 'Passcode',\n",
              " 'Scanner',\n",
              " '\"  ',\n",
              " 'م',\n",
              " 'دما  وهمهن واولةر00']"
            ]
          },
          "metadata": {},
          "execution_count": 22
        }
      ]
    },
    {
      "cell_type": "code",
      "source": [
        "from ArabicOcr import arabicocr\n",
        "image_path='/content/drive/MyDrive/arabic/new/arabic.jpeg'\n",
        "out_image='out.jpg'\n",
        "results=arabicocr.arabic_ocr(image_path,out_image)\n",
        "print(results)\n",
        "words=[]\n",
        "for i in range(len(results)):\t\n",
        "\t\tword=results[i][1]\n",
        "\t\twords.append(word)\n",
        "with open ('file.txt','w',encoding='utf-8')as myfile:\n",
        "\t\tmyfile.write(str(words))"
      ],
      "metadata": {
        "colab": {
          "base_uri": "https://localhost:8080/"
        },
        "id": "QShZZEvq-VJ9",
        "outputId": "a59ce387-b66c-4e86-9be5-3442609bc1f1"
      },
      "execution_count": null,
      "outputs": [
        {
          "output_type": "stream",
          "name": "stderr",
          "text": [
            "Using CPU. Note: This module is much faster with a GPU.\n"
          ]
        },
        {
          "output_type": "stream",
          "name": "stdout",
          "text": [
            "[INFO] OCR'ing input image...\n",
            "[INFO] 0.5223: 8:00\n",
            "[INFO] 0.5483: 4 4058%\n",
            "[INFO] 0.8347: طاهر وررحمن هيبت ور رحمن\n",
            "[INFO] 0.3097: ٦٤ ١ ٢٣٩٨٤٨١\n",
            "[INFO] 0.3346: توثلئا\n",
            "[INFO] 0.4810: محصن\n",
            "[INFO] 0.2301: جرءات لقاح كورونا اكوئيد- 119\n",
            "[INFO] 0.1449: د٠ ٣، ٧٥7\n",
            "[INFO] 0.1665: آكر تحدين  الدنئبن\n",
            "[INFO] 0.3819: عرض الكل\n",
            "[INFO] 0.5384: الخدمات الحديثة\n",
            "[INFO] 0.8394: النداكر\n",
            "[INFO] 0.9821: ماسح كود\n",
            "[INFO] 0.9546: رمر\n",
            "[INFO] 0.9685: اصدار\n",
            "[INFO] 0.3237: الىحمق\n",
            "[INFO] 0.2615: لحذير\n",
            "[INFO] 0.3082: لباعد.\n",
            "[INFO] 0.4650: نحثك بشدة يتحميل\n",
            "[INFO] 0.1415: الذى سبمرك فيجال بوث مخالطتك تمصاب بمايروس كورونا\n",
            "[INFO] 0.1339: حلدل 14\n",
            "[INFO] 0.4134: كما يمكئك من إشعاركل الذين\n",
            "[INFO] 0.2318: الأسبوءي\n",
            "[INFO] 0.3754: ٥ ٥٥\n",
            "[INFO] 0.2852: ط\n",
            "[INFO] 0.0382: ٥|0\n",
            "[INFO] 0.0619: لوج المبالاث\n",
            "[INFO] 0.1827: الستسله الرسباء\n",
            "[INFO] 0.3057: ال خدمات\n",
            "[INFO] 0.4101: الرثيسيه\n",
            "[INFO] 0.5791: أكمل\n",
            "[INFO] 0.4818: توكلنا\n",
            "[INFO] 0.2146: الىصاريح\n",
            "[INFO] 0.3386:  تطببق\n",
            "[INFO] 0.5235: مي\n",
            "[INFO] 0.3967: الماضبي\n",
            "[INFO] 0.4350: كالطبهم .\n",
            "[INFO] 0.2131: دنابي\n",
            "[[[[149, 79], [183, 79], [183, 95], [149, 95]], '8:00', 0.5222594141960144], [[[472, 92], [558, 92], [558, 118], [472, 118]], '4 4058%', 0.5483259149216713], [[[259, 270], [445, 270], [445, 291], [259, 291]], 'طاهر وررحمن هيبت ور رحمن', 0.8346544566145699], [[[305, 296], [396, 296], [396, 322], [305, 322]], '٦٤ ١ ٢٣٩٨٤٨١', 0.30969941969873505], [[[443, 335], [479, 335], [479, 351], [443, 351]], 'توثلئا', 0.334626550042515], [[[384, 439], [433, 439], [433, 459], [384, 459]], 'محصن', 0.4809645195617127], [[[261, 467], [405, 467], [405, 487], [261, 487]], 'جرءات لقاح كورونا اكوئيد- 119', 0.23010040433691187], [[[271, 495], [335, 495], [335, 507], [271, 507]], 'د٠ ٣، ٧٥7', 0.14491627917003128], [[[343, 495], [431, 495], [431, 513], [343, 513]], 'آكر تحدين  الدنئبن', 0.16650770061914574], [[[151, 559], [217, 559], [217, 579], [151, 579]], 'عرض الكل', 0.38190648368733765], [[[443, 565], [545, 565], [545, 585], [443, 585]], 'الخدمات الحديثة', 0.5384097249291323], [[[149, 671], [189, 671], [189, 687], [149, 687]], 'النداكر', 0.83939024277744], [[[253, 673], [313, 673], [313, 691], [253, 691]], 'ماسح كود', 0.982133574847484], [[[399, 675], [421, 675], [421, 689], [399, 689]], 'رمر', 0.9546495534186232], [[[509, 673], [545, 673], [545, 689], [509, 689]], 'اصدار', 0.9684531442928725], [[[260, 688], [304, 688], [304, 707], [260, 707]], 'الىحمق', 0.3237298870643448], [[[321, 831], [359, 831], [359, 849], [321, 849]], 'لحذير', 0.26154056103303963], [[[237, 857], [279, 857], [279, 875], [237, 875]], 'لباعد.', 0.30824533712277224], [[[318, 854], [442, 854], [442, 878], [318, 878]], 'نحثك بشدة يتحميل', 0.46500687626169035], [[[175, 893], [519, 893], [519, 913], [175, 913]], 'الذى سبمرك فيجال بوث مخالطتك تمصاب بمايروس كورونا', 0.14145328852551534], [[[139, 919], [189, 919], [189, 939], [139, 939]], 'حلدل 14', 0.13390197024588268], [[[237, 919], [413, 919], [413, 939], [237, 939]], 'كما يمكئك من إشعاركل الذين', 0.41340493096613246], [[[470, 917], [531, 917], [531, 937], [470, 937]], 'الأسبوءي', 0.23180650842216266], [[[410, 958], [434, 958], [434, 966], [410, 966]], '٥ ٥٥', 0.3753880360874429], [[[144, 954], [170, 954], [170, 982], [144, 982]], 'ط', 0.2852441509117085], [[[410, 966], [434, 966], [434, 974], [410, 974]], '٥|0', 0.03819855069170694], [[[215, 983], [281, 983], [281, 997], [215, 997]], 'لوج المبالاث', 0.0619390747861732], [[[299, 983], [371, 983], [371, 995], [299, 995]], 'الستسله الرسباء', 0.18273563978648263], [[[401, 981], [445, 981], [445, 995], [401, 995]], 'ال خدمات', 0.3057223868134292], [[[485, 979], [531, 979], [531, 995], [485, 995]], 'الرثيسيه', 0.41007231458664045], [[[400.6546544120074, 470.5201198532081], [432.6924656801795, 467.93437346062774], [434.3453455879926, 484.4798801467919], [402.3075343198205, 487.06562653937226]], 'أكمل', 0.5791328549385071], [[[367.06850713433477, 668.230163555236], [402.90798743380253, 673.4003468065192], [399.93149286566523, 690.769836444764], [364.09201256619747, 685.5996531934808]], 'توكلنا', 0.4817735517253091], [[[458.5857864376269, 674.5857864376269], [510.8113804531169, 669.1521197879027], [512.4142135623731, 687.4142135623731], [460.1886195468831, 692.8478802120973]], 'الىصاريح', 0.21455310517681517], [[[274.8375236125618, 856.3725330575866], [322.74639540402984, 852.0252676814717], [324.1624763874382, 873.6274669424134], [276.25360459597016, 877.9747323185283]], ' تطببق', 0.33862631259980847], [[[150.14250707428747, 902.4855042445724], [172.62919822866797, 894.2227551292925], [177.85749292571253, 909.5144957554276], [154.37080177133203, 916.7772448707075]], 'مي', 0.5234785898222084], [[[410.43826238111393, 921.7506099048911], [472.87668623363425, 916.3085892823453], [474.56173761888607, 932.2493900951089], [412.12331376636575, 938.6914107176547]], 'الماضبي', 0.39665993489834545], [[[182.7805784783006, 920.4147520217908], [238.79584144545396, 915.1196855659539], [240.2194215216994, 936.5852479782092], [184.20415855454604, 941.8803144340461]], 'كالطبهم .', 0.4350035190640061], [[[137.18076807948097, 987.4265376556367], [173.86662245687418, 981.5010355551331], [175.81923192051903, 995.5734623443633], [139.13337754312582, 1001.4989644448669]], 'دنابي', 0.21312967350879064]]\n"
          ]
        }
      ]
    },
    {
      "cell_type": "code",
      "source": [
        "words"
      ],
      "metadata": {
        "colab": {
          "base_uri": "https://localhost:8080/"
        },
        "id": "905IMpN0_F0c",
        "outputId": "10bd813e-407c-4a61-8a9e-477b5a74245e"
      },
      "execution_count": null,
      "outputs": [
        {
          "output_type": "execute_result",
          "data": {
            "text/plain": [
              "['8:00',\n",
              " '4 4058%',\n",
              " 'طاهر وررحمن هيبت ور رحمن',\n",
              " '٦٤ ١ ٢٣٩٨٤٨١',\n",
              " 'توثلئا',\n",
              " 'محصن',\n",
              " 'جرءات لقاح كورونا اكوئيد- 119',\n",
              " 'د٠ ٣، ٧٥7',\n",
              " 'آكر تحدين  الدنئبن',\n",
              " 'عرض الكل',\n",
              " 'الخدمات الحديثة',\n",
              " 'النداكر',\n",
              " 'ماسح كود',\n",
              " 'رمر',\n",
              " 'اصدار',\n",
              " 'الىحمق',\n",
              " 'لحذير',\n",
              " 'لباعد.',\n",
              " 'نحثك بشدة يتحميل',\n",
              " 'الذى سبمرك فيجال بوث مخالطتك تمصاب بمايروس كورونا',\n",
              " 'حلدل 14',\n",
              " 'كما يمكئك من إشعاركل الذين',\n",
              " 'الأسبوءي',\n",
              " '٥ ٥٥',\n",
              " 'ط',\n",
              " '٥|0',\n",
              " 'لوج المبالاث',\n",
              " 'الستسله الرسباء',\n",
              " 'ال خدمات',\n",
              " 'الرثيسيه',\n",
              " 'أكمل',\n",
              " 'توكلنا',\n",
              " 'الىصاريح',\n",
              " ' تطببق',\n",
              " 'مي',\n",
              " 'الماضبي',\n",
              " 'كالطبهم .',\n",
              " 'دنابي']"
            ]
          },
          "metadata": {},
          "execution_count": 24
        }
      ]
    },
    {
      "cell_type": "code",
      "source": [
        ""
      ],
      "metadata": {
        "id": "g25qAJfA_F3g"
      },
      "execution_count": null,
      "outputs": []
    },
    {
      "cell_type": "code",
      "source": [
        ""
      ],
      "metadata": {
        "id": "UMgWegF7_vyD"
      },
      "execution_count": null,
      "outputs": []
    },
    {
      "cell_type": "code",
      "source": [
        ""
      ],
      "metadata": {
        "id": "i4dKtvY5_v1Q"
      },
      "execution_count": null,
      "outputs": []
    },
    {
      "cell_type": "code",
      "source": [
        ""
      ],
      "metadata": {
        "id": "Z23n_JzF-VOn"
      },
      "execution_count": null,
      "outputs": []
    },
    {
      "cell_type": "code",
      "source": [
        "import pytesseract\n",
        "import shutil\n",
        "import os\n",
        "import random\n",
        "try:\n",
        " from PIL import Image\n",
        "except ImportError:\n",
        " import Image\n",
        " "
      ],
      "metadata": {
        "id": "wDhLprTZ6xLV"
      },
      "execution_count": null,
      "outputs": []
    },
    {
      "cell_type": "code",
      "source": [
        "import matplotlib.pyplot as plt\n",
        "import cv2"
      ],
      "metadata": {
        "id": "D4HWRJTp7lHJ"
      },
      "execution_count": null,
      "outputs": []
    },
    {
      "cell_type": "code",
      "source": [
        "im = cv2.imread(\"/content/drive/MyDrive/arabic/new/eng.jpeg\", cv2.IMREAD_COLOR)"
      ],
      "metadata": {
        "id": "Ck_Uy8Xt68PX"
      },
      "execution_count": null,
      "outputs": []
    },
    {
      "cell_type": "code",
      "source": [
        "im = cv2.bitwise_not(im)\n",
        "plt.imshow(im)\n",
        "plt.show()"
      ],
      "metadata": {
        "colab": {
          "base_uri": "https://localhost:8080/",
          "height": 269
        },
        "id": "DO0E-aXe7TUY",
        "outputId": "dbc3e920-58a9-42d1-9400-1ada61432c17"
      },
      "execution_count": null,
      "outputs": [
        {
          "output_type": "display_data",
          "data": {
            "image/png": "[encoded data removed]",
            "text/plain": [
              "<Figure size 432x288 with 1 Axes>"
            ]
          },
          "metadata": {
            "needs_background": "light"
          }
        }
      ]
    },
    {
      "cell_type": "code",
      "source": [
        "image_path_in_colab=\"/content/drive/MyDrive/arabic/new/eng.jpeg\"\n",
        "extract = pytesseract.image_to_string(Image.open(image_path_in_colab))\n",
        "print(extract)\n",
        "#type(extract)"
      ],
      "metadata": {
        "colab": {
          "base_uri": "https://localhost:8080/"
        },
        "id": "Tw7D1f997WPu",
        "outputId": "26970b76-0c4b-4e62-cc2e-f069a4864aaf"
      },
      "execution_count": null,
      "outputs": [
        {
          "output_type": "stream",
          "name": "stdout",
          "text": [
            "      \n",
            " \n",
            "\n",
            "| Imran Sharif Butt Muhammad Shal\n",
            "\n",
            "2315783221\n",
            "\n",
            "Immune\n",
            "Completed Covid-19 Vaccine doses\n",
            "TCR PAP esd ta\n",
            "\n",
            " \n",
            "\n",
            "Bw Services\n",
            "\n",
            "LO\n",
            "\n",
            "Tawakkalna QR Code\n",
            "Passcode Scanner\n",
            "\n",
            " \n",
            "\f\n"
          ]
        }
      ]
    },
    {
      "cell_type": "code",
      "source": [
        "extract=''.join(extract)\n",
        "type(extract)"
      ],
      "metadata": {
        "colab": {
          "base_uri": "https://localhost:8080/"
        },
        "id": "SHQePyZQ71Cd",
        "outputId": "db2bdf54-7cde-40c3-fb96-6b53bacd89f7"
      },
      "execution_count": null,
      "outputs": [
        {
          "output_type": "execute_result",
          "data": {
            "text/plain": [
              "str"
            ]
          },
          "metadata": {},
          "execution_count": 13
        }
      ]
    },
    {
      "cell_type": "code",
      "source": [
        "extract=extract.split('\\n')\n",
        "\n",
        "extract"
      ],
      "metadata": {
        "colab": {
          "base_uri": "https://localhost:8080/"
        },
        "id": "W-RDHNT18TZS",
        "outputId": "8ce4b699-e779-46ff-acd2-7423c2b6b390"
      },
      "execution_count": null,
      "outputs": [
        {
          "output_type": "execute_result",
          "data": {
            "text/plain": [
              "['      ',\n",
              " ' ',\n",
              " '',\n",
              " '| Imran Sharif Butt Muhammad Shal',\n",
              " '',\n",
              " '2315783221',\n",
              " '',\n",
              " 'Immune',\n",
              " 'Completed Covid-19 Vaccine doses',\n",
              " 'TCR PAP esd ta',\n",
              " '',\n",
              " ' ',\n",
              " '',\n",
              " 'Bw Services',\n",
              " '',\n",
              " 'LO',\n",
              " '',\n",
              " 'Tawakkalna QR Code',\n",
              " 'Passcode Scanner',\n",
              " '',\n",
              " ' ',\n",
              " '\\x0c']"
            ]
          },
          "metadata": {},
          "execution_count": 14
        }
      ]
    },
    {
      "cell_type": "code",
      "source": [
        "l=list()\n",
        "for i in extract:\n",
        "  if i!='' and i!=' ':\n",
        "    l.append(i)\n",
        "l\n"
      ],
      "metadata": {
        "colab": {
          "base_uri": "https://localhost:8080/"
        },
        "id": "qWRG0qzq8XKs",
        "outputId": "ee6acf2c-4805-4020-fe9f-ab0465d06087"
      },
      "execution_count": null,
      "outputs": [
        {
          "output_type": "execute_result",
          "data": {
            "text/plain": [
              "['      ',\n",
              " '| Imran Sharif Butt Muhammad Shal',\n",
              " '2315783221',\n",
              " 'Immune',\n",
              " 'Completed Covid-19 Vaccine doses',\n",
              " 'TCR PAP esd ta',\n",
              " 'Bw Services',\n",
              " 'LO',\n",
              " 'Tawakkalna QR Code',\n",
              " 'Passcode Scanner',\n",
              " '\\x0c']"
            ]
          },
          "metadata": {},
          "execution_count": 15
        }
      ]
    },
    {
      "cell_type": "code",
      "source": [
        ""
      ],
      "metadata": {
        "id": "8TlKH6p_8fyZ"
      },
      "execution_count": null,
      "outputs": []
    }
  ]
}