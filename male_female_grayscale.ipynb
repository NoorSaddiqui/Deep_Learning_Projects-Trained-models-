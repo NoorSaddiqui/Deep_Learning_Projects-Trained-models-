{
  "nbformat": 4,
  "nbformat_minor": 0,
  "metadata": {
    "colab": {
      "name": "male_female-grayscale.ipynb",
      "provenance": []
    },
    "kernelspec": {
      "name": "python3",
      "display_name": "Python 3"
    },
    "language_info": {
      "name": "python"
    },
    "accelerator": "GPU"
  },
  "cells": [
    {
      "cell_type": "code",
      "metadata": {
        "id": "7TXz1hv1o5RY"
      },
      "source": [
        "import tensorflow"
      ],
      "execution_count": null,
      "outputs": []
    },
    {
      "cell_type": "code",
      "metadata": {
        "colab": {
          "base_uri": "https://localhost:8080/"
        },
        "id": "AMbR2IdOrlDg",
        "outputId": "e1ace679-9cec-4e28-ec60-3062b20b8f4e"
      },
      "source": [
        "!pip install split-folders"
      ],
      "execution_count": null,
      "outputs": [
        {
          "output_type": "stream",
          "text": [
            "Collecting split-folders\n",
            "  Downloading split_folders-0.4.3-py3-none-any.whl (7.4 kB)\n",
            "Installing collected packages: split-folders\n",
            "Successfully installed split-folders-0.4.3\n"
          ],
          "name": "stdout"
        }
      ]
    },
    {
      "cell_type": "code",
      "metadata": {
        "colab": {
          "base_uri": "https://localhost:8080/"
        },
        "id": "8HA9SPQRrlPG",
        "outputId": "7c9a6737-f0cf-4dcf-da19-d52f14668994"
      },
      "source": [
        "import splitfolders\n",
        "splitfolders.ratio('/content/drive/MyDrive/DEEP_LEARNING _DATASETS/MaleFemale v3.0', output=\"output\", seed=1337, ratio=(.7, 0.2,0.1)) \n"
      ],
      "execution_count": null,
      "outputs": [
        {
          "output_type": "stream",
          "text": [
            "Copying files: 821 files [10:10,  1.35 files/s]\n"
          ],
          "name": "stderr"
        }
      ]
    },
    {
      "cell_type": "code",
      "metadata": {
        "id": "ddprxy8Oo9qm"
      },
      "source": [
        "from tensorflow.keras import layers\n",
        "from tensorflow.keras import models\n",
        "model = models.Sequential()\n",
        "model.add(layers.Conv2D(32, (3, 3), activation='relu',\n",
        "input_shape=(150, 150, 1)))\n",
        "model.add(layers.MaxPooling2D((2, 2)))\n",
        "model.add(layers.Conv2D(64, (3, 3), activation='relu'))\n",
        "model.add(layers.MaxPooling2D((2, 2)))\n",
        "model.add(layers.Conv2D(128, (3, 3), activation='relu'))\n",
        "model.add(layers.MaxPooling2D((2, 2)))\n",
        "model.add(layers.Flatten())\n",
        "model.add(layers.Dense(512, activation='relu'))\n",
        "model.add(layers.Dense(128, activation='relu'))\n",
        "\n",
        "model.add(layers.Dense(1, activation='sigmoid'))"
      ],
      "execution_count": 42,
      "outputs": []
    },
    {
      "cell_type": "code",
      "metadata": {
        "id": "ZIv3Gfncpe55"
      },
      "source": [
        "from tensorflow.keras import optimizers\n",
        "model.compile(loss='binary_crossentropy',\n",
        "optimizer=optimizers.RMSprop(learning_rate=1e-4),\n",
        "metrics=['acc'])"
      ],
      "execution_count": 43,
      "outputs": []
    },
    {
      "cell_type": "code",
      "metadata": {
        "id": "FKV6kWBvpq9t"
      },
      "source": [
        "from tensorflow.keras.preprocessing.image import ImageDataGenerator\n",
        "train_datagen = ImageDataGenerator(rescale=1./255)\n",
        "validation_datagen = ImageDataGenerator(rescale=1./255)\n",
        "test_datagen = ImageDataGenerator(rescale=1./255)"
      ],
      "execution_count": 44,
      "outputs": []
    },
    {
      "cell_type": "code",
      "metadata": {
        "colab": {
          "base_uri": "https://localhost:8080/"
        },
        "id": "39GLaVK1qg9u",
        "outputId": "5a2a6c69-9d5c-4d2d-993a-c45d8f517c0f"
      },
      "source": [
        "train_generator = train_datagen.flow_from_directory(\n",
        "'/content/output/train',\n",
        "target_size=(150, 150),batch_size=20,class_mode='binary', color_mode= 'grayscale')\n",
        "574/20"
      ],
      "execution_count": 45,
      "outputs": [
        {
          "output_type": "stream",
          "text": [
            "Found 574 images belonging to 2 classes.\n"
          ],
          "name": "stdout"
        },
        {
          "output_type": "execute_result",
          "data": {
            "text/plain": [
              "28.7"
            ]
          },
          "metadata": {
            "tags": []
          },
          "execution_count": 45
        }
      ]
    },
    {
      "cell_type": "code",
      "metadata": {
        "colab": {
          "base_uri": "https://localhost:8080/"
        },
        "id": "kFsZl8TVrSXp",
        "outputId": "18b69431-909f-46b4-f848-b521b072ea7f"
      },
      "source": [
        "validation_generator = validation_datagen.flow_from_directory(\n",
        "    '/content/output/val',\n",
        "          target_size=(150,150),batch_size=20,class_mode=\"binary\", color_mode= 'grayscale')\n",
        "163/20"
      ],
      "execution_count": 46,
      "outputs": [
        {
          "output_type": "stream",
          "text": [
            "Found 163 images belonging to 2 classes.\n"
          ],
          "name": "stdout"
        },
        {
          "output_type": "execute_result",
          "data": {
            "text/plain": [
              "8.15"
            ]
          },
          "metadata": {
            "tags": []
          },
          "execution_count": 46
        }
      ]
    },
    {
      "cell_type": "code",
      "metadata": {
        "colab": {
          "base_uri": "https://localhost:8080/"
        },
        "id": "_1DomHDksaa-",
        "outputId": "8ba5d37f-9529-4331-ecef-89225bfd6755"
      },
      "source": [
        "test_generator = test_datagen.flow_from_directory(\n",
        "'/content/output/test',\n",
        "target_size=(150, 150),batch_size=20,class_mode='binary', color_mode= 'grayscale')\n"
      ],
      "execution_count": 47,
      "outputs": [
        {
          "output_type": "stream",
          "text": [
            "Found 84 images belonging to 2 classes.\n"
          ],
          "name": "stdout"
        }
      ]
    },
    {
      "cell_type": "code",
      "metadata": {
        "colab": {
          "base_uri": "https://localhost:8080/"
        },
        "id": "jDs2zATwskCt",
        "outputId": "f02058d7-048c-4e85-be6b-cea330cf0cce"
      },
      "source": [
        "history = model.fit_generator(\n",
        "train_generator,\n",
        "steps_per_epoch=29,\n",
        "epochs=15,\n",
        "validation_data=validation_generator,\n",
        "validation_steps=9)"
      ],
      "execution_count": 48,
      "outputs": [
        {
          "output_type": "stream",
          "text": [
            "/usr/local/lib/python3.7/dist-packages/tensorflow/python/keras/engine/training.py:1940: UserWarning: `Model.fit_generator` is deprecated and will be removed in a future version. Please use `Model.fit`, which supports generators.\n",
            "  warnings.warn('`Model.fit_generator` is deprecated and '\n"
          ],
          "name": "stderr"
        },
        {
          "output_type": "stream",
          "text": [
            "Epoch 1/15\n",
            "29/29 [==============================] - 6s 162ms/step - loss: 0.6400 - acc: 0.6324 - val_loss: 0.5794 - val_acc: 0.6564\n",
            "Epoch 2/15\n",
            "29/29 [==============================] - 4s 150ms/step - loss: 0.5312 - acc: 0.7509 - val_loss: 0.4780 - val_acc: 0.8037\n",
            "Epoch 3/15\n",
            "29/29 [==============================] - 4s 150ms/step - loss: 0.4594 - acc: 0.7944 - val_loss: 0.5299 - val_acc: 0.7607\n",
            "Epoch 4/15\n",
            "29/29 [==============================] - 4s 150ms/step - loss: 0.4518 - acc: 0.7962 - val_loss: 0.4825 - val_acc: 0.7914\n",
            "Epoch 5/15\n",
            "29/29 [==============================] - 4s 151ms/step - loss: 0.4163 - acc: 0.8101 - val_loss: 0.4643 - val_acc: 0.7975\n",
            "Epoch 6/15\n",
            "29/29 [==============================] - 4s 151ms/step - loss: 0.3881 - acc: 0.8293 - val_loss: 0.4886 - val_acc: 0.7975\n",
            "Epoch 7/15\n",
            "29/29 [==============================] - 4s 150ms/step - loss: 0.3783 - acc: 0.8362 - val_loss: 0.4921 - val_acc: 0.7669\n",
            "Epoch 8/15\n",
            "29/29 [==============================] - 4s 150ms/step - loss: 0.3360 - acc: 0.8537 - val_loss: 0.4234 - val_acc: 0.8528\n",
            "Epoch 9/15\n",
            "29/29 [==============================] - 4s 150ms/step - loss: 0.3315 - acc: 0.8519 - val_loss: 0.5354 - val_acc: 0.7362\n",
            "Epoch 10/15\n",
            "29/29 [==============================] - 4s 150ms/step - loss: 0.3021 - acc: 0.8815 - val_loss: 0.4536 - val_acc: 0.8221\n",
            "Epoch 11/15\n",
            "29/29 [==============================] - 4s 154ms/step - loss: 0.2745 - acc: 0.8920 - val_loss: 0.4475 - val_acc: 0.8405\n",
            "Epoch 12/15\n",
            "29/29 [==============================] - 4s 156ms/step - loss: 0.2613 - acc: 0.8850 - val_loss: 0.3983 - val_acc: 0.8344\n",
            "Epoch 13/15\n",
            "29/29 [==============================] - 4s 153ms/step - loss: 0.2244 - acc: 0.9268 - val_loss: 0.4059 - val_acc: 0.8712\n",
            "Epoch 14/15\n",
            "29/29 [==============================] - 4s 152ms/step - loss: 0.2235 - acc: 0.9007 - val_loss: 0.3863 - val_acc: 0.8650\n",
            "Epoch 15/15\n",
            "29/29 [==============================] - 5s 155ms/step - loss: 0.1812 - acc: 0.9355 - val_loss: 0.3905 - val_acc: 0.8650\n"
          ],
          "name": "stdout"
        }
      ]
    },
    {
      "cell_type": "code",
      "metadata": {
        "id": "gB7EuMUBsnlA",
        "colab": {
          "base_uri": "https://localhost:8080/"
        },
        "outputId": "f0d09c6d-a04c-4c02-ff12-16dd9520f52d"
      },
      "source": [
        "model.evaluate(test_generator)"
      ],
      "execution_count": 49,
      "outputs": [
        {
          "output_type": "stream",
          "text": [
            "5/5 [==============================] - 1s 90ms/step - loss: 0.4526 - acc: 0.8333\n"
          ],
          "name": "stdout"
        },
        {
          "output_type": "execute_result",
          "data": {
            "text/plain": [
              "[0.45256805419921875, 0.8333333134651184]"
            ]
          },
          "metadata": {
            "tags": []
          },
          "execution_count": 49
        }
      ]
    },
    {
      "cell_type": "code",
      "metadata": {
        "id": "uDXnfbbvsq-u",
        "colab": {
          "base_uri": "https://localhost:8080/",
          "height": 545
        },
        "outputId": "856ee3e2-0e52-4ebf-da9c-03f6efa462a3"
      },
      "source": [
        "import matplotlib.pyplot as plt\n",
        "acc = history.history['acc']\n",
        "val_acc = history.history['val_acc']\n",
        "loss = history.history['loss']\n",
        "val_loss = history.history['val_loss']\n",
        "epochs = range(1, len(acc) + 1)\n",
        "plt.plot(epochs, acc, 'bo', label='Training acc')\n",
        "plt.plot(epochs, val_acc, 'b', label='Validation acc')\n",
        "plt.title('Training and validation accuracy')\n",
        "plt.legend()\n",
        "plt.figure()\n",
        "plt.plot(epochs, loss, 'bo', label='Training loss')\n",
        "plt.plot(epochs, val_loss, 'b', label='Validation loss')\n",
        "plt.title('Training and validation loss')\n",
        "plt.legend()\n",
        "plt.show()\n"
      ],
      "execution_count": 50,
      "outputs": [
        {
          "output_type": "display_data",
          "data": {
            "image/png": "[encoded data removed]",
            "text/plain": [
              "<Figure size 432x288 with 1 Axes>"
            ]
          },
          "metadata": {
            "tags": [],
            "needs_background": "light"
          }
        },
        {
          "output_type": "display_data",
          "data": {
            "image/png": "[encoded data removed]",
            "text/plain": [
              "<Figure size 432x288 with 1 Axes>"
            ]
          },
          "metadata": {
            "tags": [],
            "needs_background": "light"
          }
        }
      ]
    },
    {
      "cell_type": "code",
      "metadata": {
        "id": "oN8QiUcKzDD8"
      },
      "source": [
        "model.save('male_female.h5')"
      ],
      "execution_count": 51,
      "outputs": []
    },
    {
      "cell_type": "code",
      "metadata": {
        "id": "8gNLmAAO81YL"
      },
      "source": [
        ""
      ],
      "execution_count": null,
      "outputs": []
    }
  ]
}